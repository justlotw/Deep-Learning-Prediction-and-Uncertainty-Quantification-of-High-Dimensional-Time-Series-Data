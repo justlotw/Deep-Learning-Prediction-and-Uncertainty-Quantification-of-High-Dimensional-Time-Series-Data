{
 "cells": [
  {
   "cell_type": "markdown",
   "id": "14d57da9-ca77-4333-ba41-8236efa46467",
   "metadata": {},
   "source": [
    "# Method: LSTM\n",
    "# Dataset: Lorenz-96, F = 8\n",
    "# Purpose: Uncertainty Quantification - Deep Ensemble"
   ]
  },
  {
   "cell_type": "markdown",
   "id": "9711fa4f-7843-43d5-a047-14c762fd2e5f",
   "metadata": {},
   "source": [
    "# 1. Set-up"
   ]
  },
  {
   "cell_type": "code",
   "execution_count": 1,
   "id": "c9f852d7-2ea3-49a4-8bd5-a85ba731f802",
   "metadata": {},
   "outputs": [],
   "source": [
    "# GPU\n",
    "import os\n",
    "os.environ[\"CUDA_VISIBLE_DEVICES\"] = \"1\"\n",
    "\n",
    "# Package\n",
    "import sys\n",
    "sys.path.append(\"../..\")"
   ]
  },
  {
   "cell_type": "code",
   "execution_count": 2,
   "id": "1ee758f3-121d-4ca7-a44e-f00db4631d50",
   "metadata": {},
   "outputs": [],
   "source": [
    "from create_data import load_data\n",
    "from utils import * # Number of testing samples\n",
    "import numpy as np\n",
    "import matplotlib.pyplot as plt\n",
    "from time import time\n",
    "from functools import partial\n",
    "\n",
    "import jax\n",
    "import jax.numpy as jnp\n",
    "from jax.nn.initializers import glorot_normal, normal\n",
    "from jax.example_libraries import optimizers"
   ]
  },
  {
   "cell_type": "code",
   "execution_count": 3,
   "id": "ee80a55c-5e5d-4120-8c56-8be07285e9fe",
   "metadata": {},
   "outputs": [],
   "source": [
    "train, test = load_data(\"Lorenz 96, F = 8\", \"../../data/lorenz8\", 0.5)"
   ]
  },
  {
   "cell_type": "code",
   "execution_count": 4,
   "id": "e30a3f5f-c622-4e95-ae1c-dd652be02b5e",
   "metadata": {},
   "outputs": [
    {
     "name": "stdout",
     "output_type": "stream",
     "text": [
      "Train size: (90000, 40)\n",
      "Test size: (90000, 40)\n"
     ]
    }
   ],
   "source": [
    "print(f\"Train size: {train.data.shape}\")\n",
    "print(f\"Test size: {test.data.shape}\")"
   ]
  },
  {
   "cell_type": "markdown",
   "id": "8288061f-20ca-4fe6-840e-6ee8cd8064b1",
   "metadata": {},
   "source": [
    "**Create test set**"
   ]
  },
  {
   "cell_type": "code",
   "execution_count": 5,
   "id": "9c868d5f-50c3-48a5-8762-e0de61468e5f",
   "metadata": {},
   "outputs": [],
   "source": [
    "L_forecast_test = 400   # steps to forecast forward (when testing)"
   ]
  },
  {
   "cell_type": "code",
   "execution_count": 6,
   "id": "5a2ec67a-c0aa-45b0-b059-cb9a1dceb438",
   "metadata": {},
   "outputs": [],
   "source": [
    "np.random.seed(1)\n",
    "\n",
    "data_test = test.data\n",
    "\n",
    "T_test, data_dim = data_test.shape\n",
    "possible_idx = T_test - (L_forecast_test + 1) # minus number of steps forward, and the warm-up period\n",
    "T_indices = np.random.randint(0, possible_idx, size = NUM_TEST)\n",
    "\n",
    "t_past_batch = np.repeat(T_indices[:, None], WARM_UP_TEST, axis = 1).astype(int) # 200 warmup \n",
    "t_pred_batch = (T_indices[:, None] + np.arange(1, 1 + L_forecast_test)[None, :].astype(int))\n",
    "\n",
    "X_test = data_test[t_past_batch]\n",
    "y_test = data_test[t_pred_batch]"
   ]
  },
  {
   "cell_type": "code",
   "execution_count": 7,
   "id": "7e57b737-d4d5-41f0-9077-071567f3758f",
   "metadata": {},
   "outputs": [
    {
     "name": "stdout",
     "output_type": "stream",
     "text": [
      "Test input size: (100, 2000, 40)\n",
      "Test output size: (100, 400, 40)\n"
     ]
    }
   ],
   "source": [
    "print(f\"Test input size: {X_test.shape}\")  # Number of test points x input length x dim\n",
    "print(f\"Test output size: {y_test.shape}\") # Number of test points x horizon x dim"
   ]
  },
  {
   "cell_type": "markdown",
   "id": "bb0bd417-72d0-4d90-8b16-30945dd0ee20",
   "metadata": {},
   "source": [
    "# 2. LSTM Implementation"
   ]
  },
  {
   "cell_type": "code",
   "execution_count": 8,
   "id": "bf9258f6-5dd2-4ddf-ab11-8f9f274ffb4a",
   "metadata": {},
   "outputs": [],
   "source": [
    "def LSTM(h_dim, data_dim, W_init = glorot_normal(), b_init = normal()):\n",
    "    \"\"\"\n",
    "    args:\n",
    "    ====\n",
    "     h_dim: dimension of the internal state\n",
    "     data_dim: dimensionity of the time series\n",
    "\n",
    "    outputs:\n",
    "    ======\n",
    "     init_fun: function to initialize the parameters\n",
    "     process: function to process a time-series and compute the final prediction and final internal state\n",
    "     forecast: function that, given a pair (internal-state, input), computes the next T predictions\n",
    "    \"\"\"\n",
    "    \n",
    "    def init_fun(rng):\n",
    "        \"\"\"\n",
    "        This function initialize the weights of the RNN\n",
    "        \n",
    "        args:\n",
    "        ====\n",
    "         rng: jax RNG\n",
    "         \n",
    "        outputs:\n",
    "        ======\n",
    "         params: a tuple of parameters\n",
    "        \"\"\"\n",
    "        \n",
    "        # Forget Layer\n",
    "        k1, k2, k3 = jax.random.split(rng, num = 3)\n",
    "        fU = W_init(k1, (h_dim, data_dim))\n",
    "        fW = W_init(k2, (h_dim, h_dim)) \n",
    "        fb = b_init(k3, (h_dim,))\n",
    "        \n",
    "        # Input Layer\n",
    "        k1, k2, k3 = jax.random.split(rng, num = 3)\n",
    "        iU = W_init(k1, (h_dim, data_dim))\n",
    "        iW = W_init(k2, (h_dim, h_dim))\n",
    "        ib = b_init(k3, (h_dim,))\n",
    "        \n",
    "        # Candidate layer\n",
    "        k1, k2, k3 = jax.random.split(rng, num = 3)\n",
    "        gU = W_init(k1, (h_dim, data_dim))\n",
    "        gW = W_init(k2, (h_dim, h_dim))\n",
    "        gb = b_init(k3, (h_dim,))\n",
    "        \n",
    "        # Output layer\n",
    "        k1, k2, k3 = jax.random.split(rng, num = 3)\n",
    "        oU = W_init(k1, (h_dim, data_dim))\n",
    "        oW = W_init(k2, (h_dim, h_dim))\n",
    "        ob = b_init(k3, (h_dim,))\n",
    "        \n",
    "        # Dense layer (hidden -> y)\n",
    "        k1, k2 = jax.random.split(rng, num = 2)\n",
    "        dO = W_init(k1, (data_dim, h_dim))\n",
    "        db = b_init(k2, (data_dim,))\n",
    "                \n",
    "        params = fU, fW, fb, iU, iW, ib, gU, gW, gb, oU, oW, ob, dO, db\n",
    "        return params\n",
    "    \n",
    "    def process(params, time_series):\n",
    "        \"\"\"\n",
    "        This function takes a time-series in input, pass it through the RNN, \n",
    "        and finally outputs the last prediction and internal state\n",
    "        \n",
    "        args:\n",
    "        ====\n",
    "         params: tuple of parameters\n",
    "         time_series: data of dimension (T, dim_data)\n",
    "         \n",
    "        outputs:\n",
    "        =======\n",
    "         c_final: jax vector of dimension nn_size\n",
    "         h_final: jax vector of dimension nn_size\n",
    "         pred_traj[-1]: last prediction\n",
    "        \"\"\"\n",
    "        \n",
    "        fU, fW, fb, iU, iW, ib, gU, gW, gb, oU, oW, ob, dO, db = params \n",
    "        \n",
    "        c_zero = np.zeros((h_dim, ))\n",
    "        h_zero = np.zeros((h_dim, ))\n",
    "        \n",
    "        # forward pass\n",
    "        def process_internal(start, x):\n",
    "            c, h = start\n",
    "            \n",
    "            forget_gate = sigmoid(jnp.dot(fU, x) + jnp.dot(fW, h) + fb)\n",
    "            input_gate = sigmoid(jnp.dot(iU, x) + jnp.dot(iW, h) + ib)\n",
    "            cand_gate = jnp.tanh(jnp.dot(gU, x) + jnp.dot(gW, h) + gb)\n",
    "            c_new = sigmoid(forget_gate * c + input_gate * cand_gate)    \n",
    "            output_gate = sigmoid(jnp.dot(oU, x) + jnp.dot(oW, h) + ob)\n",
    "            h_new = jnp.tanh(c_new) * output_gate\n",
    "            y = x + dO @ h_new + db\n",
    "            \n",
    "            return (c_new, h_new), y\n",
    "        (c_final, h_final), pred_traj = jax.lax.scan(process_internal, (c_zero, h_zero), time_series)\n",
    "        return (c_final, h_final), pred_traj[-1]\n",
    "    \n",
    "    \n",
    "    def forecast(params, internal_states, x_input, horizon):\n",
    "        \"\"\"\n",
    "        This function takes in an internal state and a first input and produces \n",
    "        prediction over a finite horizon.\n",
    "        \n",
    "        args:\n",
    "        ====\n",
    "         params: tuple of parameters\n",
    "         internal_states = (c_internal, h_internal): internal state values of c and h\n",
    "         x_input: jax vector of dimension dim_data\n",
    "         horizon: horizon of the prediction\n",
    "         \n",
    "        outputs:\n",
    "        =======\n",
    "         preds: a trajectory of prediction of dimension (horison, dim_data) \n",
    "        \"\"\"\n",
    "        c_internal, h_internal = internal_states\n",
    "        # extract parameters\n",
    "        fU, fW, fb, iU, iW, ib, gU, gW, gb, oU, oW, ob, dO, db = params \n",
    "        \n",
    "        # forward pass\n",
    "        def forecast_internal(triple_c_h_x, _ ):\n",
    "            cell, hidden, x = triple_c_h_x\n",
    "            \n",
    "            forget_gate = sigmoid(jnp.dot(fU, x) + jnp.dot(fW, hidden) + fb)\n",
    "            input_gate = sigmoid(jnp.dot(iU, x) + jnp.dot(iW, hidden) + ib)\n",
    "            cand_gate = jnp.tanh(jnp.dot(gU, x) + jnp.dot(gW, hidden) + gb)\n",
    "            c_new = sigmoid(forget_gate * cell + input_gate * cand_gate)    \n",
    "            output_gate = sigmoid(jnp.dot(oU, x) + jnp.dot(oW, hidden) + ob)\n",
    "            h_new = jnp.tanh(c_new) * output_gate\n",
    "            y = x + dO @ h_new + db\n",
    "            \n",
    "            return (c_new, h_new, y), y\n",
    "        \n",
    "        _, pred_traj = jax.lax.scan(forecast_internal, (c_internal, h_internal, x_input), None, length=horizon)\n",
    "        \n",
    "        # return the trajectory of predictions\n",
    "        return pred_traj\n",
    "    \n",
    "    return init_fun, process, forecast"
   ]
  },
  {
   "cell_type": "code",
   "execution_count": 9,
   "id": "8e38aeb0-0445-45f9-9a44-36b0e096cebe",
   "metadata": {},
   "outputs": [],
   "source": [
    "def get_parameters(nn_size, seed, batch_size, L_past, L_forecast_train, \n",
    "                   num_epoch, lr_schedule, early_stopping = EARLY_STOPPING, \n",
    "                  early_stopping_baseline = 1.):\n",
    "    assert len(num_epoch) == len(lr_schedule)\n",
    "    def training(x, y, init_params):\n",
    "        @jax.jit\n",
    "        def step(i, opt_state, x_batch, y_batch):\n",
    "            params = get_params(opt_state)\n",
    "            value, g = jax.value_and_grad(mse)(params, x_batch, y_batch)\n",
    "            opt_state = opt_update(i, g, opt_state)\n",
    "            return get_params(opt_state), opt_state, value\n",
    "        \n",
    "        @partial(jax.jit, static_argnums=2)\n",
    "        def make_forecast(params, x_batch, horizon):\n",
    "            # pass the data through the RNN. \n",
    "            # note that \"preds\" is the first forecasts\n",
    "            hs, preds = process_batch(params, x_batch)\n",
    "            # compute the (L_forecast-1) next forecasts\n",
    "            y_pred = forecast_batch(params, hs, preds, horizon-1)\n",
    "            #stick all the forecasts together\n",
    "            y_pred = jnp.concatenate([preds[:, None,:], y_pred], axis=1)\n",
    "\n",
    "            return y_pred\n",
    "\n",
    "        @jax.jit\n",
    "        def mse(params, x_batch, y_truth):\n",
    "            \"\"\"\n",
    "            For each time-series in a batch, forecasts over a finite horizon \n",
    "            and compute the MSE.\n",
    "\n",
    "            args:\n",
    "            ====\n",
    "             params: neural parameters\n",
    "             x_batch: a batch of inputs with dimension (batch_size, T_past, dim_data)\n",
    "             y_truth: a batch of values to forecasts with dimension (batch_size, T_future, dim_data)\n",
    "\n",
    "            outputs:\n",
    "            =======\n",
    "             MSE: MSE between forecasts and targets\n",
    "            \"\"\"\n",
    "\n",
    "            # horizon of the forecast\n",
    "            L_forecast = y_truth.shape[1]    \n",
    "            y_pred = make_forecast(params, x_batch, L_forecast)\n",
    "\n",
    "            #compute MSE\n",
    "            error = y_pred - y_truth\n",
    "            mu_loss = jnp.mean(error**2)\n",
    "            return mu_loss \n",
    "        \n",
    "        start = time()\n",
    "                \n",
    "        loss_train_traj = []\n",
    "        loss_train_all_traj = []\n",
    "        \n",
    "        overall_best_params = init_params\n",
    "        overall_best_mse = 999999999\n",
    "        \n",
    "        # train/val split\n",
    "        t_size = int(0.9 * train_size)\n",
    "        v_size = train_size - t_size\n",
    "        T_indices_val = np.arange(t_size, train_size - (L_forecast_test//2 + L_past))\n",
    "        t_start_val = T_indices_val[::10]\n",
    "        t_past_batch_val = (t_start_val[:,None] + np.arange(L_past)[None,:]).astype(int) \n",
    "        t_pred_batch_val = (t_start_val[:,None] + np.arange(L_past,L_past+L_forecast_test//2)[None,:]).astype(int) \n",
    "        x_val = x[t_past_batch_val]\n",
    "        y_val = y[t_pred_batch_val]\n",
    "        \n",
    "        \n",
    "        print(\"Backpropogation start\", end = \"\\n\\n\")\n",
    "        for i, lr in enumerate(lr_schedule):\n",
    "            opt_init, opt_update, get_params = optimizers.adam(step_size = lr) \n",
    "            opt_state = opt_init(overall_best_params)\n",
    "            counter = 0\n",
    "            best_mse = 999999999\n",
    "            \n",
    "            for epoch in range(num_epoch[i]):\n",
    "                e_start = time()\n",
    "                \n",
    "                # randomize the order of the training data\n",
    "                T_indices = np.arange(t_size - (L_forecast_train + L_past))\n",
    "                np.random.shuffle(T_indices)\n",
    "                \n",
    "                # training\n",
    "                loss_epoch_train = []\n",
    "                \n",
    "                for k in range(t_size // batch_size + 1):\n",
    "                    # create a batch of data\n",
    "                    t_start = T_indices[np.arange(k*batch_size, (k+1)*batch_size).astype(int) % len(T_indices)] # start of each time series in the batch\n",
    "                    # create 2d array of dimension (batch_size, L_past) containing all the time indices\n",
    "                    t_past_batch = (t_start[:,None] + np.arange(L_past)[None,:]).astype(int) # transposes data\n",
    "                    t_pred_batch = (t_start[:,None] + np.arange(L_past,L_past+L_forecast_train)[None,:]).astype(int) \n",
    "\n",
    "                    #create batch of dimension (batch_size, L_past, data_dim)\n",
    "                    x_batch = x[t_past_batch]  \n",
    "                    y_batch = y[t_pred_batch]\n",
    "\n",
    "                    params, opt_state, loss_current = step(k, opt_state, x_batch, y_batch) # update\n",
    "                    loss_epoch_train.append(loss_current)\n",
    "                \n",
    "                mse_train = np.mean(loss_epoch_train)\n",
    "                \n",
    "                # validation             \n",
    "                mse_val = mse(params, x_val, y_val)\n",
    "                \n",
    "                if  best_mse > mse_val: # Improvement\n",
    "                    counter = 0\n",
    "                    best_mse = mse_val\n",
    "                    best_params = params\n",
    "                else:\n",
    "                    counter += 1\n",
    "                \n",
    "                e_end = time()\n",
    "                if (epoch + 1) % 10 == 0 or (counter == 0 and epoch >= 50):\n",
    "                    print(f\"Epoch {epoch + 1}: Time taken = {e_end - e_start:.2f} | Train loss = {mse_train:.7f} | Val loss = {mse_val: .7f}\")\n",
    "                \n",
    "                if best_mse < early_stopping_baseline and counter >= early_stopping:\n",
    "                    print(f\"EARLY STOPPING. Epoch {epoch + 1}: Train loss = {mse_train:.7f} | Val loss = {mse_val: .7f}\")\n",
    "                    break\n",
    "            print(f\"Best Validation MSE: {best_mse:.7f}\")\n",
    "            \n",
    "            if best_mse < overall_best_mse: # Best round so far\n",
    "                print(\"IMPROVED VALIDATION MSE\")\n",
    "                overall_best_mse = best_mse\n",
    "                overall_best_params = best_params\n",
    "            print()\n",
    "        \n",
    "        end = time()\n",
    "        print(f\"Total time: {end - start:.2f}\")\n",
    "        \n",
    "        return overall_best_params\n",
    "\n",
    "    start = time()\n",
    "    x, y = train.data[:-1], train.data[1:]\n",
    "    train_size, data_dim = x.data.shape\n",
    "    \n",
    "    np.random.seed(seed)\n",
    "    key = jax.random.PRNGKey(seed)\n",
    "    \n",
    "    # Initialize LSTM\n",
    "    init_fun, process, forecast = LSTM(nn_size, data_dim)       # LSTM Network\n",
    "    process_batch = jax.jit(jax.vmap(process, in_axes=(None,0)))\n",
    "    forecast_batch = jax.jit(jax.vmap(forecast, in_axes=(None,0,0,None)), static_argnums=3)\n",
    "    init_params = init_fun(key)\n",
    "    \n",
    "    final_params = training(x, y, init_params)\n",
    "    end = time()\n",
    "    print(f\"Complete. Time taken: {end - start:.2f}s\")\n",
    "    \n",
    "    return final_params, (process_batch, forecast_batch)"
   ]
  },
  {
   "cell_type": "code",
   "execution_count": 10,
   "id": "2863ad98-35c2-435c-bcea-86318c9152df",
   "metadata": {},
   "outputs": [],
   "source": [
    "def get_test_pred(data_test, params, lstm_fx):  \n",
    "    @partial(jax.jit, static_argnums=2)\n",
    "    def make_forecast(params, x_batch, horizon):\n",
    "        pbatch, fbatch = lstm_fx\n",
    "        # pass the data through the RNN. \n",
    "        # note that \"preds\" is the first forecasts\n",
    "        hs, preds = pbatch(params, x_batch)\n",
    "        # compute the (L_forecast-1) next forecasts\n",
    "        y_pred = fbatch(params, hs, preds, horizon-1)\n",
    "        #stick all the forecasts together\n",
    "        y_pred = jnp.concatenate([preds[:, None,:], y_pred], axis=1)\n",
    "\n",
    "        return y_pred\n",
    "\n",
    "    @jax.jit\n",
    "    def loss(params, x_batch, y_truth):\n",
    "        \"\"\"\n",
    "        For each time-series in a batch, forecasts over a finite horizon \n",
    "        and compute the MSE.\n",
    "\n",
    "        args:\n",
    "        ====\n",
    "         params: neural parameters\n",
    "         x_batch: a batch of inputs with dimension (batch_size, T_past, dim_data)\n",
    "         y_truth: a batch of values to forecasts with dimension (batch_size, T_future, dim_data)\n",
    "\n",
    "        outputs:\n",
    "        =======\n",
    "         MSE: MSE between forecasts and targets\n",
    "\n",
    "        \"\"\"\n",
    "\n",
    "        # horizon of the forecast\n",
    "        L_forecast = y_truth.shape[1]    \n",
    "        y_pred = make_forecast(params, x_batch, L_forecast)\n",
    "\n",
    "        #compute MSE\n",
    "        error = y_pred - y_truth\n",
    "        return jnp.mean(error**2)\n",
    "    \n",
    "    start = time()\n",
    "    num_data_test, L_past, data_dim = data_test.shape # testing ex, # steps used before, dim of data\n",
    "    mu_pred = make_forecast(params, data_test, L_forecast_test)\n",
    "    end = time()\n",
    "    print(f\"Testing complete. Time taken: {end - start:.2f}\")\n",
    "    return np.array(mu_pred)"
   ]
  },
  {
   "cell_type": "markdown",
   "id": "ffce42df-dfac-4615-b07e-4446a271acf9",
   "metadata": {},
   "source": [
    "# 3. Best Parameters"
   ]
  },
  {
   "cell_type": "code",
   "execution_count": 11,
   "id": "6fcf92b1-c8cb-4996-939f-882d454fb811",
   "metadata": {},
   "outputs": [],
   "source": [
    "nn_size = 500\n",
    "L_forecast_train = 4\n",
    "L_past = 4\n",
    "\n",
    "b_size = 128 # Batch size\n",
    "lr_list = [1e-3, 1e-4, 1e-5, 1e-6] # Learning rate schedule\n",
    "epoch_list = [400, 200, 200, 200]  # Number of epochs for each learning rate"
   ]
  },
  {
   "cell_type": "code",
   "execution_count": 12,
   "id": "74d7b604-3ef1-4bcb-906c-7bf127f6a62e",
   "metadata": {},
   "outputs": [],
   "source": [
    "res_folder = os.path.join(\"results\", \"ensemble\")"
   ]
  },
  {
   "cell_type": "markdown",
   "id": "b7070f12-ba7a-4599-9006-1beede669821",
   "metadata": {},
   "source": [
    "# 4. Ensemble"
   ]
  },
  {
   "cell_type": "code",
   "execution_count": 30,
   "id": "e889a637-c08a-4c93-89a7-9e47d06cd87b",
   "metadata": {},
   "outputs": [],
   "source": [
    "def run_seed(seed):\n",
    "    \"\"\"\n",
    "    Runs the experiment with optimal parameters and appends the predictions into the global variable mu_preds\n",
    "    \"\"\"\n",
    "    params, lstm_fx = get_parameters(nn_size = nn_size, seed = seed, batch_size = b_size, L_past = L_past, \n",
    "                                 L_forecast_train = L_forecast_train, num_epoch = epoch_list, lr_schedule = lr_list,\n",
    "                                early_stopping = 50)\n",
    "    mean_pred = get_test_pred(X_test, params, lstm_fx)\n",
    "    file_name = \"mu_preds_\" + str(seed) + \".pkl\"\n",
    "    save_obj(mean_pred, res_folder, file_name)"
   ]
  },
  {
   "cell_type": "markdown",
   "id": "b029e63e-02d0-42b0-bbf9-e982688efdb0",
   "metadata": {},
   "source": [
    "## 4.1 Seed 2"
   ]
  },
  {
   "cell_type": "code",
   "execution_count": 22,
   "id": "94a029d6-0662-428d-979b-516d596711c9",
   "metadata": {},
   "outputs": [
    {
     "name": "stdout",
     "output_type": "stream",
     "text": [
      "Backpropogation start\n",
      "\n",
      "Epoch 10: Time taken = 2.61 | Train loss = 0.0013090 | Val loss =  1.4276878\n",
      "Epoch 20: Time taken = 2.53 | Train loss = 0.0005911 | Val loss =  1.1601561\n",
      "Epoch 30: Time taken = 2.75 | Train loss = 0.0002816 | Val loss =  1.0893570\n",
      "Epoch 40: Time taken = 2.76 | Train loss = 0.0001865 | Val loss =  0.8029433\n",
      "Epoch 50: Time taken = 2.52 | Train loss = 0.0001369 | Val loss =  0.7392879\n",
      "Epoch 56: Time taken = 2.53 | Train loss = 0.0001203 | Val loss =  0.6339974\n",
      "Epoch 60: Time taken = 2.48 | Train loss = 0.0001118 | Val loss =  0.6877182\n",
      "Epoch 65: Time taken = 2.66 | Train loss = 0.0001002 | Val loss =  0.6290801\n",
      "Epoch 66: Time taken = 2.74 | Train loss = 0.0001013 | Val loss =  0.5846893\n",
      "Epoch 67: Time taken = 2.61 | Train loss = 0.0000966 | Val loss =  0.5823572\n",
      "Epoch 70: Time taken = 2.51 | Train loss = 0.0000961 | Val loss =  0.6666206\n",
      "Epoch 73: Time taken = 2.58 | Train loss = 0.0000884 | Val loss =  0.5604731\n",
      "Epoch 80: Time taken = 2.39 | Train loss = 0.0000798 | Val loss =  0.5967095\n",
      "Epoch 90: Time taken = 2.62 | Train loss = 0.0000726 | Val loss =  0.5719557\n",
      "Epoch 92: Time taken = 2.58 | Train loss = 0.0000704 | Val loss =  0.5381727\n",
      "Epoch 93: Time taken = 2.48 | Train loss = 0.0000692 | Val loss =  0.5049879\n",
      "Epoch 95: Time taken = 2.48 | Train loss = 0.0000644 | Val loss =  0.4994041\n",
      "Epoch 100: Time taken = 2.39 | Train loss = 0.0000617 | Val loss =  0.5253398\n",
      "Epoch 105: Time taken = 2.49 | Train loss = 0.0000585 | Val loss =  0.4576562\n",
      "Epoch 110: Time taken = 2.47 | Train loss = 0.0000556 | Val loss =  0.4915964\n",
      "Epoch 120: Time taken = 2.58 | Train loss = 0.0000507 | Val loss =  0.6244202\n",
      "Epoch 127: Time taken = 2.45 | Train loss = 0.0000480 | Val loss =  0.4240165\n",
      "Epoch 130: Time taken = 2.49 | Train loss = 0.0000480 | Val loss =  0.6233488\n",
      "Epoch 137: Time taken = 2.62 | Train loss = 0.0000432 | Val loss =  0.3887302\n",
      "Epoch 140: Time taken = 2.51 | Train loss = 0.0000440 | Val loss =  0.5154880\n",
      "Epoch 150: Time taken = 2.34 | Train loss = 0.0000406 | Val loss =  0.4315734\n",
      "Epoch 160: Time taken = 2.55 | Train loss = 0.0000395 | Val loss =  0.5053095\n",
      "Epoch 170: Time taken = 2.58 | Train loss = 0.0000335 | Val loss =  0.4455355\n",
      "Epoch 180: Time taken = 2.45 | Train loss = 0.0000335 | Val loss =  0.4103172\n",
      "EARLY STOPPING. Epoch 187: Train loss = 0.0000328 | Val loss =  0.3941079\n",
      "Best Validation MSE: 0.3887302\n",
      "IMPROVED VALIDATION MSE\n",
      "\n",
      "Epoch 10: Time taken = 2.51 | Train loss = 0.0000419 | Val loss =  0.4930508\n",
      "Epoch 20: Time taken = 2.42 | Train loss = 0.0000369 | Val loss =  0.4703308\n",
      "Epoch 30: Time taken = 2.63 | Train loss = 0.0000366 | Val loss =  0.4130928\n",
      "Epoch 40: Time taken = 2.48 | Train loss = 0.0000338 | Val loss =  0.4089351\n",
      "Epoch 50: Time taken = 2.55 | Train loss = 0.0000324 | Val loss =  0.3819941\n",
      "EARLY STOPPING. Epoch 51: Train loss = 0.0000308 | Val loss =  0.3897621\n",
      "Best Validation MSE: 0.2990621\n",
      "IMPROVED VALIDATION MSE\n",
      "\n",
      "Epoch 10: Time taken = 2.43 | Train loss = 0.0000410 | Val loss =  0.5392188\n",
      "Epoch 20: Time taken = 2.40 | Train loss = 0.0000396 | Val loss =  0.5290539\n",
      "Epoch 30: Time taken = 2.36 | Train loss = 0.0000351 | Val loss =  0.4356336\n",
      "Epoch 40: Time taken = 2.56 | Train loss = 0.0000338 | Val loss =  0.4480765\n",
      "Epoch 50: Time taken = 2.52 | Train loss = 0.0000311 | Val loss =  0.3826060\n",
      "EARLY STOPPING. Epoch 51: Train loss = 0.0000309 | Val loss =  0.4369897\n",
      "Best Validation MSE: 0.3116099\n",
      "\n",
      "Epoch 10: Time taken = 2.45 | Train loss = 0.0000424 | Val loss =  0.5055662\n",
      "Epoch 20: Time taken = 2.39 | Train loss = 0.0000389 | Val loss =  0.4137511\n",
      "Epoch 30: Time taken = 2.37 | Train loss = 0.0000358 | Val loss =  0.4449503\n",
      "Epoch 40: Time taken = 2.48 | Train loss = 0.0000322 | Val loss =  0.4412885\n",
      "Epoch 50: Time taken = 2.44 | Train loss = 0.0000305 | Val loss =  0.4526310\n",
      "EARLY STOPPING. Epoch 51: Train loss = 0.0000312 | Val loss =  0.3809034\n",
      "Best Validation MSE: 0.3017954\n",
      "\n",
      "Total time: 850.04\n",
      "Complete. Time taken: 850.09s\n",
      "Testing complete. Time taken: 0.74\n"
     ]
    }
   ],
   "source": [
    "run_seed(2)"
   ]
  },
  {
   "cell_type": "markdown",
   "id": "4e1bcbde-a902-403b-8e4b-7a33bb214bf6",
   "metadata": {},
   "source": [
    "## 4.2 Seed 4"
   ]
  },
  {
   "cell_type": "code",
   "execution_count": 23,
   "id": "234ce9db-336a-4605-935c-509ca931f01c",
   "metadata": {},
   "outputs": [
    {
     "name": "stdout",
     "output_type": "stream",
     "text": [
      "Backpropogation start\n",
      "\n",
      "Epoch 10: Time taken = 2.40 | Train loss = 0.0012908 | Val loss =  1.4200372\n",
      "Epoch 20: Time taken = 2.40 | Train loss = 0.0006119 | Val loss =  1.1751928\n",
      "Epoch 30: Time taken = 2.48 | Train loss = 0.0002879 | Val loss =  1.0039979\n",
      "Epoch 40: Time taken = 2.42 | Train loss = 0.0001857 | Val loss =  0.8736025\n",
      "Epoch 50: Time taken = 2.37 | Train loss = 0.0001400 | Val loss =  0.8711713\n",
      "Epoch 52: Time taken = 2.34 | Train loss = 0.0001343 | Val loss =  0.7166554\n",
      "Epoch 53: Time taken = 2.28 | Train loss = 0.0001254 | Val loss =  0.6350073\n",
      "Epoch 59: Time taken = 2.37 | Train loss = 0.0001130 | Val loss =  0.5886542\n",
      "Epoch 60: Time taken = 2.33 | Train loss = 0.0001146 | Val loss =  0.6726803\n",
      "Epoch 70: Time taken = 2.32 | Train loss = 0.0000923 | Val loss =  0.7956774\n",
      "Epoch 77: Time taken = 2.38 | Train loss = 0.0000853 | Val loss =  0.5826141\n",
      "Epoch 80: Time taken = 2.38 | Train loss = 0.0000817 | Val loss =  0.6599227\n",
      "Epoch 81: Time taken = 2.38 | Train loss = 0.0000806 | Val loss =  0.5627767\n",
      "Epoch 83: Time taken = 2.37 | Train loss = 0.0000833 | Val loss =  0.5015834\n",
      "Epoch 89: Time taken = 2.31 | Train loss = 0.0000741 | Val loss =  0.4895726\n",
      "Epoch 90: Time taken = 2.35 | Train loss = 0.0000751 | Val loss =  0.4724697\n",
      "Epoch 92: Time taken = 2.33 | Train loss = 0.0000735 | Val loss =  0.4556005\n",
      "Epoch 100: Time taken = 2.29 | Train loss = 0.0000637 | Val loss =  0.5926671\n",
      "Epoch 110: Time taken = 2.39 | Train loss = 0.0000596 | Val loss =  0.4874141\n",
      "Epoch 116: Time taken = 2.34 | Train loss = 0.0000580 | Val loss =  0.4407725\n",
      "Epoch 120: Time taken = 2.42 | Train loss = 0.0000528 | Val loss =  0.4378008\n",
      "Epoch 130: Time taken = 2.56 | Train loss = 0.0000485 | Val loss =  0.5912697\n",
      "Epoch 140: Time taken = 2.41 | Train loss = 0.0000462 | Val loss =  0.5328855\n",
      "Epoch 150: Time taken = 2.29 | Train loss = 0.0000420 | Val loss =  0.5743371\n",
      "Epoch 151: Time taken = 2.41 | Train loss = 0.0000408 | Val loss =  0.4256847\n",
      "Epoch 155: Time taken = 2.25 | Train loss = 0.0000408 | Val loss =  0.3778792\n",
      "Epoch 160: Time taken = 2.40 | Train loss = 0.0000414 | Val loss =  0.3868071\n",
      "Epoch 170: Time taken = 2.34 | Train loss = 0.0000354 | Val loss =  0.4618866\n",
      "Epoch 179: Time taken = 2.53 | Train loss = 0.0000359 | Val loss =  0.3630021\n",
      "Epoch 180: Time taken = 2.55 | Train loss = 0.0000337 | Val loss =  0.3998521\n",
      "Epoch 185: Time taken = 2.52 | Train loss = 0.0000333 | Val loss =  0.3495267\n",
      "Epoch 190: Time taken = 2.46 | Train loss = 0.0000316 | Val loss =  0.4455802\n",
      "Epoch 196: Time taken = 2.60 | Train loss = 0.0000324 | Val loss =  0.3366501\n",
      "Epoch 200: Time taken = 2.36 | Train loss = 0.0000298 | Val loss =  0.3800513\n",
      "Epoch 209: Time taken = 2.62 | Train loss = 0.0000305 | Val loss =  0.3166434\n",
      "Epoch 210: Time taken = 2.38 | Train loss = 0.0000285 | Val loss =  0.3666254\n",
      "Epoch 220: Time taken = 2.64 | Train loss = 0.0000280 | Val loss =  0.3412894\n",
      "Epoch 230: Time taken = 2.51 | Train loss = 0.0000269 | Val loss =  0.3593952\n",
      "Epoch 240: Time taken = 2.29 | Train loss = 0.0000243 | Val loss =  0.4792132\n",
      "Epoch 250: Time taken = 2.41 | Train loss = 0.0000236 | Val loss =  0.3892409\n",
      "Epoch 252: Time taken = 2.50 | Train loss = 0.0000239 | Val loss =  0.3070302\n",
      "Epoch 260: Time taken = 2.44 | Train loss = 0.0000227 | Val loss =  0.4051413\n",
      "Epoch 270: Time taken = 2.36 | Train loss = 0.0000213 | Val loss =  0.5654936\n",
      "Epoch 280: Time taken = 2.24 | Train loss = 0.0000211 | Val loss =  0.3791424\n",
      "Epoch 290: Time taken = 2.24 | Train loss = 0.0000209 | Val loss =  0.3604214\n",
      "Epoch 299: Time taken = 2.37 | Train loss = 0.0000195 | Val loss =  0.3057131\n",
      "Epoch 300: Time taken = 2.92 | Train loss = 0.0000199 | Val loss =  0.4346322\n",
      "Epoch 310: Time taken = 2.63 | Train loss = 0.0000181 | Val loss =  0.4029991\n",
      "Epoch 313: Time taken = 2.15 | Train loss = 0.0000187 | Val loss =  0.2971544\n",
      "Epoch 314: Time taken = 2.16 | Train loss = 0.0000200 | Val loss =  0.2694230\n",
      "Epoch 320: Time taken = 2.81 | Train loss = 0.0000191 | Val loss =  0.3999024\n",
      "Epoch 330: Time taken = 2.65 | Train loss = 0.0000179 | Val loss =  0.4135198\n",
      "Epoch 340: Time taken = 2.30 | Train loss = 0.0000200 | Val loss =  0.3241907\n",
      "Epoch 350: Time taken = 2.54 | Train loss = 0.0000163 | Val loss =  0.3033932\n",
      "Epoch 360: Time taken = 2.32 | Train loss = 0.0000164 | Val loss =  0.3823618\n",
      "EARLY STOPPING. Epoch 364: Train loss = 0.0000161 | Val loss =  0.3090083\n",
      "Best Validation MSE: 0.2694230\n",
      "IMPROVED VALIDATION MSE\n",
      "\n",
      "Epoch 10: Time taken = 2.44 | Train loss = 0.0000187 | Val loss =  0.3270050\n",
      "Epoch 20: Time taken = 2.41 | Train loss = 0.0000175 | Val loss =  0.3971559\n",
      "Epoch 30: Time taken = 2.43 | Train loss = 0.0000183 | Val loss =  0.2752635\n",
      "Epoch 40: Time taken = 2.35 | Train loss = 0.0000166 | Val loss =  0.3845369\n",
      "Epoch 50: Time taken = 2.44 | Train loss = 0.0000159 | Val loss =  0.3694067\n",
      "EARLY STOPPING. Epoch 51: Train loss = 0.0000163 | Val loss =  0.2915064\n",
      "Best Validation MSE: 0.1757074\n",
      "IMPROVED VALIDATION MSE\n",
      "\n",
      "Epoch 10: Time taken = 2.24 | Train loss = 0.0000191 | Val loss =  0.3099467\n",
      "Epoch 20: Time taken = 2.41 | Train loss = 0.0000175 | Val loss =  0.3600358\n",
      "Epoch 30: Time taken = 2.35 | Train loss = 0.0000183 | Val loss =  0.3414402\n",
      "Epoch 40: Time taken = 2.52 | Train loss = 0.0000165 | Val loss =  0.4182955\n",
      "Epoch 50: Time taken = 2.19 | Train loss = 0.0000174 | Val loss =  0.3239211\n",
      "EARLY STOPPING. Epoch 51: Train loss = 0.0000157 | Val loss =  0.3431442\n",
      "Best Validation MSE: 0.1808414\n",
      "\n",
      "Epoch 10: Time taken = 2.35 | Train loss = 0.0000184 | Val loss =  0.3298050\n",
      "Epoch 20: Time taken = 2.33 | Train loss = 0.0000170 | Val loss =  0.3080760\n",
      "Epoch 30: Time taken = 2.42 | Train loss = 0.0000183 | Val loss =  0.3527719\n",
      "Epoch 40: Time taken = 2.26 | Train loss = 0.0000164 | Val loss =  0.3036433\n",
      "Epoch 50: Time taken = 2.19 | Train loss = 0.0000160 | Val loss =  0.3184393\n",
      "EARLY STOPPING. Epoch 51: Train loss = 0.0000163 | Val loss =  0.3485755\n",
      "Best Validation MSE: 0.1803634\n",
      "\n",
      "Total time: 1249.83\n",
      "Complete. Time taken: 1249.84s\n",
      "Testing complete. Time taken: 0.73\n"
     ]
    }
   ],
   "source": [
    "run_seed(4)"
   ]
  },
  {
   "cell_type": "markdown",
   "id": "2abf4d4d-b41c-4b37-afd7-947a70837ff8",
   "metadata": {},
   "source": [
    "## 4.3 Seed 6"
   ]
  },
  {
   "cell_type": "code",
   "execution_count": 24,
   "id": "f751f451-8373-4ae3-b8b3-594b344fa18b",
   "metadata": {},
   "outputs": [
    {
     "name": "stdout",
     "output_type": "stream",
     "text": [
      "Backpropogation start\n",
      "\n",
      "Epoch 10: Time taken = 2.31 | Train loss = 0.0013257 | Val loss =  1.3738377\n",
      "Epoch 20: Time taken = 2.20 | Train loss = 0.0006339 | Val loss =  1.1751699\n",
      "Epoch 30: Time taken = 2.21 | Train loss = 0.0003042 | Val loss =  1.1160026\n",
      "Epoch 40: Time taken = 2.22 | Train loss = 0.0002035 | Val loss =  0.8815795\n",
      "Epoch 50: Time taken = 2.72 | Train loss = 0.0001551 | Val loss =  0.8296891\n",
      "Epoch 51: Time taken = 2.91 | Train loss = 0.0001485 | Val loss =  0.7251531\n",
      "Epoch 56: Time taken = 2.89 | Train loss = 0.0001294 | Val loss =  0.6624981\n",
      "Epoch 57: Time taken = 2.52 | Train loss = 0.0001305 | Val loss =  0.6520374\n",
      "Epoch 60: Time taken = 2.60 | Train loss = 0.0001218 | Val loss =  0.7599814\n",
      "Epoch 64: Time taken = 2.37 | Train loss = 0.0001129 | Val loss =  0.6394991\n",
      "Epoch 65: Time taken = 2.21 | Train loss = 0.0001140 | Val loss =  0.5831755\n",
      "Epoch 70: Time taken = 2.22 | Train loss = 0.0001009 | Val loss =  0.7416283\n",
      "Epoch 75: Time taken = 2.35 | Train loss = 0.0000948 | Val loss =  0.5797724\n",
      "Epoch 76: Time taken = 2.40 | Train loss = 0.0000970 | Val loss =  0.5696293\n",
      "Epoch 79: Time taken = 2.28 | Train loss = 0.0000892 | Val loss =  0.5393342\n",
      "Epoch 80: Time taken = 2.32 | Train loss = 0.0000876 | Val loss =  0.5835508\n",
      "Epoch 88: Time taken = 2.23 | Train loss = 0.0000800 | Val loss =  0.5238305\n",
      "Epoch 90: Time taken = 2.33 | Train loss = 0.0000774 | Val loss =  0.5660195\n",
      "Epoch 94: Time taken = 2.22 | Train loss = 0.0000720 | Val loss =  0.4996814\n",
      "Epoch 100: Time taken = 2.23 | Train loss = 0.0000700 | Val loss =  0.5388594\n",
      "Epoch 107: Time taken = 2.24 | Train loss = 0.0000650 | Val loss =  0.4917375\n",
      "Epoch 110: Time taken = 2.23 | Train loss = 0.0000633 | Val loss =  0.5674989\n",
      "Epoch 112: Time taken = 2.22 | Train loss = 0.0000589 | Val loss =  0.4841088\n",
      "Epoch 115: Time taken = 2.77 | Train loss = 0.0000605 | Val loss =  0.4821290\n",
      "Epoch 120: Time taken = 2.22 | Train loss = 0.0000562 | Val loss =  0.5564979\n",
      "Epoch 129: Time taken = 2.26 | Train loss = 0.0000528 | Val loss =  0.4745168\n",
      "Epoch 130: Time taken = 2.35 | Train loss = 0.0000524 | Val loss =  0.5506417\n",
      "Epoch 133: Time taken = 2.25 | Train loss = 0.0000506 | Val loss =  0.4458499\n",
      "Epoch 138: Time taken = 2.23 | Train loss = 0.0000473 | Val loss =  0.4390691\n",
      "Epoch 140: Time taken = 2.24 | Train loss = 0.0000492 | Val loss =  0.4137830\n",
      "Epoch 150: Time taken = 2.21 | Train loss = 0.0000461 | Val loss =  0.4750971\n",
      "Epoch 152: Time taken = 2.22 | Train loss = 0.0000437 | Val loss =  0.4057106\n",
      "Epoch 160: Time taken = 2.30 | Train loss = 0.0000433 | Val loss =  0.5569557\n",
      "Epoch 170: Time taken = 2.24 | Train loss = 0.0000396 | Val loss =  0.6074854\n",
      "Epoch 175: Time taken = 2.22 | Train loss = 0.0000411 | Val loss =  0.3894841\n",
      "Epoch 180: Time taken = 2.23 | Train loss = 0.0000368 | Val loss =  0.5855665\n",
      "Epoch 184: Time taken = 2.23 | Train loss = 0.0000358 | Val loss =  0.3870525\n",
      "Epoch 189: Time taken = 2.23 | Train loss = 0.0000346 | Val loss =  0.3441851\n",
      "Epoch 190: Time taken = 2.22 | Train loss = 0.0000334 | Val loss =  0.4084820\n",
      "Epoch 200: Time taken = 2.23 | Train loss = 0.0000320 | Val loss =  0.5336440\n",
      "Epoch 210: Time taken = 2.24 | Train loss = 0.0000316 | Val loss =  0.3510018\n",
      "Epoch 220: Time taken = 2.24 | Train loss = 0.0000293 | Val loss =  0.3509121\n",
      "Epoch 222: Time taken = 2.23 | Train loss = 0.0000293 | Val loss =  0.3423094\n",
      "Epoch 230: Time taken = 2.22 | Train loss = 0.0000301 | Val loss =  0.4003336\n",
      "Epoch 237: Time taken = 2.22 | Train loss = 0.0000280 | Val loss =  0.3334754\n",
      "Epoch 238: Time taken = 2.29 | Train loss = 0.0000265 | Val loss =  0.3232422\n",
      "Epoch 240: Time taken = 2.21 | Train loss = 0.0000270 | Val loss =  0.4624007\n",
      "Epoch 250: Time taken = 2.22 | Train loss = 0.0000251 | Val loss =  0.3684309\n",
      "Epoch 260: Time taken = 2.26 | Train loss = 0.0000246 | Val loss =  0.3885902\n",
      "Epoch 268: Time taken = 2.22 | Train loss = 0.0000243 | Val loss =  0.3129105\n",
      "Epoch 270: Time taken = 2.22 | Train loss = 0.0000232 | Val loss =  0.4358541\n",
      "Epoch 273: Time taken = 2.22 | Train loss = 0.0000233 | Val loss =  0.3069165\n",
      "Epoch 280: Time taken = 2.22 | Train loss = 0.0000230 | Val loss =  0.3998685\n",
      "Epoch 290: Time taken = 2.35 | Train loss = 0.0000210 | Val loss =  0.3279132\n",
      "Epoch 300: Time taken = 2.23 | Train loss = 0.0000210 | Val loss =  0.4210731\n",
      "Epoch 302: Time taken = 2.22 | Train loss = 0.0000217 | Val loss =  0.2970087\n",
      "Epoch 308: Time taken = 2.22 | Train loss = 0.0000201 | Val loss =  0.2735171\n",
      "Epoch 310: Time taken = 2.38 | Train loss = 0.0000203 | Val loss =  0.4836775\n",
      "Epoch 320: Time taken = 2.25 | Train loss = 0.0000205 | Val loss =  0.4566517\n",
      "Epoch 330: Time taken = 2.26 | Train loss = 0.0000187 | Val loss =  0.3449647\n",
      "Epoch 340: Time taken = 2.23 | Train loss = 0.0000184 | Val loss =  0.2825131\n",
      "Epoch 350: Time taken = 2.26 | Train loss = 0.0000178 | Val loss =  0.3999453\n",
      "EARLY STOPPING. Epoch 358: Train loss = 0.0000178 | Val loss =  0.3727618\n",
      "Best Validation MSE: 0.2735171\n",
      "IMPROVED VALIDATION MSE\n",
      "\n",
      "Epoch 10: Time taken = 2.25 | Train loss = 0.0000203 | Val loss =  0.3103272\n",
      "Epoch 20: Time taken = 2.22 | Train loss = 0.0000203 | Val loss =  0.3560131\n",
      "Epoch 30: Time taken = 2.21 | Train loss = 0.0000185 | Val loss =  0.4004838\n",
      "Epoch 40: Time taken = 2.24 | Train loss = 0.0000178 | Val loss =  0.3461972\n",
      "Epoch 50: Time taken = 2.21 | Train loss = 0.0000181 | Val loss =  0.3125243\n",
      "EARLY STOPPING. Epoch 51: Train loss = 0.0000178 | Val loss =  0.3869382\n",
      "Best Validation MSE: 0.1765094\n",
      "IMPROVED VALIDATION MSE\n",
      "\n",
      "Epoch 10: Time taken = 2.24 | Train loss = 0.0000218 | Val loss =  0.5581266\n",
      "Epoch 20: Time taken = 2.24 | Train loss = 0.0000187 | Val loss =  0.3595949\n",
      "Epoch 30: Time taken = 2.21 | Train loss = 0.0000193 | Val loss =  0.2954473\n",
      "Epoch 40: Time taken = 2.24 | Train loss = 0.0000186 | Val loss =  0.4297219\n",
      "Epoch 50: Time taken = 2.33 | Train loss = 0.0000178 | Val loss =  0.4816348\n",
      "EARLY STOPPING. Epoch 51: Train loss = 0.0000189 | Val loss =  0.3362581\n",
      "Best Validation MSE: 0.1819588\n",
      "\n",
      "Epoch 10: Time taken = 2.29 | Train loss = 0.0000202 | Val loss =  0.3668065\n",
      "Epoch 20: Time taken = 2.21 | Train loss = 0.0000202 | Val loss =  0.2968149\n",
      "Epoch 30: Time taken = 2.22 | Train loss = 0.0000188 | Val loss =  0.3040424\n",
      "Epoch 40: Time taken = 2.22 | Train loss = 0.0000176 | Val loss =  0.3195259\n",
      "Epoch 50: Time taken = 2.30 | Train loss = 0.0000175 | Val loss =  0.3669803\n",
      "EARLY STOPPING. Epoch 51: Train loss = 0.0000185 | Val loss =  0.3867612\n",
      "Best Validation MSE: 0.2122163\n",
      "\n",
      "Total time: 1165.31\n",
      "Complete. Time taken: 1165.33s\n",
      "Testing complete. Time taken: 1.04\n"
     ]
    }
   ],
   "source": [
    "run_seed(6)"
   ]
  },
  {
   "cell_type": "markdown",
   "id": "99791ee8-6d4d-49a2-99b5-48d06755a32d",
   "metadata": {},
   "source": [
    "## 4.4 Seed 8"
   ]
  },
  {
   "cell_type": "code",
   "execution_count": 25,
   "id": "6398e9f5-b404-4029-8d31-e839467929d3",
   "metadata": {},
   "outputs": [
    {
     "name": "stdout",
     "output_type": "stream",
     "text": [
      "Backpropogation start\n",
      "\n",
      "Epoch 10: Time taken = 2.22 | Train loss = 0.0012670 | Val loss =  1.4674182\n",
      "Epoch 20: Time taken = 2.23 | Train loss = 0.0006187 | Val loss =  1.2294486\n",
      "Epoch 30: Time taken = 2.33 | Train loss = 0.0002953 | Val loss =  1.0985397\n",
      "Epoch 40: Time taken = 2.26 | Train loss = 0.0001939 | Val loss =  0.8050026\n",
      "Epoch 50: Time taken = 2.25 | Train loss = 0.0001420 | Val loss =  0.6563234\n",
      "Epoch 54: Time taken = 2.36 | Train loss = 0.0001269 | Val loss =  0.6272317\n",
      "Epoch 57: Time taken = 2.35 | Train loss = 0.0001209 | Val loss =  0.6187574\n",
      "Epoch 60: Time taken = 2.27 | Train loss = 0.0001150 | Val loss =  0.6382630\n",
      "Epoch 61: Time taken = 2.26 | Train loss = 0.0001096 | Val loss =  0.6162119\n",
      "Epoch 70: Time taken = 2.23 | Train loss = 0.0000951 | Val loss =  0.6020337\n",
      "Epoch 73: Time taken = 2.33 | Train loss = 0.0000921 | Val loss =  0.5921918\n",
      "Epoch 74: Time taken = 2.26 | Train loss = 0.0000905 | Val loss =  0.5253414\n",
      "Epoch 80: Time taken = 2.38 | Train loss = 0.0000818 | Val loss =  0.6416981\n",
      "Epoch 85: Time taken = 2.43 | Train loss = 0.0000759 | Val loss =  0.5143859\n",
      "Epoch 88: Time taken = 2.34 | Train loss = 0.0000733 | Val loss =  0.4858089\n",
      "Epoch 90: Time taken = 2.25 | Train loss = 0.0000722 | Val loss =  0.6104451\n",
      "Epoch 93: Time taken = 2.25 | Train loss = 0.0000703 | Val loss =  0.4777716\n",
      "Epoch 100: Time taken = 2.31 | Train loss = 0.0000631 | Val loss =  0.5684352\n",
      "Epoch 107: Time taken = 2.22 | Train loss = 0.0000583 | Val loss =  0.4633641\n",
      "Epoch 110: Time taken = 2.27 | Train loss = 0.0000554 | Val loss =  0.5733579\n",
      "Epoch 119: Time taken = 2.29 | Train loss = 0.0000544 | Val loss =  0.4352312\n",
      "Epoch 120: Time taken = 2.22 | Train loss = 0.0000537 | Val loss =  0.5070807\n",
      "Epoch 130: Time taken = 2.37 | Train loss = 0.0000473 | Val loss =  0.5421123\n",
      "Epoch 136: Time taken = 2.28 | Train loss = 0.0000461 | Val loss =  0.4018038\n",
      "Epoch 140: Time taken = 2.19 | Train loss = 0.0000428 | Val loss =  0.5085533\n",
      "Epoch 150: Time taken = 2.22 | Train loss = 0.0000411 | Val loss =  0.5106540\n",
      "Epoch 160: Time taken = 2.33 | Train loss = 0.0000389 | Val loss =  0.4866302\n",
      "Epoch 168: Time taken = 2.32 | Train loss = 0.0000363 | Val loss =  0.3402657\n",
      "Epoch 170: Time taken = 2.32 | Train loss = 0.0000375 | Val loss =  0.4047610\n",
      "Epoch 180: Time taken = 2.33 | Train loss = 0.0000334 | Val loss =  0.4516082\n",
      "Epoch 190: Time taken = 2.30 | Train loss = 0.0000329 | Val loss =  0.3660392\n",
      "Epoch 200: Time taken = 2.27 | Train loss = 0.0000287 | Val loss =  0.4517026\n",
      "Epoch 202: Time taken = 2.29 | Train loss = 0.0000297 | Val loss =  0.3381512\n",
      "Epoch 210: Time taken = 2.32 | Train loss = 0.0000285 | Val loss =  0.4135887\n",
      "Epoch 220: Time taken = 2.27 | Train loss = 0.0000278 | Val loss =  0.4077743\n",
      "Epoch 223: Time taken = 2.38 | Train loss = 0.0000266 | Val loss =  0.3040377\n",
      "Epoch 230: Time taken = 2.35 | Train loss = 0.0000258 | Val loss =  0.3408603\n",
      "Epoch 240: Time taken = 2.29 | Train loss = 0.0000239 | Val loss =  0.4011191\n",
      "Epoch 250: Time taken = 2.30 | Train loss = 0.0000234 | Val loss =  0.3414760\n",
      "Epoch 257: Time taken = 2.39 | Train loss = 0.0000216 | Val loss =  0.2940257\n",
      "Epoch 260: Time taken = 2.34 | Train loss = 0.0000224 | Val loss =  0.3925090\n",
      "Epoch 270: Time taken = 2.25 | Train loss = 0.0000219 | Val loss =  0.3234956\n",
      "Epoch 280: Time taken = 2.37 | Train loss = 0.0000204 | Val loss =  0.3158493\n",
      "Epoch 290: Time taken = 2.26 | Train loss = 0.0000206 | Val loss =  0.3636830\n",
      "Epoch 300: Time taken = 2.29 | Train loss = 0.0000190 | Val loss =  0.4006018\n",
      "Epoch 302: Time taken = 2.27 | Train loss = 0.0000185 | Val loss =  0.2899674\n",
      "Epoch 310: Time taken = 2.31 | Train loss = 0.0000185 | Val loss =  0.3264366\n",
      "Epoch 320: Time taken = 2.22 | Train loss = 0.0000182 | Val loss =  0.3311271\n",
      "Epoch 330: Time taken = 2.27 | Train loss = 0.0000175 | Val loss =  0.3707965\n",
      "Epoch 336: Time taken = 2.27 | Train loss = 0.0000162 | Val loss =  0.2781227\n",
      "Epoch 340: Time taken = 2.33 | Train loss = 0.0000167 | Val loss =  0.3887179\n",
      "Epoch 346: Time taken = 2.29 | Train loss = 0.0000168 | Val loss =  0.2411510\n",
      "Epoch 350: Time taken = 2.24 | Train loss = 0.0000165 | Val loss =  0.3651627\n",
      "Epoch 360: Time taken = 2.35 | Train loss = 0.0000148 | Val loss =  0.3416070\n",
      "Epoch 370: Time taken = 2.23 | Train loss = 0.0000156 | Val loss =  0.3151520\n",
      "Epoch 380: Time taken = 2.24 | Train loss = 0.0000146 | Val loss =  0.3031873\n",
      "Epoch 390: Time taken = 2.51 | Train loss = 0.0000152 | Val loss =  0.2538297\n",
      "EARLY STOPPING. Epoch 396: Train loss = 0.0000145 | Val loss =  0.2715849\n",
      "Best Validation MSE: 0.2411510\n",
      "IMPROVED VALIDATION MSE\n",
      "\n",
      "Epoch 10: Time taken = 2.34 | Train loss = 0.0000149 | Val loss =  0.3295259\n",
      "Epoch 20: Time taken = 2.34 | Train loss = 0.0000153 | Val loss =  0.3164915\n",
      "Epoch 30: Time taken = 2.27 | Train loss = 0.0000153 | Val loss =  0.2883987\n",
      "Epoch 40: Time taken = 2.26 | Train loss = 0.0000143 | Val loss =  0.2514662\n",
      "Epoch 50: Time taken = 2.25 | Train loss = 0.0000138 | Val loss =  0.4178500\n",
      "EARLY STOPPING. Epoch 51: Train loss = 0.0000141 | Val loss =  0.2072759\n",
      "Best Validation MSE: 0.1635143\n",
      "IMPROVED VALIDATION MSE\n",
      "\n",
      "Epoch 10: Time taken = 2.27 | Train loss = 0.0000164 | Val loss =  0.3431505\n",
      "Epoch 20: Time taken = 2.29 | Train loss = 0.0000146 | Val loss =  0.3194412\n",
      "Epoch 30: Time taken = 2.33 | Train loss = 0.0000156 | Val loss =  0.3007163\n",
      "Epoch 40: Time taken = 2.31 | Train loss = 0.0000149 | Val loss =  0.3446271\n",
      "Epoch 50: Time taken = 2.29 | Train loss = 0.0000136 | Val loss =  0.3150597\n",
      "EARLY STOPPING. Epoch 51: Train loss = 0.0000140 | Val loss =  0.3024672\n",
      "Best Validation MSE: 0.1633884\n",
      "IMPROVED VALIDATION MSE\n",
      "\n",
      "Epoch 10: Time taken = 2.31 | Train loss = 0.0000153 | Val loss =  0.3195558\n",
      "Epoch 20: Time taken = 2.28 | Train loss = 0.0000149 | Val loss =  0.2945603\n",
      "Epoch 30: Time taken = 2.20 | Train loss = 0.0000143 | Val loss =  0.2577882\n",
      "Epoch 40: Time taken = 2.35 | Train loss = 0.0000149 | Val loss =  0.3275698\n",
      "Epoch 50: Time taken = 2.32 | Train loss = 0.0000143 | Val loss =  0.2662166\n",
      "EARLY STOPPING. Epoch 51: Train loss = 0.0000144 | Val loss =  0.2428039\n",
      "Best Validation MSE: 0.1596374\n",
      "IMPROVED VALIDATION MSE\n",
      "\n",
      "Total time: 1265.78\n",
      "Complete. Time taken: 1265.83s\n",
      "Testing complete. Time taken: 0.79\n"
     ]
    }
   ],
   "source": [
    "run_seed(8)"
   ]
  },
  {
   "cell_type": "markdown",
   "id": "f44cb3d9-6d9b-4bc9-bfae-2f56f7a8848b",
   "metadata": {},
   "source": [
    "## 4.5 Seed 42"
   ]
  },
  {
   "cell_type": "code",
   "execution_count": 27,
   "id": "c531e8d9-b83e-4a1e-9307-71e37e3049a6",
   "metadata": {},
   "outputs": [
    {
     "name": "stdout",
     "output_type": "stream",
     "text": [
      "Backpropogation start\n",
      "\n",
      "Epoch 10: Time taken = 2.23 | Train loss = 0.0013160 | Val loss =  1.3818367\n",
      "Epoch 20: Time taken = 2.22 | Train loss = 0.0006138 | Val loss =  1.1590735\n",
      "Epoch 30: Time taken = 2.31 | Train loss = 0.0002915 | Val loss =  1.0732265\n",
      "Epoch 40: Time taken = 2.20 | Train loss = 0.0001949 | Val loss =  0.8560179\n",
      "Epoch 50: Time taken = 2.34 | Train loss = 0.0001422 | Val loss =  0.7395727\n",
      "Epoch 53: Time taken = 2.27 | Train loss = 0.0001360 | Val loss =  0.6205667\n",
      "Epoch 58: Time taken = 2.19 | Train loss = 0.0001173 | Val loss =  0.5787927\n",
      "Epoch 60: Time taken = 2.21 | Train loss = 0.0001115 | Val loss =  0.7928073\n",
      "Epoch 69: Time taken = 2.23 | Train loss = 0.0000939 | Val loss =  0.5548454\n",
      "Epoch 70: Time taken = 2.26 | Train loss = 0.0000928 | Val loss =  0.6596429\n",
      "Epoch 79: Time taken = 2.35 | Train loss = 0.0000830 | Val loss =  0.5329710\n",
      "Epoch 80: Time taken = 2.34 | Train loss = 0.0000781 | Val loss =  0.6605047\n",
      "Epoch 83: Time taken = 2.20 | Train loss = 0.0000756 | Val loss =  0.4619845\n",
      "Epoch 90: Time taken = 2.34 | Train loss = 0.0000713 | Val loss =  0.5777481\n",
      "Epoch 100: Time taken = 2.28 | Train loss = 0.0000625 | Val loss =  0.7390180\n",
      "Epoch 110: Time taken = 2.23 | Train loss = 0.0000561 | Val loss =  0.6709294\n",
      "Epoch 119: Time taken = 2.28 | Train loss = 0.0000508 | Val loss =  0.4602986\n",
      "Epoch 120: Time taken = 2.27 | Train loss = 0.0000542 | Val loss =  0.6029043\n",
      "Epoch 121: Time taken = 2.21 | Train loss = 0.0000489 | Val loss =  0.4480377\n",
      "Epoch 123: Time taken = 2.25 | Train loss = 0.0000497 | Val loss =  0.4052427\n",
      "Epoch 130: Time taken = 2.18 | Train loss = 0.0000481 | Val loss =  0.4982239\n",
      "Epoch 140: Time taken = 2.22 | Train loss = 0.0000429 | Val loss =  0.6240833\n",
      "Epoch 149: Time taken = 2.33 | Train loss = 0.0000414 | Val loss =  0.3777653\n",
      "Epoch 150: Time taken = 2.23 | Train loss = 0.0000398 | Val loss =  0.4055180\n",
      "Epoch 160: Time taken = 2.23 | Train loss = 0.0000383 | Val loss =  0.5214832\n",
      "Epoch 170: Time taken = 2.23 | Train loss = 0.0000347 | Val loss =  0.5336949\n",
      "Epoch 180: Time taken = 2.29 | Train loss = 0.0000316 | Val loss =  0.4050173\n",
      "Epoch 186: Time taken = 2.19 | Train loss = 0.0000318 | Val loss =  0.3698924\n",
      "Epoch 188: Time taken = 2.18 | Train loss = 0.0000314 | Val loss =  0.3568119\n",
      "Epoch 190: Time taken = 2.19 | Train loss = 0.0000313 | Val loss =  0.3743705\n",
      "Epoch 200: Time taken = 2.20 | Train loss = 0.0000289 | Val loss =  0.3522310\n",
      "Epoch 201: Time taken = 2.19 | Train loss = 0.0000298 | Val loss =  0.3500974\n",
      "Epoch 208: Time taken = 2.34 | Train loss = 0.0000274 | Val loss =  0.3375420\n",
      "Epoch 210: Time taken = 2.25 | Train loss = 0.0000254 | Val loss =  0.4547545\n",
      "Epoch 220: Time taken = 2.18 | Train loss = 0.0000273 | Val loss =  0.3594410\n",
      "Epoch 224: Time taken = 2.17 | Train loss = 0.0000265 | Val loss =  0.3356715\n",
      "Epoch 230: Time taken = 2.17 | Train loss = 0.0000239 | Val loss =  0.3773920\n",
      "Epoch 233: Time taken = 2.17 | Train loss = 0.0000246 | Val loss =  0.3303318\n",
      "Epoch 237: Time taken = 2.19 | Train loss = 0.0000227 | Val loss =  0.3301997\n",
      "Epoch 240: Time taken = 2.18 | Train loss = 0.0000233 | Val loss =  0.3551502\n",
      "Epoch 242: Time taken = 2.17 | Train loss = 0.0000236 | Val loss =  0.3006878\n",
      "Epoch 250: Time taken = 2.15 | Train loss = 0.0000220 | Val loss =  0.3755564\n",
      "Epoch 260: Time taken = 2.18 | Train loss = 0.0000212 | Val loss =  0.4594130\n",
      "Epoch 261: Time taken = 2.17 | Train loss = 0.0000218 | Val loss =  0.2944477\n",
      "Epoch 265: Time taken = 2.17 | Train loss = 0.0000220 | Val loss =  0.2840659\n",
      "Epoch 270: Time taken = 2.16 | Train loss = 0.0000206 | Val loss =  0.3748973\n",
      "Epoch 277: Time taken = 2.17 | Train loss = 0.0000203 | Val loss =  0.2775847\n",
      "Epoch 280: Time taken = 2.16 | Train loss = 0.0000197 | Val loss =  0.3580323\n",
      "Epoch 290: Time taken = 2.19 | Train loss = 0.0000190 | Val loss =  0.4036317\n",
      "Epoch 300: Time taken = 2.17 | Train loss = 0.0000180 | Val loss =  0.3195864\n",
      "Epoch 310: Time taken = 2.17 | Train loss = 0.0000182 | Val loss =  0.2858943\n",
      "Epoch 315: Time taken = 2.16 | Train loss = 0.0000171 | Val loss =  0.2667122\n",
      "Epoch 320: Time taken = 2.17 | Train loss = 0.0000176 | Val loss =  0.2795202\n",
      "Epoch 330: Time taken = 2.18 | Train loss = 0.0000151 | Val loss =  0.3481944\n",
      "Epoch 331: Time taken = 2.16 | Train loss = 0.0000166 | Val loss =  0.2617718\n",
      "Epoch 340: Time taken = 2.16 | Train loss = 0.0000157 | Val loss =  0.3234804\n",
      "Epoch 349: Time taken = 2.17 | Train loss = 0.0000160 | Val loss =  0.2564895\n",
      "Epoch 350: Time taken = 2.16 | Train loss = 0.0000158 | Val loss =  0.3614010\n",
      "Epoch 353: Time taken = 2.17 | Train loss = 0.0000154 | Val loss =  0.2502614\n",
      "Epoch 360: Time taken = 2.17 | Train loss = 0.0000141 | Val loss =  0.2929792\n",
      "Epoch 369: Time taken = 2.17 | Train loss = 0.0000143 | Val loss =  0.2499450\n",
      "Epoch 370: Time taken = 2.17 | Train loss = 0.0000142 | Val loss =  0.3277406\n",
      "Epoch 380: Time taken = 2.16 | Train loss = 0.0000141 | Val loss =  0.2687394\n",
      "Epoch 390: Time taken = 2.17 | Train loss = 0.0000138 | Val loss =  0.3057537\n",
      "Epoch 400: Time taken = 2.17 | Train loss = 0.0000134 | Val loss =  0.3642231\n",
      "Best Validation MSE: 0.2499450\n",
      "IMPROVED VALIDATION MSE\n",
      "\n",
      "Epoch 10: Time taken = 2.16 | Train loss = 0.0000132 | Val loss =  0.3004041\n",
      "Epoch 20: Time taken = 2.17 | Train loss = 0.0000150 | Val loss =  0.2828067\n",
      "Epoch 30: Time taken = 2.17 | Train loss = 0.0000130 | Val loss =  0.2899467\n",
      "Epoch 40: Time taken = 2.16 | Train loss = 0.0000139 | Val loss =  0.2331660\n",
      "Epoch 50: Time taken = 2.17 | Train loss = 0.0000127 | Val loss =  0.2734403\n",
      "EARLY STOPPING. Epoch 51: Train loss = 0.0000131 | Val loss =  0.2853266\n",
      "Best Validation MSE: 0.1363674\n",
      "IMPROVED VALIDATION MSE\n",
      "\n",
      "Epoch 10: Time taken = 2.17 | Train loss = 0.0000144 | Val loss =  0.2625333\n",
      "Epoch 20: Time taken = 2.17 | Train loss = 0.0000139 | Val loss =  0.2786773\n",
      "Epoch 30: Time taken = 2.17 | Train loss = 0.0000127 | Val loss =  0.2795151\n",
      "Epoch 40: Time taken = 2.17 | Train loss = 0.0000126 | Val loss =  0.3088519\n",
      "Epoch 50: Time taken = 2.17 | Train loss = 0.0000124 | Val loss =  0.2978276\n",
      "EARLY STOPPING. Epoch 51: Train loss = 0.0000127 | Val loss =  0.2919369\n",
      "Best Validation MSE: 0.1411409\n",
      "\n",
      "Epoch 10: Time taken = 2.17 | Train loss = 0.0000140 | Val loss =  0.2304207\n",
      "Epoch 20: Time taken = 2.16 | Train loss = 0.0000143 | Val loss =  0.4392788\n",
      "Epoch 30: Time taken = 2.17 | Train loss = 0.0000131 | Val loss =  0.2757523\n",
      "Epoch 40: Time taken = 2.16 | Train loss = 0.0000135 | Val loss =  0.3693587\n",
      "Epoch 50: Time taken = 2.17 | Train loss = 0.0000127 | Val loss =  0.4022312\n",
      "EARLY STOPPING. Epoch 52: Train loss = 0.0000123 | Val loss =  0.2275630\n",
      "Best Validation MSE: 0.1415737\n",
      "\n",
      "Total time: 1219.71\n",
      "Complete. Time taken: 1219.73s\n",
      "Testing complete. Time taken: 0.71\n"
     ]
    }
   ],
   "source": [
    "run_seed(42)"
   ]
  },
  {
   "cell_type": "markdown",
   "id": "021f9a9c-dd4d-4549-b65a-195d2dd63192",
   "metadata": {},
   "source": [
    "## 4.6 Compilation"
   ]
  },
  {
   "cell_type": "code",
   "execution_count": 13,
   "id": "4eb224e2-cb94-492f-96c7-22ed0c48535d",
   "metadata": {},
   "outputs": [],
   "source": [
    "mu_preds = []"
   ]
  },
  {
   "cell_type": "code",
   "execution_count": 14,
   "id": "00a4c7bd-9d75-4b6b-a71b-b3bdbdefb694",
   "metadata": {},
   "outputs": [],
   "source": [
    "for dirpath, dirnames, filenames in os.walk(res_folder):\n",
    "    for f in filenames:\n",
    "        mu_preds.append(load_obj(os.path.join(res_folder, f)))"
   ]
  },
  {
   "cell_type": "code",
   "execution_count": 15,
   "id": "ce03a763-3f8b-456e-994a-02301a96bc85",
   "metadata": {},
   "outputs": [],
   "source": [
    "mu_preds = np.array(mu_preds)"
   ]
  },
  {
   "cell_type": "code",
   "execution_count": 16,
   "id": "021d249e-f6dd-48f6-85c0-3081a16b4071",
   "metadata": {},
   "outputs": [
    {
     "name": "stdout",
     "output_type": "stream",
     "text": [
      "mean preds shape: (5, 100, 400, 40)\n"
     ]
    }
   ],
   "source": [
    "print(f\"mean preds shape: {mu_preds.shape}\")"
   ]
  },
  {
   "cell_type": "markdown",
   "id": "6622806d-4d17-4d9a-abf0-0253f0a0446d",
   "metadata": {},
   "source": [
    "# 5. Analyze results"
   ]
  },
  {
   "cell_type": "markdown",
   "id": "d349930f-82f7-4530-8938-b67d9b7362eb",
   "metadata": {},
   "source": [
    "## 5.1 MSE"
   ]
  },
  {
   "cell_type": "code",
   "execution_count": 17,
   "id": "31c4a1d8-05cd-4830-becc-f23a33e56fbd",
   "metadata": {},
   "outputs": [],
   "source": [
    "mixture_pred_all_mean = mu_preds.mean(axis = 0)"
   ]
  },
  {
   "cell_type": "code",
   "execution_count": 18,
   "id": "e3fc92fa-1969-4539-ae5b-54f5911208eb",
   "metadata": {},
   "outputs": [
    {
     "data": {
      "image/png": "[encoded data removed]",
      "text/plain": [
       "<Figure size 432x288 with 1 Axes>"
      ]
     },
     "metadata": {
      "needs_background": "light"
     },
     "output_type": "display_data"
    },
    {
     "name": "stdout",
     "output_type": "stream",
     "text": [
      "It takes around 3.05 Lyapunov Time for mean error to exceed 0.5\n",
      "\n",
      "Median NRMSE at 0.5 Lyapunov Time: 0.029\n",
      "Median NRMSE at 1.0 Lyapunov Time: 0.067\n",
      "Median NRMSE at 2.0 Lyapunov Time: 0.209\n",
      "Median NRMSE at 5.0 Lyapunov Time: 0.878\n"
     ]
    }
   ],
   "source": [
    "res_single = PointExperimentResultLyapunov(mixture_pred_all_mean - y_test, \"lorenz\")\n",
    "res_single.plot_rmse(save_name = \"LSTM Deep Ensemble Horizon\")\n",
    "print()\n",
    "res_single.get_loss()"
   ]
  },
  {
   "cell_type": "markdown",
   "id": "a5940bab-d631-400a-a49d-3168d71d0990",
   "metadata": {},
   "source": [
    "## 5.2 Variance"
   ]
  },
  {
   "cell_type": "markdown",
   "id": "c8fdd5d5-735b-4e79-90ed-eda4c531a245",
   "metadata": {},
   "source": [
    "**Visualise for one dataset**"
   ]
  },
  {
   "cell_type": "code",
   "execution_count": 22,
   "id": "37c9cf91-abdb-4659-9884-df017290a633",
   "metadata": {},
   "outputs": [],
   "source": [
    "idx = 0"
   ]
  },
  {
   "cell_type": "code",
   "execution_count": 23,
   "id": "29907764-8ca3-4c54-8aca-3fd004dd26c8",
   "metadata": {},
   "outputs": [
    {
     "data": {
      "image/png": "[encoded data removed]",
      "text/plain": [
       "<Figure size 432x288 with 1 Axes>"
      ]
     },
     "metadata": {
      "needs_background": "light"
     },
     "output_type": "display_data"
    }
   ],
   "source": [
    "plt.plot(np.arange(L_forecast_test) / LORENZ_LT * 0.01, mu_preds.var(axis = 0)[idx].mean(axis = 1))\n",
    "plt.grid(\"on\")\n",
    "plt.xlabel(\"Lyapunov Time\")\n",
    "plt.ylabel(\"Variance\")\n",
    "plt.savefig(\"LSTM Deep Ensemble Variance.png\", facecolor = \"white\", bbox_inches = \"tight\")\n",
    "plt.show()"
   ]
  },
  {
   "cell_type": "markdown",
   "id": "f6c7b5b0-794f-4258-8eee-eeb95c6914ee",
   "metadata": {},
   "source": [
    "## 5.3 Negative Log LH"
   ]
  },
  {
   "cell_type": "code",
   "execution_count": 18,
   "id": "85d367e5-118a-49b5-a8fe-1ccaf1ee2a83",
   "metadata": {},
   "outputs": [],
   "source": [
    "def neg_log_LH(mean_pred, sd_pred):\n",
    "    d = 40\n",
    "    \n",
    "    constant_loss = d * np.log(2 * np.pi)\n",
    "    mu_loss = (mean_pred - y_test)**2\n",
    "    \n",
    "    return 0.5 * (constant_loss + d * np.log(sd_pred) + (mu_loss / sd_pred**2)).mean(axis = (0, 2))"
   ]
  },
  {
   "cell_type": "code",
   "execution_count": 19,
   "id": "2d9bc6ed-c14f-4256-8086-6d75f0f5a228",
   "metadata": {},
   "outputs": [],
   "source": [
    "std_dev = mu_preds.std(axis = 0)"
   ]
  },
  {
   "cell_type": "code",
   "execution_count": 20,
   "id": "348d6d99-32f0-4648-94d7-f71a2c2c71c2",
   "metadata": {},
   "outputs": [
    {
     "data": {
      "image/png": "[encoded data removed]",
      "text/plain": [
       "<Figure size 432x288 with 1 Axes>"
      ]
     },
     "metadata": {
      "needs_background": "light"
     },
     "output_type": "display_data"
    }
   ],
   "source": [
    "plt.plot(np.arange(L_forecast_test) / LORENZ_LT * 0.01, neg_log_LH(mixture_pred_all_mean,  std_dev))\n",
    "# plt.title(\"Negative Log LH against time\")\n",
    "plt.ylabel(\"Negative Log LH\")\n",
    "plt.xlabel(\"Lyapunov Time\")\n",
    "# plt.ylabel(\"Negative Log LH\")\n",
    "plt.grid(\"on\")\n",
    "plt.savefig(\"LSTM Deep Ensemble NLL.png\", facecolor = \"white\", bbox_inches = \"tight\")\n",
    "plt.show()"
   ]
  },
  {
   "cell_type": "code",
   "execution_count": 21,
   "id": "2c354420-1fac-4e40-90cf-1d408fae7615",
   "metadata": {},
   "outputs": [
    {
     "name": "stdout",
     "output_type": "stream",
     "text": [
      "Overall negative log LH: 10.13569\n"
     ]
    }
   ],
   "source": [
    "print(f\"Overall negative log LH: {neg_log_LH(mixture_pred_all_mean, std_dev).mean():.5f}\")"
   ]
  }
 ],
 "metadata": {
  "kernelspec": {
   "display_name": "Python 3 (ipykernel)",
   "language": "python",
   "name": "python3"
  },
  "language_info": {
   "codemirror_mode": {
    "name": "ipython",
    "version": 3
   },
   "file_extension": ".py",
   "mimetype": "text/x-python",
   "name": "python",
   "nbconvert_exporter": "python",
   "pygments_lexer": "ipython3",
   "version": "3.8.12"
  }
 },
 "nbformat": 4,
 "nbformat_minor": 5
}
