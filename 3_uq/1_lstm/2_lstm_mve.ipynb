{
 "cells": [
  {
   "cell_type": "markdown",
   "id": "14d57da9-ca77-4333-ba41-8236efa46467",
   "metadata": {},
   "source": [
    "# Method: LSTM\n",
    "# Dataset: Lorenz-96, F = 8\n",
    "# Purpose: Uncertainty Quantification - Mean Variance Estimation"
   ]
  },
  {
   "cell_type": "markdown",
   "id": "9711fa4f-7843-43d5-a047-14c762fd2e5f",
   "metadata": {},
   "source": [
    "# 1. Set-up"
   ]
  },
  {
   "cell_type": "code",
   "execution_count": 38,
   "id": "c9f852d7-2ea3-49a4-8bd5-a85ba731f802",
   "metadata": {},
   "outputs": [],
   "source": [
    "# GPU\n",
    "import os\n",
    "os.environ[\"CUDA_VISIBLE_DEVICES\"] = \"3\"\n",
    "\n",
    "# Package\n",
    "import sys\n",
    "sys.path.append(\"../..\")"
   ]
  },
  {
   "cell_type": "code",
   "execution_count": 39,
   "id": "1ee758f3-121d-4ca7-a44e-f00db4631d50",
   "metadata": {},
   "outputs": [],
   "source": [
    "from create_data import load_data\n",
    "from utils import * # Number of testing samples\n",
    "import numpy as np\n",
    "import matplotlib.pyplot as plt\n",
    "from time import time\n",
    "from functools import partial\n",
    "\n",
    "import jax\n",
    "import jax.numpy as jnp\n",
    "from jax.nn.initializers import glorot_normal, normal\n",
    "from jax.example_libraries import optimizers"
   ]
  },
  {
   "cell_type": "code",
   "execution_count": 40,
   "id": "ee80a55c-5e5d-4120-8c56-8be07285e9fe",
   "metadata": {},
   "outputs": [],
   "source": [
    "train, test = load_data(\"Lorenz 96, F = 8\", \"../../data/lorenz8\", 0.5)"
   ]
  },
  {
   "cell_type": "code",
   "execution_count": 41,
   "id": "e30a3f5f-c622-4e95-ae1c-dd652be02b5e",
   "metadata": {},
   "outputs": [
    {
     "name": "stdout",
     "output_type": "stream",
     "text": [
      "Train size: (90000, 40)\n",
      "Test size: (90000, 40)\n"
     ]
    }
   ],
   "source": [
    "print(f\"Train size: {train.data.shape}\")\n",
    "print(f\"Test size: {test.data.shape}\")"
   ]
  },
  {
   "cell_type": "markdown",
   "id": "8288061f-20ca-4fe6-840e-6ee8cd8064b1",
   "metadata": {},
   "source": [
    "**Create test set**"
   ]
  },
  {
   "cell_type": "code",
   "execution_count": 42,
   "id": "9c868d5f-50c3-48a5-8762-e0de61468e5f",
   "metadata": {},
   "outputs": [],
   "source": [
    "L_forecast_test = 400   # steps to forecast forward (when testing)"
   ]
  },
  {
   "cell_type": "code",
   "execution_count": 43,
   "id": "5a2ec67a-c0aa-45b0-b059-cb9a1dceb438",
   "metadata": {},
   "outputs": [],
   "source": [
    "np.random.seed(1)\n",
    "\n",
    "data_test = test.data\n",
    "\n",
    "T_test, data_dim = data_test.shape\n",
    "possible_idx = T_test - (L_forecast_test + 1) # minus number of steps forward, and the warm-up period\n",
    "T_indices = np.random.randint(0, possible_idx, size = NUM_TEST)\n",
    "\n",
    "t_past_batch = np.repeat(T_indices[:, None], WARM_UP_TEST, axis = 1).astype(int) # 200 warmup \n",
    "t_pred_batch = (T_indices[:, None] + np.arange(1, 1 + L_forecast_test)[None, :].astype(int))\n",
    "\n",
    "X_test = data_test[t_past_batch]\n",
    "y_test = data_test[t_pred_batch]"
   ]
  },
  {
   "cell_type": "code",
   "execution_count": 44,
   "id": "7e57b737-d4d5-41f0-9077-071567f3758f",
   "metadata": {},
   "outputs": [
    {
     "name": "stdout",
     "output_type": "stream",
     "text": [
      "Test input size: (100, 2000, 40)\n",
      "Test output size: (100, 400, 40)\n"
     ]
    }
   ],
   "source": [
    "print(f\"Test input size: {X_test.shape}\")  # Number of test points x input length x dim\n",
    "print(f\"Test output size: {y_test.shape}\") # Number of test points x horizon x dim"
   ]
  },
  {
   "cell_type": "markdown",
   "id": "bb0bd417-72d0-4d90-8b16-30945dd0ee20",
   "metadata": {},
   "source": [
    "# 2. LSTM Implementation"
   ]
  },
  {
   "cell_type": "code",
   "execution_count": 45,
   "id": "bf9258f6-5dd2-4ddf-ab11-8f9f274ffb4a",
   "metadata": {},
   "outputs": [],
   "source": [
    "def LSTM(h_dim, data_dim, W_init = glorot_normal(), b_init = normal()):\n",
    "    \"\"\"\n",
    "    args:\n",
    "    ====\n",
    "     h_dim: dimension of the internal state\n",
    "     data_dim: dimensionity of the time series\n",
    "\n",
    "    outputs:\n",
    "    ======\n",
    "     init_fun: function to initialize the parameters\n",
    "     process: function to process a time-series and compute the final prediction and final internal state\n",
    "     forecast: function that, given a pair (internal-state, input), computes the next T predictions\n",
    "    \"\"\"\n",
    "    \n",
    "    def init_fun(rng):\n",
    "        \"\"\"\n",
    "        This function initialize the weights of the RNN\n",
    "        \n",
    "        args:\n",
    "        ====\n",
    "         rng: jax RNG\n",
    "         \n",
    "        outputs:\n",
    "        ======\n",
    "         params: a tuple of parameters\n",
    "        \"\"\"\n",
    "        \n",
    "        # Forget Layer\n",
    "        k1, k2, k3 = jax.random.split(rng, num = 3)\n",
    "        fU = W_init(k1, (h_dim, data_dim))\n",
    "        fW = W_init(k2, (h_dim, h_dim)) \n",
    "        fb = b_init(k3, (h_dim,))\n",
    "        \n",
    "        # Input Layer\n",
    "        k1, k2, k3 = jax.random.split(rng, num = 3)\n",
    "        iU = W_init(k1, (h_dim, data_dim))\n",
    "        iW = W_init(k2, (h_dim, h_dim))\n",
    "        ib = b_init(k3, (h_dim,))\n",
    "        \n",
    "        # Candidate layer\n",
    "        k1, k2, k3 = jax.random.split(rng, num = 3)\n",
    "        gU = W_init(k1, (h_dim, data_dim))\n",
    "        gW = W_init(k2, (h_dim, h_dim))\n",
    "        gb = b_init(k3, (h_dim,))\n",
    "        \n",
    "        # Output layer\n",
    "        k1, k2, k3 = jax.random.split(rng, num = 3)\n",
    "        oU = W_init(k1, (h_dim, data_dim))\n",
    "        oW = W_init(k2, (h_dim, h_dim))\n",
    "        ob = b_init(k3, (h_dim,))\n",
    "        \n",
    "        # Dense layer (hidden -> y)\n",
    "        k1, k2, k3, k4 = jax.random.split(rng, num = 4)\n",
    "        dO = W_init(k1, (data_dim, h_dim)) # weight matrix for mean\n",
    "        db = b_init(k2, (data_dim,)) # bias for mean\n",
    "        dV = W_init(k2, (1, h_dim))  # weight matrix for variance\n",
    "        db2 = b_init(k3, (1,))       # bias for variance\n",
    "                \n",
    "        params = fU, fW, fb, iU, iW, ib, gU, gW, gb, oU, oW, ob, dO, db, dV, db2\n",
    "        return params\n",
    "    \n",
    "    def process(params, time_series):\n",
    "        \"\"\"\n",
    "        This function takes a time-series in input, pass it through the RNN, \n",
    "        and finally outputs the last prediction and internal state\n",
    "        \n",
    "        args:\n",
    "        ====\n",
    "         params: tuple of parameters\n",
    "         time_series: data of dimension (T, dim_data)\n",
    "         \n",
    "        outputs:\n",
    "        =======\n",
    "         c_final: jax vector of dimension nn_size\n",
    "         h_final: jax vector of dimension nn_size\n",
    "         pred_traj[-1]: last prediction\n",
    "        \"\"\"\n",
    "        \n",
    "        fU, fW, fb, iU, iW, ib, gU, gW, gb, oU, oW, ob, dO, db, dV, db2 = params \n",
    "        \n",
    "        c_zero = np.zeros((h_dim, ))\n",
    "        h_zero = np.zeros((h_dim, ))\n",
    "        \n",
    "        # forward pass\n",
    "        def process_internal(start, x):\n",
    "            c, h = start\n",
    "            \n",
    "            forget_gate = sigmoid(jnp.dot(fU, x) + jnp.dot(fW, h) + fb)\n",
    "            input_gate = sigmoid(jnp.dot(iU, x) + jnp.dot(iW, h) + ib)\n",
    "            cand_gate = jnp.tanh(jnp.dot(gU, x) + jnp.dot(gW, h) + gb)\n",
    "            c_new = forget_gate * c + input_gate * cand_gate\n",
    "            output_gate = sigmoid(jnp.dot(oU, x) + jnp.dot(oW, h) + ob)\n",
    "            h_new = jnp.tanh(c_new) * output_gate\n",
    "            y = x + dO @ h_new + db\n",
    "            y2 = dV @ h_new + db2\n",
    "            \n",
    "            return (c_new, h_new), (y, y2)\n",
    "        (c_final, h_final), (pred_traj, sigma) = jax.lax.scan(process_internal, (c_zero, h_zero), time_series)\n",
    "        return (c_final, h_final), (pred_traj[-1], sigma[-1])\n",
    "    \n",
    "    \n",
    "    def forecast(params, internal_states, x_input, horizon):\n",
    "        \"\"\"\n",
    "        This function takes in an internal state and a first input and produces \n",
    "        prediction over a finite horizon.\n",
    "        \n",
    "        args:\n",
    "        ====\n",
    "         params: tuple of parameters\n",
    "         internal_states = (c_internal, h_internal): internal state values of c and h\n",
    "         x_input: jax vector of dimension dim_data\n",
    "         horizon: horizon of the prediction\n",
    "         \n",
    "        outputs:\n",
    "        =======\n",
    "         preds: a trajectory of prediction of dimension (horison, dim_data) \n",
    "        \"\"\"\n",
    "        c_internal, h_internal = internal_states\n",
    "        # extract parameters\n",
    "        fU, fW, fb, iU, iW, ib, gU, gW, gb, oU, oW, ob, dO, db, dV, db2 = params \n",
    "        \n",
    "        # forward pass\n",
    "        def forecast_internal(triple_c_h_x, _ ):\n",
    "            cell, hidden, x = triple_c_h_x\n",
    "            \n",
    "            forget_gate = sigmoid(jnp.dot(fU, x) + jnp.dot(fW, hidden) + fb)\n",
    "            input_gate = sigmoid(jnp.dot(iU, x) + jnp.dot(iW, hidden) + ib)\n",
    "            cand_gate = jnp.tanh(jnp.dot(gU, x) + jnp.dot(gW, hidden) + gb)\n",
    "            c_new = forget_gate * cell + input_gate * cand_gate\n",
    "            output_gate = sigmoid(jnp.dot(oU, x) + jnp.dot(oW, hidden) + ob)\n",
    "            h_new = jnp.tanh(c_new) * output_gate\n",
    "            y = x + dO @ h_new + db\n",
    "            y2 = dV @ h_new + db2\n",
    "            \n",
    "            return (c_new, h_new, y), (y, y2)\n",
    "        \n",
    "        _, (pred_traj, sigma) = jax.lax.scan(forecast_internal, (c_internal, h_internal, x_input), None, length=horizon)\n",
    "        \n",
    "        # return the trajectory of predictions\n",
    "        return pred_traj, sigma\n",
    "    \n",
    "    return init_fun, process, forecast"
   ]
  },
  {
   "cell_type": "code",
   "execution_count": 46,
   "id": "8e38aeb0-0445-45f9-9a44-36b0e096cebe",
   "metadata": {},
   "outputs": [],
   "source": [
    "def get_parameters(nn_size, seed, batch_size, L_past, L_forecast_train, \n",
    "                   num_epoch, lr_schedule, early_stopping = EARLY_STOPPING, \n",
    "                  early_stopping_baseline = 100000.):\n",
    "    assert len(num_epoch) == len(lr_schedule)\n",
    "    def training(x, y, init_params):\n",
    "        @jax.jit\n",
    "        def step(i, opt_state, x_batch, y_batch):\n",
    "            params = get_params(opt_state)\n",
    "            value, g = jax.value_and_grad(neg_log_LH)(params, x_batch, y_batch)\n",
    "            opt_state = opt_update(i, g, opt_state)\n",
    "            return get_params(opt_state), opt_state, value\n",
    "        \n",
    "        @partial(jax.jit, static_argnums=2)\n",
    "        def make_forecast(params, x_batch, horizon):\n",
    "            # pass the data through the RNN. \n",
    "            # note that \"preds\" is the first forecasts\n",
    "            hs, (preds, sigma) = process_batch(params, x_batch)\n",
    "            # compute the (L_forecast-1) next forecasts\n",
    "            y_pred, sigma_pred = forecast_batch(params, hs, preds, horizon-1)\n",
    "            #stick all the forecasts together\n",
    "            y_pred = jnp.concatenate([preds[:, None,:], y_pred], axis=1)\n",
    "            sigma_pred = jnp.concatenate([sigma[:, None,:], sigma_pred], axis=1)\n",
    "\n",
    "            return y_pred, sigma_pred\n",
    "\n",
    "        @jax.jit\n",
    "        def neg_log_LH(params, x_batch, y_truth):\n",
    "            \"\"\"\n",
    "            For each time-series in a batch, forecasts over a finite horizon \n",
    "            and compute the negative log likelihood.\n",
    "\n",
    "            args:\n",
    "            ====\n",
    "             params: neural parameters\n",
    "             x_batch: a batch of inputs with dimension (batch_size, T_past, dim_data)\n",
    "             y_truth: a batch of values to forecasts with dimension (batch_size, T_future, dim_data)\n",
    "\n",
    "            outputs:\n",
    "            =======\n",
    "             neg log LH: negative log-likelihood of forecasts given inputs\n",
    "            \"\"\"\n",
    "\n",
    "            # horizon of the forecast\n",
    "            L_forecast = y_truth.shape[1]    \n",
    "            y_pred, sigma_pred = make_forecast(params, x_batch, L_forecast)\n",
    "\n",
    "            d = data_dim\n",
    "\n",
    "            #compute MSE\n",
    "            error = y_pred - y_truth\n",
    "            mu_loss = jnp.mean(error**2)\n",
    "\n",
    "            constant = d * jnp.log(2 * jnp.pi)\n",
    "            log_sigma = sigma_pred.mean()\n",
    "            sigma = jnp.exp(log_sigma)\n",
    "            sigma_loss = d * log_sigma\n",
    "\n",
    "            return 0.5 * (constant + sigma_loss + (mu_loss / sigma**2))\n",
    "        \n",
    "        start = time()\n",
    "                \n",
    "        loss_train_traj = []\n",
    "        loss_train_all_traj = []\n",
    "        \n",
    "        overall_best_params = init_params\n",
    "        overall_best_mse = 999999999\n",
    "        \n",
    "        # train/val split\n",
    "        t_size = int(0.9 * train_size)\n",
    "        v_size = train_size - t_size\n",
    "        T_indices_val = np.arange(t_size, train_size - (L_forecast_test//2 + L_past))\n",
    "        t_start_val = T_indices_val[::10]\n",
    "        t_past_batch_val = (t_start_val[:,None] + np.arange(L_past)[None,:]).astype(int) \n",
    "        t_pred_batch_val = (t_start_val[:,None] + np.arange(L_past,L_past+L_forecast_test//2)[None,:]).astype(int) \n",
    "        x_val = x[t_past_batch_val]\n",
    "        y_val = y[t_pred_batch_val]\n",
    "        \n",
    "        \n",
    "        print(\"Backpropogation start\", end = \"\\n\\n\")\n",
    "        for i, lr in enumerate(lr_schedule):\n",
    "            opt_init, opt_update, get_params = optimizers.adam(step_size = lr) \n",
    "            opt_state = opt_init(overall_best_params)\n",
    "            counter = 0\n",
    "            best_mse = 999999999\n",
    "            \n",
    "            for epoch in range(num_epoch[i]):\n",
    "                e_start = time()\n",
    "                \n",
    "                # randomize the order of the training data\n",
    "                T_indices = np.arange(t_size - (L_forecast_train + L_past))\n",
    "                np.random.shuffle(T_indices)\n",
    "                \n",
    "                # training\n",
    "                loss_epoch_train = []\n",
    "                \n",
    "                for k in range(t_size // batch_size + 1):\n",
    "                    # create a batch of data\n",
    "                    t_start = T_indices[np.arange(k*batch_size, (k+1)*batch_size).astype(int) % len(T_indices)] # start of each time series in the batch\n",
    "                    # create 2d array of dimension (batch_size, L_past) containing all the time indices\n",
    "                    t_past_batch = (t_start[:,None] + np.arange(L_past)[None,:]).astype(int) # transposes data\n",
    "                    t_pred_batch = (t_start[:,None] + np.arange(L_past,L_past+L_forecast_train)[None,:]).astype(int) \n",
    "\n",
    "                    #create batch of dimension (batch_size, L_past, data_dim)\n",
    "                    x_batch = x[t_past_batch]  \n",
    "                    y_batch = y[t_pred_batch]\n",
    "\n",
    "                    params, opt_state, loss_current = step(k, opt_state, x_batch, y_batch) # update\n",
    "                    loss_epoch_train.append(loss_current)\n",
    "                \n",
    "                mse_train = np.mean(loss_epoch_train) # -ve log LH loss\n",
    "                \n",
    "                # validation             \n",
    "                mse_val = neg_log_LH(params, x_val, y_val) # -ve log LH loss\n",
    "                \n",
    "                if  best_mse > mse_val: # Improvement\n",
    "                    counter = 0\n",
    "                    best_mse = mse_val\n",
    "                    best_params = params\n",
    "                else:\n",
    "                    counter += 1\n",
    "                \n",
    "                e_end = time()\n",
    "                if (epoch + 1) % 10 == 0 or (counter == 0 and epoch >= 50):\n",
    "                    print(f\"Epoch {epoch + 1}: Time taken = {e_end - e_start:.2f} | Train loss = {mse_train:.7f} | Val loss = {mse_val: .7f}\")\n",
    "                \n",
    "                if best_mse < early_stopping_baseline and counter >= early_stopping:\n",
    "                    print(f\"EARLY STOPPING. Epoch {epoch + 1}: Train loss = {mse_train:.7f} | Val loss = {mse_val: .7f}\")\n",
    "                    break\n",
    "            print(f\"Best Validation Loss: {best_mse:.7f}\")\n",
    "            \n",
    "            if best_mse < overall_best_mse: # Best round so far\n",
    "                print(\"IMPROVED VALIDATION LOSS\")\n",
    "                overall_best_mse = best_mse\n",
    "                overall_best_params = best_params\n",
    "            print()\n",
    "        \n",
    "        end = time()\n",
    "        print(f\"Total time: {end - start:.2f}\")\n",
    "        \n",
    "        return overall_best_params\n",
    "\n",
    "    start = time()\n",
    "    x, y = train.data[:-1], train.data[1:]\n",
    "    train_size, data_dim = x.data.shape\n",
    "    \n",
    "    np.random.seed(seed)\n",
    "    key = jax.random.PRNGKey(seed)\n",
    "    \n",
    "    # Initialize LSTM\n",
    "    init_fun, process, forecast = LSTM(nn_size, data_dim)       # LSTM Network\n",
    "    process_batch = jax.jit(jax.vmap(process, in_axes=(None,0)))\n",
    "    forecast_batch = jax.jit(jax.vmap(forecast, in_axes=(None,0,0,None)), static_argnums=3)\n",
    "    init_params = init_fun(key)\n",
    "    \n",
    "    final_params = training(x, y, init_params)\n",
    "    end = time()\n",
    "    print(f\"Complete. Time taken: {end - start:.2f}s\")\n",
    "    \n",
    "    return final_params, (process_batch, forecast_batch)"
   ]
  },
  {
   "cell_type": "code",
   "execution_count": 47,
   "id": "2863ad98-35c2-435c-bcea-86318c9152df",
   "metadata": {},
   "outputs": [],
   "source": [
    "def get_test_pred(data_test, params, lstm_fx):  \n",
    "    @partial(jax.jit, static_argnums=2)\n",
    "    def make_forecast(params, x_batch, horizon):\n",
    "        pbatch, fbatch = lstm_fx\n",
    "        # pass the data through the RNN. \n",
    "        # note that \"preds\" is the first forecasts\n",
    "        hs, (preds, sigma) = pbatch(params, x_batch)\n",
    "        # compute the (L_forecast-1) next forecasts\n",
    "        y_pred, sigma_pred = fbatch(params, hs, preds, horizon-1)\n",
    "        #stick all the forecasts together\n",
    "        y_pred = jnp.concatenate([preds[:, None,:], y_pred], axis=1)\n",
    "        sigma_pred = jnp.concatenate([sigma[:, None,:], sigma_pred], axis=1)\n",
    "\n",
    "        return y_pred, sigma_pred\n",
    "\n",
    "    @jax.jit\n",
    "    def loss(params, x_batch, y_truth):\n",
    "        \"\"\"\n",
    "        For each time-series in a batch, forecasts over a finite horizon \n",
    "        and compute the MSE.\n",
    "\n",
    "        args:\n",
    "        ====\n",
    "         params: neural parameters\n",
    "         x_batch: a batch of inputs with dimension (batch_size, T_past, dim_data)\n",
    "         y_truth: a batch of values to forecasts with dimension (batch_size, T_future, dim_data)\n",
    "\n",
    "        outputs:\n",
    "        =======\n",
    "         neg log LH: negative log-likelihood of forecasts given inputs\n",
    "\n",
    "        \"\"\"\n",
    "\n",
    "        # horizon of the forecast\n",
    "        L_forecast = y_truth.shape[1]    \n",
    "        y_pred, sigma_pred = make_forecast(params, x_batch, L_forecast)\n",
    "\n",
    "        #compute loss\n",
    "        error = y_pred - y_truth\n",
    "        mu_loss = jnp.mean(error**2)\n",
    "\n",
    "        constant = d * jnp.log(2 * jnp.pi)\n",
    "        log_sigma = sigma_pred.mean()\n",
    "        sigma = jnp.exp(log_sigma)\n",
    "        sigma_loss = d * log_sigma\n",
    "\n",
    "        return 0.5 * (constant + sigma_loss + (mu_loss / sigma**2))\n",
    "    \n",
    "    start = time()\n",
    "    num_data_test, L_past, data_dim = data_test.shape # testing ex, # steps used before, dim of data\n",
    "    mu_pred, log_sigma_pred = make_forecast(params, data_test, L_forecast_test)\n",
    "    sigma_pred = jnp.exp(log_sigma_pred)\n",
    "    end = time()\n",
    "    print(f\"Testing complete. Time taken: {end - start:.2f}\")\n",
    "    return np.array(mu_pred), np.array(sigma_pred)[:,:,0]"
   ]
  },
  {
   "cell_type": "code",
   "execution_count": 48,
   "id": "a877735c-a1c4-47e8-a182-e03bc468fe5d",
   "metadata": {},
   "outputs": [],
   "source": [
    "def neg_log_LH(mean_pred, sd_pred):\n",
    "    d = data_dim\n",
    "    \n",
    "    constant_loss = d * np.log(2 * np.pi)\n",
    "    mu_loss = (mean_pred - y_test)**2\n",
    "    if len(sd_pred.shape) == 2:\n",
    "        sd_expanded = np.moveaxis(np.tile(sd_pred, (d, 1, 1)), 0, 2)# Repeat sd for each of the 40 dimensions \n",
    "    elif len(sd_pred.shape) == 3:\n",
    "        sd_expanded = sd_pred\n",
    "    else:\n",
    "        raise Exception(\"Invalid sd_pred dimension\")\n",
    "    \n",
    "    return 0.5 * (constant_loss + d * np.log(sd_expanded) + (mu_loss / sd_expanded**2)).mean(axis = (0, 2))"
   ]
  },
  {
   "cell_type": "markdown",
   "id": "ffce42df-dfac-4615-b07e-4446a271acf9",
   "metadata": {},
   "source": [
    "# 3. Best Parameters"
   ]
  },
  {
   "cell_type": "code",
   "execution_count": 49,
   "id": "6fcf92b1-c8cb-4996-939f-882d454fb811",
   "metadata": {},
   "outputs": [],
   "source": [
    "nn_size = 1000\n",
    "L_forecast_train = 8\n",
    "L_past = 1\n",
    "\n",
    "b_size = 128 # Batch size\n",
    "lr_list = [1e-3, 1e-4, 1e-5, 1e-6] # Learning rate schedule\n",
    "epoch_list = [400, 200, 200, 200]  # Number of epochs for each learning rate\n",
    "\n",
    "seed = 42"
   ]
  },
  {
   "cell_type": "markdown",
   "id": "c2906008-69d3-49a0-a6b9-ab439e5dcef9",
   "metadata": {},
   "source": [
    "# 4. Mean Variance Estimation (Naive)"
   ]
  },
  {
   "cell_type": "markdown",
   "id": "ca852954-1abf-4f78-83b0-99004f004ee7",
   "metadata": {},
   "source": [
    "## 4.1 Training"
   ]
  },
  {
   "cell_type": "code",
   "execution_count": 50,
   "id": "e889a637-c08a-4c93-89a7-9e47d06cd87b",
   "metadata": {},
   "outputs": [
    {
     "name": "stdout",
     "output_type": "stream",
     "text": [
      "Backpropogation start\n",
      "\n",
      "Epoch 10: Time taken = 6.01 | Train loss = -72.3830948 | Val loss =  41067.2734375\n",
      "Epoch 20: Time taken = 6.01 | Train loss = -79.4155960 | Val loss =  62726.2500000\n",
      "Epoch 30: Time taken = 6.03 | Train loss = -81.9618759 | Val loss =  39850.1289062\n",
      "EARLY STOPPING. Epoch 31: Train loss = -82.2095947 | Val loss =  56662.2382812\n",
      "Best Validation Loss: 14092.2744141\n",
      "IMPROVED VALIDATION LOSS\n",
      "\n",
      "Epoch 10: Time taken = 6.01 | Train loss = -74.0416260 | Val loss =  66402.1093750\n",
      "Epoch 20: Time taken = 6.02 | Train loss = -79.7185669 | Val loss =  34346.0351562\n",
      "Epoch 30: Time taken = 6.02 | Train loss = -82.9170609 | Val loss =  33308.1875000\n",
      "EARLY STOPPING. Epoch 31: Train loss = -82.9107895 | Val loss =  40300.7617188\n",
      "Best Validation Loss: 20915.3515625\n",
      "\n",
      "Epoch 10: Time taken = 6.02 | Train loss = -74.1512756 | Val loss =  68124.9531250\n",
      "Epoch 20: Time taken = 6.01 | Train loss = -79.1663589 | Val loss =  29461.5761719\n",
      "Epoch 30: Time taken = 6.01 | Train loss = -82.6613998 | Val loss =  34160.3359375\n",
      "Epoch 40: Time taken = 6.01 | Train loss = -84.7051239 | Val loss =  72688.6250000\n",
      "Epoch 50: Time taken = 6.02 | Train loss = -86.9865723 | Val loss =  42983.1015625\n",
      "Epoch 60: Time taken = 6.03 | Train loss = -87.8670578 | Val loss =  30881.9726562\n",
      "EARLY STOPPING. Epoch 68: Train loss = -88.7070465 | Val loss =  49782.6171875\n",
      "Best Validation Loss: 22406.1269531\n",
      "\n",
      "Epoch 10: Time taken = 6.03 | Train loss = -73.5493698 | Val loss =  71883.3906250\n",
      "Epoch 20: Time taken = 6.02 | Train loss = -79.6864014 | Val loss =  67293.7343750\n",
      "Epoch 30: Time taken = 6.02 | Train loss = -82.3947220 | Val loss =  49048.2421875\n",
      "Epoch 40: Time taken = 6.03 | Train loss = -84.6551361 | Val loss =  33265.9531250\n",
      "EARLY STOPPING. Epoch 48: Train loss = -86.6067734 | Val loss =  45648.9296875\n",
      "Best Validation Loss: 7213.0458984\n",
      "IMPROVED VALIDATION LOSS\n",
      "\n",
      "Total time: 1074.52\n",
      "Complete. Time taken: 1074.57s\n"
     ]
    }
   ],
   "source": [
    "params, lstm_fx = get_parameters(nn_size = nn_size, seed = seed, batch_size = b_size, L_past = L_past, \n",
    "                                 L_forecast_train = L_forecast_train, num_epoch = epoch_list, lr_schedule = lr_list)"
   ]
  },
  {
   "cell_type": "code",
   "execution_count": 51,
   "id": "4f3e6405-3edf-440b-b606-a20c57b5154e",
   "metadata": {},
   "outputs": [],
   "source": [
    "save_obj(params, \"results/mve\", \"params.pkl\")"
   ]
  },
  {
   "cell_type": "markdown",
   "id": "6218936b-af36-4fb3-b989-d0045a3a1e01",
   "metadata": {},
   "source": [
    "## RELOAD DATA"
   ]
  },
  {
   "cell_type": "code",
   "execution_count": 52,
   "id": "91e0ff8d-bdc4-4ac8-be8f-5005cda56a5b",
   "metadata": {},
   "outputs": [],
   "source": [
    "# IF NEED TO RELOAD DATA\n",
    "_, process, forecast = LSTM(nn_size, data_dim)       # LSTM Network\n",
    "process_batch = jax.jit(jax.vmap(process, in_axes=(None,0)))\n",
    "forecast_batch = jax.jit(jax.vmap(forecast, in_axes=(None,0,0,None)), static_argnums=3)\n",
    "lstm_fx = (process_batch, forecast_batch)\n",
    "\n",
    "params = load_obj(\"results/mve/params.pkl\")"
   ]
  },
  {
   "cell_type": "code",
   "execution_count": 53,
   "id": "17bb7363-b0c6-4c6f-8b86-6aefc925c379",
   "metadata": {},
   "outputs": [
    {
     "name": "stdout",
     "output_type": "stream",
     "text": [
      "Testing complete. Time taken: 1.45\n"
     ]
    }
   ],
   "source": [
    "mean_pred, sd_pred = get_test_pred(X_test, params, lstm_fx)"
   ]
  },
  {
   "cell_type": "markdown",
   "id": "9ffc26d1-df5c-47a5-a326-955f36332a32",
   "metadata": {},
   "source": [
    "## 4.2 MSE"
   ]
  },
  {
   "cell_type": "code",
   "execution_count": 54,
   "id": "ee7b1f2e-d789-4bc1-8e01-4e37ab89eb05",
   "metadata": {},
   "outputs": [
    {
     "data": {
      "image/png": "[encoded data removed]",
      "text/plain": [
       "<Figure size 432x288 with 1 Axes>"
      ]
     },
     "metadata": {
      "needs_background": "light"
     },
     "output_type": "display_data"
    },
    {
     "name": "stdout",
     "output_type": "stream",
     "text": [
      "It takes around 1.00 Lyapunov Time for mean error to exceed 0.5\n",
      "\n",
      "Median NRMSE at 0.5 Lyapunov Time: 0.213\n",
      "Median NRMSE at 1.0 Lyapunov Time: 0.500\n",
      "Median NRMSE at 2.0 Lyapunov Time: 1.004\n",
      "Median NRMSE at 5.0 Lyapunov Time: 1.418\n"
     ]
    }
   ],
   "source": [
    "res_single = PointExperimentResultLyapunov(mean_pred - y_test, \"lorenz\")\n",
    "res_single.plot_rmse(save_name = \"LSTM MVE_Naive Horizon\")\n",
    "print()\n",
    "res_single.get_loss()"
   ]
  },
  {
   "cell_type": "markdown",
   "id": "aecc8102-4be0-4414-9ec4-b53fc3a23190",
   "metadata": {},
   "source": [
    "## 4.3 Variance"
   ]
  },
  {
   "cell_type": "code",
   "execution_count": 55,
   "id": "486be9b8-dc1c-4446-9c74-469a820bed2c",
   "metadata": {},
   "outputs": [],
   "source": [
    "idx = 0"
   ]
  },
  {
   "cell_type": "code",
   "execution_count": 56,
   "id": "e6b34298-2390-4175-bd42-2ae27f198265",
   "metadata": {},
   "outputs": [
    {
     "data": {
      "image/png": "[encoded data removed]",
      "text/plain": [
       "<Figure size 432x288 with 1 Axes>"
      ]
     },
     "metadata": {
      "needs_background": "light"
     },
     "output_type": "display_data"
    }
   ],
   "source": [
    "plt.plot(np.arange(L_forecast_test) / LORENZ_LT * 0.01, sd_pred[idx])\n",
    "plt.grid(\"on\")\n",
    "plt.xlabel(\"Lyapunov Time\")\n",
    "plt.ylabel(\"Variance\")\n",
    "plt.savefig(\"LSTM MVE_Naive Variance.png\", facecolor = \"white\", bbox_inches = \"tight\")\n",
    "plt.show()"
   ]
  },
  {
   "cell_type": "markdown",
   "id": "fdb97673-759d-4378-ae79-2cb457fe5605",
   "metadata": {},
   "source": [
    "## 4.4 Negative Log LH"
   ]
  },
  {
   "cell_type": "code",
   "execution_count": 57,
   "id": "ac2ef7ba-37fd-4e7d-984e-a2d0c537f70e",
   "metadata": {},
   "outputs": [
    {
     "data": {
      "image/png": "[encoded data removed]",
      "text/plain": [
       "<Figure size 432x288 with 1 Axes>"
      ]
     },
     "metadata": {
      "needs_background": "light"
     },
     "output_type": "display_data"
    }
   ],
   "source": [
    "plt.plot(np.arange(L_forecast_test) / LORENZ_LT * 0.01, neg_log_LH(mean_pred, sd_pred))\n",
    "plt.xlabel(\"Lyapunov Time\")\n",
    "plt.ylabel(\"Negative Log LH\")\n",
    "plt.grid(\"on\")\n",
    "plt.savefig(\"LSTM MVE_Naive NLL.png\", facecolor = \"white\", bbox_inches = \"tight\")\n",
    "plt.show()"
   ]
  },
  {
   "cell_type": "code",
   "execution_count": 58,
   "id": "872f3618-0898-42fb-9454-3586cb5aa774",
   "metadata": {},
   "outputs": [
    {
     "name": "stdout",
     "output_type": "stream",
     "text": [
      "Mean negative log LH: 12825.69760\n"
     ]
    }
   ],
   "source": [
    "print(f\"Mean negative log LH: {neg_log_LH(mean_pred, sd_pred).mean():.5f}\")"
   ]
  },
  {
   "cell_type": "markdown",
   "id": "7d2c9e88-8e6c-4231-a698-4fcb28e867c0",
   "metadata": {},
   "source": [
    "# 5. Mean Variance Estimation (Sampling trajectories)"
   ]
  },
  {
   "cell_type": "code",
   "execution_count": 59,
   "id": "948daca3-15b4-4e15-96ec-5a91efa50fbc",
   "metadata": {},
   "outputs": [],
   "source": [
    "def get_test_pred_sampled(data_test, params, lstm_fx, seed):\n",
    "    np.random.seed(seed)\n",
    "    \n",
    "    @partial(jax.jit, static_argnums=3)\n",
    "    def make_forecast(params, hs, x_batch, horizon, first_sample):\n",
    "        # compute the (L_forecast-1) next forecasts\n",
    "        y_pred, sigma_pred = fbatch(params, hs, x_batch, horizon - 1)\n",
    "        #stick all the forecasts together\n",
    "        y_pred = jnp.concatenate([first_sample[:, None,:], y_pred], axis=1)\n",
    "        sigma_pred = jnp.concatenate([first_log_sigma[:, None,:], sigma_pred], axis=1)\n",
    "\n",
    "        return y_pred, sigma_pred\n",
    "\n",
    "    pbatch, fbatch = lstm_fx\n",
    "    \n",
    "    # GET INITIAL STEP\n",
    "    hs, (first_pred, first_log_sigma) = pbatch(params, data_test)\n",
    "    first_sigma = jnp.exp(first_log_sigma)\n",
    "    \n",
    "    all_traj_mean = []\n",
    "    all_traj_sd = []\n",
    "    for _ in range(N_TRAJ_MVE):\n",
    "        first_sample = np.random.normal(first_pred, first_sigma)\n",
    "        \n",
    "        mean_traj, sigma_traj = make_forecast(params, hs, first_sample, L_forecast_test, first_sample)\n",
    "        all_traj_mean.append(mean_traj)\n",
    "        all_traj_sd.append(sigma_traj)\n",
    "    return np.array(all_traj_mean), np.exp(all_traj_sd)"
   ]
  },
  {
   "cell_type": "code",
   "execution_count": 60,
   "id": "041e9dbe-ff47-4020-8d97-5d2fc2090ee3",
   "metadata": {},
   "outputs": [],
   "source": [
    "maa, saa = get_test_pred_sampled(X_test, params, lstm_fx, seed)"
   ]
  },
  {
   "cell_type": "code",
   "execution_count": 61,
   "id": "83955039-ffee-439f-9155-a976d47ae572",
   "metadata": {},
   "outputs": [],
   "source": [
    "mve_s_mean = maa.mean(axis = 0)\n",
    "mve_s_sigma = np.sqrt((saa**2 + maa**2).mean(axis = 0) - mve_s_mean**2)"
   ]
  },
  {
   "cell_type": "markdown",
   "id": "8e962914-9011-48f4-a983-108cb323af4d",
   "metadata": {
    "toc-hr-collapsed": true
   },
   "source": [
    "## 5.1 Variance"
   ]
  },
  {
   "cell_type": "markdown",
   "id": "15dcfe39-8230-4468-b8bd-e85f38eb2f4a",
   "metadata": {},
   "source": [
    "**Visualise for one dataset**"
   ]
  },
  {
   "cell_type": "code",
   "execution_count": 62,
   "id": "4f77f721-b926-4c73-8ef2-b027c1759aed",
   "metadata": {},
   "outputs": [],
   "source": [
    "idx = 0"
   ]
  },
  {
   "cell_type": "code",
   "execution_count": 63,
   "id": "5e90ff7b-4db5-4130-91f0-b09024343287",
   "metadata": {},
   "outputs": [
    {
     "data": {
      "image/png": "[encoded data removed]",
      "text/plain": [
       "<Figure size 432x288 with 1 Axes>"
      ]
     },
     "metadata": {
      "needs_background": "light"
     },
     "output_type": "display_data"
    }
   ],
   "source": [
    "plt.plot(np.arange(L_forecast_test) / LORENZ_LT * 0.01, mve_s_sigma[idx].mean(axis = 1)**2)\n",
    "plt.grid(\"on\")\n",
    "plt.xlabel(\"Lyapunov Time\")\n",
    "plt.ylabel(\"Variance\")\n",
    "plt.savefig(\"LSTM MVE_Sample Variance.png\", facecolor = \"white\", bbox_inches = \"tight\")\n",
    "plt.show()"
   ]
  },
  {
   "cell_type": "markdown",
   "id": "e099703e-383e-497c-9a92-260790ad3ec7",
   "metadata": {},
   "source": [
    "## 5.2 MSE"
   ]
  },
  {
   "cell_type": "code",
   "execution_count": 64,
   "id": "e036d85d-2cc9-4704-99e2-21e414512529",
   "metadata": {},
   "outputs": [
    {
     "data": {
      "image/png": "[encoded data removed]",
      "text/plain": [
       "<Figure size 432x288 with 1 Axes>"
      ]
     },
     "metadata": {
      "needs_background": "light"
     },
     "output_type": "display_data"
    },
    {
     "name": "stdout",
     "output_type": "stream",
     "text": [
      "It takes around 1.02 Lyapunov Time for mean error to exceed 0.5\n",
      "\n",
      "Median NRMSE at 0.5 Lyapunov Time: 0.213\n",
      "Median NRMSE at 1.0 Lyapunov Time: 0.499\n",
      "Median NRMSE at 2.0 Lyapunov Time: 0.992\n",
      "Median NRMSE at 5.0 Lyapunov Time: 1.126\n"
     ]
    }
   ],
   "source": [
    "res_single = PointExperimentResultLyapunov(mve_s_mean - y_test, \"lorenz\")\n",
    "res_single.plot_rmse(save_name = \"LSTM MVE_Sample Horizon\")\n",
    "print()\n",
    "res_single.get_loss()"
   ]
  },
  {
   "cell_type": "markdown",
   "id": "482d21a6-2a42-4af4-9113-cd68343e37eb",
   "metadata": {},
   "source": [
    "## 5.3 Negative Log LH"
   ]
  },
  {
   "cell_type": "code",
   "execution_count": 65,
   "id": "0e86b85c-5585-4973-b573-7608a7cd54cb",
   "metadata": {},
   "outputs": [
    {
     "data": {
      "image/png": "[encoded data removed]",
      "text/plain": [
       "<Figure size 432x288 with 1 Axes>"
      ]
     },
     "metadata": {
      "needs_background": "light"
     },
     "output_type": "display_data"
    }
   ],
   "source": [
    "plt.plot(np.arange(L_forecast_test) / LORENZ_LT * 0.01, neg_log_LH(mve_s_mean, mve_s_sigma))\n",
    "plt.xlabel(\"Lyapunov Time\")\n",
    "plt.ylabel(\"Negative Log LH\")\n",
    "plt.grid(\"on\")\n",
    "plt.axhline(37.5, c = \"red\", ls = \"--\")\n",
    "# plt.savefig(\"LSTM MVE_Sample NLL.png\", facecolor = \"white\", bbox_inches = \"tight\")\n",
    "plt.show()"
   ]
  },
  {
   "cell_type": "code",
   "execution_count": 66,
   "id": "30f326f4-b285-4b85-8a27-da8e0cdb709d",
   "metadata": {},
   "outputs": [
    {
     "data": {
      "text/plain": [
       "0.42622950819672134"
      ]
     },
     "execution_count": 66,
     "metadata": {},
     "output_type": "execute_result"
    }
   ],
   "source": [
    "(np.where( neg_log_LH(mve_s_mean, mve_s_sigma) > 37.3)[0][0]) * 0.01 / LORENZ_LT"
   ]
  },
  {
   "cell_type": "code",
   "execution_count": 67,
   "id": "15452474-97a9-421c-a0a1-75c6a6f5c121",
   "metadata": {},
   "outputs": [
    {
     "name": "stdout",
     "output_type": "stream",
     "text": [
      "Mean negative log LH: 102.81110\n"
     ]
    }
   ],
   "source": [
    "print(f\"Mean negative log LH: {neg_log_LH(mve_s_mean, mve_s_sigma).mean():.5f}\")"
   ]
  }
 ],
 "metadata": {
  "kernelspec": {
   "display_name": "Python 3 (ipykernel)",
   "language": "python",
   "name": "python3"
  },
  "language_info": {
   "codemirror_mode": {
    "name": "ipython",
    "version": 3
   },
   "file_extension": ".py",
   "mimetype": "text/x-python",
   "name": "python",
   "nbconvert_exporter": "python",
   "pygments_lexer": "ipython3",
   "version": "3.8.12"
  }
 },
 "nbformat": 4,
 "nbformat_minor": 5
}
