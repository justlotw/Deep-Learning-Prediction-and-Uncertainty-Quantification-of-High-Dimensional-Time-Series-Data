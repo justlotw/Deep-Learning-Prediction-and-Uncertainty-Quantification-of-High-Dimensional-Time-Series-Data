{
 "cells": [
  {
   "cell_type": "markdown",
   "id": "14d57da9-ca77-4333-ba41-8236efa46467",
   "metadata": {},
   "source": [
    "# Method: LSTM\n",
    "# Dataset: Lorenz-96, F = 8\n",
    "# Purpose: Uncertainty Quantification - Deep Ensemble"
   ]
  },
  {
   "cell_type": "markdown",
   "id": "9711fa4f-7843-43d5-a047-14c762fd2e5f",
   "metadata": {},
   "source": [
    "# 1. Set-up"
   ]
  },
  {
   "cell_type": "code",
   "execution_count": 2,
   "id": "c9f852d7-2ea3-49a4-8bd5-a85ba731f802",
   "metadata": {},
   "outputs": [],
   "source": [
    "# GPU\n",
    "import os\n",
    "os.environ[\"CUDA_VISIBLE_DEVICES\"] = \"0\"\n",
    "\n",
    "# Package\n",
    "import sys\n",
    "sys.path.append(\"../..\")"
   ]
  },
  {
   "cell_type": "code",
   "execution_count": 3,
   "id": "1ee758f3-121d-4ca7-a44e-f00db4631d50",
   "metadata": {},
   "outputs": [],
   "source": [
    "from create_data import load_data\n",
    "from utils import * # Number of testing samples\n",
    "import numpy as np\n",
    "import matplotlib.pyplot as plt\n",
    "from time import time\n",
    "from functools import partial\n",
    "\n",
    "import jax\n",
    "import jax.numpy as jnp\n",
    "from jax.nn.initializers import glorot_normal, normal\n",
    "from jax.example_libraries import optimizers"
   ]
  },
  {
   "cell_type": "code",
   "execution_count": 4,
   "id": "ee80a55c-5e5d-4120-8c56-8be07285e9fe",
   "metadata": {},
   "outputs": [],
   "source": [
    "train, test = load_data(\"Lorenz 96, F = 8\", \"../../data/lorenz8\", 0.5)"
   ]
  },
  {
   "cell_type": "code",
   "execution_count": 5,
   "id": "d4377bfc-3535-44e9-9b73-799483d071a0",
   "metadata": {},
   "outputs": [],
   "source": [
    "np.random.seed(1)\n",
    "train.data = train.data + np.random.normal(0, 1e-1, train.data.shape)"
   ]
  },
  {
   "cell_type": "code",
   "execution_count": 6,
   "id": "e30a3f5f-c622-4e95-ae1c-dd652be02b5e",
   "metadata": {},
   "outputs": [
    {
     "name": "stdout",
     "output_type": "stream",
     "text": [
      "Train size: (90000, 40)\n",
      "Test size: (90000, 40)\n"
     ]
    }
   ],
   "source": [
    "print(f\"Train size: {train.data.shape}\")\n",
    "print(f\"Test size: {test.data.shape}\")"
   ]
  },
  {
   "cell_type": "markdown",
   "id": "8288061f-20ca-4fe6-840e-6ee8cd8064b1",
   "metadata": {},
   "source": [
    "**Create test set**"
   ]
  },
  {
   "cell_type": "code",
   "execution_count": 7,
   "id": "9c868d5f-50c3-48a5-8762-e0de61468e5f",
   "metadata": {},
   "outputs": [],
   "source": [
    "L_forecast_test = 400   # steps to forecast forward (when testing)"
   ]
  },
  {
   "cell_type": "code",
   "execution_count": 8,
   "id": "5a2ec67a-c0aa-45b0-b059-cb9a1dceb438",
   "metadata": {},
   "outputs": [],
   "source": [
    "np.random.seed(1)\n",
    "\n",
    "data_test = test.data\n",
    "\n",
    "T_test, data_dim = data_test.shape\n",
    "possible_idx = T_test - (L_forecast_test + 1) # minus number of steps forward, and the warm-up period\n",
    "T_indices = np.random.randint(0, possible_idx, size = NUM_TEST)\n",
    "\n",
    "t_past_batch = np.repeat(T_indices[:, None], WARM_UP_TEST, axis = 1).astype(int) # 200 warmup \n",
    "t_pred_batch = (T_indices[:, None] + np.arange(1, 1 + L_forecast_test)[None, :].astype(int))\n",
    "\n",
    "X_test = data_test[t_past_batch]\n",
    "y_test = data_test[t_pred_batch]"
   ]
  },
  {
   "cell_type": "code",
   "execution_count": 9,
   "id": "7e57b737-d4d5-41f0-9077-071567f3758f",
   "metadata": {},
   "outputs": [
    {
     "name": "stdout",
     "output_type": "stream",
     "text": [
      "Test input size: (100, 2000, 40)\n",
      "Test output size: (100, 400, 40)\n"
     ]
    }
   ],
   "source": [
    "print(f\"Test input size: {X_test.shape}\")  # Number of test points x input length x dim\n",
    "print(f\"Test output size: {y_test.shape}\") # Number of test points x horizon x dim"
   ]
  },
  {
   "cell_type": "markdown",
   "id": "bb0bd417-72d0-4d90-8b16-30945dd0ee20",
   "metadata": {},
   "source": [
    "# 2. LSTM Implementation"
   ]
  },
  {
   "cell_type": "code",
   "execution_count": 10,
   "id": "bf9258f6-5dd2-4ddf-ab11-8f9f274ffb4a",
   "metadata": {},
   "outputs": [],
   "source": [
    "def LSTM(h_dim, data_dim, W_init = glorot_normal(), b_init = normal()):\n",
    "    \"\"\"\n",
    "    args:\n",
    "    ====\n",
    "     h_dim: dimension of the internal state\n",
    "     data_dim: dimensionity of the time series\n",
    "\n",
    "    outputs:\n",
    "    ======\n",
    "     init_fun: function to initialize the parameters\n",
    "     process: function to process a time-series and compute the final prediction and final internal state\n",
    "     forecast: function that, given a pair (internal-state, input), computes the next T predictions\n",
    "    \"\"\"\n",
    "    \n",
    "    def init_fun(rng):\n",
    "        \"\"\"\n",
    "        This function initialize the weights of the RNN\n",
    "        \n",
    "        args:\n",
    "        ====\n",
    "         rng: jax RNG\n",
    "         \n",
    "        outputs:\n",
    "        ======\n",
    "         params: a tuple of parameters\n",
    "        \"\"\"\n",
    "        \n",
    "        # Forget Layer\n",
    "        k1, k2, k3 = jax.random.split(rng, num = 3)\n",
    "        fU = W_init(k1, (h_dim, data_dim))\n",
    "        fW = W_init(k2, (h_dim, h_dim)) \n",
    "        fb = b_init(k3, (h_dim,))\n",
    "        \n",
    "        # Input Layer\n",
    "        k1, k2, k3 = jax.random.split(rng, num = 3)\n",
    "        iU = W_init(k1, (h_dim, data_dim))\n",
    "        iW = W_init(k2, (h_dim, h_dim))\n",
    "        ib = b_init(k3, (h_dim,))\n",
    "        \n",
    "        # Candidate layer\n",
    "        k1, k2, k3 = jax.random.split(rng, num = 3)\n",
    "        gU = W_init(k1, (h_dim, data_dim))\n",
    "        gW = W_init(k2, (h_dim, h_dim))\n",
    "        gb = b_init(k3, (h_dim,))\n",
    "        \n",
    "        # Output layer\n",
    "        k1, k2, k3 = jax.random.split(rng, num = 3)\n",
    "        oU = W_init(k1, (h_dim, data_dim))\n",
    "        oW = W_init(k2, (h_dim, h_dim))\n",
    "        ob = b_init(k3, (h_dim,))\n",
    "        \n",
    "        # Dense layer (hidden -> y)\n",
    "        k1, k2, k3, k4 = jax.random.split(rng, num = 4)\n",
    "        dO = W_init(k1, (data_dim, h_dim)) # weight matrix for mean\n",
    "        db = b_init(k2, (data_dim,)) # bias for mean\n",
    "        dV = W_init(k2, (1, h_dim))  # weight matrix for variance\n",
    "        db2 = b_init(k3, (1,))       # bias for variance\n",
    "                \n",
    "        params = fU, fW, fb, iU, iW, ib, gU, gW, gb, oU, oW, ob, dO, db, dV, db2\n",
    "        return params\n",
    "    \n",
    "    def process(params, time_series):\n",
    "        \"\"\"\n",
    "        This function takes a time-series in input, pass it through the RNN, \n",
    "        and finally outputs the last prediction and internal state\n",
    "        \n",
    "        args:\n",
    "        ====\n",
    "         params: tuple of parameters\n",
    "         time_series: data of dimension (T, dim_data)\n",
    "         \n",
    "        outputs:\n",
    "        =======\n",
    "         c_final: jax vector of dimension nn_size\n",
    "         h_final: jax vector of dimension nn_size\n",
    "         pred_traj[-1]: last prediction\n",
    "        \"\"\"\n",
    "        \n",
    "        fU, fW, fb, iU, iW, ib, gU, gW, gb, oU, oW, ob, dO, db, dV, db2 = params \n",
    "        \n",
    "        c_zero = np.zeros((h_dim, ))\n",
    "        h_zero = np.zeros((h_dim, ))\n",
    "        \n",
    "        # forward pass\n",
    "        def process_internal(start, x):\n",
    "            c, h = start\n",
    "            \n",
    "            forget_gate = sigmoid(jnp.dot(fU, x) + jnp.dot(fW, h) + fb)\n",
    "            input_gate = sigmoid(jnp.dot(iU, x) + jnp.dot(iW, h) + ib)\n",
    "            cand_gate = jnp.tanh(jnp.dot(gU, x) + jnp.dot(gW, h) + gb)\n",
    "            c_new = sigmoid(forget_gate * c + input_gate * cand_gate)    \n",
    "            output_gate = sigmoid(jnp.dot(oU, x) + jnp.dot(oW, h) + ob)\n",
    "            h_new = jnp.tanh(c_new) * output_gate\n",
    "            y = x + dO @ h_new + db\n",
    "            y2 = dV @ h_new + db2\n",
    "            \n",
    "            return (c_new, h_new), (y, y2)\n",
    "        (c_final, h_final), (pred_traj, sigma) = jax.lax.scan(process_internal, (c_zero, h_zero), time_series)\n",
    "        return (c_final, h_final), (pred_traj[-1], sigma[-1])\n",
    "    \n",
    "    \n",
    "    def forecast(params, internal_states, x_input, horizon):\n",
    "        \"\"\"\n",
    "        This function takes in an internal state and a first input and produces \n",
    "        prediction over a finite horizon.\n",
    "        \n",
    "        args:\n",
    "        ====\n",
    "         params: tuple of parameters\n",
    "         internal_states = (c_internal, h_internal): internal state values of c and h\n",
    "         x_input: jax vector of dimension dim_data\n",
    "         horizon: horizon of the prediction\n",
    "         \n",
    "        outputs:\n",
    "        =======\n",
    "         preds: a trajectory of prediction of dimension (horison, dim_data) \n",
    "        \"\"\"\n",
    "        c_internal, h_internal = internal_states\n",
    "        # extract parameters\n",
    "        fU, fW, fb, iU, iW, ib, gU, gW, gb, oU, oW, ob, dO, db, dV, db2 = params \n",
    "        \n",
    "        # forward pass\n",
    "        def forecast_internal(triple_c_h_x, _ ):\n",
    "            cell, hidden, x = triple_c_h_x\n",
    "            \n",
    "            forget_gate = sigmoid(jnp.dot(fU, x) + jnp.dot(fW, hidden) + fb)\n",
    "            input_gate = sigmoid(jnp.dot(iU, x) + jnp.dot(iW, hidden) + ib)\n",
    "            cand_gate = jnp.tanh(jnp.dot(gU, x) + jnp.dot(gW, hidden) + gb)\n",
    "            c_new = sigmoid(forget_gate * cell + input_gate * cand_gate)    \n",
    "            output_gate = sigmoid(jnp.dot(oU, x) + jnp.dot(oW, hidden) + ob)\n",
    "            h_new = jnp.tanh(c_new) * output_gate\n",
    "            y = x + dO @ h_new + db\n",
    "            y2 = dV @ h_new + db2\n",
    "            \n",
    "            return (c_new, h_new, y), (y, y2)\n",
    "        \n",
    "        _, (pred_traj, sigma) = jax.lax.scan(forecast_internal, (c_internal, h_internal, x_input), None, length=horizon)\n",
    "        \n",
    "        # return the trajectory of predictions\n",
    "        return pred_traj, sigma\n",
    "    \n",
    "    return init_fun, process, forecast"
   ]
  },
  {
   "cell_type": "code",
   "execution_count": 11,
   "id": "8e38aeb0-0445-45f9-9a44-36b0e096cebe",
   "metadata": {},
   "outputs": [],
   "source": [
    "def get_parameters(nn_size, seed, batch_size, L_past, L_forecast_train, \n",
    "                   num_epoch, lr_schedule, early_stopping = EARLY_STOPPING, \n",
    "                  early_stopping_baseline = 1000.):\n",
    "    assert len(num_epoch) == len(lr_schedule)\n",
    "    def training(x, y, init_params):\n",
    "        @jax.jit\n",
    "        def step(i, opt_state, x_batch, y_batch):\n",
    "            params = get_params(opt_state)\n",
    "            value, g = jax.value_and_grad(neg_log_LH)(params, x_batch, y_batch)\n",
    "            opt_state = opt_update(i, g, opt_state)\n",
    "            return get_params(opt_state), opt_state, value\n",
    "        \n",
    "        @partial(jax.jit, static_argnums=2)\n",
    "        def make_forecast(params, x_batch, horizon):\n",
    "            # pass the data through the RNN. \n",
    "            # note that \"preds\" is the first forecasts\n",
    "            hs, (preds, sigma) = process_batch(params, x_batch)\n",
    "            # compute the (L_forecast-1) next forecasts\n",
    "            y_pred, sigma_pred = forecast_batch(params, hs, preds, horizon-1)\n",
    "            #stick all the forecasts together\n",
    "            y_pred = jnp.concatenate([preds[:, None,:], y_pred], axis=1)\n",
    "            sigma_pred = jnp.concatenate([sigma[:, None,:], sigma_pred], axis=1)\n",
    "\n",
    "            return y_pred, sigma_pred\n",
    "\n",
    "        @jax.jit\n",
    "        def neg_log_LH(params, x_batch, y_truth):\n",
    "            \"\"\"\n",
    "            For each time-series in a batch, forecasts over a finite horizon \n",
    "            and compute the negative log likelihood.\n",
    "\n",
    "            args:\n",
    "            ====\n",
    "             params: neural parameters\n",
    "             x_batch: a batch of inputs with dimension (batch_size, T_past, dim_data)\n",
    "             y_truth: a batch of values to forecasts with dimension (batch_size, T_future, dim_data)\n",
    "\n",
    "            outputs:\n",
    "            =======\n",
    "             neg log LH: negative log-likelihood of forecasts given inputs\n",
    "            \"\"\"\n",
    "\n",
    "            # horizon of the forecast\n",
    "            L_forecast = y_truth.shape[1]    \n",
    "            y_pred, sigma_pred = make_forecast(params, x_batch, L_forecast)\n",
    "\n",
    "            d = data_dim\n",
    "\n",
    "            #compute MSE\n",
    "            error = y_pred - y_truth\n",
    "            mu_loss = jnp.mean(error**2)\n",
    "\n",
    "            constant = d * jnp.log(2 * jnp.pi)\n",
    "            log_sigma = sigma_pred.mean()\n",
    "            sigma = jnp.exp(log_sigma)\n",
    "            sigma_loss = d * log_sigma\n",
    "\n",
    "            return 0.5 * (constant + sigma_loss + (mu_loss / sigma**2))\n",
    "        \n",
    "        start = time()\n",
    "                \n",
    "        loss_train_traj = []\n",
    "        loss_train_all_traj = []\n",
    "        \n",
    "        overall_best_params = init_params\n",
    "        overall_best_mse = 999999999\n",
    "        \n",
    "        # train/val split\n",
    "        t_size = int(0.9 * train_size)\n",
    "        v_size = train_size - t_size\n",
    "        T_indices_val = np.arange(t_size, train_size - (L_forecast_test//2 + L_past))\n",
    "        t_start_val = T_indices_val[::10]\n",
    "        t_past_batch_val = (t_start_val[:,None] + np.arange(L_past)[None,:]).astype(int) \n",
    "        t_pred_batch_val = (t_start_val[:,None] + np.arange(L_past,L_past+L_forecast_test//2)[None,:]).astype(int) \n",
    "        x_val = data_test[t_past_batch_val]\n",
    "        y_val = data_test[t_pred_batch_val]\n",
    "        \n",
    "        \n",
    "        print(\"Backpropogation start\", end = \"\\n\\n\")\n",
    "        for i, lr in enumerate(lr_schedule):\n",
    "            opt_init, opt_update, get_params = optimizers.adam(step_size = lr) \n",
    "            opt_state = opt_init(overall_best_params)\n",
    "            counter = 0\n",
    "            best_mse = 999999999\n",
    "            \n",
    "            for epoch in range(num_epoch[i]):\n",
    "                e_start = time()\n",
    "                \n",
    "                # randomize the order of the training data\n",
    "                T_indices = np.arange(t_size - (L_forecast_train + L_past))\n",
    "                np.random.shuffle(T_indices)\n",
    "                \n",
    "                # training\n",
    "                loss_epoch_train = []\n",
    "                \n",
    "                for k in range(t_size // batch_size + 1):\n",
    "                    # create a batch of data\n",
    "                    t_start = T_indices[np.arange(k*batch_size, (k+1)*batch_size).astype(int) % len(T_indices)] # start of each time series in the batch\n",
    "                    # create 2d array of dimension (batch_size, L_past) containing all the time indices\n",
    "                    t_past_batch = (t_start[:,None] + np.arange(L_past)[None,:]).astype(int) # transposes data\n",
    "                    t_pred_batch = (t_start[:,None] + np.arange(L_past,L_past+L_forecast_train)[None,:]).astype(int) \n",
    "\n",
    "                    #create batch of dimension (batch_size, L_past, data_dim)\n",
    "                    x_batch = x[t_past_batch]  \n",
    "                    y_batch = y[t_pred_batch]\n",
    "\n",
    "                    params, opt_state, loss_current = step(k, opt_state, x_batch, y_batch) # update\n",
    "                    loss_epoch_train.append(loss_current)\n",
    "                \n",
    "                mse_train = np.mean(loss_epoch_train) # -ve log LH loss\n",
    "                \n",
    "                # validation             \n",
    "                mse_val = neg_log_LH(params, x_val, y_val) # -ve log LH loss\n",
    "                \n",
    "                if  best_mse > mse_val: # Improvement\n",
    "                    counter = 0\n",
    "                    best_mse = mse_val\n",
    "                    best_params = params\n",
    "                else:\n",
    "                    counter += 1\n",
    "                \n",
    "                e_end = time()\n",
    "                if (epoch + 1) % 10 == 0 or (counter == 0 and epoch >= 50):\n",
    "                    print(f\"Epoch {epoch + 1}: Time taken = {e_end - e_start:.2f} | Train loss = {mse_train:.7f} | Val loss = {mse_val: .7f}\")\n",
    "                \n",
    "                if best_mse < early_stopping_baseline and counter >= early_stopping:\n",
    "                    print(f\"EARLY STOPPING. Epoch {epoch + 1}: Train loss = {mse_train:.7f} | Val loss = {mse_val: .7f}\")\n",
    "                    break\n",
    "            print(f\"Best Validation Loss: {best_mse:.7f}\")\n",
    "            \n",
    "            if best_mse < overall_best_mse: # Best round so far\n",
    "                print(\"IMPROVED VALIDATION LOSS\")\n",
    "                overall_best_mse = best_mse\n",
    "                overall_best_params = best_params\n",
    "            print()\n",
    "        \n",
    "        end = time()\n",
    "        print(f\"Total time: {end - start:.2f}\")\n",
    "        \n",
    "        return overall_best_params\n",
    "\n",
    "    start = time()\n",
    "    x, y = train.data[:-1], train.data[1:]\n",
    "    train_size, data_dim = x.data.shape\n",
    "    \n",
    "    np.random.seed(seed)\n",
    "    key = jax.random.PRNGKey(seed)\n",
    "    \n",
    "    # Initialize LSTM\n",
    "    init_fun, process, forecast = LSTM(nn_size, data_dim)       # LSTM Network\n",
    "    process_batch = jax.jit(jax.vmap(process, in_axes=(None,0)))\n",
    "    forecast_batch = jax.jit(jax.vmap(forecast, in_axes=(None,0,0,None)), static_argnums=3)\n",
    "    init_params = init_fun(key)\n",
    "    \n",
    "    final_params = training(x, y, init_params)\n",
    "    end = time()\n",
    "    print(f\"Complete. Time taken: {end - start:.2f}s\")\n",
    "    \n",
    "    return final_params, (process_batch, forecast_batch)"
   ]
  },
  {
   "cell_type": "code",
   "execution_count": 12,
   "id": "2863ad98-35c2-435c-bcea-86318c9152df",
   "metadata": {},
   "outputs": [],
   "source": [
    "def get_test_pred(data_test, params, lstm_fx):  \n",
    "    @partial(jax.jit, static_argnums=2)\n",
    "    def make_forecast(params, x_batch, horizon):\n",
    "        pbatch, fbatch = lstm_fx\n",
    "        # pass the data through the RNN. \n",
    "        # note that \"preds\" is the first forecasts\n",
    "        hs, (preds, sigma) = pbatch(params, x_batch)\n",
    "        # compute the (L_forecast-1) next forecasts\n",
    "        y_pred, sigma_pred = fbatch(params, hs, preds, horizon-1)\n",
    "        #stick all the forecasts together\n",
    "        y_pred = jnp.concatenate([preds[:, None,:], y_pred], axis=1)\n",
    "        sigma_pred = jnp.concatenate([sigma[:, None,:], sigma_pred], axis=1)\n",
    "\n",
    "        return y_pred, sigma_pred\n",
    "\n",
    "    @jax.jit\n",
    "    def loss(params, x_batch, y_truth):\n",
    "        \"\"\"\n",
    "        For each time-series in a batch, forecasts over a finite horizon \n",
    "        and compute the MSE.\n",
    "\n",
    "        args:\n",
    "        ====\n",
    "         params: neural parameters\n",
    "         x_batch: a batch of inputs with dimension (batch_size, T_past, dim_data)\n",
    "         y_truth: a batch of values to forecasts with dimension (batch_size, T_future, dim_data)\n",
    "\n",
    "        outputs:\n",
    "        =======\n",
    "         neg log LH: negative log-likelihood of forecasts given inputs\n",
    "\n",
    "        \"\"\"\n",
    "\n",
    "        # horizon of the forecast\n",
    "        L_forecast = y_truth.shape[1]    \n",
    "        y_pred, sigma_pred = make_forecast(params, x_batch, L_forecast)\n",
    "\n",
    "        #compute loss\n",
    "        error = y_pred - y_truth\n",
    "        mu_loss = jnp.mean(error**2)\n",
    "\n",
    "        constant = d * jnp.log(2 * jnp.pi)\n",
    "        log_sigma = sigma_pred.mean()\n",
    "        sigma = jnp.exp(log_sigma)\n",
    "        sigma_loss = d * log_sigma\n",
    "\n",
    "        return 0.5 * (constant + sigma_loss + (mu_loss / sigma**2))\n",
    "    \n",
    "    start = time()\n",
    "    num_data_test, L_past, data_dim = data_test.shape # testing ex, # steps used before, dim of data\n",
    "    mu_pred, log_sigma_pred = make_forecast(params, data_test, L_forecast_test)\n",
    "    sigma_pred = jnp.exp(log_sigma_pred)\n",
    "    end = time()\n",
    "    print(f\"Testing complete. Time taken: {end - start:.2f}\")\n",
    "    return np.array(mu_pred), np.array(sigma_pred)[:,:,0]"
   ]
  },
  {
   "cell_type": "code",
   "execution_count": 13,
   "id": "9a7a49b1-2af5-4387-b674-33104500760b",
   "metadata": {},
   "outputs": [],
   "source": [
    "def get_test_pred_sampled(data_test, params, lstm_fx, seed):\n",
    "    np.random.seed(seed)\n",
    "    \n",
    "    @partial(jax.jit, static_argnums=3)\n",
    "    def make_forecast(params, hs, x_batch, horizon, first_sample):\n",
    "        # compute the (L_forecast-1) next forecasts\n",
    "        y_pred, sigma_pred = fbatch(params, hs, x_batch, horizon - 1)\n",
    "        #stick all the forecasts together\n",
    "        y_pred = jnp.concatenate([first_sample[:, None,:], y_pred], axis=1)\n",
    "        sigma_pred = jnp.concatenate([first_log_sigma[:, None,:], sigma_pred], axis=1)\n",
    "\n",
    "        return y_pred, sigma_pred\n",
    "\n",
    "    pbatch, fbatch = lstm_fx\n",
    "    \n",
    "    # GET INITIAL STEP\n",
    "    hs, (first_pred, first_log_sigma) = pbatch(params, data_test)\n",
    "    first_sigma = jnp.exp(first_log_sigma)\n",
    "    \n",
    "    all_traj_mean = []\n",
    "    all_traj_sd = []\n",
    "    for _ in range(N_TRAJ_MVE):\n",
    "        first_sample = np.random.normal(first_pred, first_sigma)\n",
    "        \n",
    "        mean_traj, sigma_traj = make_forecast(params, hs, first_sample, L_forecast_test, first_sample)\n",
    "        all_traj_mean.append(mean_traj)\n",
    "        all_traj_sd.append(sigma_traj)\n",
    "    return np.array(all_traj_mean), np.exp(all_traj_sd)"
   ]
  },
  {
   "cell_type": "markdown",
   "id": "ffce42df-dfac-4615-b07e-4446a271acf9",
   "metadata": {},
   "source": [
    "# 3. Best Parameters"
   ]
  },
  {
   "cell_type": "code",
   "execution_count": 14,
   "id": "6fcf92b1-c8cb-4996-939f-882d454fb811",
   "metadata": {},
   "outputs": [],
   "source": [
    "nn_size = 500\n",
    "L_forecast_train = 4\n",
    "L_past = 4\n",
    "\n",
    "b_size = 128 # Batch size\n",
    "lr_list = [1e-3, 1e-4, 1e-5, 1e-6] # Learning rate schedule\n",
    "epoch_list = [400, 200, 200, 200]  # Number of epochs for each learning rate"
   ]
  },
  {
   "cell_type": "markdown",
   "id": "b7070f12-ba7a-4599-9006-1beede669821",
   "metadata": {},
   "source": [
    "# 4. Ensemble"
   ]
  },
  {
   "cell_type": "code",
   "execution_count": 15,
   "id": "ebc2d9c9-5e0c-4904-943f-2ab6470b59e8",
   "metadata": {},
   "outputs": [],
   "source": [
    "res_folder = os.path.join(\"results\", \"combined_noise\")"
   ]
  },
  {
   "cell_type": "code",
   "execution_count": 16,
   "id": "e889a637-c08a-4c93-89a7-9e47d06cd87b",
   "metadata": {},
   "outputs": [],
   "source": [
    "def run_seed(seed):\n",
    "    \"\"\"\n",
    "    Runs the experiment with optimal parameters and appends the predictions into the global variable mu_preds\n",
    "    \"\"\"\n",
    "    params, lstm_fx = get_parameters(nn_size = nn_size, seed = seed, batch_size = b_size, L_past = L_past, \n",
    "                                 L_forecast_train = L_forecast_train, num_epoch = epoch_list, lr_schedule = lr_list)\n",
    "    mean_pred_all, sd_pred_all = get_test_pred_sampled(X_test, params, lstm_fx, seed)\n",
    "    mean_pred = mean_pred_all.mean(axis = 0)\n",
    "    sd_pred = np.sqrt((sd_pred_all**2 + mean_pred_all**2).mean(axis = 0) - mean_pred**2)\n",
    "    file_name = \"mu_preds_\" + str(seed) + \".pkl\"\n",
    "    file_name_2 = \"sd_preds_\" + str(seed) + \".pkl\"\n",
    "    save_obj(mean_pred, res_folder, file_name)\n",
    "    save_obj(sd_pred, res_folder, file_name_2)"
   ]
  },
  {
   "cell_type": "markdown",
   "id": "b029e63e-02d0-42b0-bbf9-e982688efdb0",
   "metadata": {},
   "source": [
    "## 4.1 Seed 2"
   ]
  },
  {
   "cell_type": "code",
   "execution_count": 17,
   "id": "94a029d6-0662-428d-979b-516d596711c9",
   "metadata": {},
   "outputs": [
    {
     "name": "stdout",
     "output_type": "stream",
     "text": [
      "Backpropogation start\n",
      "\n",
      "Epoch 10: Time taken = 2.40 | Train loss = -22.2164230 | Val loss =  751.7730713\n",
      "Epoch 20: Time taken = 2.37 | Train loss = -23.6338863 | Val loss =  721.3293457\n",
      "Epoch 30: Time taken = 2.37 | Train loss = -24.4526157 | Val loss =  790.8217163\n",
      "EARLY STOPPING. Epoch 33: Train loss = -24.6515255 | Val loss =  730.0706787\n",
      "Best Validation Loss: 565.1424561\n",
      "IMPROVED VALIDATION LOSS\n",
      "\n",
      "Epoch 10: Time taken = 2.37 | Train loss = -22.7854519 | Val loss =  661.6711426\n",
      "Epoch 20: Time taken = 2.38 | Train loss = -23.9773846 | Val loss =  684.8736572\n",
      "Epoch 30: Time taken = 2.38 | Train loss = -24.6863117 | Val loss =  796.9896240\n",
      "EARLY STOPPING. Epoch 33: Train loss = -24.8374672 | Val loss =  752.9083252\n",
      "Best Validation Loss: 564.1852417\n",
      "IMPROVED VALIDATION LOSS\n",
      "\n",
      "Epoch 10: Time taken = 2.38 | Train loss = -23.2685165 | Val loss =  662.4484863\n",
      "Epoch 20: Time taken = 2.40 | Train loss = -24.2859306 | Val loss =  693.5582275\n",
      "Epoch 30: Time taken = 2.39 | Train loss = -24.8840275 | Val loss =  730.3969116\n",
      "EARLY STOPPING. Epoch 34: Train loss = -25.0363159 | Val loss =  698.0817871\n",
      "Best Validation Loss: 615.5114746\n",
      "\n",
      "Epoch 10: Time taken = 2.41 | Train loss = -23.2668076 | Val loss =  670.0786743\n",
      "Epoch 20: Time taken = 2.38 | Train loss = -24.2842808 | Val loss =  778.9954224\n",
      "Epoch 30: Time taken = 2.39 | Train loss = -24.8882484 | Val loss =  744.0087891\n",
      "EARLY STOPPING. Epoch 33: Train loss = -25.0073051 | Val loss =  709.6088257\n",
      "Best Validation Loss: 615.2180176\n",
      "\n",
      "Total time: 323.91\n",
      "Complete. Time taken: 327.55s\n"
     ]
    }
   ],
   "source": [
    "run_seed(2)"
   ]
  },
  {
   "cell_type": "markdown",
   "id": "4e1bcbde-a902-403b-8e4b-7a33bb214bf6",
   "metadata": {},
   "source": [
    "## 4.2 Seed 4"
   ]
  },
  {
   "cell_type": "code",
   "execution_count": 18,
   "id": "234ce9db-336a-4605-935c-509ca931f01c",
   "metadata": {},
   "outputs": [
    {
     "name": "stdout",
     "output_type": "stream",
     "text": [
      "Backpropogation start\n",
      "\n",
      "Epoch 10: Time taken = 2.38 | Train loss = -22.2470284 | Val loss =  640.0471802\n",
      "Epoch 20: Time taken = 2.38 | Train loss = -23.6278934 | Val loss =  721.7858276\n",
      "Epoch 30: Time taken = 2.36 | Train loss = -24.4398212 | Val loss =  773.3427734\n",
      "EARLY STOPPING. Epoch 31: Train loss = -24.5026436 | Val loss =  715.1365967\n",
      "Best Validation Loss: 397.7544250\n",
      "IMPROVED VALIDATION LOSS\n",
      "\n",
      "Epoch 10: Time taken = 2.37 | Train loss = -22.5650616 | Val loss =  761.6813354\n",
      "Epoch 20: Time taken = 2.37 | Train loss = -23.8484936 | Val loss =  718.0953369\n",
      "Epoch 30: Time taken = 2.37 | Train loss = -24.5768375 | Val loss =  744.8997192\n",
      "EARLY STOPPING. Epoch 34: Train loss = -24.8033886 | Val loss =  745.6551514\n",
      "Best Validation Loss: 556.4786377\n",
      "\n",
      "Epoch 10: Time taken = 2.37 | Train loss = -22.5624561 | Val loss =  709.0036621\n",
      "Epoch 20: Time taken = 2.37 | Train loss = -23.8479786 | Val loss =  731.5896606\n",
      "Epoch 30: Time taken = 2.37 | Train loss = -24.5979080 | Val loss =  757.7103882\n",
      "EARLY STOPPING. Epoch 31: Train loss = -24.6547909 | Val loss =  764.2464600\n",
      "Best Validation Loss: 581.1420898\n",
      "\n",
      "Epoch 10: Time taken = 2.38 | Train loss = -22.5573940 | Val loss =  707.0762939\n",
      "Epoch 20: Time taken = 2.37 | Train loss = -23.8366261 | Val loss =  700.4145508\n",
      "Epoch 30: Time taken = 2.37 | Train loss = -24.5952435 | Val loss =  728.1253052\n",
      "EARLY STOPPING. Epoch 31: Train loss = -24.6573753 | Val loss =  709.3215332\n",
      "Best Validation Loss: 559.7619629\n",
      "\n",
      "Total time: 304.69\n",
      "Complete. Time taken: 304.71s\n"
     ]
    }
   ],
   "source": [
    "run_seed(4)"
   ]
  },
  {
   "cell_type": "markdown",
   "id": "2abf4d4d-b41c-4b37-afd7-947a70837ff8",
   "metadata": {},
   "source": [
    "## 4.3 Seed 6"
   ]
  },
  {
   "cell_type": "code",
   "execution_count": 19,
   "id": "f751f451-8373-4ae3-b8b3-594b344fa18b",
   "metadata": {},
   "outputs": [
    {
     "name": "stdout",
     "output_type": "stream",
     "text": [
      "Backpropogation start\n",
      "\n",
      "Epoch 10: Time taken = 2.40 | Train loss = -22.2564964 | Val loss =  761.0609741\n",
      "Epoch 20: Time taken = 2.48 | Train loss = -23.6751251 | Val loss =  690.3283081\n",
      "Epoch 30: Time taken = 2.40 | Train loss = -24.4814320 | Val loss =  659.6042480\n",
      "EARLY STOPPING. Epoch 31: Train loss = -24.5509014 | Val loss =  667.2654419\n",
      "Best Validation Loss: 528.2838745\n",
      "IMPROVED VALIDATION LOSS\n",
      "\n",
      "Epoch 10: Time taken = 2.47 | Train loss = -22.5677853 | Val loss =  696.0620117\n",
      "Epoch 20: Time taken = 2.41 | Train loss = -23.8845463 | Val loss =  734.1452637\n",
      "Epoch 30: Time taken = 2.40 | Train loss = -24.6269493 | Val loss =  766.7864380\n",
      "EARLY STOPPING. Epoch 32: Train loss = -24.7397499 | Val loss =  699.7272949\n",
      "Best Validation Loss: 610.1766968\n",
      "\n",
      "Epoch 10: Time taken = 2.49 | Train loss = -22.5728512 | Val loss =  690.1564941\n",
      "Epoch 20: Time taken = 2.41 | Train loss = -23.8811550 | Val loss =  637.2243652\n",
      "Epoch 30: Time taken = 3.48 | Train loss = -24.6354218 | Val loss =  726.4780273\n",
      "EARLY STOPPING. Epoch 32: Train loss = -24.7448483 | Val loss =  737.5145874\n",
      "Best Validation Loss: 599.2329712\n",
      "\n",
      "Epoch 10: Time taken = 3.57 | Train loss = -22.5638275 | Val loss =  722.4794312\n",
      "Epoch 20: Time taken = 3.05 | Train loss = -23.8615189 | Val loss =  703.3655396\n",
      "Epoch 30: Time taken = 3.10 | Train loss = -24.6317101 | Val loss =  729.8359985\n",
      "EARLY STOPPING. Epoch 31: Train loss = -24.6893463 | Val loss =  747.1213379\n",
      "Best Validation Loss: 583.6680298\n",
      "\n",
      "Total time: 325.57\n",
      "Complete. Time taken: 325.59s\n"
     ]
    }
   ],
   "source": [
    "run_seed(6)"
   ]
  },
  {
   "cell_type": "markdown",
   "id": "99791ee8-6d4d-49a2-99b5-48d06755a32d",
   "metadata": {},
   "source": [
    "## 4.4 Seed 8"
   ]
  },
  {
   "cell_type": "code",
   "execution_count": 20,
   "id": "6398e9f5-b404-4029-8d31-e839467929d3",
   "metadata": {},
   "outputs": [
    {
     "name": "stdout",
     "output_type": "stream",
     "text": [
      "Backpropogation start\n",
      "\n",
      "Epoch 10: Time taken = 2.70 | Train loss = -22.2868137 | Val loss =  662.3053589\n",
      "Epoch 20: Time taken = 2.62 | Train loss = -23.6756401 | Val loss =  650.0699463\n",
      "Epoch 30: Time taken = 2.66 | Train loss = -24.4877377 | Val loss =  739.7665405\n",
      "EARLY STOPPING. Epoch 32: Train loss = -24.5997753 | Val loss =  724.6842041\n",
      "Best Validation Loss: 566.4133911\n",
      "IMPROVED VALIDATION LOSS\n",
      "\n",
      "Epoch 10: Time taken = 2.38 | Train loss = -22.7110519 | Val loss =  716.7481689\n",
      "Epoch 20: Time taken = 3.07 | Train loss = -23.9469566 | Val loss =  713.1340332\n",
      "Epoch 30: Time taken = 2.39 | Train loss = -24.6564617 | Val loss =  726.6871338\n",
      "EARLY STOPPING. Epoch 33: Train loss = -24.8258018 | Val loss =  718.0961914\n",
      "Best Validation Loss: 620.2788696\n",
      "\n",
      "Epoch 10: Time taken = 2.38 | Train loss = -22.7020264 | Val loss =  719.5734253\n",
      "Epoch 20: Time taken = 2.38 | Train loss = -23.9247780 | Val loss =  667.7019043\n",
      "Epoch 30: Time taken = 2.38 | Train loss = -24.6406136 | Val loss =  723.8009644\n",
      "EARLY STOPPING. Epoch 32: Train loss = -24.7603054 | Val loss =  716.2438354\n",
      "Best Validation Loss: 603.6802368\n",
      "\n",
      "Epoch 10: Time taken = 2.38 | Train loss = -22.7032127 | Val loss =  658.8965454\n",
      "Epoch 20: Time taken = 2.37 | Train loss = -23.9406376 | Val loss =  746.5054932\n",
      "Epoch 30: Time taken = 2.37 | Train loss = -24.6591969 | Val loss =  713.1038818\n",
      "EARLY STOPPING. Epoch 31: Train loss = -24.7063007 | Val loss =  737.1821289\n",
      "Best Validation Loss: 594.8544922\n",
      "\n",
      "Total time: 330.41\n",
      "Complete. Time taken: 330.43s\n"
     ]
    }
   ],
   "source": [
    "run_seed(8)"
   ]
  },
  {
   "cell_type": "markdown",
   "id": "f44cb3d9-6d9b-4bc9-bfae-2f56f7a8848b",
   "metadata": {},
   "source": [
    "## 4.5 Seed 42"
   ]
  },
  {
   "cell_type": "code",
   "execution_count": 21,
   "id": "c531e8d9-b83e-4a1e-9307-71e37e3049a6",
   "metadata": {},
   "outputs": [
    {
     "name": "stdout",
     "output_type": "stream",
     "text": [
      "Backpropogation start\n",
      "\n",
      "Epoch 10: Time taken = 2.38 | Train loss = -22.2520580 | Val loss =  706.5443726\n",
      "Epoch 20: Time taken = 2.38 | Train loss = -23.6457691 | Val loss =  690.3060303\n",
      "Epoch 30: Time taken = 2.37 | Train loss = -24.4656029 | Val loss =  681.1680908\n",
      "EARLY STOPPING. Epoch 31: Train loss = -24.5310040 | Val loss =  637.1184692\n",
      "Best Validation Loss: 446.3979797\n",
      "IMPROVED VALIDATION LOSS\n",
      "\n",
      "Epoch 10: Time taken = 2.43 | Train loss = -22.5355701 | Val loss =  655.8399048\n",
      "Epoch 20: Time taken = 3.88 | Train loss = -23.8415527 | Val loss =  720.1510620\n",
      "Epoch 30: Time taken = 3.21 | Train loss = -24.6053963 | Val loss =  778.9309692\n",
      "EARLY STOPPING. Epoch 31: Train loss = -24.6408844 | Val loss =  713.0905151\n",
      "Best Validation Loss: 443.1935425\n",
      "IMPROVED VALIDATION LOSS\n",
      "\n",
      "Epoch 10: Time taken = 3.98 | Train loss = -22.8011112 | Val loss =  625.7456665\n",
      "Epoch 20: Time taken = 2.59 | Train loss = -24.0043373 | Val loss =  777.0219116\n",
      "Epoch 30: Time taken = 3.13 | Train loss = -24.6979713 | Val loss =  779.6812744\n",
      "EARLY STOPPING. Epoch 31: Train loss = -24.7554760 | Val loss =  716.6100464\n",
      "Best Validation Loss: 562.1158447\n",
      "\n",
      "Epoch 10: Time taken = 2.99 | Train loss = -22.7856960 | Val loss =  686.1923218\n",
      "Epoch 20: Time taken = 3.27 | Train loss = -24.0042648 | Val loss =  703.2139282\n",
      "Epoch 30: Time taken = 2.93 | Train loss = -24.7091618 | Val loss =  728.6329956\n",
      "EARLY STOPPING. Epoch 31: Train loss = -24.7648201 | Val loss =  682.7165527\n",
      "Best Validation Loss: 600.3106079\n",
      "\n",
      "Total time: 370.72\n",
      "Complete. Time taken: 370.74s\n"
     ]
    }
   ],
   "source": [
    "run_seed(42)"
   ]
  },
  {
   "cell_type": "markdown",
   "id": "021f9a9c-dd4d-4549-b65a-195d2dd63192",
   "metadata": {},
   "source": [
    "## 4.6 Compilation"
   ]
  },
  {
   "cell_type": "code",
   "execution_count": 22,
   "id": "c232e9b2-cdd2-4528-aa4e-074145e383a8",
   "metadata": {},
   "outputs": [],
   "source": [
    "mu_preds = []\n",
    "sd_preds = []"
   ]
  },
  {
   "cell_type": "code",
   "execution_count": 23,
   "id": "c6c60128-882e-4bf7-b5f7-a2c21c08ed51",
   "metadata": {},
   "outputs": [],
   "source": [
    "for dirpath, dirnames, filenames in os.walk(res_folder):\n",
    "    for f in filenames:\n",
    "        if f[:2] == \"mu\":\n",
    "            mu_preds.append(load_obj(os.path.join(res_folder, f)))\n",
    "        elif f[:2] == \"sd\":\n",
    "            sd_preds.append(load_obj(os.path.join(res_folder, f)))"
   ]
  },
  {
   "cell_type": "code",
   "execution_count": 24,
   "id": "72ef3150-11f8-4ca8-87f8-45e0718711f2",
   "metadata": {},
   "outputs": [],
   "source": [
    "mu_preds = np.array(mu_preds)\n",
    "sd_preds = np.array(sd_preds)"
   ]
  },
  {
   "cell_type": "code",
   "execution_count": 25,
   "id": "57671ab6-ea03-4159-a5d5-433bbb58b600",
   "metadata": {},
   "outputs": [
    {
     "name": "stdout",
     "output_type": "stream",
     "text": [
      "mean preds shape: (5, 100, 400, 40)\n",
      "sd preds shape: (5, 100, 400, 40)\n"
     ]
    }
   ],
   "source": [
    "print(f\"mean preds shape: {mu_preds.shape}\")\n",
    "print(f\"sd preds shape: {sd_preds.shape}\")"
   ]
  },
  {
   "cell_type": "markdown",
   "id": "6622806d-4d17-4d9a-abf0-0253f0a0446d",
   "metadata": {},
   "source": [
    "# 5. Analyze results"
   ]
  },
  {
   "cell_type": "markdown",
   "id": "22823625-ccc8-4342-9eef-06a47eba7966",
   "metadata": {},
   "source": [
    "## 5.1 MSE"
   ]
  },
  {
   "cell_type": "code",
   "execution_count": 26,
   "id": "e94e5f9d-18d6-4656-b4ec-dc3a769fbb97",
   "metadata": {},
   "outputs": [],
   "source": [
    "mve_s_mean = mu_preds.mean(axis = 0)\n",
    "mve_s_sigma = np.sqrt((sd_preds**2 + mu_preds**2).mean(axis = 0) - mve_s_mean**2)"
   ]
  },
  {
   "cell_type": "code",
   "execution_count": 27,
   "id": "52f19dfc-6373-4fc8-9210-6247e3e21a2f",
   "metadata": {},
   "outputs": [],
   "source": [
    "desc_name = \"lstm_nn\" + str(nn_size) + \"_combined\"\n",
    "res_mve = PointExperimentResult(mve_s_mean - y_test,\n",
    "                                           desc_name)"
   ]
  },
  {
   "cell_type": "code",
   "execution_count": 28,
   "id": "4160a24d-689b-4a2c-b87e-14b9a890db91",
   "metadata": {},
   "outputs": [
    {
     "data": {
      "image/png": "[encoded data removed]",
      "text/plain": [
       "<Figure size 432x288 with 1 Axes>"
      ]
     },
     "metadata": {
      "needs_background": "light"
     },
     "output_type": "display_data"
    },
    {
     "name": "stdout",
     "output_type": "stream",
     "text": [
      "It takes around t = 0.26 for mean error to exceed 0.5\n"
     ]
    },
    {
     "data": {
      "image/png": "[encoded data removed]",
      "text/plain": [
       "<Figure size 432x288 with 1 Axes>"
      ]
     },
     "metadata": {
      "needs_background": "light"
     },
     "output_type": "display_data"
    },
    {
     "name": "stdout",
     "output_type": "stream",
     "text": [
      "It takes around t = 0.77 for mean error to exceed 1.0\n"
     ]
    }
   ],
   "source": [
    "res_mve.plot_rmse(error_thresh = 0.5)\n",
    "res_mve.plot_rmse(error_thresh = 1.)"
   ]
  },
  {
   "cell_type": "code",
   "execution_count": 29,
   "id": "c851195d-15d2-4826-a14b-e1ff2677f416",
   "metadata": {},
   "outputs": [
    {
     "name": "stdout",
     "output_type": "stream",
     "text": [
      "Median NRMSE at t = 0.2: 0.407\n",
      "Median NRMSE at t = 0.5: 0.835\n",
      "Median NRMSE at t = 1: 1.076\n",
      "Median NRMSE at t = 2: 1.113\n",
      "Median NRMSE at t = 3: 1.052\n"
     ]
    }
   ],
   "source": [
    "res_mve.get_loss([0.2, 0.5, 1, 2, 3])"
   ]
  },
  {
   "cell_type": "markdown",
   "id": "a5940bab-d631-400a-a49d-3168d71d0990",
   "metadata": {},
   "source": [
    "## 5.2 Variance"
   ]
  },
  {
   "cell_type": "markdown",
   "id": "c8fdd5d5-735b-4e79-90ed-eda4c531a245",
   "metadata": {},
   "source": [
    "**Visualise for one dataset**"
   ]
  },
  {
   "cell_type": "code",
   "execution_count": 30,
   "id": "37c9cf91-abdb-4659-9884-df017290a633",
   "metadata": {},
   "outputs": [],
   "source": [
    "idx = 0"
   ]
  },
  {
   "cell_type": "code",
   "execution_count": 31,
   "id": "29907764-8ca3-4c54-8aca-3fd004dd26c8",
   "metadata": {},
   "outputs": [
    {
     "data": {
      "image/png": "[encoded data removed]",
      "text/plain": [
       "<Figure size 432x288 with 1 Axes>"
      ]
     },
     "metadata": {
      "needs_background": "light"
     },
     "output_type": "display_data"
    }
   ],
   "source": [
    "plt.plot(mve_s_sigma[idx].mean(axis = 1)**2)\n",
    "plt.grid(\"on\")\n",
    "plt.xlabel(\"Time steps\")\n",
    "plt.ylabel(\"Variance\")\n",
    "plt.show()"
   ]
  },
  {
   "cell_type": "markdown",
   "id": "f6c7b5b0-794f-4258-8eee-eeb95c6914ee",
   "metadata": {},
   "source": [
    "## 5.3 Negative Log LH"
   ]
  },
  {
   "cell_type": "code",
   "execution_count": 32,
   "id": "85d367e5-118a-49b5-a8fe-1ccaf1ee2a83",
   "metadata": {},
   "outputs": [],
   "source": [
    "def neg_log_LH(mean_pred, sd_pred):\n",
    "    d = 40\n",
    "    \n",
    "    constant_loss = d * np.log(2 * np.pi)\n",
    "    mu_loss = (mean_pred - y_test)**2\n",
    "    \n",
    "    return 0.5 * (constant_loss + d * np.log(sd_pred) + (mu_loss / sd_pred**2)).mean(axis = (0, 2))"
   ]
  },
  {
   "cell_type": "code",
   "execution_count": 33,
   "id": "348d6d99-32f0-4648-94d7-f71a2c2c71c2",
   "metadata": {},
   "outputs": [
    {
     "data": {
      "image/png": "[encoded data removed]",
      "text/plain": [
       "<Figure size 432x288 with 1 Axes>"
      ]
     },
     "metadata": {
      "needs_background": "light"
     },
     "output_type": "display_data"
    }
   ],
   "source": [
    "plt.plot(neg_log_LH(mve_s_mean, mve_s_sigma))\n",
    "plt.title(\"Negative Log LH against time\")\n",
    "plt.xlabel(\"Time steps\")\n",
    "plt.ylabel(\"Negative Log LH\")\n",
    "# plt.yscale(\"log\")\n",
    "plt.grid(\"on\")\n",
    "plt.show()"
   ]
  },
  {
   "cell_type": "code",
   "execution_count": 34,
   "id": "2c354420-1fac-4e40-90cf-1d408fae7615",
   "metadata": {},
   "outputs": [
    {
     "name": "stdout",
     "output_type": "stream",
     "text": [
      "Mean negative log LH: 31.03044\n"
     ]
    }
   ],
   "source": [
    "print(f\"Mean negative log LH: {neg_log_LH(mve_s_mean, mve_s_sigma).mean():.5f}\")"
   ]
  }
 ],
 "metadata": {
  "kernelspec": {
   "display_name": "Python 3 (ipykernel)",
   "language": "python",
   "name": "python3"
  },
  "language_info": {
   "codemirror_mode": {
    "name": "ipython",
    "version": 3
   },
   "file_extension": ".py",
   "mimetype": "text/x-python",
   "name": "python",
   "nbconvert_exporter": "python",
   "pygments_lexer": "ipython3",
   "version": "3.8.12"
  }
 },
 "nbformat": 4,
 "nbformat_minor": 5
}
