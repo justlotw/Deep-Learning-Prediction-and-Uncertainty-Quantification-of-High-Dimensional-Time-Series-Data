{
 "cells": [
  {
   "cell_type": "markdown",
   "id": "14d57da9-ca77-4333-ba41-8236efa46467",
   "metadata": {},
   "source": [
    "# Method: LSTM\n",
    "# Dataset: Lorenz-96, F = 8\n",
    "# Purpose: Uncertainty Quantification - Deep Ensemble"
   ]
  },
  {
   "cell_type": "markdown",
   "id": "9711fa4f-7843-43d5-a047-14c762fd2e5f",
   "metadata": {},
   "source": [
    "# 1. Set-up"
   ]
  },
  {
   "cell_type": "code",
   "execution_count": 1,
   "id": "c9f852d7-2ea3-49a4-8bd5-a85ba731f802",
   "metadata": {},
   "outputs": [],
   "source": [
    "# GPU\n",
    "import os\n",
    "os.environ[\"CUDA_VISIBLE_DEVICES\"] = \"0\"\n",
    "\n",
    "# Package\n",
    "import sys\n",
    "sys.path.append(\"../..\")"
   ]
  },
  {
   "cell_type": "code",
   "execution_count": 2,
   "id": "1ee758f3-121d-4ca7-a44e-f00db4631d50",
   "metadata": {},
   "outputs": [],
   "source": [
    "from create_data import load_data\n",
    "from utils import * # Number of testing samples\n",
    "import numpy as np\n",
    "import matplotlib.pyplot as plt\n",
    "from time import time\n",
    "from functools import partial\n",
    "\n",
    "import jax\n",
    "import jax.numpy as jnp\n",
    "from jax.nn.initializers import glorot_normal, normal\n",
    "from jax.example_libraries import optimizers"
   ]
  },
  {
   "cell_type": "code",
   "execution_count": 3,
   "id": "ee80a55c-5e5d-4120-8c56-8be07285e9fe",
   "metadata": {},
   "outputs": [],
   "source": [
    "train, test = load_data(\"Lorenz 96, F = 8\", \"../../data/lorenz8\", 0.5)"
   ]
  },
  {
   "cell_type": "code",
   "execution_count": 4,
   "id": "2f5e5e28-eae6-4463-8d82-7783d076ef9a",
   "metadata": {},
   "outputs": [],
   "source": [
    "np.random.seed(1)\n",
    "train.data = train.data + np.random.normal(0, 1e-1, train.data.shape)"
   ]
  },
  {
   "cell_type": "code",
   "execution_count": 5,
   "id": "e30a3f5f-c622-4e95-ae1c-dd652be02b5e",
   "metadata": {},
   "outputs": [
    {
     "name": "stdout",
     "output_type": "stream",
     "text": [
      "Train size: (90000, 40)\n",
      "Test size: (90000, 40)\n"
     ]
    }
   ],
   "source": [
    "print(f\"Train size: {train.data.shape}\")\n",
    "print(f\"Test size: {test.data.shape}\")"
   ]
  },
  {
   "cell_type": "markdown",
   "id": "8288061f-20ca-4fe6-840e-6ee8cd8064b1",
   "metadata": {},
   "source": [
    "**Create test set**"
   ]
  },
  {
   "cell_type": "code",
   "execution_count": 6,
   "id": "9c868d5f-50c3-48a5-8762-e0de61468e5f",
   "metadata": {},
   "outputs": [],
   "source": [
    "L_forecast_test = 400   # steps to forecast forward (when testing)"
   ]
  },
  {
   "cell_type": "code",
   "execution_count": 7,
   "id": "5a2ec67a-c0aa-45b0-b059-cb9a1dceb438",
   "metadata": {},
   "outputs": [],
   "source": [
    "np.random.seed(1)\n",
    "\n",
    "data_test = test.data\n",
    "\n",
    "T_test, data_dim = data_test.shape\n",
    "possible_idx = T_test - (L_forecast_test + 1) # minus number of steps forward, and the warm-up period\n",
    "T_indices = np.random.randint(0, possible_idx, size = NUM_TEST)\n",
    "\n",
    "t_past_batch = np.repeat(T_indices[:, None], WARM_UP_TEST, axis = 1).astype(int) # 200 warmup \n",
    "t_pred_batch = (T_indices[:, None] + np.arange(1, 1 + L_forecast_test)[None, :].astype(int))\n",
    "\n",
    "X_test = data_test[t_past_batch]\n",
    "y_test = data_test[t_pred_batch]"
   ]
  },
  {
   "cell_type": "code",
   "execution_count": 8,
   "id": "7e57b737-d4d5-41f0-9077-071567f3758f",
   "metadata": {},
   "outputs": [
    {
     "name": "stdout",
     "output_type": "stream",
     "text": [
      "Test input size: (100, 2000, 40)\n",
      "Test output size: (100, 400, 40)\n"
     ]
    }
   ],
   "source": [
    "print(f\"Test input size: {X_test.shape}\")  # Number of test points x input length x dim\n",
    "print(f\"Test output size: {y_test.shape}\") # Number of test points x horizon x dim"
   ]
  },
  {
   "cell_type": "markdown",
   "id": "bb0bd417-72d0-4d90-8b16-30945dd0ee20",
   "metadata": {},
   "source": [
    "# 2. LSTM Implementation"
   ]
  },
  {
   "cell_type": "code",
   "execution_count": 16,
   "id": "bf9258f6-5dd2-4ddf-ab11-8f9f274ffb4a",
   "metadata": {},
   "outputs": [],
   "source": [
    "def LSTM(h_dim, data_dim, W_init = glorot_normal(), b_init = normal()):\n",
    "    \"\"\"\n",
    "    args:\n",
    "    ====\n",
    "     h_dim: dimension of the internal state\n",
    "     data_dim: dimensionity of the time series\n",
    "\n",
    "    outputs:\n",
    "    ======\n",
    "     init_fun: function to initialize the parameters\n",
    "     process: function to process a time-series and compute the final prediction and final internal state\n",
    "     forecast: function that, given a pair (internal-state, input), computes the next T predictions\n",
    "    \"\"\"\n",
    "    \n",
    "    def init_fun(rng):\n",
    "        \"\"\"\n",
    "        This function initialize the weights of the RNN\n",
    "        \n",
    "        args:\n",
    "        ====\n",
    "         rng: jax RNG\n",
    "         \n",
    "        outputs:\n",
    "        ======\n",
    "         params: a tuple of parameters\n",
    "        \"\"\"\n",
    "        \n",
    "        # Forget Layer\n",
    "        k1, k2, k3 = jax.random.split(rng, num = 3)\n",
    "        fU = W_init(k1, (h_dim, data_dim))\n",
    "        fW = W_init(k2, (h_dim, h_dim)) \n",
    "        fb = b_init(k3, (h_dim,))\n",
    "        \n",
    "        # Input Layer\n",
    "        k1, k2, k3 = jax.random.split(rng, num = 3)\n",
    "        iU = W_init(k1, (h_dim, data_dim))\n",
    "        iW = W_init(k2, (h_dim, h_dim))\n",
    "        ib = b_init(k3, (h_dim,))\n",
    "        \n",
    "        # Candidate layer\n",
    "        k1, k2, k3 = jax.random.split(rng, num = 3)\n",
    "        gU = W_init(k1, (h_dim, data_dim))\n",
    "        gW = W_init(k2, (h_dim, h_dim))\n",
    "        gb = b_init(k3, (h_dim,))\n",
    "        \n",
    "        # Output layer\n",
    "        k1, k2, k3 = jax.random.split(rng, num = 3)\n",
    "        oU = W_init(k1, (h_dim, data_dim))\n",
    "        oW = W_init(k2, (h_dim, h_dim))\n",
    "        ob = b_init(k3, (h_dim,))\n",
    "        \n",
    "        # Dense layer (hidden -> y)\n",
    "        k1, k2 = jax.random.split(rng, num = 2)\n",
    "        dO = W_init(k1, (data_dim, h_dim))\n",
    "        db = b_init(k2, (data_dim,))\n",
    "                \n",
    "        params = fU, fW, fb, iU, iW, ib, gU, gW, gb, oU, oW, ob, dO, db\n",
    "        return params\n",
    "    \n",
    "    def process(params, time_series):\n",
    "        \"\"\"\n",
    "        This function takes a time-series in input, pass it through the RNN, \n",
    "        and finally outputs the last prediction and internal state\n",
    "        \n",
    "        args:\n",
    "        ====\n",
    "         params: tuple of parameters\n",
    "         time_series: data of dimension (T, dim_data)\n",
    "         \n",
    "        outputs:\n",
    "        =======\n",
    "         c_final: jax vector of dimension nn_size\n",
    "         h_final: jax vector of dimension nn_size\n",
    "         pred_traj[-1]: last prediction\n",
    "        \"\"\"\n",
    "        \n",
    "        fU, fW, fb, iU, iW, ib, gU, gW, gb, oU, oW, ob, dO, db = params \n",
    "        \n",
    "        c_zero = np.zeros((h_dim, ))\n",
    "        h_zero = np.zeros((h_dim, ))\n",
    "        \n",
    "        # forward pass\n",
    "        def process_internal(start, x):\n",
    "            c, h = start\n",
    "            \n",
    "            forget_gate = sigmoid(jnp.dot(fU, x) + jnp.dot(fW, h) + fb)\n",
    "            input_gate = sigmoid(jnp.dot(iU, x) + jnp.dot(iW, h) + ib)\n",
    "            cand_gate = jnp.tanh(jnp.dot(gU, x) + jnp.dot(gW, h) + gb)\n",
    "            c_new = sigmoid(forget_gate * c + input_gate * cand_gate)    \n",
    "            output_gate = sigmoid(jnp.dot(oU, x) + jnp.dot(oW, h) + ob)\n",
    "            h_new = jnp.tanh(c_new) * output_gate\n",
    "            y = x + dO @ h_new + db\n",
    "            \n",
    "            return (c_new, h_new), y\n",
    "        (c_final, h_final), pred_traj = jax.lax.scan(process_internal, (c_zero, h_zero), time_series)\n",
    "        return (c_final, h_final), pred_traj[-1]\n",
    "    \n",
    "    \n",
    "    def forecast(params, internal_states, x_input, horizon):\n",
    "        \"\"\"\n",
    "        This function takes in an internal state and a first input and produces \n",
    "        prediction over a finite horizon.\n",
    "        \n",
    "        args:\n",
    "        ====\n",
    "         params: tuple of parameters\n",
    "         internal_states = (c_internal, h_internal): internal state values of c and h\n",
    "         x_input: jax vector of dimension dim_data\n",
    "         horizon: horizon of the prediction\n",
    "         \n",
    "        outputs:\n",
    "        =======\n",
    "         preds: a trajectory of prediction of dimension (horison, dim_data) \n",
    "        \"\"\"\n",
    "        c_internal, h_internal = internal_states\n",
    "        # extract parameters\n",
    "        fU, fW, fb, iU, iW, ib, gU, gW, gb, oU, oW, ob, dO, db = params \n",
    "        \n",
    "        # forward pass\n",
    "        def forecast_internal(triple_c_h_x, _ ):\n",
    "            cell, hidden, x = triple_c_h_x\n",
    "            \n",
    "            forget_gate = sigmoid(jnp.dot(fU, x) + jnp.dot(fW, hidden) + fb)\n",
    "            input_gate = sigmoid(jnp.dot(iU, x) + jnp.dot(iW, hidden) + ib)\n",
    "            cand_gate = jnp.tanh(jnp.dot(gU, x) + jnp.dot(gW, hidden) + gb)\n",
    "            c_new = sigmoid(forget_gate * cell + input_gate * cand_gate)    \n",
    "            output_gate = sigmoid(jnp.dot(oU, x) + jnp.dot(oW, hidden) + ob)\n",
    "            h_new = jnp.tanh(c_new) * output_gate\n",
    "            y = x + dO @ h_new + db\n",
    "            \n",
    "            return (c_new, h_new, y), y\n",
    "        \n",
    "        _, pred_traj = jax.lax.scan(forecast_internal, (c_internal, h_internal, x_input), None, length=horizon)\n",
    "        \n",
    "        # return the trajectory of predictions\n",
    "        return pred_traj\n",
    "    \n",
    "    return init_fun, process, forecast"
   ]
  },
  {
   "cell_type": "code",
   "execution_count": 17,
   "id": "8e38aeb0-0445-45f9-9a44-36b0e096cebe",
   "metadata": {},
   "outputs": [],
   "source": [
    "def get_parameters(nn_size, seed, batch_size, L_past, L_forecast_train, \n",
    "                   num_epoch, lr_schedule, early_stopping = EARLY_STOPPING, \n",
    "                  early_stopping_baseline = 1.1):\n",
    "    assert len(num_epoch) == len(lr_schedule)\n",
    "    def training(x, y, init_params):\n",
    "        @jax.jit\n",
    "        def step(i, opt_state, x_batch, y_batch):\n",
    "            params = get_params(opt_state)\n",
    "            value, g = jax.value_and_grad(mse)(params, x_batch, y_batch)\n",
    "            opt_state = opt_update(i, g, opt_state)\n",
    "            return get_params(opt_state), opt_state, value\n",
    "        \n",
    "        @partial(jax.jit, static_argnums=2)\n",
    "        def make_forecast(params, x_batch, horizon):\n",
    "            # pass the data through the RNN. \n",
    "            # note that \"preds\" is the first forecasts\n",
    "            hs, preds = process_batch(params, x_batch)\n",
    "            # compute the (L_forecast-1) next forecasts\n",
    "            y_pred = forecast_batch(params, hs, preds, horizon-1)\n",
    "            #stick all the forecasts together\n",
    "            y_pred = jnp.concatenate([preds[:, None,:], y_pred], axis=1)\n",
    "\n",
    "            return y_pred\n",
    "\n",
    "        @jax.jit\n",
    "        def mse(params, x_batch, y_truth):\n",
    "            \"\"\"\n",
    "            For each time-series in a batch, forecasts over a finite horizon \n",
    "            and compute the MSE.\n",
    "\n",
    "            args:\n",
    "            ====\n",
    "             params: neural parameters\n",
    "             x_batch: a batch of inputs with dimension (batch_size, T_past, dim_data)\n",
    "             y_truth: a batch of values to forecasts with dimension (batch_size, T_future, dim_data)\n",
    "\n",
    "            outputs:\n",
    "            =======\n",
    "             MSE: MSE between forecasts and targets\n",
    "            \"\"\"\n",
    "\n",
    "            # horizon of the forecast\n",
    "            L_forecast = y_truth.shape[1]    \n",
    "            y_pred = make_forecast(params, x_batch, L_forecast)\n",
    "\n",
    "            #compute MSE\n",
    "            error = y_pred - y_truth\n",
    "            mu_loss = jnp.mean(error**2)\n",
    "            return mu_loss \n",
    "        \n",
    "        start = time()\n",
    "                \n",
    "        loss_train_traj = []\n",
    "        loss_train_all_traj = []\n",
    "        \n",
    "        overall_best_params = init_params\n",
    "        overall_best_mse = 999999999\n",
    "        \n",
    "        # train/val split\n",
    "        t_size = int(0.9 * train_size)\n",
    "        v_size = train_size - t_size\n",
    "        T_indices_val = np.arange(t_size, train_size - (L_forecast_test//2 + L_past))\n",
    "        t_start_val = T_indices_val[::10]\n",
    "        t_past_batch_val = (t_start_val[:,None] + np.arange(L_past)[None,:]).astype(int) \n",
    "        t_pred_batch_val = (t_start_val[:,None] + np.arange(L_past,L_past+L_forecast_test//2)[None,:]).astype(int) \n",
    "        x_val = data_test[t_past_batch_val]\n",
    "        y_val = data_test[t_pred_batch_val]\n",
    "        \n",
    "        \n",
    "        print(\"Backpropogation start\", end = \"\\n\\n\")\n",
    "        for i, lr in enumerate(lr_schedule):\n",
    "            opt_init, opt_update, get_params = optimizers.adam(step_size = lr) \n",
    "            opt_state = opt_init(overall_best_params)\n",
    "            counter = 0\n",
    "            best_mse = 999999999\n",
    "            \n",
    "            for epoch in range(num_epoch[i]):\n",
    "                e_start = time()\n",
    "                \n",
    "                # randomize the order of the training data\n",
    "                T_indices = np.arange(t_size - (L_forecast_train + L_past))\n",
    "                np.random.shuffle(T_indices)\n",
    "                \n",
    "                # training\n",
    "                loss_epoch_train = []\n",
    "                \n",
    "                for k in range(t_size // batch_size + 1):\n",
    "                    # create a batch of data\n",
    "                    t_start = T_indices[np.arange(k*batch_size, (k+1)*batch_size).astype(int) % len(T_indices)] # start of each time series in the batch\n",
    "                    # create 2d array of dimension (batch_size, L_past) containing all the time indices\n",
    "                    t_past_batch = (t_start[:,None] + np.arange(L_past)[None,:]).astype(int) # transposes data\n",
    "                    t_pred_batch = (t_start[:,None] + np.arange(L_past,L_past+L_forecast_train)[None,:]).astype(int) \n",
    "\n",
    "                    #create batch of dimension (batch_size, L_past, data_dim)\n",
    "                    x_batch = x[t_past_batch]  \n",
    "                    y_batch = y[t_pred_batch]\n",
    "\n",
    "                    params, opt_state, loss_current = step(k, opt_state, x_batch, y_batch) # update\n",
    "                    loss_epoch_train.append(loss_current)\n",
    "                \n",
    "                mse_train = np.mean(loss_epoch_train)\n",
    "                \n",
    "                # validation             \n",
    "                mse_val = mse(params, x_val, y_val)\n",
    "                \n",
    "                if  best_mse > mse_val: # Improvement\n",
    "                    counter = 0\n",
    "                    best_mse = mse_val\n",
    "                    best_params = params\n",
    "                else:\n",
    "                    counter += 1\n",
    "                \n",
    "                e_end = time()\n",
    "                if (epoch + 1) % 10 == 0:\n",
    "                    print(f\"Epoch {epoch + 1}: Time taken = {e_end - e_start:.2f} | Train loss = {mse_train:.7f} | Val loss = {mse_val: .7f}\")\n",
    "                \n",
    "                if best_mse < early_stopping_baseline and counter >= early_stopping:\n",
    "                    print(f\"EARLY STOPPING. Epoch {epoch + 1}: Train loss = {mse_train:.7f} | Val loss = {mse_val: .7f}\")\n",
    "                    break\n",
    "            print(f\"Best Validation MSE: {best_mse:.7f}\")\n",
    "            \n",
    "            if best_mse < overall_best_mse: # Best round so far\n",
    "                print(\"IMPROVED VALIDATION MSE\")\n",
    "                overall_best_mse = best_mse\n",
    "                overall_best_params = best_params\n",
    "            print()\n",
    "        \n",
    "        end = time()\n",
    "        print(f\"Total time: {end - start:.2f}\")\n",
    "        \n",
    "        return overall_best_params\n",
    "\n",
    "    start = time()\n",
    "    x, y = train.data[:-1], train.data[1:]\n",
    "    train_size, data_dim = x.data.shape\n",
    "    \n",
    "    np.random.seed(seed)\n",
    "    key = jax.random.PRNGKey(seed)\n",
    "    \n",
    "    # Initialize LSTM\n",
    "    init_fun, process, forecast = LSTM(nn_size, data_dim)       # LSTM Network\n",
    "    process_batch = jax.jit(jax.vmap(process, in_axes=(None,0)))\n",
    "    forecast_batch = jax.jit(jax.vmap(forecast, in_axes=(None,0,0,None)), static_argnums=3)\n",
    "    init_params = init_fun(key)\n",
    "    \n",
    "    final_params = training(x, y, init_params)\n",
    "    end = time()\n",
    "    print(f\"Complete. Time taken: {end - start:.2f}s\")\n",
    "    \n",
    "    return final_params, (process_batch, forecast_batch)"
   ]
  },
  {
   "cell_type": "code",
   "execution_count": 18,
   "id": "2863ad98-35c2-435c-bcea-86318c9152df",
   "metadata": {},
   "outputs": [],
   "source": [
    "def get_test_pred(data_test, params, lstm_fx):  \n",
    "    @partial(jax.jit, static_argnums=2)\n",
    "    def make_forecast(params, x_batch, horizon):\n",
    "        pbatch, fbatch = lstm_fx\n",
    "        # pass the data through the RNN. \n",
    "        # note that \"preds\" is the first forecasts\n",
    "        hs, preds = pbatch(params, x_batch)\n",
    "        # compute the (L_forecast-1) next forecasts\n",
    "        y_pred = fbatch(params, hs, preds, horizon-1)\n",
    "        #stick all the forecasts together\n",
    "        y_pred = jnp.concatenate([preds[:, None,:], y_pred], axis=1)\n",
    "\n",
    "        return y_pred\n",
    "\n",
    "    @jax.jit\n",
    "    def loss(params, x_batch, y_truth):\n",
    "        \"\"\"\n",
    "        For each time-series in a batch, forecasts over a finite horizon \n",
    "        and compute the MSE.\n",
    "\n",
    "        args:\n",
    "        ====\n",
    "         params: neural parameters\n",
    "         x_batch: a batch of inputs with dimension (batch_size, T_past, dim_data)\n",
    "         y_truth: a batch of values to forecasts with dimension (batch_size, T_future, dim_data)\n",
    "\n",
    "        outputs:\n",
    "        =======\n",
    "         MSE: MSE between forecasts and targets\n",
    "\n",
    "        \"\"\"\n",
    "\n",
    "        # horizon of the forecast\n",
    "        L_forecast = y_truth.shape[1]    \n",
    "        y_pred = make_forecast(params, x_batch, L_forecast)\n",
    "\n",
    "        #compute MSE\n",
    "        error = y_pred - y_truth\n",
    "        return jnp.mean(error**2)\n",
    "    \n",
    "    start = time()\n",
    "    num_data_test, L_past, data_dim = data_test.shape # testing ex, # steps used before, dim of data\n",
    "    mu_pred = make_forecast(params, data_test, L_forecast_test)\n",
    "    end = time()\n",
    "    print(f\"Testing complete. Time taken: {end - start:.2f}\")\n",
    "    return np.array(mu_pred)"
   ]
  },
  {
   "cell_type": "markdown",
   "id": "ffce42df-dfac-4615-b07e-4446a271acf9",
   "metadata": {},
   "source": [
    "# 3. Best Parameters"
   ]
  },
  {
   "cell_type": "code",
   "execution_count": 19,
   "id": "6fcf92b1-c8cb-4996-939f-882d454fb811",
   "metadata": {},
   "outputs": [],
   "source": [
    "nn_size = 500\n",
    "L_forecast_train = 4\n",
    "L_past = 4\n",
    "\n",
    "b_size = 128 # Batch size\n",
    "lr_list = [1e-3, 1e-4, 1e-5, 1e-6] # Learning rate schedule\n",
    "epoch_list = [200, 200, 200, 200]  # Number of epochs for each learning rate"
   ]
  },
  {
   "cell_type": "markdown",
   "id": "b7070f12-ba7a-4599-9006-1beede669821",
   "metadata": {},
   "source": [
    "# 4. Ensemble"
   ]
  },
  {
   "cell_type": "code",
   "execution_count": 20,
   "id": "74d7b604-3ef1-4bcb-906c-7bf127f6a62e",
   "metadata": {},
   "outputs": [],
   "source": [
    "res_folder = os.path.join(\"results\", \"ensemble_noise\")"
   ]
  },
  {
   "cell_type": "code",
   "execution_count": 21,
   "id": "e889a637-c08a-4c93-89a7-9e47d06cd87b",
   "metadata": {},
   "outputs": [],
   "source": [
    "def run_seed(seed):\n",
    "    \"\"\"\n",
    "    Runs the experiment with optimal parameters and appends the predictions into the global variable mu_preds\n",
    "    \"\"\"\n",
    "    params, lstm_fx = get_parameters(nn_size = nn_size, seed = seed, batch_size = b_size, L_past = L_past, \n",
    "                                 L_forecast_train = L_forecast_train, num_epoch = epoch_list, lr_schedule = lr_list,\n",
    "                                early_stopping = 50)\n",
    "    mean_pred = get_test_pred(X_test, params, lstm_fx)\n",
    "    file_name = \"mu_preds_\" + str(seed) + \".pkl\"\n",
    "    save_obj(mean_pred, res_folder, file_name)"
   ]
  },
  {
   "cell_type": "markdown",
   "id": "b029e63e-02d0-42b0-bbf9-e982688efdb0",
   "metadata": {},
   "source": [
    "## 4.1 Seed 2"
   ]
  },
  {
   "cell_type": "code",
   "execution_count": 22,
   "id": "94a029d6-0662-428d-979b-516d596711c9",
   "metadata": {},
   "outputs": [
    {
     "name": "stdout",
     "output_type": "stream",
     "text": [
      "Backpropogation start\n",
      "\n",
      "Epoch 10: Time taken = 3.18 | Train loss = 0.0210914 | Val loss =  1.4901116\n",
      "Epoch 20: Time taken = 3.10 | Train loss = 0.0183117 | Val loss =  1.4255195\n",
      "Epoch 30: Time taken = 3.00 | Train loss = 0.0167163 | Val loss =  1.3324105\n",
      "Epoch 40: Time taken = 2.73 | Train loss = 0.0157636 | Val loss =  1.3327079\n",
      "Epoch 50: Time taken = 3.04 | Train loss = 0.0151601 | Val loss =  1.1851038\n",
      "Epoch 60: Time taken = 2.83 | Train loss = 0.0147429 | Val loss =  1.1440040\n",
      "Epoch 70: Time taken = 3.05 | Train loss = 0.0144956 | Val loss =  1.1824741\n",
      "Epoch 80: Time taken = 3.01 | Train loss = 0.0142956 | Val loss =  1.0966786\n",
      "Epoch 90: Time taken = 3.26 | Train loss = 0.0141324 | Val loss =  1.1376482\n",
      "Epoch 100: Time taken = 2.69 | Train loss = 0.0140164 | Val loss =  1.0813930\n",
      "Epoch 110: Time taken = 3.60 | Train loss = 0.0139145 | Val loss =  1.1544344\n",
      "Epoch 120: Time taken = 3.20 | Train loss = 0.0138075 | Val loss =  1.0966303\n",
      "Epoch 130: Time taken = 3.06 | Train loss = 0.0137025 | Val loss =  1.0782758\n",
      "Epoch 140: Time taken = 3.09 | Train loss = 0.0136452 | Val loss =  1.1125820\n",
      "Epoch 150: Time taken = 2.54 | Train loss = 0.0135839 | Val loss =  1.1285257\n",
      "Epoch 160: Time taken = 3.69 | Train loss = 0.0135023 | Val loss =  1.0910026\n",
      "EARLY STOPPING. Epoch 169: Train loss = 0.0134670 | Val loss =  1.0744010\n",
      "Best Validation MSE: 1.0191057\n",
      "IMPROVED VALIDATION MSE\n",
      "\n",
      "Epoch 10: Time taken = 3.36 | Train loss = 0.0137457 | Val loss =  1.1522685\n",
      "Epoch 20: Time taken = 3.11 | Train loss = 0.0136666 | Val loss =  1.1105072\n",
      "Epoch 30: Time taken = 2.76 | Train loss = 0.0136052 | Val loss =  1.0738761\n",
      "Epoch 40: Time taken = 3.18 | Train loss = 0.0135283 | Val loss =  1.1116254\n",
      "Epoch 50: Time taken = 3.39 | Train loss = 0.0134687 | Val loss =  1.1171609\n",
      "EARLY STOPPING. Epoch 53: Train loss = 0.0134604 | Val loss =  1.0930943\n",
      "Best Validation MSE: 1.0351499\n",
      "\n",
      "Epoch 10: Time taken = 3.03 | Train loss = 0.0137475 | Val loss =  1.1696079\n",
      "Epoch 20: Time taken = 3.05 | Train loss = 0.0136628 | Val loss =  1.0646881\n",
      "Epoch 30: Time taken = 2.90 | Train loss = 0.0135919 | Val loss =  1.0979109\n",
      "Epoch 40: Time taken = 3.03 | Train loss = 0.0135214 | Val loss =  1.0784936\n",
      "Epoch 50: Time taken = 2.80 | Train loss = 0.0134678 | Val loss =  1.1515434\n",
      "Epoch 60: Time taken = 3.19 | Train loss = 0.0134436 | Val loss =  1.1221559\n",
      "Epoch 70: Time taken = 3.88 | Train loss = 0.0133664 | Val loss =  1.1079613\n",
      "EARLY STOPPING. Epoch 72: Train loss = 0.0133715 | Val loss =  1.1145399\n",
      "Best Validation MSE: 1.0266500\n",
      "\n",
      "Epoch 10: Time taken = 3.12 | Train loss = 0.0137587 | Val loss =  1.1260900\n",
      "Epoch 20: Time taken = 3.39 | Train loss = 0.0136383 | Val loss =  1.0656167\n",
      "Epoch 30: Time taken = 3.43 | Train loss = 0.0136095 | Val loss =  1.1148870\n",
      "Epoch 40: Time taken = 2.57 | Train loss = 0.0135197 | Val loss =  1.1180706\n",
      "Epoch 50: Time taken = 3.09 | Train loss = 0.0134742 | Val loss =  1.0852952\n",
      "Epoch 60: Time taken = 3.04 | Train loss = 0.0134234 | Val loss =  1.1239181\n",
      "Epoch 70: Time taken = 3.08 | Train loss = 0.0133765 | Val loss =  1.1091535\n",
      "Epoch 80: Time taken = 3.04 | Train loss = 0.0133300 | Val loss =  1.0896865\n",
      "Epoch 90: Time taken = 2.80 | Train loss = 0.0132844 | Val loss =  1.0658733\n",
      "Epoch 100: Time taken = 2.78 | Train loss = 0.0132452 | Val loss =  1.1023629\n",
      "Epoch 110: Time taken = 3.43 | Train loss = 0.0132009 | Val loss =  1.1187969\n",
      "EARLY STOPPING. Epoch 113: Train loss = 0.0132014 | Val loss =  1.1028196\n",
      "Best Validation MSE: 1.0382642\n",
      "\n",
      "Total time: 1277.62\n",
      "Complete. Time taken: 1277.67s\n",
      "Testing complete. Time taken: 1.33\n"
     ]
    }
   ],
   "source": [
    "run_seed(2)"
   ]
  },
  {
   "cell_type": "markdown",
   "id": "4e1bcbde-a902-403b-8e4b-7a33bb214bf6",
   "metadata": {},
   "source": [
    "## 4.2 Seed 4"
   ]
  },
  {
   "cell_type": "code",
   "execution_count": 23,
   "id": "234ce9db-336a-4605-935c-509ca931f01c",
   "metadata": {},
   "outputs": [
    {
     "name": "stdout",
     "output_type": "stream",
     "text": [
      "Backpropogation start\n",
      "\n",
      "Epoch 10: Time taken = 2.98 | Train loss = 0.0210425 | Val loss =  1.5425571\n",
      "Epoch 20: Time taken = 2.76 | Train loss = 0.0182973 | Val loss =  1.3830163\n",
      "Epoch 30: Time taken = 2.90 | Train loss = 0.0167179 | Val loss =  1.2682315\n",
      "Epoch 40: Time taken = 2.85 | Train loss = 0.0157937 | Val loss =  1.2692807\n",
      "Epoch 50: Time taken = 3.03 | Train loss = 0.0151793 | Val loss =  1.2295845\n",
      "Epoch 60: Time taken = 3.03 | Train loss = 0.0147691 | Val loss =  1.1624203\n",
      "Epoch 70: Time taken = 2.67 | Train loss = 0.0145008 | Val loss =  1.0727284\n",
      "Epoch 80: Time taken = 2.85 | Train loss = 0.0143103 | Val loss =  1.0734706\n",
      "Epoch 90: Time taken = 2.94 | Train loss = 0.0141386 | Val loss =  1.0980810\n",
      "Epoch 100: Time taken = 2.88 | Train loss = 0.0139899 | Val loss =  1.0766590\n",
      "Epoch 110: Time taken = 2.98 | Train loss = 0.0139254 | Val loss =  1.0828035\n",
      "Epoch 120: Time taken = 2.71 | Train loss = 0.0138112 | Val loss =  1.1124989\n",
      "Epoch 130: Time taken = 2.89 | Train loss = 0.0137299 | Val loss =  1.0630125\n",
      "Epoch 140: Time taken = 2.63 | Train loss = 0.0136524 | Val loss =  1.1127362\n",
      "Epoch 150: Time taken = 2.57 | Train loss = 0.0135843 | Val loss =  1.1110221\n",
      "Epoch 160: Time taken = 2.68 | Train loss = 0.0135241 | Val loss =  1.0838360\n",
      "Epoch 170: Time taken = 3.02 | Train loss = 0.0134596 | Val loss =  1.1025939\n",
      "EARLY STOPPING. Epoch 172: Train loss = 0.0134457 | Val loss =  1.0671771\n",
      "Best Validation MSE: 1.0247201\n",
      "IMPROVED VALIDATION MSE\n",
      "\n",
      "Epoch 10: Time taken = 3.05 | Train loss = 0.0137154 | Val loss =  1.0419832\n",
      "Epoch 20: Time taken = 2.99 | Train loss = 0.0136592 | Val loss =  1.1367559\n",
      "Epoch 30: Time taken = 3.18 | Train loss = 0.0135820 | Val loss =  1.1084652\n",
      "Epoch 40: Time taken = 2.88 | Train loss = 0.0135119 | Val loss =  1.0923442\n",
      "Epoch 50: Time taken = 3.04 | Train loss = 0.0134512 | Val loss =  1.1473956\n",
      "Epoch 60: Time taken = 2.82 | Train loss = 0.0133974 | Val loss =  1.0894985\n",
      "EARLY STOPPING. Epoch 60: Train loss = 0.0133974 | Val loss =  1.0894985\n",
      "Best Validation MSE: 1.0419832\n",
      "\n",
      "Epoch 10: Time taken = 2.40 | Train loss = 0.0137232 | Val loss =  1.0818902\n",
      "Epoch 20: Time taken = 3.90 | Train loss = 0.0136336 | Val loss =  1.1053430\n",
      "Epoch 30: Time taken = 3.15 | Train loss = 0.0135780 | Val loss =  1.0719372\n",
      "Epoch 40: Time taken = 2.28 | Train loss = 0.0135225 | Val loss =  1.0896695\n",
      "Epoch 50: Time taken = 2.39 | Train loss = 0.0134499 | Val loss =  1.1439047\n",
      "Epoch 60: Time taken = 2.97 | Train loss = 0.0133997 | Val loss =  1.0518383\n",
      "EARLY STOPPING. Epoch 62: Train loss = 0.0134052 | Val loss =  1.1811001\n",
      "Best Validation MSE: 1.0166689\n",
      "IMPROVED VALIDATION MSE\n",
      "\n",
      "Epoch 10: Time taken = 3.20 | Train loss = 0.0136435 | Val loss =  1.0680068\n",
      "Epoch 20: Time taken = 3.90 | Train loss = 0.0135505 | Val loss =  1.1393838\n",
      "Epoch 30: Time taken = 3.36 | Train loss = 0.0134931 | Val loss =  1.1248623\n",
      "Epoch 40: Time taken = 3.15 | Train loss = 0.0134449 | Val loss =  1.0844883\n",
      "Epoch 50: Time taken = 3.67 | Train loss = 0.0133947 | Val loss =  1.1276841\n",
      "Epoch 60: Time taken = 3.30 | Train loss = 0.0133438 | Val loss =  1.1354203\n",
      "Epoch 70: Time taken = 3.96 | Train loss = 0.0132878 | Val loss =  1.1252869\n",
      "Epoch 80: Time taken = 3.05 | Train loss = 0.0132515 | Val loss =  1.0979859\n",
      "Epoch 90: Time taken = 3.60 | Train loss = 0.0132112 | Val loss =  1.0842342\n",
      "Epoch 100: Time taken = 2.86 | Train loss = 0.0131849 | Val loss =  1.1258181\n",
      "Epoch 110: Time taken = 3.18 | Train loss = 0.0131601 | Val loss =  1.1193913\n",
      "Epoch 120: Time taken = 4.03 | Train loss = 0.0131007 | Val loss =  1.1101488\n",
      "Epoch 130: Time taken = 3.16 | Train loss = 0.0130796 | Val loss =  1.0959141\n",
      "Epoch 140: Time taken = 2.92 | Train loss = 0.0130652 | Val loss =  1.1097416\n",
      "EARLY STOPPING. Epoch 143: Train loss = 0.0130441 | Val loss =  1.1302928\n",
      "Best Validation MSE: 1.0475791\n",
      "\n",
      "Total time: 1350.08\n",
      "Complete. Time taken: 1350.10s\n",
      "Testing complete. Time taken: 1.10\n"
     ]
    }
   ],
   "source": [
    "run_seed(4)"
   ]
  },
  {
   "cell_type": "markdown",
   "id": "2abf4d4d-b41c-4b37-afd7-947a70837ff8",
   "metadata": {},
   "source": [
    "## 4.3 Seed 6"
   ]
  },
  {
   "cell_type": "code",
   "execution_count": 24,
   "id": "f751f451-8373-4ae3-b8b3-594b344fa18b",
   "metadata": {},
   "outputs": [
    {
     "name": "stdout",
     "output_type": "stream",
     "text": [
      "Backpropogation start\n",
      "\n",
      "Epoch 10: Time taken = 2.29 | Train loss = 0.0210563 | Val loss =  1.5862337\n",
      "Epoch 20: Time taken = 2.31 | Train loss = 0.0183553 | Val loss =  1.3565298\n",
      "Epoch 30: Time taken = 2.30 | Train loss = 0.0167770 | Val loss =  1.3186829\n",
      "Epoch 40: Time taken = 2.34 | Train loss = 0.0158133 | Val loss =  1.2009823\n",
      "Epoch 50: Time taken = 2.34 | Train loss = 0.0152119 | Val loss =  1.1598649\n",
      "Epoch 60: Time taken = 2.30 | Train loss = 0.0147860 | Val loss =  1.1357266\n",
      "Epoch 70: Time taken = 2.31 | Train loss = 0.0145276 | Val loss =  1.1013349\n",
      "Epoch 80: Time taken = 2.32 | Train loss = 0.0143264 | Val loss =  1.1118903\n",
      "Epoch 90: Time taken = 2.30 | Train loss = 0.0141771 | Val loss =  1.1153542\n",
      "Epoch 100: Time taken = 2.34 | Train loss = 0.0140467 | Val loss =  1.0773672\n",
      "Epoch 110: Time taken = 2.30 | Train loss = 0.0139424 | Val loss =  1.0772125\n",
      "Epoch 120: Time taken = 2.32 | Train loss = 0.0138516 | Val loss =  1.0408517\n",
      "Epoch 130: Time taken = 2.31 | Train loss = 0.0137449 | Val loss =  1.0483608\n",
      "Epoch 140: Time taken = 2.31 | Train loss = 0.0136685 | Val loss =  1.0912251\n",
      "Epoch 150: Time taken = 2.33 | Train loss = 0.0136060 | Val loss =  1.1440814\n",
      "EARLY STOPPING. Epoch 157: Train loss = 0.0135677 | Val loss =  1.1673924\n",
      "Best Validation MSE: 1.0353289\n",
      "IMPROVED VALIDATION MSE\n",
      "\n",
      "Epoch 10: Time taken = 2.31 | Train loss = 0.0138692 | Val loss =  1.0705205\n",
      "Epoch 20: Time taken = 2.32 | Train loss = 0.0137606 | Val loss =  1.0828068\n",
      "Epoch 30: Time taken = 2.37 | Train loss = 0.0136739 | Val loss =  1.0793589\n",
      "Epoch 40: Time taken = 2.31 | Train loss = 0.0136225 | Val loss =  1.1316221\n",
      "Epoch 50: Time taken = 2.32 | Train loss = 0.0135593 | Val loss =  1.0967340\n",
      "Epoch 60: Time taken = 2.32 | Train loss = 0.0135106 | Val loss =  1.0532078\n",
      "Epoch 70: Time taken = 2.32 | Train loss = 0.0134591 | Val loss =  1.0621719\n",
      "Epoch 80: Time taken = 2.31 | Train loss = 0.0134124 | Val loss =  1.0612108\n",
      "EARLY STOPPING. Epoch 84: Train loss = 0.0133965 | Val loss =  1.0978452\n",
      "Best Validation MSE: 1.0224943\n",
      "IMPROVED VALIDATION MSE\n",
      "\n",
      "Epoch 10: Time taken = 2.32 | Train loss = 0.0136048 | Val loss =  1.0925174\n",
      "Epoch 20: Time taken = 2.31 | Train loss = 0.0135306 | Val loss =  1.0911491\n",
      "Epoch 30: Time taken = 2.32 | Train loss = 0.0134825 | Val loss =  1.1142278\n",
      "Epoch 40: Time taken = 2.35 | Train loss = 0.0134383 | Val loss =  1.1035403\n",
      "Epoch 50: Time taken = 2.31 | Train loss = 0.0133744 | Val loss =  1.0894923\n",
      "Epoch 60: Time taken = 2.31 | Train loss = 0.0133441 | Val loss =  1.0766196\n",
      "Epoch 70: Time taken = 2.31 | Train loss = 0.0132860 | Val loss =  1.1126961\n",
      "Epoch 80: Time taken = 2.31 | Train loss = 0.0132638 | Val loss =  1.0514114\n",
      "EARLY STOPPING. Epoch 84: Train loss = 0.0132310 | Val loss =  1.1405092\n",
      "Best Validation MSE: 1.0382783\n",
      "\n",
      "Epoch 10: Time taken = 2.30 | Train loss = 0.0136121 | Val loss =  1.0538472\n",
      "Epoch 20: Time taken = 2.31 | Train loss = 0.0135399 | Val loss =  1.1208901\n",
      "Epoch 30: Time taken = 2.35 | Train loss = 0.0134887 | Val loss =  1.0811682\n",
      "Epoch 40: Time taken = 2.36 | Train loss = 0.0134229 | Val loss =  1.0956341\n",
      "Epoch 50: Time taken = 2.32 | Train loss = 0.0133740 | Val loss =  1.1090360\n",
      "Epoch 60: Time taken = 2.32 | Train loss = 0.0133343 | Val loss =  1.0870464\n",
      "Epoch 70: Time taken = 2.32 | Train loss = 0.0132868 | Val loss =  1.1192895\n",
      "Epoch 80: Time taken = 2.37 | Train loss = 0.0132624 | Val loss =  1.1205571\n",
      "Epoch 90: Time taken = 2.33 | Train loss = 0.0132080 | Val loss =  1.1562276\n",
      "Epoch 100: Time taken = 2.32 | Train loss = 0.0131710 | Val loss =  1.0978723\n",
      "Epoch 110: Time taken = 2.40 | Train loss = 0.0131285 | Val loss =  1.1184219\n",
      "EARLY STOPPING. Epoch 113: Train loss = 0.0131244 | Val loss =  1.0859983\n",
      "Best Validation MSE: 1.0398266\n",
      "\n",
      "Total time: 1024.96\n",
      "Complete. Time taken: 1024.98s\n",
      "Testing complete. Time taken: 0.72\n"
     ]
    }
   ],
   "source": [
    "run_seed(6)"
   ]
  },
  {
   "cell_type": "markdown",
   "id": "99791ee8-6d4d-49a2-99b5-48d06755a32d",
   "metadata": {},
   "source": [
    "## 4.4 Seed 8"
   ]
  },
  {
   "cell_type": "code",
   "execution_count": 25,
   "id": "6398e9f5-b404-4029-8d31-e839467929d3",
   "metadata": {},
   "outputs": [
    {
     "name": "stdout",
     "output_type": "stream",
     "text": [
      "Backpropogation start\n",
      "\n",
      "Epoch 10: Time taken = 2.32 | Train loss = 0.0209519 | Val loss =  1.4217958\n",
      "Epoch 20: Time taken = 2.29 | Train loss = 0.0181985 | Val loss =  1.3043104\n",
      "Epoch 30: Time taken = 2.32 | Train loss = 0.0166485 | Val loss =  1.3349144\n",
      "Epoch 40: Time taken = 2.37 | Train loss = 0.0157471 | Val loss =  1.3182245\n",
      "Epoch 50: Time taken = 2.32 | Train loss = 0.0151494 | Val loss =  1.1731933\n",
      "Epoch 60: Time taken = 2.32 | Train loss = 0.0147478 | Val loss =  1.1946197\n",
      "Epoch 70: Time taken = 2.34 | Train loss = 0.0144723 | Val loss =  1.1160094\n",
      "Epoch 80: Time taken = 2.33 | Train loss = 0.0142739 | Val loss =  1.1537226\n",
      "Epoch 90: Time taken = 2.32 | Train loss = 0.0141554 | Val loss =  1.1256329\n",
      "Epoch 100: Time taken = 2.36 | Train loss = 0.0139980 | Val loss =  1.0551010\n",
      "Epoch 110: Time taken = 2.33 | Train loss = 0.0139153 | Val loss =  1.0766619\n",
      "Epoch 120: Time taken = 2.35 | Train loss = 0.0138175 | Val loss =  1.0675601\n",
      "Epoch 130: Time taken = 2.34 | Train loss = 0.0137134 | Val loss =  1.1269122\n",
      "Epoch 140: Time taken = 2.34 | Train loss = 0.0136372 | Val loss =  1.1029820\n",
      "EARLY STOPPING. Epoch 149: Train loss = 0.0135799 | Val loss =  1.0742617\n",
      "Best Validation MSE: 1.0114433\n",
      "IMPROVED VALIDATION MSE\n",
      "\n",
      "Epoch 10: Time taken = 2.36 | Train loss = 0.0139113 | Val loss =  1.0629774\n",
      "Epoch 20: Time taken = 2.33 | Train loss = 0.0138082 | Val loss =  1.0547382\n",
      "Epoch 30: Time taken = 2.33 | Train loss = 0.0137019 | Val loss =  1.1402183\n",
      "Epoch 40: Time taken = 2.33 | Train loss = 0.0136564 | Val loss =  1.0828077\n",
      "Epoch 50: Time taken = 2.37 | Train loss = 0.0135801 | Val loss =  1.1178313\n",
      "Epoch 60: Time taken = 2.36 | Train loss = 0.0135102 | Val loss =  1.1253059\n",
      "Epoch 70: Time taken = 2.33 | Train loss = 0.0134678 | Val loss =  1.0747007\n",
      "Epoch 80: Time taken = 2.33 | Train loss = 0.0134247 | Val loss =  1.0623728\n",
      "Epoch 90: Time taken = 2.34 | Train loss = 0.0133660 | Val loss =  1.0724630\n",
      "Epoch 100: Time taken = 2.33 | Train loss = 0.0133113 | Val loss =  1.1300181\n",
      "EARLY STOPPING. Epoch 108: Train loss = 0.0133004 | Val loss =  1.1147361\n",
      "Best Validation MSE: 1.0209694\n",
      "\n",
      "Epoch 10: Time taken = 2.33 | Train loss = 0.0138981 | Val loss =  1.0645012\n",
      "Epoch 20: Time taken = 2.37 | Train loss = 0.0138243 | Val loss =  1.0792927\n",
      "Epoch 30: Time taken = 2.32 | Train loss = 0.0137383 | Val loss =  1.0788300\n",
      "Epoch 40: Time taken = 2.31 | Train loss = 0.0136685 | Val loss =  1.1387329\n",
      "Epoch 50: Time taken = 2.34 | Train loss = 0.0135759 | Val loss =  1.0848686\n",
      "EARLY STOPPING. Epoch 52: Train loss = 0.0135700 | Val loss =  1.0813973\n",
      "Best Validation MSE: 1.0572135\n",
      "\n",
      "Epoch 10: Time taken = 2.32 | Train loss = 0.0138948 | Val loss =  1.0447154\n",
      "Epoch 20: Time taken = 2.31 | Train loss = 0.0138218 | Val loss =  1.1221601\n",
      "Epoch 30: Time taken = 2.31 | Train loss = 0.0137338 | Val loss =  1.0614462\n",
      "Epoch 40: Time taken = 2.32 | Train loss = 0.0136342 | Val loss =  1.0658587\n",
      "Epoch 50: Time taken = 2.32 | Train loss = 0.0136014 | Val loss =  1.0965577\n",
      "Epoch 60: Time taken = 2.33 | Train loss = 0.0135090 | Val loss =  1.0929385\n",
      "Epoch 70: Time taken = 2.33 | Train loss = 0.0134710 | Val loss =  1.0831658\n",
      "Epoch 80: Time taken = 2.46 | Train loss = 0.0134309 | Val loss =  1.0992556\n",
      "Epoch 90: Time taken = 2.32 | Train loss = 0.0133799 | Val loss =  1.0839257\n",
      "Epoch 100: Time taken = 2.35 | Train loss = 0.0133205 | Val loss =  1.0733787\n",
      "EARLY STOPPING. Epoch 104: Train loss = 0.0133085 | Val loss =  1.0982710\n",
      "Best Validation MSE: 1.0329014\n",
      "\n",
      "Total time: 969.03\n",
      "Complete. Time taken: 969.04s\n",
      "Testing complete. Time taken: 0.70\n"
     ]
    }
   ],
   "source": [
    "run_seed(8)"
   ]
  },
  {
   "cell_type": "markdown",
   "id": "f44cb3d9-6d9b-4bc9-bfae-2f56f7a8848b",
   "metadata": {},
   "source": [
    "## 4.5 Seed 42"
   ]
  },
  {
   "cell_type": "code",
   "execution_count": 26,
   "id": "c531e8d9-b83e-4a1e-9307-71e37e3049a6",
   "metadata": {},
   "outputs": [
    {
     "name": "stdout",
     "output_type": "stream",
     "text": [
      "Backpropogation start\n",
      "\n",
      "Epoch 10: Time taken = 2.33 | Train loss = 0.0210738 | Val loss =  1.5679168\n",
      "Epoch 20: Time taken = 2.34 | Train loss = 0.0182678 | Val loss =  1.2847627\n",
      "Epoch 30: Time taken = 2.35 | Train loss = 0.0166720 | Val loss =  1.3003093\n",
      "Epoch 40: Time taken = 2.34 | Train loss = 0.0157464 | Val loss =  1.2352611\n",
      "Epoch 50: Time taken = 2.33 | Train loss = 0.0151357 | Val loss =  1.1601344\n",
      "Epoch 60: Time taken = 2.33 | Train loss = 0.0147572 | Val loss =  1.1760615\n",
      "Epoch 70: Time taken = 2.34 | Train loss = 0.0144957 | Val loss =  1.1625829\n",
      "Epoch 80: Time taken = 2.34 | Train loss = 0.0142884 | Val loss =  1.0961379\n",
      "Epoch 90: Time taken = 2.35 | Train loss = 0.0141369 | Val loss =  1.2282528\n",
      "Epoch 100: Time taken = 2.33 | Train loss = 0.0140183 | Val loss =  1.0731691\n",
      "Epoch 110: Time taken = 2.33 | Train loss = 0.0139008 | Val loss =  1.1389533\n",
      "Epoch 120: Time taken = 2.34 | Train loss = 0.0138114 | Val loss =  1.1423104\n",
      "Epoch 130: Time taken = 2.34 | Train loss = 0.0137417 | Val loss =  1.1421491\n",
      "Epoch 140: Time taken = 2.34 | Train loss = 0.0136794 | Val loss =  1.1007330\n",
      "Epoch 150: Time taken = 2.37 | Train loss = 0.0135943 | Val loss =  1.1221503\n",
      "EARLY STOPPING. Epoch 152: Train loss = 0.0135618 | Val loss =  1.1452370\n",
      "Best Validation MSE: 1.0223283\n",
      "IMPROVED VALIDATION MSE\n",
      "\n",
      "Epoch 10: Time taken = 2.39 | Train loss = 0.0138992 | Val loss =  1.0603896\n",
      "Epoch 20: Time taken = 2.34 | Train loss = 0.0137715 | Val loss =  1.0926119\n",
      "Epoch 30: Time taken = 2.35 | Train loss = 0.0137241 | Val loss =  1.1092016\n",
      "Epoch 40: Time taken = 2.34 | Train loss = 0.0136576 | Val loss =  1.0803857\n",
      "Epoch 50: Time taken = 2.34 | Train loss = 0.0135782 | Val loss =  1.1426219\n",
      "Epoch 60: Time taken = 2.43 | Train loss = 0.0135126 | Val loss =  1.1242877\n",
      "Epoch 70: Time taken = 2.34 | Train loss = 0.0134480 | Val loss =  1.0801755\n",
      "EARLY STOPPING. Epoch 79: Train loss = 0.0134015 | Val loss =  1.0958464\n",
      "Best Validation MSE: 1.0393889\n",
      "\n",
      "Epoch 10: Time taken = 2.35 | Train loss = 0.0138789 | Val loss =  1.1089312\n",
      "Epoch 20: Time taken = 2.34 | Train loss = 0.0137828 | Val loss =  1.1450919\n",
      "Epoch 30: Time taken = 2.35 | Train loss = 0.0137121 | Val loss =  1.1277918\n",
      "Epoch 40: Time taken = 2.35 | Train loss = 0.0136324 | Val loss =  1.0405763\n",
      "Epoch 50: Time taken = 2.35 | Train loss = 0.0135498 | Val loss =  1.1003051\n",
      "Epoch 60: Time taken = 2.34 | Train loss = 0.0135275 | Val loss =  1.0838794\n",
      "Epoch 70: Time taken = 2.35 | Train loss = 0.0134707 | Val loss =  1.1213584\n",
      "Epoch 80: Time taken = 2.34 | Train loss = 0.0134209 | Val loss =  1.0785521\n",
      "Epoch 90: Time taken = 2.38 | Train loss = 0.0133576 | Val loss =  1.0747241\n",
      "EARLY STOPPING. Epoch 90: Train loss = 0.0133576 | Val loss =  1.0747241\n",
      "Best Validation MSE: 1.0405763\n",
      "\n",
      "Epoch 10: Time taken = 2.34 | Train loss = 0.0138903 | Val loss =  1.1188700\n",
      "Epoch 20: Time taken = 2.34 | Train loss = 0.0138049 | Val loss =  1.1237378\n",
      "Epoch 30: Time taken = 2.34 | Train loss = 0.0137102 | Val loss =  1.1474231\n",
      "Epoch 40: Time taken = 2.34 | Train loss = 0.0136381 | Val loss =  1.0784142\n",
      "Epoch 50: Time taken = 2.35 | Train loss = 0.0135823 | Val loss =  1.1166005\n",
      "Epoch 60: Time taken = 2.34 | Train loss = 0.0135125 | Val loss =  1.1591243\n",
      "Epoch 70: Time taken = 2.34 | Train loss = 0.0134682 | Val loss =  1.1359279\n",
      "Epoch 80: Time taken = 2.34 | Train loss = 0.0134171 | Val loss =  1.1332902\n",
      "Epoch 90: Time taken = 2.34 | Train loss = 0.0133756 | Val loss =  1.1133301\n",
      "Epoch 100: Time taken = 2.59 | Train loss = 0.0133166 | Val loss =  1.1456987\n",
      "EARLY STOPPING. Epoch 101: Train loss = 0.0133108 | Val loss =  1.0775003\n",
      "Best Validation MSE: 1.0398022\n",
      "\n",
      "Total time: 994.43\n",
      "Complete. Time taken: 994.44s\n",
      "Testing complete. Time taken: 0.71\n"
     ]
    }
   ],
   "source": [
    "run_seed(42)"
   ]
  },
  {
   "cell_type": "markdown",
   "id": "021f9a9c-dd4d-4549-b65a-195d2dd63192",
   "metadata": {},
   "source": [
    "## 4.6 Compilation"
   ]
  },
  {
   "cell_type": "code",
   "execution_count": 27,
   "id": "4eb224e2-cb94-492f-96c7-22ed0c48535d",
   "metadata": {},
   "outputs": [],
   "source": [
    "mu_preds = []"
   ]
  },
  {
   "cell_type": "code",
   "execution_count": 28,
   "id": "00a4c7bd-9d75-4b6b-a71b-b3bdbdefb694",
   "metadata": {},
   "outputs": [],
   "source": [
    "for dirpath, dirnames, filenames in os.walk(res_folder):\n",
    "    for f in filenames:\n",
    "        mu_preds.append(load_obj(os.path.join(res_folder, f)))"
   ]
  },
  {
   "cell_type": "code",
   "execution_count": 29,
   "id": "ce03a763-3f8b-456e-994a-02301a96bc85",
   "metadata": {},
   "outputs": [],
   "source": [
    "mu_preds = np.array(mu_preds)"
   ]
  },
  {
   "cell_type": "code",
   "execution_count": 30,
   "id": "021d249e-f6dd-48f6-85c0-3081a16b4071",
   "metadata": {},
   "outputs": [
    {
     "name": "stdout",
     "output_type": "stream",
     "text": [
      "mean preds shape: (5, 100, 400, 40)\n"
     ]
    }
   ],
   "source": [
    "print(f\"mean preds shape: {mu_preds.shape}\")"
   ]
  },
  {
   "cell_type": "markdown",
   "id": "6622806d-4d17-4d9a-abf0-0253f0a0446d",
   "metadata": {},
   "source": [
    "# 5. Analyze results"
   ]
  },
  {
   "cell_type": "markdown",
   "id": "d349930f-82f7-4530-8938-b67d9b7362eb",
   "metadata": {},
   "source": [
    "## 5.1 Mean"
   ]
  },
  {
   "cell_type": "code",
   "execution_count": 31,
   "id": "31c4a1d8-05cd-4830-becc-f23a33e56fbd",
   "metadata": {},
   "outputs": [],
   "source": [
    "mixture_pred_all_mean = mu_preds.mean(axis = 0)"
   ]
  },
  {
   "cell_type": "code",
   "execution_count": 32,
   "id": "fecc906e-ef11-4c0c-853d-13fafdb2f967",
   "metadata": {},
   "outputs": [],
   "source": [
    "desc_name = \"lstm_nn\" + str(nn_size) + \"_ensemble\"\n",
    "res_ensemble = PointExperimentResult(mixture_pred_all_mean - y_test,\n",
    "                                           desc_name)"
   ]
  },
  {
   "cell_type": "code",
   "execution_count": 33,
   "id": "998fcdb2-a83f-43fb-b562-a704173739f3",
   "metadata": {},
   "outputs": [
    {
     "data": {
      "image/png": "[encoded data removed]",
      "text/plain": [
       "<Figure size 432x288 with 1 Axes>"
      ]
     },
     "metadata": {
      "needs_background": "light"
     },
     "output_type": "display_data"
    },
    {
     "name": "stdout",
     "output_type": "stream",
     "text": [
      "It takes around t = 0.54 for mean error to exceed 0.5\n"
     ]
    },
    {
     "data": {
      "image/png": "[encoded data removed]",
      "text/plain": [
       "<Figure size 432x288 with 1 Axes>"
      ]
     },
     "metadata": {
      "needs_background": "light"
     },
     "output_type": "display_data"
    },
    {
     "name": "stdout",
     "output_type": "stream",
     "text": [
      "It takes around t = 1.69 for mean error to exceed 1.0\n"
     ]
    }
   ],
   "source": [
    "res_ensemble.plot_rmse(error_thresh = 0.5)\n",
    "res_ensemble.plot_rmse(error_thresh = 1.)"
   ]
  },
  {
   "cell_type": "code",
   "execution_count": 34,
   "id": "c851195d-15d2-4826-a14b-e1ff2677f416",
   "metadata": {},
   "outputs": [
    {
     "name": "stdout",
     "output_type": "stream",
     "text": [
      "Median NRMSE at t = 0.2: 0.206\n",
      "Median NRMSE at t = 0.5: 0.456\n",
      "Median NRMSE at t = 1: 0.814\n",
      "Median NRMSE at t = 2: 1.020\n",
      "Median NRMSE at t = 3: 1.058\n"
     ]
    }
   ],
   "source": [
    "res_ensemble.get_loss([0.2, 0.5, 1, 2, 3])"
   ]
  },
  {
   "cell_type": "markdown",
   "id": "a5940bab-d631-400a-a49d-3168d71d0990",
   "metadata": {},
   "source": [
    "## 5.2 Variance"
   ]
  },
  {
   "cell_type": "markdown",
   "id": "c8fdd5d5-735b-4e79-90ed-eda4c531a245",
   "metadata": {},
   "source": [
    "**Visualise for one dataset**"
   ]
  },
  {
   "cell_type": "code",
   "execution_count": 35,
   "id": "37c9cf91-abdb-4659-9884-df017290a633",
   "metadata": {},
   "outputs": [],
   "source": [
    "idx = 0"
   ]
  },
  {
   "cell_type": "code",
   "execution_count": 36,
   "id": "29907764-8ca3-4c54-8aca-3fd004dd26c8",
   "metadata": {},
   "outputs": [
    {
     "data": {
      "image/png": "[encoded data removed]",
      "text/plain": [
       "<Figure size 432x288 with 1 Axes>"
      ]
     },
     "metadata": {
      "needs_background": "light"
     },
     "output_type": "display_data"
    }
   ],
   "source": [
    "plt.plot(mu_preds.var(axis = 0)[idx].mean(axis = 1))\n",
    "plt.grid(\"on\")\n",
    "plt.xlabel(\"Time steps\")\n",
    "plt.ylabel(\"Variance\")\n",
    "plt.show()"
   ]
  },
  {
   "cell_type": "markdown",
   "id": "f6c7b5b0-794f-4258-8eee-eeb95c6914ee",
   "metadata": {},
   "source": [
    "## 5.3 Negative Log LH"
   ]
  },
  {
   "cell_type": "code",
   "execution_count": 37,
   "id": "85d367e5-118a-49b5-a8fe-1ccaf1ee2a83",
   "metadata": {},
   "outputs": [],
   "source": [
    "def neg_log_LH(mean_pred, sd_pred):\n",
    "    d = 40\n",
    "    \n",
    "    constant_loss = d * np.log(2 * np.pi)\n",
    "    mu_loss = (mean_pred - y_test)**2\n",
    "    \n",
    "    return 0.5 * (constant_loss + d * np.log(sd_pred) + (mu_loss / sd_pred**2)).mean(axis = (0, 2))"
   ]
  },
  {
   "cell_type": "code",
   "execution_count": 38,
   "id": "2d9bc6ed-c14f-4256-8086-6d75f0f5a228",
   "metadata": {},
   "outputs": [],
   "source": [
    "std_dev = mu_preds.std(axis = 0)"
   ]
  },
  {
   "cell_type": "code",
   "execution_count": 39,
   "id": "348d6d99-32f0-4648-94d7-f71a2c2c71c2",
   "metadata": {},
   "outputs": [
    {
     "data": {
      "image/png": "[encoded data removed]",
      "text/plain": [
       "<Figure size 432x288 with 1 Axes>"
      ]
     },
     "metadata": {
      "needs_background": "light"
     },
     "output_type": "display_data"
    }
   ],
   "source": [
    "plt.plot(neg_log_LH(mixture_pred_all_mean,  std_dev))\n",
    "plt.title(\"Negative Log LH against time\")\n",
    "plt.xlabel(\"Time steps\")\n",
    "plt.ylabel(\"Negative Log LH\")\n",
    "plt.grid(\"on\")\n",
    "plt.show()"
   ]
  },
  {
   "cell_type": "code",
   "execution_count": 40,
   "id": "2c354420-1fac-4e40-90cf-1d408fae7615",
   "metadata": {},
   "outputs": [
    {
     "name": "stdout",
     "output_type": "stream",
     "text": [
      "Overall negative log LH: 27.20171\n"
     ]
    }
   ],
   "source": [
    "print(f\"Overall negative log LH: {neg_log_LH(mixture_pred_all_mean, std_dev).mean():.5f}\")"
   ]
  }
 ],
 "metadata": {
  "kernelspec": {
   "display_name": "Python 3 (ipykernel)",
   "language": "python",
   "name": "python3"
  },
  "language_info": {
   "codemirror_mode": {
    "name": "ipython",
    "version": 3
   },
   "file_extension": ".py",
   "mimetype": "text/x-python",
   "name": "python",
   "nbconvert_exporter": "python",
   "pygments_lexer": "ipython3",
   "version": "3.8.12"
  }
 },
 "nbformat": 4,
 "nbformat_minor": 5
}
