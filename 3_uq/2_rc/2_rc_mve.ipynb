{
 "cells": [
  {
   "cell_type": "markdown",
   "id": "14d57da9-ca77-4333-ba41-8236efa46467",
   "metadata": {},
   "source": [
    "# Method: RC \n",
    "# Dataset: Lorenz-96, F = 8\n",
    "# Purpose: Uncertainty Quantification - Mean Variance Estimation"
   ]
  },
  {
   "cell_type": "markdown",
   "id": "9711fa4f-7843-43d5-a047-14c762fd2e5f",
   "metadata": {},
   "source": [
    "# 1. Set-up"
   ]
  },
  {
   "cell_type": "code",
   "execution_count": 1,
   "id": "c9f852d7-2ea3-49a4-8bd5-a85ba731f802",
   "metadata": {},
   "outputs": [],
   "source": [
    "# GPU\n",
    "import os\n",
    "os.environ[\"CUDA_VISIBLE_DEVICES\"] = \"2\"\n",
    "\n",
    "# Package\n",
    "import sys\n",
    "sys.path.append(\"../..\")"
   ]
  },
  {
   "cell_type": "code",
   "execution_count": 2,
   "id": "1ee758f3-121d-4ca7-a44e-f00db4631d50",
   "metadata": {},
   "outputs": [],
   "source": [
    "from create_data import load_data\n",
    "from utils import * # Number of testing samples\n",
    "import numpy as np\n",
    "import matplotlib.pyplot as plt\n",
    "from time import time\n",
    "from scipy import sparse\n",
    "\n",
    "import jax\n",
    "import jax.numpy as jnp\n",
    "from jax import value_and_grad\n",
    "from jax.numpy import tanh\n",
    "from jax.example_libraries import optimizers"
   ]
  },
  {
   "cell_type": "code",
   "execution_count": 3,
   "id": "ee80a55c-5e5d-4120-8c56-8be07285e9fe",
   "metadata": {},
   "outputs": [],
   "source": [
    "train, test = load_data(\"Lorenz 96, F = 8\", \"../../data/lorenz8\", 0.5)"
   ]
  },
  {
   "cell_type": "code",
   "execution_count": 4,
   "id": "e30a3f5f-c622-4e95-ae1c-dd652be02b5e",
   "metadata": {},
   "outputs": [
    {
     "name": "stdout",
     "output_type": "stream",
     "text": [
      "Train size: (90000, 40)\n",
      "Test size: (90000, 40)\n"
     ]
    }
   ],
   "source": [
    "print(f\"Train size: {train.data.shape}\")\n",
    "print(f\"Test size: {test.data.shape}\")"
   ]
  },
  {
   "cell_type": "markdown",
   "id": "8288061f-20ca-4fe6-840e-6ee8cd8064b1",
   "metadata": {},
   "source": [
    "**Create test set**"
   ]
  },
  {
   "cell_type": "code",
   "execution_count": 5,
   "id": "9c868d5f-50c3-48a5-8762-e0de61468e5f",
   "metadata": {},
   "outputs": [],
   "source": [
    "L_forecast_test = 400   # steps to forecast forward (when testing)"
   ]
  },
  {
   "cell_type": "code",
   "execution_count": 6,
   "id": "5a2ec67a-c0aa-45b0-b059-cb9a1dceb438",
   "metadata": {},
   "outputs": [],
   "source": [
    "np.random.seed(1)\n",
    "\n",
    "data_test = test.data\n",
    "\n",
    "T_test, data_dim = data_test.shape\n",
    "possible_idx = T_test - (L_forecast_test + 1) # minus number of steps forward, and the warm-up period\n",
    "T_indices = np.random.randint(0, possible_idx, size = NUM_TEST)\n",
    "\n",
    "t_past_batch = np.repeat(T_indices[:, None], WARM_UP_TEST, axis = 1).astype(int) # 200 warmup \n",
    "t_pred_batch = (T_indices[:, None] + np.arange(1, 1 + L_forecast_test)[None, :].astype(int))\n",
    "\n",
    "X_test = data_test[t_past_batch]\n",
    "y_test = data_test[t_pred_batch]"
   ]
  },
  {
   "cell_type": "code",
   "execution_count": 7,
   "id": "7e57b737-d4d5-41f0-9077-071567f3758f",
   "metadata": {},
   "outputs": [
    {
     "name": "stdout",
     "output_type": "stream",
     "text": [
      "Test input size: (100, 2000, 40)\n",
      "Test output size: (100, 400, 40)\n"
     ]
    }
   ],
   "source": [
    "print(f\"Test input size: {X_test.shape}\")  # Number of test points x input length x dim\n",
    "print(f\"Test output size: {y_test.shape}\") # Number of test points x horizon x dim"
   ]
  },
  {
   "cell_type": "markdown",
   "id": "bb0bd417-72d0-4d90-8b16-30945dd0ee20",
   "metadata": {},
   "source": [
    "# 2. RC Implementation"
   ]
  },
  {
   "cell_type": "code",
   "execution_count": 8,
   "id": "bf9258f6-5dd2-4ddf-ab11-8f9f274ffb4a",
   "metadata": {},
   "outputs": [],
   "source": [
    "def get_parameters(nn_size, connectivity, spec_radius, lambd, \n",
    "                   seed, batch_size, num_epoch, lr_schedule = [1e-4], \n",
    "                   early_stopping = EARLY_STOPPING):\n",
    "    \"\"\"\n",
    "    Returns trained parameters (beta, intercept) and hidden layer values\n",
    "    \"\"\"\n",
    "    def initialize_coef():\n",
    "        \"\"\"\n",
    "        Initializes W_in and W. \n",
    "        W_in size = nn_size x data_dim\n",
    "        W size = nn_size x nn_size\n",
    "        \"\"\"\n",
    "        start = time()\n",
    "\n",
    "        # Generate input -> hidden unit weights\n",
    "        W_in = 2 * (np.random.rand(nn_size, data_dim) - 0.5) \n",
    "        W_in = W_in / (4 * np.sqrt(data_dim))\n",
    "\n",
    "        # Generate hidden -> hidden unit weights\n",
    "        # Considers connectivity to make the matrix sparse\n",
    "        start_mat = time()\n",
    "        rows = np.concatenate([np.full(connectivity, i) for i in range(nn_size)])\n",
    "        cols = np.concatenate([np.random.choice(range(nn_size), size = connectivity, replace = False) for _ in range(nn_size)])\n",
    "        vals = np.random.uniform(low = -omega, high = omega, size = (nn_size * connectivity))\n",
    "        W = sparse.csr_matrix((vals, (rows, cols)), shape = (nn_size, nn_size))\n",
    "        end_mat = time()\n",
    "        print(f\"W generated. Time taken: {end_mat - start_mat:.2f}s\")\n",
    "\n",
    "        # Calculate eigenvalues for scaling of matrix\n",
    "        print(\"Calculating eigenvalue\")\n",
    "        e_start = time()\n",
    "        eigenvals = sparse.linalg.eigs(W, which = \"LM\", return_eigenvectors = False, k = 1)\n",
    "        max_eigen = np.abs(eigenvals)\n",
    "        e_end = time()\n",
    "        print(f\"Eigenvalue calculated. Time taken: {e_end - e_start:.2f}s\")\n",
    "\n",
    "        # Scale matrix by spectral radius\n",
    "        W = W / max_eigen * spec_radius # scale the matrix W by its spectral radius\n",
    "        W = sparse.csr_matrix(W)\n",
    "        \n",
    "        end = time()\n",
    "        print(f\"W and W_in generated. Time taken: {end-start:.2f}s\")\n",
    "        print()\n",
    "        \n",
    "        return W_in, W\n",
    "    \n",
    "    def generate_hidden_states(W_in, W):\n",
    "        \"\"\" \n",
    "        Generate hidden states (z) values\n",
    "        hidden_states size = data_size x nn_size \n",
    "        \"\"\"\n",
    "        start = time()\n",
    "        \n",
    "        print(\"Generating z values...\")\n",
    "        indiv_z = np.zeros(shape = nn_size)\n",
    "        hidden_states = np.zeros((train_size, nn_size))\n",
    "        \n",
    "        for t in range(train_size):  \n",
    "            indiv_z = (1 - alpha) * indiv_z + \\\n",
    "                alpha * np.tanh(W_in @ x[t] + W @ indiv_z)\n",
    "            hidden_states[t, :] = indiv_z\n",
    "        end = time()\n",
    "        print(f\"z values generated. Time taken: {end-start:.2f}s\")\n",
    "        \n",
    "        return hidden_states\n",
    "    \n",
    "    def mse(y, y_pred):\n",
    "        return jnp.mean((y_pred - y)**2)\n",
    "    \n",
    "    @jax.jit\n",
    "    def neg_log_LH(params, x, y):\n",
    "        \"\"\"\n",
    "        returns negative-log-likelihood -logLH(P(y|params))\n",
    "        \"\"\"\n",
    "        d = data_dim\n",
    "        beta, intercept, beta2, intercept2 = params\n",
    "        \n",
    "        mu = x @ beta + intercept  # train_size x data_dim\n",
    "        \n",
    "        log_sigma = (x @ beta2 + intercept2).mean() # train_size x 1\n",
    "        sigma = jnp.exp(log_sigma)\n",
    "        \n",
    "        mu_loss = mse(mu, y)\n",
    "        constant = d * jnp.log(2 * jnp.pi)\n",
    "        sigma_loss = d * log_sigma\n",
    "        return 0.5*(constant + sigma_loss + (mu_loss / sigma**2))\n",
    "\n",
    "    def training(x, y):\n",
    "        \"\"\" \n",
    "        Trains regression of y~x using SGD. \n",
    "        Returns parameters (beta, intercept, beta2, intercept2) where \n",
    "        beta, intercept -> weights to determine the mean\n",
    "        beta2, intecept2 -> weights to determine log_sigma\n",
    "        \n",
    "        beta size = nn_size x data_dim\n",
    "        intercept = data_dim (will be added for each training data)\n",
    "        beta2 size = nn_size x 1\n",
    "        intercept2 = 1 (will be added for each training data)\n",
    "        \n",
    "        should predict a mu with train_size x data_dim (\\mu per dimension per datapoint)\n",
    "        and a sigma with train_size x 1 (single \\sigma for all dimensions per datapoint)\n",
    "        \"\"\"\n",
    "        \n",
    "        @jax.jit\n",
    "        def step(opt_state, x, y):\n",
    "            params = get_params(opt_state)\n",
    "            value, g = value_and_grad(neg_log_LH)(params, x, y)\n",
    "            opt_state = opt_update(0, g, opt_state)\n",
    "            return get_params(opt_state), opt_state, value\n",
    "\n",
    "        start = time()\n",
    "        \n",
    "        # Plot loss\n",
    "        loss_train_traj = []\n",
    "        loss_train_all_traj = []\n",
    "        \n",
    "        # Init parameters\n",
    "        beta = np.random.normal(0, 1 / np.sqrt(nn_size), size = (nn_size, data_dim))\n",
    "        beta2 = np.random.normal(0, 1 / np.sqrt(nn_size), size = (nn_size, 1))\n",
    "        intercept = np.random.normal(0, 1 / np.sqrt(nn_size * 2), size = (data_dim, ))\n",
    "        intercept2 = np.random.normal(0, 1 / np.sqrt(nn_size * 2), size = (1, ))\n",
    "        \n",
    "        t_size = int(1. * train_size)\n",
    "        \n",
    "        overall_best_loss = 9999999\n",
    "        \n",
    "        for i, lr in enumerate(lr_schedule):\n",
    "            opt_init, opt_update, get_params = optimizers.adam(step_size = lr) \n",
    "            opt_state = opt_init([beta, intercept, beta2, intercept2])\n",
    "            \n",
    "            # For early stopping\n",
    "            best_state = opt_state\n",
    "            counter = 0 \n",
    "            best_val_loss = 9999999\n",
    "            \n",
    "            for epoch in range(num_epoch[i]):\n",
    "                e_start = time()\n",
    "                \n",
    "                T_indices = np.arange(train_size)\n",
    "                np.random.shuffle(T_indices)\n",
    "\n",
    "                loss_epoch_train = []\n",
    "                for k in range(t_size // batch_size + 1):\n",
    "                    t_start = T_indices[np.arange(k * batch_size, (k+1) * batch_size).astype(int) % len(T_indices)]\n",
    "                    x_batch = x[t_start]\n",
    "                    y_batch = y[t_start]\n",
    "\n",
    "                    params, opt_state, l = step(opt_state, x_batch, y_batch)\n",
    "                    loss_epoch_train.append(l)\n",
    "                \n",
    "                \n",
    "                loss_train_all_traj += loss_epoch_train\n",
    "                mse_train = np.mean(loss_epoch_train) # -ve log likelihood\n",
    "                loss_train_traj.append(mse_train)\n",
    "                \n",
    "                e_end = time()\n",
    "                \n",
    "                if mse_train < best_val_loss:\n",
    "                    best_val_loss = mse_train\n",
    "                    counter = 0\n",
    "                    best_state = opt_state\n",
    "                else:\n",
    "                    counter += 1\n",
    "                    \n",
    "                if (epoch + 1) % 10 == 0 or (counter == 0 and epoch > 49):\n",
    "                    print(f\"Epoch {epoch + 1}: Train time = {e_end - e_start:.2f} | Train Loss = {mse_train:.7f}\", end = \" \")\n",
    "                    print()\n",
    "                if counter == early_stopping:\n",
    "                    print(f\"EARLY STOPPING. Epoch {epoch + 1}: Train loss = {mse_train:.7f}\")\n",
    "                    break\n",
    "            \n",
    "            print(f\"Best Training Loss : {best_val_loss:.7f}\") \n",
    "            \n",
    "            if best_val_loss < overall_best_loss:\n",
    "                print(\"IMPROVED VALIDATION LOSS\")\n",
    "                overall_best_loss = best_val_loss\n",
    "                overall_best_state = best_state\n",
    "            \n",
    "            beta, intercept, beta2, intercept2 = get_params(overall_best_state)\n",
    "            print()\n",
    "        \n",
    "        end = time()\n",
    "        print(f\"Total time: {end - start:.2f}\")\n",
    "        \n",
    "        return get_params(overall_best_state) # beta, intercept, beta2, intercept2\n",
    "    \n",
    "    start = time()\n",
    "   \n",
    "    x, y = train.data[:-1], train.data[1:]\n",
    "    copy_x, copy_y = x, y \n",
    "    train_size, data_dim = x.data.shape\n",
    "       \n",
    "    np.random.seed(seed)\n",
    "    W_in, W = initialize_coef()\n",
    "    z = generate_hidden_states(W_in, W)\n",
    "\n",
    "    # Want to regression Y ~ X ==> Y ~ [z, z**2]\n",
    "    final_y = y[transient:]\n",
    "    final_z = z[transient:]\n",
    "    print(\"Concatenating z with z**2\", end = \" \"); concat_start = time()\n",
    "    final_z = np.concatenate([final_z, final_z**2], axis = 1) # shape: train_size x (nn_size*2)\n",
    "    concat_end = time()\n",
    "    print(f\"Contenation complete. Time taken: {concat_end-concat_start:.2f}s\", end = \"\\n\\n\")\n",
    "    \n",
    "    train_size, nn_size = final_z.shape\n",
    "    \n",
    "    params = training(final_z, final_y)\n",
    "    end = time()\n",
    "    print(f\"Complete. Time taken: {end - start:.2f}s\")\n",
    "    \n",
    "    return params, (final_z, W_in, W)"
   ]
  },
  {
   "cell_type": "code",
   "execution_count": 9,
   "id": "2863ad98-35c2-435c-bcea-86318c9152df",
   "metadata": {},
   "outputs": [],
   "source": [
    "def get_test_pred(data_test, nn_size, params, W_in, W):   \n",
    "    beta, intercept, beta2, intercept2 = params\n",
    "    num_data_test, trans, data_dim = data_test.shape # testing ex, # steps used (transient), dim of data\n",
    "    \n",
    "    def prediction(inp):\n",
    "        \"\"\"\n",
    "        Returns the mean of one of the testing input\n",
    "        \n",
    "        mean will be a length_to_test x data_dim vector\n",
    "        \"\"\"\n",
    "        \n",
    "        z = np.zeros((nn_size, ))\n",
    "        for i in range(trans):\n",
    "            z = (1 - alpha) * z + alpha * np.tanh(W_in @ inp[i] + W @ z)\n",
    "        \n",
    "        mus = []\n",
    "        stddevs = []\n",
    "        \n",
    "        x = beta.T @ np.concatenate([z, z**2]) + intercept # output / input_of_next | size = dim_data\n",
    "        log_sd = beta2.T @ np.concatenate([z, z**2]) + intercept2 # log_sd of output | size = 1 \n",
    "        mus.append(x)\n",
    "        stddevs.append(jnp.exp(log_sd[0]))\n",
    "        \n",
    "        for _ in range(L_forecast_test - 1):\n",
    "            z = (1 - alpha) * z + alpha * np.tanh(W_in @ x + W @ z)\n",
    "            x = beta.T @ np.concatenate([z, z**2]) + intercept # output / input_of_next\n",
    "            log_sd = beta2.T @ np.concatenate([z, z**2]) + intercept2\n",
    "            mus.append(x)\n",
    "            stddevs.append(jnp.exp(log_sd[0]))\n",
    "        \n",
    "        return mus, stddevs\n",
    "    \n",
    "    start = time()\n",
    "    \n",
    "    mean_list = []\n",
    "    sd_list = []\n",
    "    \n",
    "    for i in range(num_data_test):\n",
    "        mean, sd = prediction(data_test[i])\n",
    "        mean_list.append(mean)\n",
    "        sd_list.append(sd)\n",
    "        if (i+1) % 10 == 0:\n",
    "            print(f\"{(i+1) / num_data_test * 100:.2f}% done\")\n",
    "    \n",
    "    end = time()\n",
    "    print(f\"Testing complete. Time taken: {end - start:.2f}\")\n",
    "    return np.array(mean_list), np.array(sd_list)"
   ]
  },
  {
   "cell_type": "code",
   "execution_count": 10,
   "id": "3c77fe48-46bf-4706-bdfb-f6a77eb60c82",
   "metadata": {},
   "outputs": [],
   "source": [
    "def neg_log_LH(mean_pred, sd_pred):\n",
    "    d = data_dim\n",
    "    \n",
    "    constant_loss = d * np.log(2 * np.pi)\n",
    "    mu_loss = (mean_pred - y_test)**2\n",
    "    if len(sd_pred.shape) == 2:\n",
    "        sd_expanded = np.moveaxis(np.tile(sd_pred, (d, 1, 1)), 0, 2)# Repeat sd for each of the 40 dimensions \n",
    "    elif len(sd_pred.shape) == 3:\n",
    "        sd_expanded = sd_pred\n",
    "    else:\n",
    "        raise Exception(\"Invalid sd_pred dimension\")\n",
    "    \n",
    "    return 0.5 * (constant_loss + d * np.log(sd_expanded) + (mu_loss / sd_expanded**2)).mean(axis = (0, 2))"
   ]
  },
  {
   "cell_type": "markdown",
   "id": "ffce42df-dfac-4615-b07e-4446a271acf9",
   "metadata": {},
   "source": [
    "# 3. Best Parameters"
   ]
  },
  {
   "cell_type": "code",
   "execution_count": 11,
   "id": "6fcf92b1-c8cb-4996-939f-882d454fb811",
   "metadata": {},
   "outputs": [],
   "source": [
    "nn_size = 12000\n",
    "ridge_penalty = 1e-6\n",
    "spec_radius = 0.1\n",
    "connectivity = 4\n",
    "\n",
    "lr_list = [1e-4]\n",
    "epoch_list = [300]\n",
    "\n",
    "transient = 200  # points to ignore to allow system to stabilise\n",
    "omega = 1         # scale of the values of matrix W\n",
    "alpha = 1         # hidden state memory\n",
    "b_size = 200"
   ]
  },
  {
   "cell_type": "markdown",
   "id": "b7070f12-ba7a-4599-9006-1beede669821",
   "metadata": {},
   "source": [
    "# 4. Mean Variance Estimation (Naive)"
   ]
  },
  {
   "cell_type": "code",
   "execution_count": 12,
   "id": "9eb7bc30-c291-4b9d-ad14-2ce4d6ebdcc3",
   "metadata": {},
   "outputs": [],
   "source": [
    "seed = 42"
   ]
  },
  {
   "cell_type": "code",
   "execution_count": 12,
   "id": "e889a637-c08a-4c93-89a7-9e47d06cd87b",
   "metadata": {},
   "outputs": [
    {
     "name": "stdout",
     "output_type": "stream",
     "text": [
      "W generated. Time taken: 22.71s\n",
      "Calculating eigenvalue\n",
      "Eigenvalue calculated. Time taken: 1.49s\n",
      "W and W_in generated. Time taken: 27.34s\n",
      "\n",
      "Generating z values...\n",
      "z values generated. Time taken: 54.79s\n",
      "Concatenating z with z**2 Contenation complete. Time taken: 12.03s\n",
      "\n",
      "Epoch 10: Train time = 10.36 | Train Loss = -95.4329529 \n",
      "Epoch 20: Train time = 9.72 | Train Loss = -96.5891571 \n",
      "Epoch 30: Train time = 9.86 | Train Loss = -97.4314423 \n",
      "Epoch 40: Train time = 10.41 | Train Loss = -98.1307144 \n",
      "Epoch 50: Train time = 9.93 | Train Loss = -98.8460617 \n",
      "Epoch 51: Train time = 9.94 | Train Loss = -98.9627838 \n",
      "Epoch 52: Train time = 9.90 | Train Loss = -98.9938583 \n",
      "Epoch 53: Train time = 10.08 | Train Loss = -99.1468353 \n",
      "Epoch 55: Train time = 9.93 | Train Loss = -99.2159500 \n",
      "Epoch 56: Train time = 9.44 | Train Loss = -99.2644882 \n",
      "Epoch 57: Train time = 9.89 | Train Loss = -99.3395386 \n",
      "Epoch 59: Train time = 9.92 | Train Loss = -99.5006638 \n",
      "Epoch 60: Train time = 10.58 | Train Loss = -99.5783691 \n",
      "Epoch 61: Train time = 10.25 | Train Loss = -99.6186523 \n",
      "Epoch 62: Train time = 9.92 | Train Loss = -99.6750336 \n",
      "Epoch 64: Train time = 9.95 | Train Loss = -99.8631744 \n",
      "Epoch 65: Train time = 9.92 | Train Loss = -100.0221176 \n",
      "Epoch 68: Train time = 9.96 | Train Loss = -100.0395584 \n",
      "Epoch 69: Train time = 9.98 | Train Loss = -100.1560211 \n",
      "Epoch 70: Train time = 9.92 | Train Loss = -100.1392670 \n",
      "Epoch 71: Train time = 9.93 | Train Loss = -100.2531586 \n",
      "Epoch 72: Train time = 9.90 | Train Loss = -100.3297272 \n",
      "Epoch 73: Train time = 9.89 | Train Loss = -100.3513718 \n",
      "Epoch 74: Train time = 10.03 | Train Loss = -100.4561691 \n",
      "Epoch 75: Train time = 9.73 | Train Loss = -100.5194016 \n",
      "Epoch 76: Train time = 9.18 | Train Loss = -100.5665054 \n",
      "Epoch 77: Train time = 9.46 | Train Loss = -100.6151505 \n",
      "Epoch 79: Train time = 9.91 | Train Loss = -100.7010345 \n",
      "Epoch 80: Train time = 9.87 | Train Loss = -100.8174133 \n",
      "Epoch 81: Train time = 9.85 | Train Loss = -100.9110260 \n",
      "Epoch 83: Train time = 10.01 | Train Loss = -101.0565948 \n",
      "Epoch 85: Train time = 9.91 | Train Loss = -101.1028748 \n",
      "Epoch 87: Train time = 9.98 | Train Loss = -101.1365814 \n",
      "Epoch 88: Train time = 9.93 | Train Loss = -101.3005524 \n",
      "Epoch 90: Train time = 9.98 | Train Loss = -101.3116989 \n",
      "Epoch 91: Train time = 9.99 | Train Loss = -101.4650803 \n",
      "Epoch 92: Train time = 9.96 | Train Loss = -101.5258408 \n",
      "Epoch 93: Train time = 10.02 | Train Loss = -101.6364441 \n",
      "Epoch 96: Train time = 9.86 | Train Loss = -101.6933823 \n",
      "Epoch 98: Train time = 9.59 | Train Loss = -101.7986679 \n",
      "Epoch 99: Train time = 9.96 | Train Loss = -101.8763885 \n",
      "Epoch 100: Train time = 10.07 | Train Loss = -101.8708191 \n",
      "Epoch 101: Train time = 10.02 | Train Loss = -102.0145111 \n",
      "Epoch 102: Train time = 9.93 | Train Loss = -102.0978241 \n",
      "Epoch 105: Train time = 10.10 | Train Loss = -102.1371078 \n",
      "Epoch 106: Train time = 10.02 | Train Loss = -102.1843491 \n",
      "Epoch 108: Train time = 9.98 | Train Loss = -102.2462234 \n",
      "Epoch 109: Train time = 9.57 | Train Loss = -102.4027710 \n",
      "Epoch 110: Train time = 9.91 | Train Loss = -102.4432755 \n",
      "Epoch 112: Train time = 9.93 | Train Loss = -102.5280762 \n",
      "Epoch 113: Train time = 10.05 | Train Loss = -102.5762405 \n",
      "Epoch 114: Train time = 9.97 | Train Loss = -102.6164398 \n",
      "Epoch 115: Train time = 9.43 | Train Loss = -102.6956711 \n",
      "Epoch 116: Train time = 9.91 | Train Loss = -102.7938461 \n",
      "Epoch 118: Train time = 9.91 | Train Loss = -102.8645935 \n",
      "Epoch 119: Train time = 9.91 | Train Loss = -102.9189682 \n",
      "Epoch 120: Train time = 10.08 | Train Loss = -102.9403458 \n",
      "Epoch 122: Train time = 9.96 | Train Loss = -103.0544128 \n",
      "Epoch 123: Train time = 9.96 | Train Loss = -103.0882263 \n",
      "Epoch 125: Train time = 10.04 | Train Loss = -103.1086273 \n",
      "Epoch 126: Train time = 9.94 | Train Loss = -103.1880417 \n",
      "Epoch 128: Train time = 9.87 | Train Loss = -103.2504425 \n",
      "Epoch 129: Train time = 9.99 | Train Loss = -103.2557449 \n",
      "Epoch 130: Train time = 10.04 | Train Loss = -103.3295670 \n",
      "Epoch 132: Train time = 10.09 | Train Loss = -103.5084381 \n",
      "Epoch 134: Train time = 10.03 | Train Loss = -103.6213989 \n",
      "Epoch 135: Train time = 9.82 | Train Loss = -103.6219406 \n",
      "Epoch 136: Train time = 10.10 | Train Loss = -103.6310349 \n",
      "Epoch 137: Train time = 10.09 | Train Loss = -103.6927032 \n",
      "Epoch 139: Train time = 10.30 | Train Loss = -103.8400726 \n",
      "Epoch 140: Train time = 10.95 | Train Loss = -103.7922211 \n",
      "Epoch 144: Train time = 9.87 | Train Loss = -103.9034576 \n",
      "Epoch 145: Train time = 9.38 | Train Loss = -104.0533295 \n",
      "Epoch 146: Train time = 9.98 | Train Loss = -104.1262360 \n",
      "Epoch 150: Train time = 9.94 | Train Loss = -104.1712799 \n",
      "Epoch 151: Train time = 9.41 | Train Loss = -104.2944641 \n",
      "Epoch 153: Train time = 9.55 | Train Loss = -104.3021317 \n",
      "Epoch 154: Train time = 9.35 | Train Loss = -104.3630447 \n",
      "Epoch 155: Train time = 9.89 | Train Loss = -104.5065765 \n",
      "Epoch 158: Train time = 9.95 | Train Loss = -104.5763626 \n",
      "Epoch 160: Train time = 9.80 | Train Loss = -104.5142822 \n",
      "Epoch 161: Train time = 9.89 | Train Loss = -104.6031265 \n",
      "Epoch 163: Train time = 9.94 | Train Loss = -104.7076416 \n",
      "Epoch 164: Train time = 9.93 | Train Loss = -104.7325134 \n",
      "Epoch 165: Train time = 9.87 | Train Loss = -104.8712234 \n",
      "Epoch 168: Train time = 9.24 | Train Loss = -104.8992233 \n",
      "Epoch 170: Train time = 9.94 | Train Loss = -104.8762817 \n",
      "Epoch 172: Train time = 10.04 | Train Loss = -104.9790039 \n",
      "Epoch 173: Train time = 9.99 | Train Loss = -104.9947433 \n",
      "Epoch 175: Train time = 10.00 | Train Loss = -105.1163177 \n",
      "Epoch 176: Train time = 10.04 | Train Loss = -105.1972427 \n",
      "Epoch 179: Train time = 10.02 | Train Loss = -105.2820053 \n",
      "Epoch 180: Train time = 10.03 | Train Loss = -105.1888428 \n",
      "Epoch 181: Train time = 9.88 | Train Loss = -105.3164520 \n",
      "Epoch 182: Train time = 10.06 | Train Loss = -105.3866501 \n",
      "Epoch 183: Train time = 9.55 | Train Loss = -105.3902283 \n",
      "Epoch 185: Train time = 10.19 | Train Loss = -105.4461823 \n",
      "Epoch 186: Train time = 9.84 | Train Loss = -105.4600296 \n",
      "Epoch 188: Train time = 9.76 | Train Loss = -105.5039062 \n",
      "Epoch 189: Train time = 9.63 | Train Loss = -105.5352020 \n",
      "Epoch 190: Train time = 10.04 | Train Loss = -105.4851608 \n",
      "Epoch 191: Train time = 10.43 | Train Loss = -105.5517273 \n",
      "Epoch 192: Train time = 10.58 | Train Loss = -105.6027298 \n",
      "Epoch 194: Train time = 10.55 | Train Loss = -105.7122955 \n",
      "Epoch 195: Train time = 10.63 | Train Loss = -105.7901230 \n",
      "Epoch 196: Train time = 10.48 | Train Loss = -105.7980270 \n",
      "Epoch 198: Train time = 10.76 | Train Loss = -105.9493332 \n",
      "Epoch 199: Train time = 10.27 | Train Loss = -105.9742126 \n",
      "Epoch 200: Train time = 10.20 | Train Loss = -105.8731537 \n",
      "Epoch 203: Train time = 10.98 | Train Loss = -106.0108337 \n",
      "Epoch 204: Train time = 11.40 | Train Loss = -106.0295868 \n",
      "Epoch 206: Train time = 10.46 | Train Loss = -106.1125793 \n",
      "Epoch 208: Train time = 10.64 | Train Loss = -106.1571121 \n",
      "Epoch 210: Train time = 10.91 | Train Loss = -106.0887909 \n",
      "Epoch 212: Train time = 10.58 | Train Loss = -106.1628799 \n",
      "Epoch 213: Train time = 10.46 | Train Loss = -106.2987823 \n",
      "Epoch 214: Train time = 10.69 | Train Loss = -106.3913422 \n",
      "Epoch 216: Train time = 10.21 | Train Loss = -106.4369278 \n",
      "Epoch 220: Train time = 10.73 | Train Loss = -106.3598938 \n",
      "Epoch 221: Train time = 10.43 | Train Loss = -106.5266571 \n",
      "Epoch 223: Train time = 10.69 | Train Loss = -106.5682068 \n",
      "Epoch 224: Train time = 10.87 | Train Loss = -106.6106415 \n",
      "Epoch 225: Train time = 10.22 | Train Loss = -106.6750107 \n",
      "Epoch 227: Train time = 10.89 | Train Loss = -106.7660141 \n",
      "Epoch 230: Train time = 10.65 | Train Loss = -106.7403030 \n",
      "Epoch 232: Train time = 10.31 | Train Loss = -106.7757568 \n",
      "Epoch 234: Train time = 10.35 | Train Loss = -106.8395386 \n",
      "Epoch 236: Train time = 10.75 | Train Loss = -106.9758224 \n",
      "Epoch 240: Train time = 10.71 | Train Loss = -107.0059128 \n",
      "Epoch 241: Train time = 11.21 | Train Loss = -107.0298767 \n",
      "Epoch 243: Train time = 11.09 | Train Loss = -107.0651855 \n",
      "Epoch 246: Train time = 11.21 | Train Loss = -107.1499176 \n",
      "Epoch 249: Train time = 11.26 | Train Loss = -107.2491989 \n",
      "Epoch 250: Train time = 10.52 | Train Loss = -107.2811661 \n",
      "Epoch 252: Train time = 11.29 | Train Loss = -107.4159088 \n",
      "Epoch 253: Train time = 10.63 | Train Loss = -107.4311676 \n",
      "Epoch 259: Train time = 10.43 | Train Loss = -107.4820404 \n",
      "Epoch 260: Train time = 10.48 | Train Loss = -107.4764328 \n",
      "Epoch 262: Train time = 10.29 | Train Loss = -107.5038300 \n",
      "Epoch 263: Train time = 10.47 | Train Loss = -107.5630417 \n",
      "Epoch 266: Train time = 10.60 | Train Loss = -107.6302872 \n",
      "Epoch 268: Train time = 10.58 | Train Loss = -107.6452637 \n",
      "Epoch 270: Train time = 11.20 | Train Loss = -107.5817795 \n",
      "Epoch 271: Train time = 10.88 | Train Loss = -107.7200699 \n",
      "Epoch 275: Train time = 10.62 | Train Loss = -107.8216553 \n",
      "Epoch 276: Train time = 11.43 | Train Loss = -107.8846054 \n",
      "Epoch 277: Train time = 11.00 | Train Loss = -107.9074249 \n",
      "Epoch 280: Train time = 11.41 | Train Loss = -107.6216049 \n",
      "Epoch 282: Train time = 10.89 | Train Loss = -107.9606934 \n",
      "Epoch 283: Train time = 10.92 | Train Loss = -107.9757004 \n",
      "Epoch 284: Train time = 11.02 | Train Loss = -108.0080872 \n",
      "Epoch 289: Train time = 10.50 | Train Loss = -108.1184769 \n",
      "Epoch 290: Train time = 10.69 | Train Loss = -108.1761932 \n",
      "Epoch 291: Train time = 12.24 | Train Loss = -108.2147446 \n",
      "Epoch 295: Train time = 10.84 | Train Loss = -108.2602997 \n",
      "Epoch 298: Train time = 10.77 | Train Loss = -108.2966156 \n",
      "Epoch 299: Train time = 10.74 | Train Loss = -108.2980957 \n",
      "Epoch 300: Train time = 10.65 | Train Loss = -108.3572693 \n",
      "Best Training Loss : -108.3572693\n",
      "IMPROVED VALIDATION LOSS\n",
      "\n",
      "Total time: 3087.20\n",
      "Complete. Time taken: 3181.82s\n",
      "10.00% done\n",
      "20.00% done\n",
      "30.00% done\n",
      "40.00% done\n",
      "50.00% done\n",
      "60.00% done\n",
      "70.00% done\n",
      "80.00% done\n",
      "90.00% done\n",
      "100.00% done\n",
      "Testing complete. Time taken: 293.63\n"
     ]
    }
   ],
   "source": [
    "params, internal = get_parameters(nn_size, connectivity, spec_radius, lambd = ridge_penalty, seed = seed, \n",
    "                                  batch_size = b_size, num_epoch = epoch_list, lr_schedule = lr_list)"
   ]
  },
  {
   "cell_type": "code",
   "execution_count": null,
   "id": "c3972a17-3205-4420-b8cc-1a10bc2075a6",
   "metadata": {},
   "outputs": [],
   "source": [
    "_, W_in, W = internal"
   ]
  },
  {
   "cell_type": "code",
   "execution_count": 121,
   "id": "cc2fc221-784e-4dd9-a189-027721bf1f05",
   "metadata": {},
   "outputs": [],
   "source": [
    "save_obj(params, \"results/mve\", \"params.pkl\")\n",
    "save_obj(W_in, \"results/mve\", \"W_in.pkl\")\n",
    "save_obj(W, \"results/mve\", \"W.pkl\")"
   ]
  },
  {
   "cell_type": "markdown",
   "id": "eb6b983d-4cf1-4190-93b4-ef7b379631b3",
   "metadata": {},
   "source": [
    "## RELOAD DATA"
   ]
  },
  {
   "cell_type": "code",
   "execution_count": 12,
   "id": "b7a9b410-b5ca-42b4-b919-4ae329ed010b",
   "metadata": {},
   "outputs": [],
   "source": [
    "# IF NEED TO RELOAD DATA\n",
    "\n",
    "params = load_obj(\"results/mve/params.pkl\")\n",
    "W_in = load_obj(\"results/mve/W_in.pkl\")\n",
    "W = load_obj(\"results/mve/W.pkl\")"
   ]
  },
  {
   "cell_type": "code",
   "execution_count": 13,
   "id": "e34ec16a-664c-405b-92a1-a70df9bac7c9",
   "metadata": {},
   "outputs": [
    {
     "name": "stdout",
     "output_type": "stream",
     "text": [
      "10.00% done\n",
      "20.00% done\n",
      "30.00% done\n",
      "40.00% done\n",
      "50.00% done\n",
      "60.00% done\n",
      "70.00% done\n",
      "80.00% done\n",
      "90.00% done\n",
      "100.00% done\n",
      "Testing complete. Time taken: 256.52\n"
     ]
    }
   ],
   "source": [
    "mean_pred, sd_pred = get_test_pred(X_test, nn_size, params, W_in, W)"
   ]
  },
  {
   "cell_type": "code",
   "execution_count": 14,
   "id": "f0dc8b28-d15a-4da6-91bc-dbbce09133b4",
   "metadata": {},
   "outputs": [],
   "source": [
    "save_obj(mean_pred, \"results/mve\", \"mean_pred_naive.pkl\")\n",
    "save_obj(sd_pred, \"results/mve\", \"sd_pred_naive.pkl\")"
   ]
  },
  {
   "cell_type": "code",
   "execution_count": 13,
   "id": "556c1ee4-1113-44c0-93d6-7b47dfac60fa",
   "metadata": {},
   "outputs": [],
   "source": [
    "mean_pred = load_obj(\"results/mve/mean_pred_naive.pkl\")\n",
    "sd_pred = load_obj(\"results/mve/sd_pred_naive.pkl\")"
   ]
  },
  {
   "cell_type": "markdown",
   "id": "4a83ba5c-8cea-41ee-94c8-dfb38ec32c53",
   "metadata": {},
   "source": [
    "## 4.2 MSE"
   ]
  },
  {
   "cell_type": "code",
   "execution_count": 12,
   "id": "7322e5b8-63f9-4525-af8d-efb4998e8a6d",
   "metadata": {},
   "outputs": [
    {
     "data": {
      "image/png": "[encoded data removed]",
      "text/plain": [
       "<Figure size 432x288 with 1 Axes>"
      ]
     },
     "metadata": {
      "needs_background": "light"
     },
     "output_type": "display_data"
    },
    {
     "name": "stdout",
     "output_type": "stream",
     "text": [
      "It takes around 1.69 Lyapunov Time for mean error to exceed 0.5\n",
      "\n",
      "Median NRMSE at 0.5 Lyapunov Time: 0.097\n",
      "Median NRMSE at 1.0 Lyapunov Time: 0.237\n",
      "Median NRMSE at 2.0 Lyapunov Time: 0.678\n",
      "Median NRMSE at 5.0 Lyapunov Time: 1.287\n"
     ]
    }
   ],
   "source": [
    "res_single = PointExperimentResultLyapunov(mean_pred - y_test, \"lorenz\")\n",
    "res_single.plot_rmse(save_name = \"RC MVE_Naive Horizon\")\n",
    "print()\n",
    "res_single.get_loss()"
   ]
  },
  {
   "cell_type": "markdown",
   "id": "058c927b-6b84-40ed-bbe1-2f07ecb434d6",
   "metadata": {},
   "source": [
    "## 4.3 Variance"
   ]
  },
  {
   "cell_type": "code",
   "execution_count": 13,
   "id": "ed63a19e-f223-4a1c-b70f-d01aac3252e2",
   "metadata": {},
   "outputs": [],
   "source": [
    "idx = 0"
   ]
  },
  {
   "cell_type": "code",
   "execution_count": 14,
   "id": "77c9fb62-0f1b-4b7e-98c3-a4bd38c94ddc",
   "metadata": {},
   "outputs": [
    {
     "data": {
      "image/png": "[encoded data removed]",
      "text/plain": [
       "<Figure size 432x288 with 1 Axes>"
      ]
     },
     "metadata": {
      "needs_background": "light"
     },
     "output_type": "display_data"
    }
   ],
   "source": [
    "plt.plot(np.arange(L_forecast_test) / LORENZ_LT * 0.01, sd_pred[idx])\n",
    "plt.grid(\"on\")\n",
    "plt.xlabel(\"Lyapunov Time\")\n",
    "plt.ylabel(\"Variance\")\n",
    "plt.savefig(\"RC MVE_Naive Variance.png\", facecolor = \"white\", bbox_inches = \"tight\")\n",
    "plt.show()"
   ]
  },
  {
   "cell_type": "markdown",
   "id": "35481a81-f44d-49ee-8d0c-7af67d5d9546",
   "metadata": {},
   "source": [
    "## 4.4 Negative Log LH"
   ]
  },
  {
   "cell_type": "code",
   "execution_count": 15,
   "id": "9ab9780c-7184-46a2-92f0-8bc29c521c9a",
   "metadata": {},
   "outputs": [
    {
     "data": {
      "image/png": "[encoded data removed]",
      "text/plain": [
       "<Figure size 432x288 with 1 Axes>"
      ]
     },
     "metadata": {
      "needs_background": "light"
     },
     "output_type": "display_data"
    }
   ],
   "source": [
    "plt.plot(np.arange(L_forecast_test) / LORENZ_LT * 0.01, neg_log_LH(mean_pred, sd_pred))\n",
    "plt.xlabel(\"Lyapunov Time\")\n",
    "plt.ylabel(\"Negative Log LH\")\n",
    "plt.grid(\"on\")\n",
    "plt.savefig(\"RC MVE_Naive NLL.png\", facecolor = \"white\", bbox_inches = \"tight\")\n",
    "plt.show()"
   ]
  },
  {
   "cell_type": "code",
   "execution_count": 16,
   "id": "a45ace80-8fb6-4421-a01b-3b072d7814c5",
   "metadata": {},
   "outputs": [
    {
     "name": "stdout",
     "output_type": "stream",
     "text": [
      "Mean negative log LH: 4178810.65800\n"
     ]
    }
   ],
   "source": [
    "print(f\"Mean negative log LH: {neg_log_LH(mean_pred, sd_pred).mean():.5f}\")"
   ]
  },
  {
   "cell_type": "markdown",
   "id": "97d18e15-51bd-48ce-a6e7-11dab1427a26",
   "metadata": {},
   "source": [
    "# 5. Mean Variance Estimation (Sampling trajectories)"
   ]
  },
  {
   "cell_type": "code",
   "execution_count": 21,
   "id": "e0fe8841-9d8c-4640-bf2b-3bbe86161748",
   "metadata": {},
   "outputs": [],
   "source": [
    "def get_test_pred_sampled(data_test, params, W_in, W, seed):\n",
    "    np.random.seed(seed)\n",
    "    start = time()\n",
    "    \n",
    "    beta, intercept, beta2, intercept2 = params\n",
    "    num_data_test, trans, data_dim = data_test.shape # testing ex, # steps used (transient), dim of data\n",
    "    \n",
    "    def generate_hidden_state(data):\n",
    "        z = np.zeros((nn_size, ))\n",
    "        for i in range(trans):\n",
    "            z = (1 - alpha) * z + alpha * np.tanh(W_in @ data[i] + W @ z)\n",
    "        return z\n",
    "    \n",
    "    test_mus = []\n",
    "    test_sds = []\n",
    "    counter = 0\n",
    "    \n",
    "    for inp in data_test:\n",
    "        z = generate_hidden_state(inp)\n",
    "        first_mean = beta.T @ np.concatenate([z, z**2]) + intercept\n",
    "        first_log_sd = beta2.T @ np.concatenate([z, z**2]) + intercept2\n",
    "        first_sd = np.exp(first_log_sd[0])\n",
    "\n",
    "        x = first_mean\n",
    "        all_mu = []\n",
    "        all_sd = []\n",
    "        \n",
    "        for tr in range(N_TRAJ_MVE // 5): \n",
    "            x = np.random.normal(first_mean, first_sd)\n",
    "            mu_list = [x]\n",
    "            sd_list = [first_sd] \n",
    "\n",
    "            for _ in range(L_forecast_test - 1):\n",
    "                z = (1 - alpha) * z + alpha * np.tanh(W_in @ x + W @ z)\n",
    "                x = beta.T @ np.concatenate([z, z**2]) + intercept # output / input_of_next\n",
    "                log_sd = beta2.T @ np.concatenate([z, z**2]) + intercept2\n",
    "                mu_list.append(x)\n",
    "                sd_list.append(np.exp(log_sd[0]))\n",
    "\n",
    "            all_mu.append(np.array(mu_list))\n",
    "            all_sd.append(np.array(sd_list))\n",
    "        \n",
    "        test_mus.append(np.array(all_mu))\n",
    "        test_sds.append(np.array(all_sd))\n",
    "        \n",
    "        counter += 1\n",
    "        \n",
    "        if counter % 5 == 0:\n",
    "            print(f\"{counter / num_data_test * 100:.2f}% done\")\n",
    "    \n",
    "    end = time()\n",
    "    print(f\"Time taken: {end - start:.2f}\")\n",
    "    return np.array(test_mus), np.array(test_sds) "
   ]
  },
  {
   "cell_type": "code",
   "execution_count": 24,
   "id": "6d5ed1ea-1569-4115-82e7-3fc4b9cc09b1",
   "metadata": {},
   "outputs": [
    {
     "name": "stdout",
     "output_type": "stream",
     "text": [
      "5.00% done\n",
      "10.00% done\n",
      "15.00% done\n",
      "20.00% done\n",
      "25.00% done\n",
      "30.00% done\n",
      "35.00% done\n",
      "40.00% done\n",
      "45.00% done\n",
      "50.00% done\n",
      "55.00% done\n",
      "60.00% done\n",
      "65.00% done\n",
      "70.00% done\n",
      "75.00% done\n",
      "80.00% done\n",
      "85.00% done\n",
      "90.00% done\n",
      "95.00% done\n",
      "100.00% done\n",
      "Time taken: 4459.86\n"
     ]
    }
   ],
   "source": [
    "maa, saa = get_test_pred_sampled(X_test, params, W_in, W, seed)"
   ]
  },
  {
   "cell_type": "code",
   "execution_count": 25,
   "id": "dace618a-fc49-4749-bf1f-1657741517e6",
   "metadata": {},
   "outputs": [],
   "source": [
    "mve_s_mean = maa.mean(axis = 1)\n",
    "mve_s_sigma = np.sqrt((np.moveaxis(np.tile(saa, (40, 1, 1, 1)), 0, 3)**2 + maa**2).mean(axis = 1) - mve_s_mean**2)"
   ]
  },
  {
   "cell_type": "code",
   "execution_count": 26,
   "id": "f9c5318e-5453-4003-b596-0926378b46c6",
   "metadata": {},
   "outputs": [],
   "source": [
    "save_obj(mve_s_mean, \"results/mve\", \"mean_pred_sampled.pkl\")\n",
    "save_obj(mve_s_sigma, \"results/mve\", \"sd_pred_sampled.pkl\")"
   ]
  },
  {
   "cell_type": "code",
   "execution_count": 14,
   "id": "346d2a20-5ce1-49c7-b4e7-f5ac90d5f46a",
   "metadata": {},
   "outputs": [],
   "source": [
    "mve_s_mean = load_obj(\"results/mve/mean_pred_sampled.pkl\")\n",
    "mve_s_sigma = load_obj(\"results/mve/sd_pred_sampled.pkl\")"
   ]
  },
  {
   "cell_type": "markdown",
   "id": "ee628d0c-3e24-488a-9f01-3d4fe6affcf6",
   "metadata": {
    "toc-hr-collapsed": true
   },
   "source": [
    "## 5.1 Variance"
   ]
  },
  {
   "cell_type": "markdown",
   "id": "2def9c3d-7866-45da-9cb0-565dbc43315a",
   "metadata": {},
   "source": [
    "**Visualise for one dataset**"
   ]
  },
  {
   "cell_type": "code",
   "execution_count": 18,
   "id": "7f3f7ca9-c2ce-49f3-8b7e-ee96a76bf56a",
   "metadata": {},
   "outputs": [],
   "source": [
    "idx = 0"
   ]
  },
  {
   "cell_type": "code",
   "execution_count": 19,
   "id": "0b588d07-fa75-4786-a4dc-9613a979da93",
   "metadata": {},
   "outputs": [
    {
     "data": {
      "image/png": "[encoded data removed]",
      "text/plain": [
       "<Figure size 432x288 with 1 Axes>"
      ]
     },
     "metadata": {
      "needs_background": "light"
     },
     "output_type": "display_data"
    }
   ],
   "source": [
    "plt.plot(np.arange(L_forecast_test) / LORENZ_LT * 0.01, mve_s_sigma[idx].mean(axis = 1)**2)\n",
    "plt.grid(\"on\")\n",
    "plt.xlabel(\"Lyapunov Time\")\n",
    "plt.ylabel(\"Variance\")\n",
    "plt.savefig(\"RC MVE_Sample Variance.png\", facecolor = \"white\", bbox_inches = \"tight\")\n",
    "plt.show()"
   ]
  },
  {
   "cell_type": "markdown",
   "id": "f40f10cb-fd93-4f29-aa57-2d3b83b13bca",
   "metadata": {},
   "source": [
    "## 5.2 MSE"
   ]
  },
  {
   "cell_type": "code",
   "execution_count": 20,
   "id": "f53dace6-6817-4a13-a767-507a809c8e9a",
   "metadata": {},
   "outputs": [
    {
     "data": {
      "image/png": "[encoded data removed]",
      "text/plain": [
       "<Figure size 432x288 with 1 Axes>"
      ]
     },
     "metadata": {
      "needs_background": "light"
     },
     "output_type": "display_data"
    },
    {
     "name": "stdout",
     "output_type": "stream",
     "text": [
      "It takes around 1.69 Lyapunov Time for mean error to exceed 0.5\n",
      "\n",
      "Median NRMSE at 0.5 Lyapunov Time: 0.100\n",
      "Median NRMSE at 1.0 Lyapunov Time: 0.241\n",
      "Median NRMSE at 2.0 Lyapunov Time: 0.665\n",
      "Median NRMSE at 5.0 Lyapunov Time: 1.067\n"
     ]
    }
   ],
   "source": [
    "res_single = PointExperimentResultLyapunov(mve_s_mean - y_test, \"lorenz\")\n",
    "res_single.plot_rmse(save_name = \"RC MVE_Sample Horizon\")\n",
    "print()\n",
    "res_single.get_loss()"
   ]
  },
  {
   "cell_type": "markdown",
   "id": "a532d077-1a09-4a53-9091-904c63e87370",
   "metadata": {},
   "source": [
    "## 5.3 Negative Log LH"
   ]
  },
  {
   "cell_type": "code",
   "execution_count": 18,
   "id": "5dd0031b-0685-4dc0-b197-91e44a2bc104",
   "metadata": {},
   "outputs": [
    {
     "data": {
      "image/png": "[encoded data removed]",
      "text/plain": [
       "<Figure size 432x288 with 1 Axes>"
      ]
     },
     "metadata": {
      "needs_background": "light"
     },
     "output_type": "display_data"
    }
   ],
   "source": [
    "plt.plot((np.arange(L_forecast_test) / LORENZ_LT * 0.01)[1:], neg_log_LH(mve_s_mean, mve_s_sigma)[1:])\n",
    "plt.xlabel(\"Lyapunov Time\")\n",
    "plt.ylabel(\"Negative Log LH\")\n",
    "plt.grid(\"on\")\n",
    "plt.axhline(37.5, c = \"red\", ls = \"--\")\n",
    "# plt.savefig(\"RC MVE_Sample NLL.png\", facecolor = \"white\", bbox_inches = \"tight\")\n",
    "plt.show()"
   ]
  },
  {
   "cell_type": "code",
   "execution_count": 21,
   "id": "795c7626-720d-4925-9e17-0eb2864819a6",
   "metadata": {},
   "outputs": [
    {
     "data": {
      "text/plain": [
       "1.4098360655737705"
      ]
     },
     "execution_count": 21,
     "metadata": {},
     "output_type": "execute_result"
    }
   ],
   "source": [
    "np.where(neg_log_LH(mve_s_mean, mve_s_sigma)[1:] > 37.3)[0][0] * 0.01 / LORENZ_LT"
   ]
  },
  {
   "cell_type": "code",
   "execution_count": 22,
   "id": "71552e76-8bf9-4cda-a06d-fe62539b15a0",
   "metadata": {},
   "outputs": [
    {
     "name": "stdout",
     "output_type": "stream",
     "text": [
      "Mean negative log LH: 29.70930\n"
     ]
    }
   ],
   "source": [
    "print(f\"Mean negative log LH: {neg_log_LH(mve_s_mean, mve_s_sigma).mean():.5f}\")"
   ]
  }
 ],
 "metadata": {
  "kernelspec": {
   "display_name": "Python 3 (ipykernel)",
   "language": "python",
   "name": "python3"
  },
  "language_info": {
   "codemirror_mode": {
    "name": "ipython",
    "version": 3
   },
   "file_extension": ".py",
   "mimetype": "text/x-python",
   "name": "python",
   "nbconvert_exporter": "python",
   "pygments_lexer": "ipython3",
   "version": "3.8.12"
  }
 },
 "nbformat": 4,
 "nbformat_minor": 5
}
