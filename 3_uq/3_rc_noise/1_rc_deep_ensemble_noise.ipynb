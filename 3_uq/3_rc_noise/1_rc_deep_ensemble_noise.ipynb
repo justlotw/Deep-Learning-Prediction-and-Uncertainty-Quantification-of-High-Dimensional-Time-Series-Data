{
 "cells": [
  {
   "cell_type": "markdown",
   "id": "14d57da9-ca77-4333-ba41-8236efa46467",
   "metadata": {},
   "source": [
    "# Method: RC \n",
    "# Dataset: Lorenz-96, F = 8\n",
    "# Purpose: Uncertainty Quantification - Deep Ensemble"
   ]
  },
  {
   "cell_type": "markdown",
   "id": "9711fa4f-7843-43d5-a047-14c762fd2e5f",
   "metadata": {},
   "source": [
    "# 1. Set-up"
   ]
  },
  {
   "cell_type": "code",
   "execution_count": 1,
   "id": "c9f852d7-2ea3-49a4-8bd5-a85ba731f802",
   "metadata": {},
   "outputs": [],
   "source": [
    "# GPU\n",
    "import os\n",
    "os.environ[\"CUDA_VISIBLE_DEVICES\"] = \"3\"\n",
    "\n",
    "# Package\n",
    "import sys\n",
    "sys.path.append(\"../..\")"
   ]
  },
  {
   "cell_type": "code",
   "execution_count": 2,
   "id": "1ee758f3-121d-4ca7-a44e-f00db4631d50",
   "metadata": {},
   "outputs": [],
   "source": [
    "from create_data import load_data\n",
    "from utils import * # Number of testing samples\n",
    "import numpy as np\n",
    "import matplotlib.pyplot as plt\n",
    "from time import time\n",
    "from scipy import sparse\n",
    "\n",
    "import jax\n",
    "import jax.numpy as jnp\n",
    "from jax import value_and_grad\n",
    "from jax.numpy import tanh\n",
    "from jax.example_libraries import optimizers"
   ]
  },
  {
   "cell_type": "code",
   "execution_count": 3,
   "id": "ee80a55c-5e5d-4120-8c56-8be07285e9fe",
   "metadata": {},
   "outputs": [],
   "source": [
    "train, test = load_data(\"Lorenz 96, F = 8\", \"../../data/lorenz8\", 0.5)"
   ]
  },
  {
   "cell_type": "code",
   "execution_count": 4,
   "id": "479c98fc-5460-4da7-8e75-6084c1bc873e",
   "metadata": {},
   "outputs": [],
   "source": [
    "np.random.seed(1)\n",
    "train.data = train.data + np.random.normal(0, 1e-1, train.data.shape)"
   ]
  },
  {
   "cell_type": "code",
   "execution_count": 5,
   "id": "e30a3f5f-c622-4e95-ae1c-dd652be02b5e",
   "metadata": {},
   "outputs": [
    {
     "name": "stdout",
     "output_type": "stream",
     "text": [
      "Train size: (90000, 40)\n",
      "Test size: (90000, 40)\n"
     ]
    }
   ],
   "source": [
    "print(f\"Train size: {train.data.shape}\")\n",
    "print(f\"Test size: {test.data.shape}\")"
   ]
  },
  {
   "cell_type": "markdown",
   "id": "8288061f-20ca-4fe6-840e-6ee8cd8064b1",
   "metadata": {},
   "source": [
    "**Create test set**"
   ]
  },
  {
   "cell_type": "code",
   "execution_count": 6,
   "id": "9c868d5f-50c3-48a5-8762-e0de61468e5f",
   "metadata": {},
   "outputs": [],
   "source": [
    "L_forecast_test = 400   # steps to forecast forward (when testing)"
   ]
  },
  {
   "cell_type": "code",
   "execution_count": 7,
   "id": "5a2ec67a-c0aa-45b0-b059-cb9a1dceb438",
   "metadata": {},
   "outputs": [],
   "source": [
    "np.random.seed(1)\n",
    "\n",
    "data_test = test.data\n",
    "\n",
    "T_test, data_dim = data_test.shape\n",
    "possible_idx = T_test - (L_forecast_test + 1) # minus number of steps forward, and the warm-up period\n",
    "T_indices = np.random.randint(0, possible_idx, size = NUM_TEST)\n",
    "\n",
    "t_past_batch = np.repeat(T_indices[:, None], WARM_UP_TEST, axis = 1).astype(int) # 200 warmup \n",
    "t_pred_batch = (T_indices[:, None] + np.arange(1, 1 + L_forecast_test)[None, :].astype(int))\n",
    "\n",
    "X_test = data_test[t_past_batch]\n",
    "y_test = data_test[t_pred_batch]"
   ]
  },
  {
   "cell_type": "code",
   "execution_count": 8,
   "id": "7e57b737-d4d5-41f0-9077-071567f3758f",
   "metadata": {},
   "outputs": [
    {
     "name": "stdout",
     "output_type": "stream",
     "text": [
      "Test input size: (100, 2000, 40)\n",
      "Test output size: (100, 400, 40)\n"
     ]
    }
   ],
   "source": [
    "print(f\"Test input size: {X_test.shape}\")  # Number of test points x input length x dim\n",
    "print(f\"Test output size: {y_test.shape}\") # Number of test points x horizon x dim"
   ]
  },
  {
   "cell_type": "markdown",
   "id": "bb0bd417-72d0-4d90-8b16-30945dd0ee20",
   "metadata": {},
   "source": [
    "# 2. RC Implementation"
   ]
  },
  {
   "cell_type": "code",
   "execution_count": 9,
   "id": "bf9258f6-5dd2-4ddf-ab11-8f9f274ffb4a",
   "metadata": {},
   "outputs": [],
   "source": [
    "def get_parameters(nn_size, connectivity, spec_radius, lambd, \n",
    "                   seed, batch_size, num_epoch, lr_schedule = [1e-4], \n",
    "                   early_stopping = EARLY_STOPPING):\n",
    "    \"\"\"\n",
    "    Returns trained parameters (beta, intercept) and hidden layer values\n",
    "    \"\"\"\n",
    "    def initialize_coef():\n",
    "        \"\"\"\n",
    "        Initializes W_in and W. \n",
    "        W_in size = nn_size x data_dim\n",
    "        W size = nn_size x nn_size\n",
    "        \"\"\"\n",
    "        start = time()\n",
    "\n",
    "        # Generate input -> hidden unit weights\n",
    "        W_in = 2 * (np.random.rand(nn_size, data_dim) - 0.5) \n",
    "        W_in = W_in / (4 * np.sqrt(data_dim))\n",
    "\n",
    "        # Generate hidden -> hidden unit weights\n",
    "        # Considers connectivity to make the matrix sparse\n",
    "        start_mat = time()\n",
    "        rows = np.concatenate([np.full(connectivity, i) for i in range(nn_size)])\n",
    "        cols = np.concatenate([np.random.choice(range(nn_size), size = connectivity, replace = False) for _ in range(nn_size)])\n",
    "        vals = np.random.uniform(low = -omega, high = omega, size = (nn_size * connectivity))\n",
    "        W = sparse.csr_matrix((vals, (rows, cols)), shape = (nn_size, nn_size))\n",
    "        end_mat = time()\n",
    "        print(f\"W generated. Time taken: {end_mat - start_mat:.2f}s\")\n",
    "\n",
    "        # Calculate eigenvalues for scaling of matrix\n",
    "        print(\"Calculating eigenvalue\")\n",
    "        e_start = time()\n",
    "        eigenvals = sparse.linalg.eigs(W, which = \"LM\", return_eigenvectors = False, k = 1)\n",
    "        max_eigen = np.abs(eigenvals)\n",
    "        e_end = time()\n",
    "        print(f\"Eigenvalue calculated. Time taken: {e_end - e_start:.2f}s\")\n",
    "\n",
    "        # Scale matrix by spectral radius\n",
    "        W = W / max_eigen * spec_radius # scale the matrix W by its spectral radius\n",
    "        W = sparse.csr_matrix(W)\n",
    "        \n",
    "        end = time()\n",
    "        print(f\"W and W_in generated. Time taken: {end-start:.2f}s\")\n",
    "        print()\n",
    "        \n",
    "        return W_in, W\n",
    "    \n",
    "    def generate_hidden_states(W_in, W):\n",
    "        \"\"\" \n",
    "        Generate hidden states (z) values\n",
    "        hidden_states size = data_size x nn_size \n",
    "        \"\"\"\n",
    "        start = time()\n",
    "        \n",
    "        print(\"Generating z values...\")\n",
    "        indiv_z = np.zeros(shape = nn_size)\n",
    "        hidden_states = np.zeros((train_size, nn_size))\n",
    "        \n",
    "        for t in range(train_size):  \n",
    "            indiv_z = (1 - alpha) * indiv_z + \\\n",
    "                alpha * np.tanh(W_in @ x[t] + W @ indiv_z)\n",
    "            hidden_states[t, :] = indiv_z\n",
    "        end = time()\n",
    "        print(f\"z values generated. Time taken: {end-start:.2f}s\")\n",
    "        \n",
    "        return hidden_states\n",
    "    \n",
    "    def mse(y, y_pred):\n",
    "        return jnp.mean((y_pred - y)**2)\n",
    "    \n",
    "    @jax.jit\n",
    "    def mse_loss(params, x, y):\n",
    "        \"\"\"\n",
    "        returns mean squared error with ridge penalty\n",
    "        \"\"\"\n",
    "        beta, intercept = params\n",
    "        pred = x @ beta + intercept\n",
    "        return mse(pred, y) + np.mean(beta**2) * lambd / 2 + np.mean(intercept**2) * lambd / 2\n",
    "    \n",
    "    def validation_loss(params, x_val, y_val):\n",
    "        beta, intercept = params\n",
    "        num_data_test, trans, data_dim = x_val.shape # testing ex, # steps used (transient), dim of data\n",
    "\n",
    "        def prediction(inp):\n",
    "            \"\"\"\n",
    "            Returns the mean of one of the testing input\n",
    "\n",
    "            mean will be a length_to_test x data_dim vector\n",
    "            \"\"\"\n",
    "            z = np.zeros((nn_size // 2, ))\n",
    "            for i in range(trans):\n",
    "                z = (1 - alpha) * z + alpha * np.tanh(W_in @ inp[i] + W @ z)\n",
    "\n",
    "            mus = []\n",
    "            stddevs = []\n",
    "\n",
    "            x = beta.T @ np.concatenate([z, z**2]) + intercept # output / input_of_next | size = dim_data\n",
    "            mus.append(x)\n",
    "\n",
    "            for _ in range(L_forecast_test - 1):\n",
    "                z = (1 - alpha) * z + alpha * np.tanh(W_in @ x + W @ z)\n",
    "                x = beta.T @ np.concatenate([z, z**2]) + intercept # output / input_of_next\n",
    "                mus.append(x)\n",
    "\n",
    "            return mus\n",
    "\n",
    "        mean_list = []\n",
    "        sd_list = []\n",
    "\n",
    "        for i in range(num_data_test):\n",
    "            pred = prediction(x_val[i])\n",
    "            mean_list.append(pred)\n",
    "\n",
    "        return mse(mean_list, y_val)\n",
    "\n",
    "    def training(x, y):\n",
    "        \"\"\" \n",
    "        Trains regression of y~x using SGD. \n",
    "        Returns parameters (beta, intercept) where \n",
    "        beta, intercept -> weights to determine the mean\n",
    "        \n",
    "        beta size = nn_size x data_dim\n",
    "        intercept = data_dim (will be added for each training data)\n",
    "        \n",
    "        should predict a mu with train_size x data_dim (\\mu per dimension per datapoint)\n",
    "        and a sigma with train_size x 1 (single \\sigma for all dimensions per datapoint)\n",
    "        \"\"\"\n",
    "        \n",
    "        @jax.jit\n",
    "        def step(opt_state, x, y):\n",
    "            params = get_params(opt_state)\n",
    "            value, g = value_and_grad(mse_loss)(params, x, y)\n",
    "            opt_state = opt_update(0, g, opt_state)\n",
    "            return get_params(opt_state), opt_state, value\n",
    "\n",
    "        start = time()\n",
    "        \n",
    "        # Plot loss\n",
    "        loss_train_traj = []\n",
    "        loss_train_all_traj = []\n",
    "        \n",
    "        # Init parameters\n",
    "        beta = np.random.normal(0, 1 / np.sqrt(nn_size), size = (nn_size, data_dim))\n",
    "        intercept = np.random.normal(0, 1 / np.sqrt(nn_size * 2), size = (data_dim, ))\n",
    "        \n",
    "        t_size = int(1. * train_size)\n",
    "        # v_size = train_size - t_size\n",
    "        # t_start_val = np.linspace(t_size, train_size - (L_forecast_test + 2), NUM_TEST // 2, dtype = int)\n",
    "        # t_past_batch_val = np.repeat(t_start_val[:, None], WARM_UP_TEST, axis = 1).astype(int) \n",
    "        # t_pred_batch_val = (t_start_val[:,None] + np.arange(1,1+L_forecast_test)[None,:]).astype(int) \n",
    "        # x_val = copy_x[t_past_batch_val] \n",
    "        # y_val = copy_y[t_pred_batch_val]\n",
    "        \n",
    "        overall_best_mse = 9999999\n",
    "        \n",
    "        for i, lr in enumerate(lr_schedule):\n",
    "            opt_init, opt_update, get_params = optimizers.adam(step_size = lr) \n",
    "            opt_state = opt_init([beta, intercept])\n",
    "            \n",
    "            # For early stopping\n",
    "            best_state = opt_state\n",
    "            counter = 0 \n",
    "            best_val_loss = 9999999\n",
    "            \n",
    "            for epoch in range(num_epoch[i]):\n",
    "                e_start = time()\n",
    "                \n",
    "                T_indices = np.arange(train_size)\n",
    "                np.random.shuffle(T_indices)\n",
    "\n",
    "                loss_epoch_train = []\n",
    "                for k in range(t_size // batch_size + 1):\n",
    "                    t_start = T_indices[np.arange(k * batch_size, (k+1) * batch_size).astype(int) % len(T_indices)]\n",
    "                    x_batch = x[t_start]\n",
    "                    y_batch = y[t_start]\n",
    "\n",
    "                    params, opt_state, l = step(opt_state, x_batch, y_batch)\n",
    "                    loss_epoch_train.append(l)\n",
    "                \n",
    "                \n",
    "                loss_train_all_traj += loss_epoch_train\n",
    "                mse_train = np.mean(loss_epoch_train)\n",
    "                loss_train_traj.append(mse_train)\n",
    "                \n",
    "                e_end = time()\n",
    "                \n",
    "                if mse_train < best_val_loss:\n",
    "                    best_val_loss = mse_train\n",
    "                    counter = 0\n",
    "                    best_state = opt_state\n",
    "                else:\n",
    "                    counter += 1\n",
    "                    \n",
    "                if (epoch + 1) % 10 == 0:\n",
    "                    print(f\"Epoch {epoch + 1}: Train time = {e_end - e_start:.2f} | Train Loss = {mse_train:.7f}\", end = \" \")\n",
    "                    \n",
    "                    # when_to_evaluate = 199 if i == 0 else 49\n",
    "                    # if epoch >= when_to_evaluate:\n",
    "                    #     # Validation\n",
    "                    #     val_start = time()\n",
    "                    #     mse_val = validation_loss(params, x_val, y_val)\n",
    "                    #     if best_val_loss > mse_val: # Improvement \n",
    "                    #         counter = 0\n",
    "                    #         best_val_loss = mse_val\n",
    "                    #         best_state = opt_state\n",
    "                    #     else:\n",
    "                    #         counter += 1    \n",
    "                        # val_end = time()\n",
    "                        # print(f\"| Val time: {val_end - val_start:2f} | Val loss: {mse_val:.7f}\", end = \"\")\n",
    "                    print()\n",
    "                if counter == early_stopping:\n",
    "                    print(f\"EARLY STOPPING. Epoch {epoch + 1}: Train loss = {mse_train:.7f}\")\n",
    "                    break\n",
    "            \n",
    "            print(f\"Best Training MSE: {best_val_loss:.7f}\") \n",
    "            \n",
    "            if best_val_loss < overall_best_mse:\n",
    "                print(\"IMPROVED VALIDATION MSE\")\n",
    "                overall_best_mse = best_val_loss\n",
    "                overall_best_state = best_state\n",
    "            \n",
    "            beta, intercept = get_params(overall_best_state)\n",
    "            print()\n",
    "        \n",
    "        end = time()\n",
    "        print(f\"Total time: {end - start:.2f}\")\n",
    "        \n",
    "        return get_params(overall_best_state) # beta, intercept\n",
    "    \n",
    "    start = time()\n",
    "   \n",
    "    x, y = train.data[:-1], train.data[1:]\n",
    "    copy_x, copy_y = x, y \n",
    "    train_size, data_dim = x.data.shape\n",
    "       \n",
    "    np.random.seed(seed)\n",
    "    W_in, W = initialize_coef()\n",
    "    z = generate_hidden_states(W_in, W)\n",
    "\n",
    "    # Want to regression Y ~ X ==> Y ~ [z, z**2]\n",
    "    final_y = y[transient:]\n",
    "    final_z = z[transient:]\n",
    "    print(\"Concatenating z with z**2\", end = \" \"); concat_start = time()\n",
    "    final_z = np.concatenate([final_z, final_z**2], axis = 1) # shape: train_size x (nn_size*2)\n",
    "    concat_end = time()\n",
    "    print(f\"Contenation complete. Time taken: {concat_end-concat_start:.2f}s\", end = \"\\n\\n\")\n",
    "    \n",
    "    train_size, nn_size = final_z.shape\n",
    "    \n",
    "    params = training(final_z, final_y)\n",
    "    end = time()\n",
    "    print(f\"Complete. Time taken: {end - start:.2f}s\")\n",
    "    \n",
    "    return params, (final_z, W_in, W)"
   ]
  },
  {
   "cell_type": "code",
   "execution_count": 10,
   "id": "2863ad98-35c2-435c-bcea-86318c9152df",
   "metadata": {},
   "outputs": [],
   "source": [
    "def get_test_pred(data_test, nn_size, params, W_in, W):   \n",
    "    beta, intercept = params\n",
    "    num_data_test, trans, data_dim = data_test.shape # testing ex, # steps used (transient), dim of data\n",
    "    \n",
    "    def prediction(inp):\n",
    "        \"\"\"\n",
    "        Returns the mean of one of the testing input\n",
    "        \n",
    "        mean will be a length_to_test x data_dim vector\n",
    "        \"\"\"\n",
    "        \n",
    "        z = np.zeros((nn_size, ))\n",
    "        for i in range(trans):\n",
    "            z = (1 - alpha) * z + alpha * np.tanh(W_in @ inp[i] + W @ z)\n",
    "        \n",
    "        mus = []\n",
    "        stddevs = []\n",
    "        \n",
    "        x = beta.T @ np.concatenate([z, z**2]) + intercept # output / input_of_next | size = dim_data\n",
    "        mus.append(x)\n",
    "        \n",
    "        for _ in range(L_forecast_test - 1):\n",
    "            z = (1 - alpha) * z + alpha * np.tanh(W_in @ x + W @ z)\n",
    "            x = beta.T @ np.concatenate([z, z**2]) + intercept # output / input_of_next\n",
    "            mus.append(x)\n",
    "        \n",
    "        return mus\n",
    "    \n",
    "    start = time()\n",
    "    \n",
    "    mean_list = []\n",
    "    sd_list = []\n",
    "    \n",
    "    for i in range(num_data_test):\n",
    "        pred = prediction(data_test[i])\n",
    "        mean_list.append(pred)\n",
    "\n",
    "        if (i+1) % 10 == 0:\n",
    "            print(f\"{(i+1) / num_data_test * 100:.2f}% done\")\n",
    "    \n",
    "    end = time()\n",
    "    print(f\"Testing complete. Time taken: {end - start:.2f}\")\n",
    "    return np.array(mean_list)"
   ]
  },
  {
   "cell_type": "markdown",
   "id": "ffce42df-dfac-4615-b07e-4446a271acf9",
   "metadata": {},
   "source": [
    "# 3. Best Parameters"
   ]
  },
  {
   "cell_type": "code",
   "execution_count": 11,
   "id": "6fcf92b1-c8cb-4996-939f-882d454fb811",
   "metadata": {},
   "outputs": [],
   "source": [
    "nn_size = 12000\n",
    "ridge_penalty = 1e-6\n",
    "spec_radius = 0.1\n",
    "connectivity = 4\n",
    "\n",
    "lr_list = [1e-4]\n",
    "epoch_list = [300]\n",
    "\n",
    "transient = 200  # points to ignore to allow system to stabilise\n",
    "omega = 1         # scale of the values of matrix W\n",
    "alpha = 1         # hidden state memory\n",
    "b_size = 200"
   ]
  },
  {
   "cell_type": "markdown",
   "id": "b7070f12-ba7a-4599-9006-1beede669821",
   "metadata": {},
   "source": [
    "# 4. Ensemble"
   ]
  },
  {
   "cell_type": "code",
   "execution_count": 12,
   "id": "e54bdb2a-a05c-4129-91df-09d5cad7520f",
   "metadata": {},
   "outputs": [],
   "source": [
    "res_folder = os.path.join(\"results\", \"ensemble_noise\")"
   ]
  },
  {
   "cell_type": "code",
   "execution_count": 13,
   "id": "e889a637-c08a-4c93-89a7-9e47d06cd87b",
   "metadata": {},
   "outputs": [],
   "source": [
    "def run_seed(seed):\n",
    "    \"\"\"\n",
    "    Runs the experiment with optimal parameters and saves the predictions into a file\n",
    "    \"\"\"\n",
    "    params, internal = get_parameters(nn_size, connectivity, spec_radius, lambd = ridge_penalty, seed = seed, \n",
    "                                  batch_size = b_size, num_epoch = epoch_list, lr_schedule = lr_list)\n",
    "    _, W_in, W = internal\n",
    "    mean_pred = get_test_pred(X_test, nn_size, params, W_in, W)\n",
    "    file_name = \"mu_preds_\" + str(seed) + \".pkl\"\n",
    "    save_obj(mean_pred, res_folder, file_name)"
   ]
  },
  {
   "cell_type": "markdown",
   "id": "b029e63e-02d0-42b0-bbf9-e982688efdb0",
   "metadata": {},
   "source": [
    "## 4.1 Seed 2"
   ]
  },
  {
   "cell_type": "code",
   "execution_count": 19,
   "id": "94a029d6-0662-428d-979b-516d596711c9",
   "metadata": {
    "tags": []
   },
   "outputs": [
    {
     "name": "stdout",
     "output_type": "stream",
     "text": [
      "W generated. Time taken: 21.52s\n",
      "Calculating eigenvalue\n",
      "Eigenvalue calculated. Time taken: 2.27s\n",
      "W and W_in generated. Time taken: 26.95s\n",
      "\n",
      "Generating z values...\n",
      "z values generated. Time taken: 53.86s\n",
      "Concatenating z with z**2 Contenation complete. Time taken: 14.05s\n",
      "\n",
      "Epoch 10: Train time = 10.13 | Train Loss = 0.0191018 \n",
      "Epoch 20: Train time = 10.50 | Train Loss = 0.0182963 \n",
      "Epoch 30: Train time = 10.22 | Train Loss = 0.0176559 \n",
      "Epoch 40: Train time = 9.97 | Train Loss = 0.0171443 \n",
      "Epoch 50: Train time = 10.42 | Train Loss = 0.0167287 \n",
      "Epoch 60: Train time = 10.58 | Train Loss = 0.0164022 \n",
      "Epoch 70: Train time = 9.89 | Train Loss = 0.0161410 \n",
      "Epoch 80: Train time = 10.33 | Train Loss = 0.0159329 \n",
      "Epoch 90: Train time = 10.22 | Train Loss = 0.0157645 \n",
      "Epoch 100: Train time = 10.04 | Train Loss = 0.0156355 \n",
      "Epoch 110: Train time = 11.27 | Train Loss = 0.0155327 \n",
      "Epoch 120: Train time = 11.13 | Train Loss = 0.0154494 \n",
      "Epoch 130: Train time = 11.34 | Train Loss = 0.0153844 \n",
      "Epoch 140: Train time = 11.01 | Train Loss = 0.0153346 \n",
      "Epoch 150: Train time = 11.36 | Train Loss = 0.0152924 \n",
      "Epoch 160: Train time = 11.76 | Train Loss = 0.0152586 \n",
      "Epoch 170: Train time = 10.90 | Train Loss = 0.0152306 \n",
      "Epoch 180: Train time = 11.61 | Train Loss = 0.0152037 \n",
      "Epoch 190: Train time = 11.36 | Train Loss = 0.0151887 \n",
      "Epoch 200: Train time = 11.26 | Train Loss = 0.0151715 \n",
      "Epoch 210: Train time = 11.77 | Train Loss = 0.0151621 \n",
      "Epoch 220: Train time = 11.07 | Train Loss = 0.0151457 \n",
      "Epoch 230: Train time = 11.01 | Train Loss = 0.0151391 \n",
      "Epoch 240: Train time = 11.66 | Train Loss = 0.0151313 \n",
      "Epoch 250: Train time = 10.75 | Train Loss = 0.0151235 \n",
      "Epoch 260: Train time = 11.35 | Train Loss = 0.0151181 \n",
      "Epoch 270: Train time = 11.36 | Train Loss = 0.0151116 \n",
      "Epoch 280: Train time = 10.96 | Train Loss = 0.0151066 \n",
      "Epoch 290: Train time = 11.20 | Train Loss = 0.0150983 \n",
      "Epoch 300: Train time = 11.59 | Train Loss = 0.0150978 \n",
      "Best Training MSE: 0.0150947\n",
      "IMPROVED VALIDATION MSE\n",
      "\n",
      "Total time: 3276.20\n",
      "Complete. Time taken: 3371.58s\n",
      "10.00% done\n",
      "20.00% done\n",
      "30.00% done\n",
      "40.00% done\n",
      "50.00% done\n",
      "60.00% done\n",
      "70.00% done\n",
      "80.00% done\n",
      "90.00% done\n",
      "100.00% done\n",
      "Testing complete. Time taken: 300.16\n"
     ]
    }
   ],
   "source": [
    "run_seed(2)"
   ]
  },
  {
   "cell_type": "markdown",
   "id": "4e1bcbde-a902-403b-8e4b-7a33bb214bf6",
   "metadata": {},
   "source": [
    "## 4.2 Seed 4"
   ]
  },
  {
   "cell_type": "code",
   "execution_count": 20,
   "id": "234ce9db-336a-4605-935c-509ca931f01c",
   "metadata": {
    "tags": []
   },
   "outputs": [
    {
     "name": "stdout",
     "output_type": "stream",
     "text": [
      "W generated. Time taken: 28.22s\n",
      "Calculating eigenvalue\n",
      "Eigenvalue calculated. Time taken: 19.18s\n",
      "W and W_in generated. Time taken: 51.04s\n",
      "\n",
      "Generating z values...\n",
      "z values generated. Time taken: 82.93s\n",
      "Concatenating z with z**2 Contenation complete. Time taken: 12.45s\n",
      "\n",
      "Epoch 10: Train time = 12.04 | Train Loss = 0.0191047 \n",
      "Epoch 20: Train time = 12.45 | Train Loss = 0.0182909 \n",
      "Epoch 30: Train time = 11.58 | Train Loss = 0.0176482 \n",
      "Epoch 40: Train time = 11.56 | Train Loss = 0.0171365 \n",
      "Epoch 50: Train time = 12.46 | Train Loss = 0.0167210 \n",
      "Epoch 60: Train time = 12.07 | Train Loss = 0.0163897 \n",
      "Epoch 70: Train time = 11.90 | Train Loss = 0.0161299 \n",
      "Epoch 80: Train time = 11.94 | Train Loss = 0.0159219 \n",
      "Epoch 90: Train time = 11.86 | Train Loss = 0.0157550 \n",
      "Epoch 100: Train time = 11.61 | Train Loss = 0.0156280 \n",
      "Epoch 110: Train time = 11.66 | Train Loss = 0.0155254 \n",
      "Epoch 120: Train time = 11.11 | Train Loss = 0.0154393 \n",
      "Epoch 130: Train time = 11.53 | Train Loss = 0.0153779 \n",
      "Epoch 140: Train time = 11.75 | Train Loss = 0.0153274 \n",
      "Epoch 150: Train time = 11.76 | Train Loss = 0.0152866 \n",
      "Epoch 160: Train time = 12.27 | Train Loss = 0.0152507 \n",
      "Epoch 170: Train time = 11.30 | Train Loss = 0.0152254 \n",
      "Epoch 180: Train time = 11.79 | Train Loss = 0.0152023 \n",
      "Epoch 190: Train time = 11.49 | Train Loss = 0.0151858 \n",
      "Epoch 200: Train time = 11.43 | Train Loss = 0.0151709 \n",
      "Epoch 210: Train time = 11.32 | Train Loss = 0.0151578 \n",
      "Epoch 220: Train time = 11.60 | Train Loss = 0.0151459 \n",
      "Epoch 230: Train time = 12.17 | Train Loss = 0.0151407 \n",
      "Epoch 240: Train time = 11.54 | Train Loss = 0.0151294 \n",
      "Epoch 250: Train time = 12.62 | Train Loss = 0.0151230 \n",
      "Epoch 260: Train time = 11.53 | Train Loss = 0.0151127 \n",
      "Epoch 270: Train time = 11.50 | Train Loss = 0.0151095 \n",
      "Epoch 280: Train time = 10.78 | Train Loss = 0.0151014 \n",
      "Epoch 290: Train time = 10.29 | Train Loss = 0.0150982 \n",
      "Epoch 300: Train time = 10.31 | Train Loss = 0.0150939 \n",
      "Best Training MSE: 0.0150929\n",
      "IMPROVED VALIDATION MSE\n",
      "\n",
      "Total time: 3493.90\n",
      "Complete. Time taken: 3640.77s\n",
      "10.00% done\n",
      "20.00% done\n",
      "30.00% done\n",
      "40.00% done\n",
      "50.00% done\n",
      "60.00% done\n",
      "70.00% done\n",
      "80.00% done\n",
      "90.00% done\n",
      "100.00% done\n",
      "Testing complete. Time taken: 180.33\n"
     ]
    }
   ],
   "source": [
    "run_seed(4)"
   ]
  },
  {
   "cell_type": "markdown",
   "id": "2abf4d4d-b41c-4b37-afd7-947a70837ff8",
   "metadata": {},
   "source": [
    "## 4.3 Seed 6"
   ]
  },
  {
   "cell_type": "code",
   "execution_count": 21,
   "id": "f751f451-8373-4ae3-b8b3-594b344fa18b",
   "metadata": {},
   "outputs": [
    {
     "name": "stdout",
     "output_type": "stream",
     "text": [
      "W generated. Time taken: 22.28s\n",
      "Calculating eigenvalue\n",
      "Eigenvalue calculated. Time taken: 1.15s\n",
      "W and W_in generated. Time taken: 26.98s\n",
      "\n",
      "Generating z values...\n",
      "z values generated. Time taken: 53.34s\n",
      "Concatenating z with z**2 Contenation complete. Time taken: 14.76s\n",
      "\n",
      "Epoch 10: Train time = 10.48 | Train Loss = 0.0191261 \n",
      "Epoch 20: Train time = 10.23 | Train Loss = 0.0183201 \n",
      "Epoch 30: Train time = 10.58 | Train Loss = 0.0176807 \n",
      "Epoch 40: Train time = 9.90 | Train Loss = 0.0171723 \n",
      "Epoch 50: Train time = 10.24 | Train Loss = 0.0167608 \n",
      "Epoch 60: Train time = 10.32 | Train Loss = 0.0164299 \n",
      "Epoch 70: Train time = 10.08 | Train Loss = 0.0161636 \n",
      "Epoch 80: Train time = 9.71 | Train Loss = 0.0159542 \n",
      "Epoch 90: Train time = 10.51 | Train Loss = 0.0157850 \n",
      "Epoch 100: Train time = 9.97 | Train Loss = 0.0156544 \n",
      "Epoch 110: Train time = 10.37 | Train Loss = 0.0155477 \n",
      "Epoch 120: Train time = 10.30 | Train Loss = 0.0154644 \n",
      "Epoch 130: Train time = 10.31 | Train Loss = 0.0153953 \n",
      "Epoch 140: Train time = 10.32 | Train Loss = 0.0153416 \n",
      "Epoch 150: Train time = 9.92 | Train Loss = 0.0152996 \n",
      "Epoch 160: Train time = 10.27 | Train Loss = 0.0152605 \n",
      "Epoch 170: Train time = 10.35 | Train Loss = 0.0152396 \n",
      "Epoch 180: Train time = 9.61 | Train Loss = 0.0152159 \n",
      "Epoch 190: Train time = 10.32 | Train Loss = 0.0151913 \n",
      "Epoch 200: Train time = 10.25 | Train Loss = 0.0151752 \n",
      "Epoch 210: Train time = 10.29 | Train Loss = 0.0151635 \n",
      "Epoch 220: Train time = 10.31 | Train Loss = 0.0151510 \n",
      "Epoch 230: Train time = 10.23 | Train Loss = 0.0151414 \n",
      "Epoch 240: Train time = 10.31 | Train Loss = 0.0151303 \n",
      "Epoch 250: Train time = 10.29 | Train Loss = 0.0151282 \n",
      "Epoch 260: Train time = 10.43 | Train Loss = 0.0151176 \n",
      "Epoch 270: Train time = 10.30 | Train Loss = 0.0151128 \n",
      "Epoch 280: Train time = 10.26 | Train Loss = 0.0151070 \n",
      "Epoch 290: Train time = 10.32 | Train Loss = 0.0151031 \n",
      "Epoch 300: Train time = 10.04 | Train Loss = 0.0150981 \n",
      "Best Training MSE: 0.0150973\n",
      "IMPROVED VALIDATION MSE\n",
      "\n",
      "Total time: 3076.91\n",
      "Complete. Time taken: 3172.45s\n",
      "10.00% done\n",
      "20.00% done\n",
      "30.00% done\n",
      "40.00% done\n",
      "50.00% done\n",
      "60.00% done\n",
      "70.00% done\n",
      "80.00% done\n",
      "90.00% done\n",
      "100.00% done\n",
      "Testing complete. Time taken: 167.03\n"
     ]
    }
   ],
   "source": [
    "run_seed(6)"
   ]
  },
  {
   "cell_type": "markdown",
   "id": "99791ee8-6d4d-49a2-99b5-48d06755a32d",
   "metadata": {},
   "source": [
    "## 4.4 Seed 8"
   ]
  },
  {
   "cell_type": "code",
   "execution_count": 22,
   "id": "6398e9f5-b404-4029-8d31-e839467929d3",
   "metadata": {},
   "outputs": [
    {
     "name": "stdout",
     "output_type": "stream",
     "text": [
      "W generated. Time taken: 19.72s\n",
      "Calculating eigenvalue\n",
      "Eigenvalue calculated. Time taken: 5.49s\n",
      "W and W_in generated. Time taken: 28.26s\n",
      "\n",
      "Generating z values...\n",
      "z values generated. Time taken: 45.31s\n",
      "Concatenating z with z**2 Contenation complete. Time taken: 9.55s\n",
      "\n",
      "Epoch 10: Train time = 10.34 | Train Loss = 0.0190914 \n",
      "Epoch 20: Train time = 10.26 | Train Loss = 0.0182777 \n",
      "Epoch 30: Train time = 10.37 | Train Loss = 0.0176303 \n",
      "Epoch 40: Train time = 10.25 | Train Loss = 0.0171131 \n",
      "Epoch 50: Train time = 10.34 | Train Loss = 0.0167011 \n",
      "Epoch 60: Train time = 10.21 | Train Loss = 0.0163747 \n",
      "Epoch 70: Train time = 10.22 | Train Loss = 0.0161153 \n",
      "Epoch 80: Train time = 10.25 | Train Loss = 0.0159089 \n",
      "Epoch 90: Train time = 10.41 | Train Loss = 0.0157441 \n",
      "Epoch 100: Train time = 9.76 | Train Loss = 0.0156178 \n",
      "Epoch 110: Train time = 10.65 | Train Loss = 0.0155144 \n",
      "Epoch 120: Train time = 10.45 | Train Loss = 0.0154383 \n",
      "Epoch 130: Train time = 10.69 | Train Loss = 0.0153707 \n",
      "Epoch 140: Train time = 9.90 | Train Loss = 0.0153209 \n",
      "Epoch 150: Train time = 9.89 | Train Loss = 0.0152794 \n",
      "Epoch 160: Train time = 9.81 | Train Loss = 0.0152454 \n",
      "Epoch 170: Train time = 10.45 | Train Loss = 0.0152187 \n",
      "Epoch 180: Train time = 10.47 | Train Loss = 0.0152001 \n",
      "Epoch 190: Train time = 9.77 | Train Loss = 0.0151831 \n",
      "Epoch 200: Train time = 10.15 | Train Loss = 0.0151686 \n",
      "Epoch 210: Train time = 9.85 | Train Loss = 0.0151554 \n",
      "Epoch 220: Train time = 9.66 | Train Loss = 0.0151425 \n",
      "Epoch 230: Train time = 9.95 | Train Loss = 0.0151380 \n",
      "Epoch 240: Train time = 9.78 | Train Loss = 0.0151227 \n",
      "Epoch 250: Train time = 9.89 | Train Loss = 0.0151209 \n",
      "Epoch 260: Train time = 10.23 | Train Loss = 0.0151098 \n",
      "Epoch 270: Train time = 10.40 | Train Loss = 0.0151057 \n",
      "Epoch 280: Train time = 10.61 | Train Loss = 0.0150994 \n",
      "Epoch 290: Train time = 10.60 | Train Loss = 0.0150932 \n",
      "Epoch 300: Train time = 10.18 | Train Loss = 0.0150905 \n",
      "Best Training MSE: 0.0150905\n",
      "IMPROVED VALIDATION MSE\n",
      "\n",
      "Total time: 3055.33\n",
      "Complete. Time taken: 3138.98s\n",
      "10.00% done\n",
      "20.00% done\n",
      "30.00% done\n",
      "40.00% done\n",
      "50.00% done\n",
      "60.00% done\n",
      "70.00% done\n",
      "80.00% done\n",
      "90.00% done\n",
      "100.00% done\n",
      "Testing complete. Time taken: 181.48\n"
     ]
    }
   ],
   "source": [
    "run_seed(8)"
   ]
  },
  {
   "cell_type": "markdown",
   "id": "f44cb3d9-6d9b-4bc9-bfae-2f56f7a8848b",
   "metadata": {},
   "source": [
    "## 4.5 Seed 42"
   ]
  },
  {
   "cell_type": "code",
   "execution_count": 23,
   "id": "436ad033-e6d1-45ef-b5af-dc01acc59176",
   "metadata": {
    "tags": []
   },
   "outputs": [
    {
     "name": "stdout",
     "output_type": "stream",
     "text": [
      "W generated. Time taken: 21.09s\n",
      "Calculating eigenvalue\n",
      "Eigenvalue calculated. Time taken: 3.38s\n",
      "W and W_in generated. Time taken: 27.65s\n",
      "\n",
      "Generating z values...\n",
      "z values generated. Time taken: 52.67s\n",
      "Concatenating z with z**2 Contenation complete. Time taken: 11.03s\n",
      "\n",
      "Epoch 10: Train time = 9.87 | Train Loss = 0.0191058 \n",
      "Epoch 20: Train time = 9.86 | Train Loss = 0.0182938 \n",
      "Epoch 30: Train time = 9.79 | Train Loss = 0.0176548 \n",
      "Epoch 40: Train time = 9.94 | Train Loss = 0.0171366 \n",
      "Epoch 50: Train time = 10.29 | Train Loss = 0.0167290 \n",
      "Epoch 60: Train time = 9.72 | Train Loss = 0.0163974 \n",
      "Epoch 70: Train time = 9.73 | Train Loss = 0.0161369 \n",
      "Epoch 80: Train time = 10.15 | Train Loss = 0.0159289 \n",
      "Epoch 90: Train time = 9.67 | Train Loss = 0.0157637 \n",
      "Epoch 100: Train time = 10.31 | Train Loss = 0.0156330 \n",
      "Epoch 110: Train time = 9.87 | Train Loss = 0.0155338 \n",
      "Epoch 120: Train time = 10.23 | Train Loss = 0.0154496 \n",
      "Epoch 130: Train time = 10.26 | Train Loss = 0.0153849 \n",
      "Epoch 140: Train time = 10.26 | Train Loss = 0.0153327 \n",
      "Epoch 150: Train time = 10.30 | Train Loss = 0.0152932 \n",
      "Epoch 160: Train time = 10.29 | Train Loss = 0.0152537 \n",
      "Epoch 170: Train time = 10.31 | Train Loss = 0.0152276 \n",
      "Epoch 180: Train time = 10.30 | Train Loss = 0.0152078 \n",
      "Epoch 190: Train time = 10.28 | Train Loss = 0.0151862 \n",
      "Epoch 200: Train time = 10.30 | Train Loss = 0.0151725 \n",
      "Epoch 210: Train time = 10.05 | Train Loss = 0.0151586 \n",
      "Epoch 220: Train time = 10.24 | Train Loss = 0.0151470 \n",
      "Epoch 230: Train time = 10.26 | Train Loss = 0.0151423 \n",
      "Epoch 240: Train time = 9.57 | Train Loss = 0.0151281 \n",
      "Epoch 250: Train time = 10.24 | Train Loss = 0.0151250 \n",
      "Epoch 260: Train time = 10.27 | Train Loss = 0.0151152 \n",
      "Epoch 270: Train time = 10.44 | Train Loss = 0.0151117 \n",
      "Epoch 280: Train time = 10.29 | Train Loss = 0.0151084 \n",
      "Epoch 290: Train time = 10.24 | Train Loss = 0.0150976 \n",
      "Epoch 300: Train time = 10.27 | Train Loss = 0.0150969 \n",
      "Best Training MSE: 0.0150931\n",
      "IMPROVED VALIDATION MSE\n",
      "\n",
      "Total time: 3051.75\n",
      "Complete. Time taken: 3143.57s\n",
      "10.00% done\n",
      "20.00% done\n",
      "30.00% done\n",
      "40.00% done\n",
      "50.00% done\n",
      "60.00% done\n",
      "70.00% done\n",
      "80.00% done\n",
      "90.00% done\n",
      "100.00% done\n",
      "Testing complete. Time taken: 171.48\n"
     ]
    }
   ],
   "source": [
    "run_seed(42)"
   ]
  },
  {
   "cell_type": "markdown",
   "id": "4863a62c-1ca7-4b49-8f7e-a92172717083",
   "metadata": {},
   "source": [
    "## 4.6 Compilation of means"
   ]
  },
  {
   "cell_type": "code",
   "execution_count": 13,
   "id": "3ec57f9e-b336-4d06-9ff8-2506df6e2b46",
   "metadata": {},
   "outputs": [],
   "source": [
    "mu_preds = []"
   ]
  },
  {
   "cell_type": "code",
   "execution_count": 14,
   "id": "accdff42-1bee-4c5c-b1aa-430274d9fea7",
   "metadata": {},
   "outputs": [],
   "source": [
    "for dirpath, dirnames, filenames in os.walk(res_folder):\n",
    "    for f in filenames:\n",
    "        mu_preds.append(load_obj(os.path.join(res_folder, f)))"
   ]
  },
  {
   "cell_type": "code",
   "execution_count": 15,
   "id": "e738442a-17a4-43fa-a359-e4f12601dcb6",
   "metadata": {},
   "outputs": [],
   "source": [
    "mu_preds = np.array(mu_preds)"
   ]
  },
  {
   "cell_type": "code",
   "execution_count": 16,
   "id": "a860c22e-0577-40da-95b4-a44b46845243",
   "metadata": {},
   "outputs": [
    {
     "name": "stdout",
     "output_type": "stream",
     "text": [
      "mean preds shape: (5, 100, 400, 40)\n"
     ]
    }
   ],
   "source": [
    "print(f\"mean preds shape: {mu_preds.shape}\")"
   ]
  },
  {
   "cell_type": "markdown",
   "id": "6622806d-4d17-4d9a-abf0-0253f0a0446d",
   "metadata": {},
   "source": [
    "# 5. Analyze results"
   ]
  },
  {
   "cell_type": "markdown",
   "id": "1fff9919-57f9-4dfc-84f5-df7bdbb432ad",
   "metadata": {},
   "source": [
    "## 5.1 MSE"
   ]
  },
  {
   "cell_type": "code",
   "execution_count": 17,
   "id": "530f5e3f-7972-41d4-bd82-923c484dec2e",
   "metadata": {},
   "outputs": [],
   "source": [
    "mixture_pred_all_mean = mu_preds.mean(axis = 0)"
   ]
  },
  {
   "cell_type": "code",
   "execution_count": 17,
   "id": "7908deac-a4c9-404c-a7f4-465a345d2b0b",
   "metadata": {},
   "outputs": [
    {
     "data": {
      "image/png": "[encoded data removed]",
      "text/plain": [
       "<Figure size 432x288 with 1 Axes>"
      ]
     },
     "metadata": {
      "needs_background": "light"
     },
     "output_type": "display_data"
    },
    {
     "name": "stdout",
     "output_type": "stream",
     "text": [
      "It takes around 1.00 Lyapunov Time for mean error to exceed 0.5\n",
      "\n",
      "Median NRMSE at 0.5 Lyapunov Time: 0.234\n",
      "Median NRMSE at 1.0 Lyapunov Time: 0.502\n",
      "Median NRMSE at 2.0 Lyapunov Time: 0.891\n",
      "Median NRMSE at 5.0 Lyapunov Time: 1.039\n"
     ]
    }
   ],
   "source": [
    "res_single = PointExperimentResultLyapunov(mixture_pred_all_mean - y_test, \"lorenz\")\n",
    "res_single.plot_rmse(save_name = \"RC Noise Deep Ensemble Horizon\")\n",
    "print()\n",
    "res_single.get_loss()"
   ]
  },
  {
   "cell_type": "markdown",
   "id": "88c6be55-7e0f-459e-8f65-dcf863bf84c9",
   "metadata": {},
   "source": [
    "## 5.2 Variance"
   ]
  },
  {
   "cell_type": "markdown",
   "id": "33cb6451-b9fe-4a03-8e97-01bb0bc77cf6",
   "metadata": {},
   "source": [
    "**Visualise for one dataset**"
   ]
  },
  {
   "cell_type": "code",
   "execution_count": 18,
   "id": "3d8a99d9-39d6-4330-83f0-a919ab268510",
   "metadata": {},
   "outputs": [],
   "source": [
    "idx = 0"
   ]
  },
  {
   "cell_type": "code",
   "execution_count": 19,
   "id": "4d23ecf9-dd4a-41da-829c-fbd05642cd38",
   "metadata": {},
   "outputs": [
    {
     "data": {
      "image/png": "[encoded data removed]",
      "text/plain": [
       "<Figure size 432x288 with 1 Axes>"
      ]
     },
     "metadata": {
      "needs_background": "light"
     },
     "output_type": "display_data"
    }
   ],
   "source": [
    "plt.plot(np.arange(L_forecast_test) / LORENZ_LT * 0.01, mu_preds.var(axis = 0)[idx].mean(axis = 1))\n",
    "plt.grid(\"on\")\n",
    "plt.xlabel(\"Lyapunov Time\")\n",
    "plt.ylabel(\"Variance\")\n",
    "plt.savefig(\"RC Noise Deep Ensemble Variance.png\", facecolor = \"white\", bbox_inches = \"tight\")\n",
    "plt.show()"
   ]
  },
  {
   "cell_type": "markdown",
   "id": "95781e2b-0ea5-4745-8a62-21f9d08a1e53",
   "metadata": {},
   "source": [
    "## 5.3 Negative Log LH"
   ]
  },
  {
   "cell_type": "code",
   "execution_count": 18,
   "id": "6008d350-7c3e-4a2c-8e34-8600950d519f",
   "metadata": {},
   "outputs": [],
   "source": [
    "def neg_log_LH(mean_pred, sd_pred):\n",
    "    d = 40\n",
    "    \n",
    "    constant_loss = d * np.log(2 * np.pi)\n",
    "    mu_loss = (mean_pred - y_test)**2\n",
    "    \n",
    "    return 0.5 * (constant_loss + d * np.log(sd_pred) + (mu_loss / sd_pred**2)).mean(axis = (0, 2))"
   ]
  },
  {
   "cell_type": "code",
   "execution_count": 19,
   "id": "b974d6f8-a9d0-4be1-9bd2-5052d44e2b16",
   "metadata": {},
   "outputs": [],
   "source": [
    "std_dev = mu_preds.std(axis = 0)"
   ]
  },
  {
   "cell_type": "code",
   "execution_count": 20,
   "id": "a3682d95-1258-4e76-919d-e16c0ecafd29",
   "metadata": {},
   "outputs": [
    {
     "data": {
      "image/png": "[encoded data removed]",
      "text/plain": [
       "<Figure size 432x288 with 1 Axes>"
      ]
     },
     "metadata": {
      "needs_background": "light"
     },
     "output_type": "display_data"
    }
   ],
   "source": [
    "plt.plot(np.arange(L_forecast_test) / LORENZ_LT * 0.01, neg_log_LH(mixture_pred_all_mean,  std_dev))\n",
    "# plt.title(\"Negative Log LH against time\")\n",
    "plt.ylabel(\"Negative Log LH\") \n",
    "plt.xlabel(\"Lyapunov Time\")\n",
    "plt.grid(\"on\")\n",
    "plt.savefig(\"RC Noise Deep Ensemble NLL.png\", facecolor = \"white\", bbox_inches = \"tight\")\n",
    "plt.show()"
   ]
  },
  {
   "cell_type": "code",
   "execution_count": 21,
   "id": "922f8246-3655-4c31-a601-bddef8f7a2c5",
   "metadata": {},
   "outputs": [
    {
     "name": "stdout",
     "output_type": "stream",
     "text": [
      "Overall negative log LH: 26.21435\n"
     ]
    }
   ],
   "source": [
    "print(f\"Overall negative log LH: {neg_log_LH(mixture_pred_all_mean, std_dev).mean():.5f}\")"
   ]
  }
 ],
 "metadata": {
  "kernelspec": {
   "display_name": "Python 3 (ipykernel)",
   "language": "python",
   "name": "python3"
  },
  "language_info": {
   "codemirror_mode": {
    "name": "ipython",
    "version": 3
   },
   "file_extension": ".py",
   "mimetype": "text/x-python",
   "name": "python",
   "nbconvert_exporter": "python",
   "pygments_lexer": "ipython3",
   "version": "3.8.12"
  }
 },
 "nbformat": 4,
 "nbformat_minor": 5
}
