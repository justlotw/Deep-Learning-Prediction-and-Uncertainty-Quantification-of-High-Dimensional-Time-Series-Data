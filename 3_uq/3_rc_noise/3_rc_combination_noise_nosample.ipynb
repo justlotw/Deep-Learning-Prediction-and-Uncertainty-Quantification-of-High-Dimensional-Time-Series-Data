{
 "cells": [
  {
   "cell_type": "markdown",
   "id": "14d57da9-ca77-4333-ba41-8236efa46467",
   "metadata": {},
   "source": [
    "# Method: RC \n",
    "# Dataset: Lorenz-96, F = 8\n",
    "# Purpose: Uncertainty Quantification - Mean Variance Estimation Deep Ensemble"
   ]
  },
  {
   "cell_type": "markdown",
   "id": "9711fa4f-7843-43d5-a047-14c762fd2e5f",
   "metadata": {},
   "source": [
    "# 1. Set-up"
   ]
  },
  {
   "cell_type": "code",
   "execution_count": 1,
   "id": "c9f852d7-2ea3-49a4-8bd5-a85ba731f802",
   "metadata": {},
   "outputs": [],
   "source": [
    "# GPU\n",
    "import os\n",
    "os.environ[\"CUDA_VISIBLE_DEVICES\"] = \"3\"\n",
    "\n",
    "# Package\n",
    "import sys\n",
    "sys.path.append(\"../..\")"
   ]
  },
  {
   "cell_type": "code",
   "execution_count": 2,
   "id": "1ee758f3-121d-4ca7-a44e-f00db4631d50",
   "metadata": {},
   "outputs": [],
   "source": [
    "from create_data import load_data\n",
    "from utils import * # Number of testing samples\n",
    "import numpy as np\n",
    "import matplotlib.pyplot as plt\n",
    "from time import time\n",
    "from scipy import sparse\n",
    "\n",
    "import jax\n",
    "import jax.numpy as jnp\n",
    "from jax import value_and_grad\n",
    "from jax.numpy import tanh\n",
    "from jax.example_libraries import optimizers"
   ]
  },
  {
   "cell_type": "code",
   "execution_count": 3,
   "id": "ee80a55c-5e5d-4120-8c56-8be07285e9fe",
   "metadata": {},
   "outputs": [],
   "source": [
    "train, test = load_data(\"Lorenz 96, F = 8\", \"../../data/lorenz8\", 0.5)"
   ]
  },
  {
   "cell_type": "code",
   "execution_count": 4,
   "id": "cfe5dced-3968-4c6a-8f43-376fbf5e3640",
   "metadata": {},
   "outputs": [],
   "source": [
    "np.random.seed(1)\n",
    "train.data = train.data + np.random.normal(0, 1e-1, train.data.shape)"
   ]
  },
  {
   "cell_type": "code",
   "execution_count": 5,
   "id": "e30a3f5f-c622-4e95-ae1c-dd652be02b5e",
   "metadata": {},
   "outputs": [
    {
     "name": "stdout",
     "output_type": "stream",
     "text": [
      "Train size: (90000, 40)\n",
      "Test size: (90000, 40)\n"
     ]
    }
   ],
   "source": [
    "print(f\"Train size: {train.data.shape}\")\n",
    "print(f\"Test size: {test.data.shape}\")"
   ]
  },
  {
   "cell_type": "markdown",
   "id": "8288061f-20ca-4fe6-840e-6ee8cd8064b1",
   "metadata": {},
   "source": [
    "**Create test set**"
   ]
  },
  {
   "cell_type": "code",
   "execution_count": 6,
   "id": "9c868d5f-50c3-48a5-8762-e0de61468e5f",
   "metadata": {},
   "outputs": [],
   "source": [
    "L_forecast_test = 400   # steps to forecast forward (when testing)"
   ]
  },
  {
   "cell_type": "code",
   "execution_count": 7,
   "id": "5a2ec67a-c0aa-45b0-b059-cb9a1dceb438",
   "metadata": {},
   "outputs": [],
   "source": [
    "np.random.seed(1)\n",
    "\n",
    "data_test = test.data\n",
    "\n",
    "T_test, data_dim = data_test.shape\n",
    "possible_idx = T_test - (L_forecast_test + 1) # minus number of steps forward, and the warm-up period\n",
    "T_indices = np.random.randint(0, possible_idx, size = NUM_TEST)\n",
    "\n",
    "t_past_batch = np.repeat(T_indices[:, None], WARM_UP_TEST, axis = 1).astype(int) # 200 warmup \n",
    "t_pred_batch = (T_indices[:, None] + np.arange(1, 1 + L_forecast_test)[None, :].astype(int))\n",
    "\n",
    "X_test = data_test[t_past_batch]\n",
    "y_test = data_test[t_pred_batch]"
   ]
  },
  {
   "cell_type": "code",
   "execution_count": 8,
   "id": "7e57b737-d4d5-41f0-9077-071567f3758f",
   "metadata": {},
   "outputs": [
    {
     "name": "stdout",
     "output_type": "stream",
     "text": [
      "Test input size: (100, 2000, 40)\n",
      "Test output size: (100, 400, 40)\n"
     ]
    }
   ],
   "source": [
    "print(f\"Test input size: {X_test.shape}\")  # Number of test points x input length x dim\n",
    "print(f\"Test output size: {y_test.shape}\") # Number of test points x horizon x dim"
   ]
  },
  {
   "cell_type": "markdown",
   "id": "bb0bd417-72d0-4d90-8b16-30945dd0ee20",
   "metadata": {},
   "source": [
    "# 2. RC Implementation"
   ]
  },
  {
   "cell_type": "code",
   "execution_count": 9,
   "id": "bf9258f6-5dd2-4ddf-ab11-8f9f274ffb4a",
   "metadata": {},
   "outputs": [],
   "source": [
    "def get_parameters(nn_size, connectivity, spec_radius, lambd, \n",
    "                   seed, batch_size, num_epoch, lr_schedule = [1e-4], \n",
    "                   early_stopping = EARLY_STOPPING):\n",
    "    \"\"\"\n",
    "    Returns trained parameters (beta, intercept) and hidden layer values\n",
    "    \"\"\"\n",
    "    def initialize_coef():\n",
    "        \"\"\"\n",
    "        Initializes W_in and W. \n",
    "        W_in size = nn_size x data_dim\n",
    "        W size = nn_size x nn_size\n",
    "        \"\"\"\n",
    "        start = time()\n",
    "\n",
    "        # Generate input -> hidden unit weights\n",
    "        W_in = 2 * (np.random.rand(nn_size, data_dim) - 0.5) \n",
    "        W_in = W_in / (4 * np.sqrt(data_dim))\n",
    "\n",
    "        # Generate hidden -> hidden unit weights\n",
    "        # Considers connectivity to make the matrix sparse\n",
    "        start_mat = time()\n",
    "        rows = np.concatenate([np.full(connectivity, i) for i in range(nn_size)])\n",
    "        cols = np.concatenate([np.random.choice(range(nn_size), size = connectivity, replace = False) for _ in range(nn_size)])\n",
    "        vals = np.random.uniform(low = -omega, high = omega, size = (nn_size * connectivity))\n",
    "        W = sparse.csr_matrix((vals, (rows, cols)), shape = (nn_size, nn_size))\n",
    "        end_mat = time()\n",
    "        print(f\"W generated. Time taken: {end_mat - start_mat:.2f}s\")\n",
    "\n",
    "        # Calculate eigenvalues for scaling of matrix\n",
    "        print(\"Calculating eigenvalue\")\n",
    "        e_start = time()\n",
    "        eigenvals = sparse.linalg.eigs(W, which = \"LM\", return_eigenvectors = False, k = 1)\n",
    "        max_eigen = np.abs(eigenvals)\n",
    "        e_end = time()\n",
    "        print(f\"Eigenvalue calculated. Time taken: {e_end - e_start:.2f}s\")\n",
    "\n",
    "        # Scale matrix by spectral radius\n",
    "        W = W / max_eigen * spec_radius # scale the matrix W by its spectral radius\n",
    "        W = sparse.csr_matrix(W)\n",
    "        \n",
    "        end = time()\n",
    "        print(f\"W and W_in generated. Time taken: {end-start:.2f}s\")\n",
    "        print()\n",
    "        \n",
    "        return W_in, W\n",
    "    \n",
    "    def generate_hidden_states(W_in, W):\n",
    "        \"\"\" \n",
    "        Generate hidden states (z) values\n",
    "        hidden_states size = data_size x nn_size \n",
    "        \"\"\"\n",
    "        start = time()\n",
    "        \n",
    "        print(\"Generating z values...\")\n",
    "        indiv_z = np.zeros(shape = nn_size)\n",
    "        hidden_states = np.zeros((train_size, nn_size))\n",
    "        \n",
    "        for t in range(train_size):  \n",
    "            indiv_z = (1 - alpha) * indiv_z + \\\n",
    "                alpha * np.tanh(W_in @ x[t] + W @ indiv_z)\n",
    "            hidden_states[t, :] = indiv_z\n",
    "        end = time()\n",
    "        print(f\"z values generated. Time taken: {end-start:.2f}s\")\n",
    "        \n",
    "        return hidden_states\n",
    "    \n",
    "    def mse(y, y_pred):\n",
    "        return jnp.mean((y_pred - y)**2)\n",
    "    \n",
    "    @jax.jit\n",
    "    def neg_log_LH(params, x, y):\n",
    "        \"\"\"\n",
    "        returns negative-log-likelihood -logLH(P(y|params))\n",
    "        \"\"\"\n",
    "        d = data_dim\n",
    "        beta, intercept, beta2, intercept2 = params\n",
    "        \n",
    "        mu = x @ beta + intercept  # train_size x data_dim\n",
    "        \n",
    "        log_sigma = (x @ beta2 + intercept2).mean() # train_size x 1\n",
    "        sigma = jnp.exp(log_sigma)\n",
    "        \n",
    "        mu_loss = mse(mu, y)\n",
    "        constant = d * jnp.log(2 * jnp.pi)\n",
    "        sigma_loss = d * log_sigma\n",
    "        return 0.5*(constant + sigma_loss + (mu_loss / sigma**2))\n",
    "\n",
    "    def training(x, y):\n",
    "        \"\"\" \n",
    "        Trains regression of y~x using SGD. \n",
    "        Returns parameters (beta, intercept, beta2, intercept2) where \n",
    "        beta, intercept -> weights to determine the mean\n",
    "        beta2, intecept2 -> weights to determine log_sigma\n",
    "        \n",
    "        beta size = nn_size x data_dim\n",
    "        intercept = data_dim (will be added for each training data)\n",
    "        beta2 size = nn_size x 1\n",
    "        intercept2 = 1 (will be added for each training data)\n",
    "        \n",
    "        should predict a mu with train_size x data_dim (\\mu per dimension per datapoint)\n",
    "        and a sigma with train_size x 1 (single \\sigma for all dimensions per datapoint)\n",
    "        \"\"\"\n",
    "        \n",
    "        @jax.jit\n",
    "        def step(opt_state, x, y):\n",
    "            params = get_params(opt_state)\n",
    "            value, g = value_and_grad(neg_log_LH)(params, x, y)\n",
    "            opt_state = opt_update(0, g, opt_state)\n",
    "            return get_params(opt_state), opt_state, value\n",
    "\n",
    "        start = time()\n",
    "        \n",
    "        # Plot loss\n",
    "        loss_train_traj = []\n",
    "        loss_train_all_traj = []\n",
    "        \n",
    "        # Init parameters\n",
    "        beta = np.random.normal(0, 1 / np.sqrt(nn_size), size = (nn_size, data_dim))\n",
    "        beta2 = np.random.normal(0, 1 / np.sqrt(nn_size), size = (nn_size, 1))\n",
    "        intercept = np.random.normal(0, 1 / np.sqrt(nn_size * 2), size = (data_dim, ))\n",
    "        intercept2 = np.random.normal(0, 1 / np.sqrt(nn_size * 2), size = (1, ))\n",
    "        \n",
    "        t_size = int(1. * train_size)\n",
    "        \n",
    "        overall_best_loss = 9999999\n",
    "        \n",
    "        for i, lr in enumerate(lr_schedule):\n",
    "            opt_init, opt_update, get_params = optimizers.adam(step_size = lr) \n",
    "            opt_state = opt_init([beta, intercept, beta2, intercept2])\n",
    "            \n",
    "            # For early stopping\n",
    "            best_state = opt_state\n",
    "            counter = 0 \n",
    "            best_val_loss = 9999999\n",
    "            \n",
    "            for epoch in range(num_epoch[i]):\n",
    "                e_start = time()\n",
    "                \n",
    "                T_indices = np.arange(train_size)\n",
    "                np.random.shuffle(T_indices)\n",
    "\n",
    "                loss_epoch_train = []\n",
    "                for k in range(t_size // batch_size + 1):\n",
    "                    t_start = T_indices[np.arange(k * batch_size, (k+1) * batch_size).astype(int) % len(T_indices)]\n",
    "                    x_batch = x[t_start]\n",
    "                    y_batch = y[t_start]\n",
    "\n",
    "                    params, opt_state, l = step(opt_state, x_batch, y_batch)\n",
    "                    loss_epoch_train.append(l)\n",
    "                \n",
    "                \n",
    "                loss_train_all_traj += loss_epoch_train\n",
    "                mse_train = np.mean(loss_epoch_train) # -ve log likelihood\n",
    "                loss_train_traj.append(mse_train)\n",
    "                \n",
    "                e_end = time()\n",
    "                \n",
    "                if mse_train < best_val_loss:\n",
    "                    best_val_loss = mse_train\n",
    "                    counter = 0\n",
    "                    best_state = opt_state\n",
    "                else:\n",
    "                    counter += 1\n",
    "                    \n",
    "                if (epoch + 1) % 10 == 0:\n",
    "                    print(f\"Epoch {epoch + 1}: Train time = {e_end - e_start:.2f} | Train Loss = {mse_train:.7f}\", end = \" \")\n",
    "                    print()\n",
    "                if counter == early_stopping:\n",
    "                    print(f\"EARLY STOPPING. Epoch {epoch + 1}: Train loss = {mse_train:.7f}\")\n",
    "                    break\n",
    "            \n",
    "            print(f\"Best Training Loss : {best_val_loss:.7f}\") \n",
    "            \n",
    "            if best_val_loss < overall_best_loss:\n",
    "                print(\"IMPROVED VALIDATION LOSS\")\n",
    "                overall_best_loss = best_val_loss\n",
    "                overall_best_state = best_state\n",
    "            \n",
    "            beta, intercept, beta2, intercept2 = get_params(overall_best_state)\n",
    "            print()\n",
    "        \n",
    "        end = time()\n",
    "        print(f\"Total time: {end - start:.2f}\")\n",
    "        \n",
    "        return get_params(overall_best_state) # beta, intercept, beta2, intercept2\n",
    "    \n",
    "    start = time()\n",
    "   \n",
    "    x, y = train.data[:-1], train.data[1:]\n",
    "    copy_x, copy_y = x, y \n",
    "    train_size, data_dim = x.data.shape\n",
    "       \n",
    "    np.random.seed(seed)\n",
    "    W_in, W = initialize_coef()\n",
    "    z = generate_hidden_states(W_in, W)\n",
    "\n",
    "    # Want to regression Y ~ X ==> Y ~ [z, z**2]\n",
    "    final_y = y[transient:]\n",
    "    final_z = z[transient:]\n",
    "    print(\"Concatenating z with z**2\", end = \" \"); concat_start = time()\n",
    "    final_z = np.concatenate([final_z, final_z**2], axis = 1) # shape: train_size x (nn_size*2)\n",
    "    concat_end = time()\n",
    "    print(f\"Contenation complete. Time taken: {concat_end-concat_start:.2f}s\", end = \"\\n\\n\")\n",
    "    \n",
    "    train_size, nn_size = final_z.shape\n",
    "    \n",
    "    params = training(final_z, final_y)\n",
    "    end = time()\n",
    "    print(f\"Complete. Time taken: {end - start:.2f}s\")\n",
    "    \n",
    "    return params, (final_z, W_in, W)"
   ]
  },
  {
   "cell_type": "code",
   "execution_count": 10,
   "id": "2863ad98-35c2-435c-bcea-86318c9152df",
   "metadata": {},
   "outputs": [],
   "source": [
    "def get_test_pred(data_test, nn_size, params, W_in, W):   \n",
    "    beta, intercept, beta2, intercept2 = params\n",
    "    num_data_test, trans, data_dim = data_test.shape # testing ex, # steps used (transient), dim of data\n",
    "    \n",
    "    def prediction(inp):\n",
    "        \"\"\"\n",
    "        Returns the mean of one of the testing input\n",
    "        \n",
    "        mean will be a length_to_test x data_dim vector\n",
    "        \"\"\"\n",
    "        \n",
    "        z = np.zeros((nn_size, ))\n",
    "        for i in range(trans):\n",
    "            z = (1 - alpha) * z + alpha * np.tanh(W_in @ inp[i] + W @ z)\n",
    "        \n",
    "        mus = []\n",
    "        stddevs = []\n",
    "        \n",
    "        x = beta.T @ np.concatenate([z, z**2]) + intercept # output / input_of_next | size = dim_data\n",
    "        log_sd = beta2.T @ np.concatenate([z, z**2]) + intercept2 # log_sd of output | size = 1 \n",
    "        mus.append(x)\n",
    "        stddevs.append(jnp.exp(log_sd[0]))\n",
    "        \n",
    "        for _ in range(L_forecast_test - 1):\n",
    "            z = (1 - alpha) * z + alpha * np.tanh(W_in @ x + W @ z)\n",
    "            x = beta.T @ np.concatenate([z, z**2]) + intercept # output / input_of_next\n",
    "            log_sd = beta2.T @ np.concatenate([z, z**2]) + intercept2\n",
    "            mus.append(x)\n",
    "            stddevs.append(jnp.exp(log_sd[0]))\n",
    "        \n",
    "        return mus, stddevs\n",
    "    \n",
    "    start = time()\n",
    "    \n",
    "    mean_list = []\n",
    "    sd_list = []\n",
    "    \n",
    "    for i in range(num_data_test):\n",
    "        mean, sd = prediction(data_test[i])\n",
    "        mean_list.append(mean)\n",
    "        sd_list.append(sd)\n",
    "        if (i+1) % 10 == 0:\n",
    "            print(f\"{(i+1) / num_data_test * 100:.2f}% done\")\n",
    "    \n",
    "    end = time()\n",
    "    print(f\"Testing complete. Time taken: {end - start:.2f}\")\n",
    "    return np.array(mean_list), np.array(sd_list)"
   ]
  },
  {
   "cell_type": "code",
   "execution_count": 11,
   "id": "3c77fe48-46bf-4706-bdfb-f6a77eb60c82",
   "metadata": {},
   "outputs": [],
   "source": [
    "def neg_log_LH(mean_pred, sd_pred):\n",
    "    d = data_dim\n",
    "    \n",
    "    constant_loss = d * np.log(2 * np.pi)\n",
    "    mu_loss = (mean_pred - y_test)**2\n",
    "    if len(sd_pred.shape) == 2:\n",
    "        sd_expanded = np.moveaxis(np.tile(sd_pred, (d, 1, 1)), 0, 2)# Repeat sd for each of the 40 dimensions \n",
    "    elif len(sd_pred.shape) == 3:\n",
    "        sd_expanded = sd_pred\n",
    "    else:\n",
    "        raise Exception(\"Invalid sd_pred dimension\")\n",
    "    \n",
    "    return 0.5 * (constant_loss + d * np.log(sd_expanded) + (mu_loss / sd_expanded**2)).mean(axis = (0, 2))"
   ]
  },
  {
   "cell_type": "markdown",
   "id": "ffce42df-dfac-4615-b07e-4446a271acf9",
   "metadata": {},
   "source": [
    "# 3. Best Parameters"
   ]
  },
  {
   "cell_type": "code",
   "execution_count": 12,
   "id": "6fcf92b1-c8cb-4996-939f-882d454fb811",
   "metadata": {},
   "outputs": [],
   "source": [
    "nn_size = 12000\n",
    "ridge_penalty = 1e-6\n",
    "spec_radius = 0.1\n",
    "connectivity = 4\n",
    "\n",
    "lr_list = [1e-4]\n",
    "epoch_list = [300]\n",
    "\n",
    "transient = 200  # points to ignore to allow system to stabilise\n",
    "omega = 1         # scale of the values of matrix W\n",
    "alpha = 1         # hidden state memory\n",
    "b_size = 200"
   ]
  },
  {
   "cell_type": "markdown",
   "id": "b7070f12-ba7a-4599-9006-1beede669821",
   "metadata": {},
   "source": [
    "# 4. MVE Ensemble"
   ]
  },
  {
   "cell_type": "code",
   "execution_count": 13,
   "id": "00685d43-8900-47d2-a557-69319b99f5eb",
   "metadata": {},
   "outputs": [],
   "source": [
    "res_folder = os.path.join(\"results\", \"combined_noise_no_sample\")"
   ]
  },
  {
   "cell_type": "code",
   "execution_count": 14,
   "id": "18624d5c-9c11-4157-a6c9-d64db082478a",
   "metadata": {},
   "outputs": [],
   "source": [
    "def run_seed(seed):\n",
    "    \"\"\"\n",
    "    Runs the experiment with optimal parameters and saves the predictions into a file\n",
    "    \"\"\"\n",
    "    params, internal = get_parameters(nn_size, connectivity, spec_radius, lambd = ridge_penalty, seed = seed, \n",
    "                                  batch_size = b_size, num_epoch = epoch_list, lr_schedule = lr_list)\n",
    "    _, W_in, W = internal\n",
    "    mean_pred, sd_pred = get_test_pred(X_test, nn_size, params, W_in, W)\n",
    "    file_name = \"mu_preds_\" + str(seed) + \".pkl\"\n",
    "    file_name_2 = \"sd_preds_\" + str(seed) + \".pkl\"\n",
    "    save_obj(mean_pred, res_folder, file_name)\n",
    "    save_obj(sd_pred, res_folder, file_name_2)"
   ]
  },
  {
   "cell_type": "markdown",
   "id": "726269e5-c675-4f2c-9f1b-0c866428fb13",
   "metadata": {},
   "source": [
    "## 4.1 Seed 2"
   ]
  },
  {
   "cell_type": "code",
   "execution_count": 15,
   "id": "60e8fa42-91d6-4e73-a933-c5eab022a73c",
   "metadata": {},
   "outputs": [
    {
     "name": "stdout",
     "output_type": "stream",
     "text": [
      "W generated. Time taken: 20.90s\n",
      "Calculating eigenvalue\n",
      "Eigenvalue calculated. Time taken: 2.22s\n",
      "W and W_in generated. Time taken: 26.05s\n",
      "\n",
      "Generating z values...\n",
      "z values generated. Time taken: 44.27s\n",
      "Concatenating z with z**2 Contenation complete. Time taken: 11.03s\n",
      "\n",
      "Epoch 10: Train time = 12.82 | Train Loss = -22.9251595 \n",
      "Epoch 20: Train time = 13.34 | Train Loss = -23.3332272 \n",
      "Epoch 30: Train time = 13.43 | Train Loss = -23.6678562 \n",
      "Epoch 40: Train time = 13.78 | Train Loss = -23.9424095 \n",
      "Epoch 50: Train time = 11.36 | Train Loss = -24.1698895 \n",
      "Epoch 60: Train time = 10.82 | Train Loss = -24.3485584 \n",
      "Epoch 70: Train time = 11.41 | Train Loss = -24.5028934 \n",
      "Epoch 80: Train time = 11.11 | Train Loss = -24.6188679 \n",
      "Epoch 90: Train time = 10.71 | Train Loss = -24.7147465 \n",
      "Epoch 100: Train time = 10.64 | Train Loss = -24.7942696 \n",
      "Epoch 110: Train time = 11.30 | Train Loss = -24.8516121 \n",
      "Epoch 120: Train time = 11.12 | Train Loss = -24.8999767 \n",
      "Epoch 130: Train time = 11.19 | Train Loss = -24.9390507 \n",
      "Epoch 140: Train time = 10.65 | Train Loss = -24.9723568 \n",
      "Epoch 150: Train time = 10.58 | Train Loss = -24.9982147 \n",
      "Epoch 160: Train time = 10.70 | Train Loss = -25.0150204 \n",
      "Epoch 170: Train time = 10.62 | Train Loss = -25.0327549 \n",
      "Epoch 180: Train time = 11.67 | Train Loss = -25.0474911 \n",
      "Epoch 190: Train time = 11.16 | Train Loss = -25.0596466 \n",
      "Epoch 200: Train time = 11.19 | Train Loss = -25.0661583 \n",
      "Epoch 210: Train time = 11.69 | Train Loss = -25.0742149 \n",
      "Epoch 220: Train time = 11.45 | Train Loss = -25.0837536 \n",
      "Epoch 230: Train time = 11.17 | Train Loss = -25.0911121 \n",
      "Epoch 240: Train time = 11.18 | Train Loss = -25.0968971 \n",
      "Epoch 250: Train time = 11.37 | Train Loss = -25.0991745 \n",
      "Epoch 260: Train time = 11.20 | Train Loss = -25.1038895 \n",
      "Epoch 270: Train time = 11.45 | Train Loss = -25.1098576 \n",
      "Epoch 280: Train time = 11.17 | Train Loss = -25.1103573 \n",
      "Epoch 290: Train time = 11.45 | Train Loss = -25.1137810 \n",
      "Epoch 300: Train time = 11.40 | Train Loss = -25.1192589 \n",
      "Best Training Loss : -25.1192589\n",
      "IMPROVED VALIDATION LOSS\n",
      "\n",
      "Total time: 3375.00\n",
      "Complete. Time taken: 3456.87s\n",
      "10.00% done\n",
      "20.00% done\n",
      "30.00% done\n",
      "40.00% done\n",
      "50.00% done\n",
      "60.00% done\n",
      "70.00% done\n",
      "80.00% done\n",
      "90.00% done\n",
      "100.00% done\n",
      "Testing complete. Time taken: 320.80\n"
     ]
    }
   ],
   "source": [
    "run_seed(2)"
   ]
  },
  {
   "cell_type": "markdown",
   "id": "9364c0f0-6261-478d-9231-a3b95d0031aa",
   "metadata": {},
   "source": [
    "## 4.2 Seed 4"
   ]
  },
  {
   "cell_type": "code",
   "execution_count": null,
   "id": "315d4dad-133b-484f-9f32-2f131f661530",
   "metadata": {},
   "outputs": [
    {
     "name": "stdout",
     "output_type": "stream",
     "text": [
      "W generated. Time taken: 19.67s\n",
      "Calculating eigenvalue\n",
      "Eigenvalue calculated. Time taken: 10.43s\n",
      "W and W_in generated. Time taken: 33.44s\n",
      "\n",
      "Generating z values...\n",
      "z values generated. Time taken: 52.38s\n",
      "Concatenating z with z**2 Contenation complete. Time taken: 12.89s\n",
      "\n",
      "Epoch 10: Train time = 11.36 | Train Loss = -22.9272251 \n",
      "Epoch 20: Train time = 12.04 | Train Loss = -23.3383713 \n",
      "Epoch 30: Train time = 12.33 | Train Loss = -23.6743717 \n",
      "Epoch 40: Train time = 12.01 | Train Loss = -23.9476070 \n",
      "Epoch 50: Train time = 11.20 | Train Loss = -24.1759472 \n",
      "Epoch 60: Train time = 13.09 | Train Loss = -24.3554420 \n",
      "Epoch 70: Train time = 12.43 | Train Loss = -24.5061722 \n",
      "Epoch 80: Train time = 12.28 | Train Loss = -24.6273193 \n",
      "Epoch 90: Train time = 12.15 | Train Loss = -24.7201004 \n",
      "Epoch 100: Train time = 11.58 | Train Loss = -24.7961140 \n",
      "Epoch 110: Train time = 12.39 | Train Loss = -24.8592091 \n",
      "Epoch 120: Train time = 10.68 | Train Loss = -24.9023170 \n",
      "Epoch 130: Train time = 11.73 | Train Loss = -24.9416714 \n",
      "Epoch 140: Train time = 11.95 | Train Loss = -24.9747944 \n"
     ]
    }
   ],
   "source": [
    "run_seed(4)"
   ]
  },
  {
   "cell_type": "markdown",
   "id": "5d8814af-e202-45b8-8236-bb367ad5b69f",
   "metadata": {},
   "source": [
    "## 4.3 Seed 6"
   ]
  },
  {
   "cell_type": "code",
   "execution_count": 15,
   "id": "e6628b4b-1834-40cc-8195-51677e352ce8",
   "metadata": {},
   "outputs": [
    {
     "name": "stdout",
     "output_type": "stream",
     "text": [
      "W generated. Time taken: 21.38s\n",
      "Calculating eigenvalue\n",
      "Eigenvalue calculated. Time taken: 14.11s\n",
      "W and W_in generated. Time taken: 38.60s\n",
      "\n",
      "Generating z values...\n",
      "z values generated. Time taken: 84.07s\n",
      "Concatenating z with z**2 Contenation complete. Time taken: 14.00s\n",
      "\n",
      "Epoch 10: Train time = 10.68 | Train Loss = -22.9240856 \n",
      "Epoch 20: Train time = 11.35 | Train Loss = -23.3337727 \n",
      "Epoch 30: Train time = 11.34 | Train Loss = -23.6736221 \n",
      "Epoch 40: Train time = 11.17 | Train Loss = -23.9482307 \n",
      "Epoch 50: Train time = 11.36 | Train Loss = -24.1736889 \n",
      "Epoch 60: Train time = 11.42 | Train Loss = -24.3591671 \n",
      "Epoch 70: Train time = 11.17 | Train Loss = -24.5061283 \n",
      "Epoch 80: Train time = 11.31 | Train Loss = -24.6253433 \n",
      "Epoch 90: Train time = 11.37 | Train Loss = -24.7213345 \n",
      "Epoch 100: Train time = 11.33 | Train Loss = -24.7960110 \n",
      "Epoch 110: Train time = 11.20 | Train Loss = -24.8590755 \n",
      "Epoch 120: Train time = 11.49 | Train Loss = -24.9038677 \n",
      "Epoch 130: Train time = 11.26 | Train Loss = -24.9475403 \n",
      "Epoch 140: Train time = 11.30 | Train Loss = -24.9732571 \n",
      "Epoch 150: Train time = 11.32 | Train Loss = -25.0027275 \n",
      "Epoch 160: Train time = 10.90 | Train Loss = -25.0195141 \n",
      "Epoch 170: Train time = 10.72 | Train Loss = -25.0358295 \n",
      "Epoch 180: Train time = 10.76 | Train Loss = -25.0507469 \n",
      "Epoch 190: Train time = 10.76 | Train Loss = -25.0591545 \n",
      "Epoch 200: Train time = 11.41 | Train Loss = -25.0683098 \n",
      "Epoch 210: Train time = 11.43 | Train Loss = -25.0771351 \n",
      "Epoch 220: Train time = 11.33 | Train Loss = -25.0843410 \n",
      "Epoch 230: Train time = 11.42 | Train Loss = -25.0909348 \n",
      "Epoch 240: Train time = 11.23 | Train Loss = -25.0970497 \n",
      "Epoch 250: Train time = 11.77 | Train Loss = -25.1002789 \n",
      "Epoch 260: Train time = 11.90 | Train Loss = -25.1053028 \n",
      "Epoch 270: Train time = 10.68 | Train Loss = -25.1067200 \n",
      "Epoch 280: Train time = 11.47 | Train Loss = -25.1130772 \n",
      "Epoch 290: Train time = 11.50 | Train Loss = -25.1198730 \n",
      "Epoch 300: Train time = 11.58 | Train Loss = -25.1171474 \n",
      "Best Training Loss : -25.1209564\n",
      "IMPROVED VALIDATION LOSS\n",
      "\n",
      "Total time: 3388.80\n",
      "Complete. Time taken: 3525.99s\n",
      "10.00% done\n",
      "20.00% done\n",
      "30.00% done\n",
      "40.00% done\n",
      "50.00% done\n",
      "60.00% done\n",
      "70.00% done\n",
      "80.00% done\n",
      "90.00% done\n",
      "100.00% done\n",
      "Testing complete. Time taken: 354.29\n"
     ]
    }
   ],
   "source": [
    "run_seed(6)"
   ]
  },
  {
   "cell_type": "markdown",
   "id": "87ef17a5-c136-44fd-9d35-37991e8a7c9a",
   "metadata": {},
   "source": [
    "## 4.4 Seed 8"
   ]
  },
  {
   "cell_type": "code",
   "execution_count": 15,
   "id": "7ceaaea6-4537-46d6-8951-034639c6a30d",
   "metadata": {},
   "outputs": [
    {
     "name": "stdout",
     "output_type": "stream",
     "text": [
      "W generated. Time taken: 31.82s\n",
      "Calculating eigenvalue\n",
      "Eigenvalue calculated. Time taken: 6.63s\n",
      "W and W_in generated. Time taken: 43.43s\n",
      "\n",
      "Generating z values...\n",
      "z values generated. Time taken: 95.21s\n",
      "Concatenating z with z**2 Contenation complete. Time taken: 13.18s\n",
      "\n",
      "Epoch 10: Train time = 11.34 | Train Loss = -22.9310360 \n",
      "Epoch 20: Train time = 10.83 | Train Loss = -23.3365364 \n",
      "Epoch 30: Train time = 10.92 | Train Loss = -23.6705589 \n",
      "Epoch 40: Train time = 10.94 | Train Loss = -23.9496746 \n",
      "Epoch 50: Train time = 11.04 | Train Loss = -24.1781483 \n",
      "Epoch 60: Train time = 11.42 | Train Loss = -24.3595409 \n",
      "Epoch 70: Train time = 11.11 | Train Loss = -24.5033493 \n",
      "Epoch 80: Train time = 10.95 | Train Loss = -24.6232052 \n",
      "Epoch 90: Train time = 10.94 | Train Loss = -24.7204247 \n",
      "Epoch 100: Train time = 10.95 | Train Loss = -24.7948170 \n",
      "Epoch 110: Train time = 10.92 | Train Loss = -24.8590221 \n",
      "Epoch 120: Train time = 10.88 | Train Loss = -24.9053402 \n",
      "Epoch 130: Train time = 10.93 | Train Loss = -24.9407539 \n",
      "Epoch 140: Train time = 11.09 | Train Loss = -24.9771347 \n",
      "Epoch 150: Train time = 11.00 | Train Loss = -24.9950752 \n",
      "Epoch 160: Train time = 10.99 | Train Loss = -25.0186844 \n",
      "Epoch 170: Train time = 11.03 | Train Loss = -25.0318375 \n",
      "Epoch 180: Train time = 11.02 | Train Loss = -25.0487156 \n",
      "Epoch 190: Train time = 11.00 | Train Loss = -25.0648880 \n",
      "Epoch 200: Train time = 10.92 | Train Loss = -25.0712433 \n",
      "Epoch 210: Train time = 11.40 | Train Loss = -25.0760651 \n",
      "Epoch 220: Train time = 11.22 | Train Loss = -25.0853386 \n",
      "Epoch 230: Train time = 10.75 | Train Loss = -25.0857067 \n",
      "Epoch 240: Train time = 10.36 | Train Loss = -25.0933151 \n",
      "Epoch 250: Train time = 11.05 | Train Loss = -25.1022358 \n",
      "Epoch 260: Train time = 10.92 | Train Loss = -25.1046314 \n",
      "Epoch 270: Train time = 11.35 | Train Loss = -25.1080399 \n",
      "Epoch 280: Train time = 10.98 | Train Loss = -25.1131763 \n",
      "Epoch 290: Train time = 11.49 | Train Loss = -25.1146202 \n",
      "Epoch 300: Train time = 10.95 | Train Loss = -25.1174564 \n",
      "Best Training Loss : -25.1198502\n",
      "IMPROVED VALIDATION LOSS\n",
      "\n",
      "Total time: 3318.35\n",
      "Complete. Time taken: 3470.67s\n",
      "10.00% done\n",
      "20.00% done\n",
      "30.00% done\n",
      "40.00% done\n",
      "50.00% done\n",
      "60.00% done\n",
      "70.00% done\n",
      "80.00% done\n",
      "90.00% done\n",
      "100.00% done\n",
      "Testing complete. Time taken: 361.48\n"
     ]
    }
   ],
   "source": [
    "run_seed(8)"
   ]
  },
  {
   "cell_type": "markdown",
   "id": "39a83e2f-f630-4582-ba60-9a2143d390e8",
   "metadata": {},
   "source": [
    "## 4.5 Seed 42"
   ]
  },
  {
   "cell_type": "code",
   "execution_count": 15,
   "id": "3ca0b1e0-5311-4e4b-9e49-8b6ff51d7fec",
   "metadata": {},
   "outputs": [
    {
     "name": "stdout",
     "output_type": "stream",
     "text": [
      "W generated. Time taken: 42.95s\n",
      "Calculating eigenvalue\n",
      "Eigenvalue calculated. Time taken: 4.69s\n",
      "W and W_in generated. Time taken: 53.08s\n",
      "\n",
      "Generating z values...\n",
      "z values generated. Time taken: 81.38s\n",
      "Concatenating z with z**2 Contenation complete. Time taken: 12.40s\n",
      "\n",
      "Epoch 10: Train time = 11.62 | Train Loss = -22.9200745 \n",
      "Epoch 20: Train time = 11.07 | Train Loss = -23.3265877 \n",
      "Epoch 30: Train time = 11.11 | Train Loss = -23.6615257 \n",
      "Epoch 40: Train time = 10.82 | Train Loss = -23.9375648 \n",
      "Epoch 50: Train time = 11.42 | Train Loss = -24.1593647 \n",
      "Epoch 60: Train time = 11.01 | Train Loss = -24.3454800 \n",
      "Epoch 70: Train time = 10.99 | Train Loss = -24.4918404 \n",
      "Epoch 80: Train time = 10.86 | Train Loss = -24.6127682 \n",
      "Epoch 90: Train time = 11.15 | Train Loss = -24.7059555 \n",
      "Epoch 100: Train time = 11.24 | Train Loss = -24.7839622 \n",
      "Epoch 110: Train time = 11.13 | Train Loss = -24.8469124 \n",
      "Epoch 120: Train time = 11.04 | Train Loss = -24.8977451 \n",
      "Epoch 130: Train time = 11.00 | Train Loss = -24.9369602 \n",
      "Epoch 140: Train time = 10.68 | Train Loss = -24.9676838 \n",
      "Epoch 150: Train time = 11.35 | Train Loss = -24.9911270 \n",
      "Epoch 160: Train time = 10.54 | Train Loss = -25.0148907 \n",
      "Epoch 170: Train time = 11.57 | Train Loss = -25.0316963 \n",
      "Epoch 180: Train time = 11.02 | Train Loss = -25.0449524 \n",
      "Epoch 190: Train time = 10.56 | Train Loss = -25.0586376 \n",
      "Epoch 200: Train time = 10.46 | Train Loss = -25.0649605 \n",
      "Epoch 210: Train time = 10.50 | Train Loss = -25.0715256 \n",
      "Epoch 220: Train time = 11.03 | Train Loss = -25.0809441 \n",
      "Epoch 230: Train time = 11.45 | Train Loss = -25.0855103 \n",
      "Epoch 240: Train time = 10.41 | Train Loss = -25.0940189 \n",
      "Epoch 250: Train time = 10.87 | Train Loss = -25.0982208 \n",
      "Epoch 260: Train time = 10.92 | Train Loss = -25.0995312 \n",
      "Epoch 270: Train time = 10.82 | Train Loss = -25.1053123 \n",
      "Epoch 280: Train time = 10.79 | Train Loss = -25.1085358 \n",
      "Epoch 290: Train time = 10.95 | Train Loss = -25.1153717 \n",
      "Epoch 300: Train time = 10.79 | Train Loss = -25.1185837 \n",
      "Best Training Loss : -25.1190357\n",
      "IMPROVED VALIDATION LOSS\n",
      "\n",
      "Total time: 3301.47\n",
      "Complete. Time taken: 3448.88s\n",
      "10.00% done\n",
      "20.00% done\n",
      "30.00% done\n",
      "40.00% done\n",
      "50.00% done\n",
      "60.00% done\n",
      "70.00% done\n",
      "80.00% done\n",
      "90.00% done\n",
      "100.00% done\n",
      "Testing complete. Time taken: 369.24\n"
     ]
    }
   ],
   "source": [
    "run_seed(42)"
   ]
  },
  {
   "cell_type": "markdown",
   "id": "d926ec2e-3c3e-4512-8f5c-4b4d27b593b6",
   "metadata": {},
   "source": [
    "## 4.6 Compilation"
   ]
  },
  {
   "cell_type": "code",
   "execution_count": 14,
   "id": "f3bffffb-64a1-472c-9b58-051495577866",
   "metadata": {},
   "outputs": [],
   "source": [
    "mu_preds = []\n",
    "sd_preds = []"
   ]
  },
  {
   "cell_type": "code",
   "execution_count": 15,
   "id": "99ba6a61-ccd2-4082-b2d2-8b5cabaa7f58",
   "metadata": {},
   "outputs": [],
   "source": [
    "for dirpath, dirnames, filenames in os.walk(res_folder):\n",
    "    for f in filenames:\n",
    "        if f[:2] == \"mu\":\n",
    "            mu_preds.append(load_obj(os.path.join(res_folder, f)))\n",
    "        elif f[:2] == \"sd\":\n",
    "            sd_preds.append(load_obj(os.path.join(res_folder, f)))"
   ]
  },
  {
   "cell_type": "code",
   "execution_count": 16,
   "id": "ef81c435-cca7-4c36-a8a3-b3663d816cb3",
   "metadata": {},
   "outputs": [],
   "source": [
    "mu_preds = np.array(mu_preds)\n",
    "sd_preds = np.array(sd_preds)"
   ]
  },
  {
   "cell_type": "code",
   "execution_count": 17,
   "id": "58a6ec5c-c2ce-4bf2-b7fe-0e8956c88f33",
   "metadata": {},
   "outputs": [
    {
     "name": "stdout",
     "output_type": "stream",
     "text": [
      "mean preds shape: (5, 100, 400, 40)\n",
      "sd preds shape: (5, 100, 400)\n"
     ]
    }
   ],
   "source": [
    "print(f\"mean preds shape: {mu_preds.shape}\")\n",
    "print(f\"sd preds shape: {sd_preds.shape}\")"
   ]
  },
  {
   "cell_type": "code",
   "execution_count": 18,
   "id": "cd16895f-84b2-41e4-b64b-27a802cc8fe0",
   "metadata": {},
   "outputs": [],
   "source": [
    "mve_s_mean = mu_preds.mean(axis = 0)\n",
    "mve_s_sigma = np.sqrt((np.moveaxis(np.tile(sd_preds, (40, 1, 1, 1)), 0, 3)**2 + mu_preds**2).mean(axis = 0) - mve_s_mean**2)"
   ]
  },
  {
   "cell_type": "markdown",
   "id": "27881340-f093-4d30-9def-5f29e14e03ad",
   "metadata": {},
   "source": [
    "# 5. Analyze results"
   ]
  },
  {
   "cell_type": "markdown",
   "id": "cda74601-ba2d-441f-81db-af88c5ec59a8",
   "metadata": {},
   "source": [
    "## 5.1 MSE"
   ]
  },
  {
   "cell_type": "code",
   "execution_count": 19,
   "id": "c02e04ee-556d-401f-92f3-626d8004c803",
   "metadata": {},
   "outputs": [
    {
     "data": {
      "image/png": "[encoded data removed]",
      "text/plain": [
       "<Figure size 432x288 with 1 Axes>"
      ]
     },
     "metadata": {
      "needs_background": "light"
     },
     "output_type": "display_data"
    },
    {
     "name": "stdout",
     "output_type": "stream",
     "text": [
      "It takes around 0.97 Lyapunov Time for mean error to exceed 0.5\n",
      "\n",
      "Median NRMSE at 0.5 Lyapunov Time: 0.238\n",
      "Median NRMSE at 1.0 Lyapunov Time: 0.523\n",
      "Median NRMSE at 2.0 Lyapunov Time: 0.853\n",
      "Median NRMSE at 5.0 Lyapunov Time: 1.037\n"
     ]
    }
   ],
   "source": [
    "res_single = PointExperimentResultLyapunov(mve_s_mean - y_test, \"lorenz\")\n",
    "res_single.plot_rmse(save_name = \"RC Noise Combined Horizon\")\n",
    "print()\n",
    "res_single.get_loss()"
   ]
  },
  {
   "cell_type": "markdown",
   "id": "243c268d-7dab-4f4b-8aa5-d22d7b44bc1c",
   "metadata": {},
   "source": [
    "## 5.2 Variance"
   ]
  },
  {
   "cell_type": "markdown",
   "id": "aca38980-8ee7-4ae3-b4fe-8edc07d6ee66",
   "metadata": {},
   "source": [
    "**Visualise for one dataset**"
   ]
  },
  {
   "cell_type": "code",
   "execution_count": 20,
   "id": "5285aa5e-06b7-4a43-bbfd-b17317dadb3b",
   "metadata": {},
   "outputs": [],
   "source": [
    "idx = 0"
   ]
  },
  {
   "cell_type": "code",
   "execution_count": 21,
   "id": "ba6f8638-441d-4fa5-8d86-369c00cbc5c6",
   "metadata": {},
   "outputs": [
    {
     "data": {
      "image/png": "[encoded data removed]",
      "text/plain": [
       "<Figure size 432x288 with 1 Axes>"
      ]
     },
     "metadata": {
      "needs_background": "light"
     },
     "output_type": "display_data"
    }
   ],
   "source": [
    "plt.plot(np.arange(L_forecast_test) / LORENZ_LT * 0.01, mve_s_sigma[idx].mean(axis = 1)**2)\n",
    "plt.grid(\"on\")\n",
    "plt.xlabel(\"Lyapunov Time\")\n",
    "plt.ylabel(\"Variance\")\n",
    "plt.savefig(\"RC Noise Combined Variance.png\", facecolor = \"white\", bbox_inches = \"tight\")\n",
    "plt.show()"
   ]
  },
  {
   "cell_type": "markdown",
   "id": "98ba84e8-1556-46c3-9003-9605a2d323dd",
   "metadata": {},
   "source": [
    "## 5.3 Negative Log LH"
   ]
  },
  {
   "cell_type": "code",
   "execution_count": 22,
   "id": "767d8e0d-c3d9-4e19-80f5-3049dee70f0b",
   "metadata": {},
   "outputs": [
    {
     "data": {
      "image/png": "[encoded data removed]",
      "text/plain": [
       "<Figure size 432x288 with 1 Axes>"
      ]
     },
     "metadata": {
      "needs_background": "light"
     },
     "output_type": "display_data"
    }
   ],
   "source": [
    "plt.plot(np.arange(L_forecast_test) / LORENZ_LT * 0.01, neg_log_LH(mve_s_mean, mve_s_sigma))\n",
    "plt.xlabel(\"Lyapunov Time\")\n",
    "plt.ylabel(\"Negative Log LH\")\n",
    "plt.grid(\"on\")\n",
    "plt.savefig(\"RC Noise Combined NLL.png\", facecolor = \"white\", bbox_inches = \"tight\")\n",
    "plt.show()"
   ]
  },
  {
   "cell_type": "code",
   "execution_count": 23,
   "id": "89c1beaa-d10f-4957-9713-c1d76e50ba77",
   "metadata": {},
   "outputs": [
    {
     "name": "stdout",
     "output_type": "stream",
     "text": [
      "Mean negative log LH: 26.44536\n"
     ]
    }
   ],
   "source": [
    "print(f\"Mean negative log LH: {neg_log_LH(mve_s_mean, mve_s_sigma).mean():.5f}\")"
   ]
  },
  {
   "cell_type": "markdown",
   "id": "563cf626-8086-4334-a5e9-ded832d0a5eb",
   "metadata": {},
   "source": [
    "# BASE"
   ]
  },
  {
   "cell_type": "code",
   "execution_count": 25,
   "id": "830ae8b8-c757-4be8-a61a-b4254acfa669",
   "metadata": {},
   "outputs": [
    {
     "data": {
      "image/png": "[encoded data removed]",
      "text/plain": [
       "<Figure size 432x288 with 1 Axes>"
      ]
     },
     "metadata": {
      "needs_background": "light"
     },
     "output_type": "display_data"
    }
   ],
   "source": [
    "plt.plot(neg_log_LH(np.zeros(mve_s_mean.shape), np.ones(mve_s_mean.shape)))\n",
    "plt.title(\"Negative Log LH against time\")\n",
    "plt.xlabel(\"Time steps\")\n",
    "plt.ylabel(\"Negative Log LH\")\n",
    "# plt.yscale(\"log\")\n",
    "plt.grid(\"on\")\n",
    "plt.show()"
   ]
  },
  {
   "cell_type": "code",
   "execution_count": 27,
   "id": "f7a8ac9e-c53e-4142-81ae-a0d4e7c9c368",
   "metadata": {},
   "outputs": [
    {
     "name": "stdout",
     "output_type": "stream",
     "text": [
      "Mean negative log LH: 37.25637\n"
     ]
    }
   ],
   "source": [
    "print(f\"Mean negative log LH: {(neg_log_LH(np.zeros(mve_s_mean.shape), np.ones(mve_s_mean.shape))).mean():.5f}\")"
   ]
  }
 ],
 "metadata": {
  "kernelspec": {
   "display_name": "Python 3 (ipykernel)",
   "language": "python",
   "name": "python3"
  },
  "language_info": {
   "codemirror_mode": {
    "name": "ipython",
    "version": 3
   },
   "file_extension": ".py",
   "mimetype": "text/x-python",
   "name": "python",
   "nbconvert_exporter": "python",
   "pygments_lexer": "ipython3",
   "version": "3.8.12"
  }
 },
 "nbformat": 4,
 "nbformat_minor": 5
}
