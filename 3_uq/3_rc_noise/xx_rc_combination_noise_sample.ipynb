{
 "cells": [
  {
   "cell_type": "markdown",
   "id": "14d57da9-ca77-4333-ba41-8236efa46467",
   "metadata": {},
   "source": [
    "# Method: RC \n",
    "# Dataset: Lorenz-96, F = 8\n",
    "# Purpose: Uncertainty Quantification - Mean Variance Estimation Deep Ensemble"
   ]
  },
  {
   "cell_type": "markdown",
   "id": "9711fa4f-7843-43d5-a047-14c762fd2e5f",
   "metadata": {},
   "source": [
    "# 1. Set-up"
   ]
  },
  {
   "cell_type": "code",
   "execution_count": 1,
   "id": "c9f852d7-2ea3-49a4-8bd5-a85ba731f802",
   "metadata": {},
   "outputs": [],
   "source": [
    "# GPU\n",
    "import os\n",
    "os.environ[\"CUDA_VISIBLE_DEVICES\"] = \"3\"\n",
    "\n",
    "# Package\n",
    "import sys\n",
    "sys.path.append(\"../..\")"
   ]
  },
  {
   "cell_type": "code",
   "execution_count": 2,
   "id": "1ee758f3-121d-4ca7-a44e-f00db4631d50",
   "metadata": {},
   "outputs": [],
   "source": [
    "from create_data import load_data\n",
    "from utils import * # Number of testing samples\n",
    "import numpy as np\n",
    "import matplotlib.pyplot as plt\n",
    "from time import time\n",
    "from scipy import sparse\n",
    "\n",
    "import jax\n",
    "import jax.numpy as jnp\n",
    "from jax import value_and_grad\n",
    "from jax.numpy import tanh\n",
    "from jax.example_libraries import optimizers"
   ]
  },
  {
   "cell_type": "code",
   "execution_count": 3,
   "id": "ee80a55c-5e5d-4120-8c56-8be07285e9fe",
   "metadata": {},
   "outputs": [],
   "source": [
    "train, test = load_data(\"Lorenz 96, F = 8\", \"../../data/lorenz8\", 0.5)"
   ]
  },
  {
   "cell_type": "code",
   "execution_count": 4,
   "id": "cfe5dced-3968-4c6a-8f43-376fbf5e3640",
   "metadata": {},
   "outputs": [],
   "source": [
    "np.random.seed(1)\n",
    "train.data = train.data + np.random.normal(0, 1e-1, train.data.shape)"
   ]
  },
  {
   "cell_type": "code",
   "execution_count": 5,
   "id": "e30a3f5f-c622-4e95-ae1c-dd652be02b5e",
   "metadata": {},
   "outputs": [
    {
     "name": "stdout",
     "output_type": "stream",
     "text": [
      "Train size: (90000, 40)\n",
      "Test size: (90000, 40)\n"
     ]
    }
   ],
   "source": [
    "print(f\"Train size: {train.data.shape}\")\n",
    "print(f\"Test size: {test.data.shape}\")"
   ]
  },
  {
   "cell_type": "markdown",
   "id": "8288061f-20ca-4fe6-840e-6ee8cd8064b1",
   "metadata": {},
   "source": [
    "**Create test set**"
   ]
  },
  {
   "cell_type": "code",
   "execution_count": 6,
   "id": "9c868d5f-50c3-48a5-8762-e0de61468e5f",
   "metadata": {},
   "outputs": [],
   "source": [
    "L_forecast_test = 400   # steps to forecast forward (when testing)"
   ]
  },
  {
   "cell_type": "code",
   "execution_count": 7,
   "id": "5a2ec67a-c0aa-45b0-b059-cb9a1dceb438",
   "metadata": {},
   "outputs": [],
   "source": [
    "np.random.seed(1)\n",
    "\n",
    "data_test = test.data\n",
    "\n",
    "T_test, data_dim = data_test.shape\n",
    "possible_idx = T_test - (L_forecast_test + 1) # minus number of steps forward, and the warm-up period\n",
    "T_indices = np.random.randint(0, possible_idx, size = NUM_TEST)\n",
    "\n",
    "t_past_batch = np.repeat(T_indices[:, None], WARM_UP_TEST, axis = 1).astype(int) # 200 warmup \n",
    "t_pred_batch = (T_indices[:, None] + np.arange(1, 1 + L_forecast_test)[None, :].astype(int))\n",
    "\n",
    "X_test = data_test[t_past_batch]\n",
    "y_test = data_test[t_pred_batch]"
   ]
  },
  {
   "cell_type": "code",
   "execution_count": 8,
   "id": "7e57b737-d4d5-41f0-9077-071567f3758f",
   "metadata": {},
   "outputs": [
    {
     "name": "stdout",
     "output_type": "stream",
     "text": [
      "Test input size: (100, 2000, 40)\n",
      "Test output size: (100, 400, 40)\n"
     ]
    }
   ],
   "source": [
    "print(f\"Test input size: {X_test.shape}\")  # Number of test points x input length x dim\n",
    "print(f\"Test output size: {y_test.shape}\") # Number of test points x horizon x dim"
   ]
  },
  {
   "cell_type": "markdown",
   "id": "bb0bd417-72d0-4d90-8b16-30945dd0ee20",
   "metadata": {},
   "source": [
    "# 2. RC Implementation"
   ]
  },
  {
   "cell_type": "code",
   "execution_count": 10,
   "id": "bf9258f6-5dd2-4ddf-ab11-8f9f274ffb4a",
   "metadata": {},
   "outputs": [],
   "source": [
    "def get_parameters(nn_size, connectivity, spec_radius, lambd, \n",
    "                   seed, batch_size, num_epoch, lr_schedule = [1e-4], \n",
    "                   early_stopping = EARLY_STOPPING):\n",
    "    \"\"\"\n",
    "    Returns trained parameters (beta, intercept) and hidden layer values\n",
    "    \"\"\"\n",
    "    def initialize_coef():\n",
    "        \"\"\"\n",
    "        Initializes W_in and W. \n",
    "        W_in size = nn_size x data_dim\n",
    "        W size = nn_size x nn_size\n",
    "        \"\"\"\n",
    "        start = time()\n",
    "\n",
    "        # Generate input -> hidden unit weights\n",
    "        W_in = 2 * (np.random.rand(nn_size, data_dim) - 0.5) \n",
    "        W_in = W_in / (4 * np.sqrt(data_dim))\n",
    "\n",
    "        # Generate hidden -> hidden unit weights\n",
    "        # Considers connectivity to make the matrix sparse\n",
    "        start_mat = time()\n",
    "        rows = np.concatenate([np.full(connectivity, i) for i in range(nn_size)])\n",
    "        cols = np.concatenate([np.random.choice(range(nn_size), size = connectivity, replace = False) for _ in range(nn_size)])\n",
    "        vals = np.random.uniform(low = -omega, high = omega, size = (nn_size * connectivity))\n",
    "        W = sparse.csr_matrix((vals, (rows, cols)), shape = (nn_size, nn_size))\n",
    "        end_mat = time()\n",
    "        print(f\"W generated. Time taken: {end_mat - start_mat:.2f}s\")\n",
    "\n",
    "        # Calculate eigenvalues for scaling of matrix\n",
    "        print(\"Calculating eigenvalue\")\n",
    "        e_start = time()\n",
    "        eigenvals = sparse.linalg.eigs(W, which = \"LM\", return_eigenvectors = False, k = 1)\n",
    "        max_eigen = np.abs(eigenvals)\n",
    "        e_end = time()\n",
    "        print(f\"Eigenvalue calculated. Time taken: {e_end - e_start:.2f}s\")\n",
    "\n",
    "        # Scale matrix by spectral radius\n",
    "        W = W / max_eigen * spec_radius # scale the matrix W by its spectral radius\n",
    "        W = sparse.csr_matrix(W)\n",
    "        \n",
    "        end = time()\n",
    "        print(f\"W and W_in generated. Time taken: {end-start:.2f}s\")\n",
    "        print()\n",
    "        \n",
    "        return W_in, W\n",
    "    \n",
    "    def generate_hidden_states(W_in, W):\n",
    "        \"\"\" \n",
    "        Generate hidden states (z) values\n",
    "        hidden_states size = data_size x nn_size \n",
    "        \"\"\"\n",
    "        start = time()\n",
    "        \n",
    "        print(\"Generating z values...\")\n",
    "        indiv_z = np.zeros(shape = nn_size)\n",
    "        hidden_states = np.zeros((train_size, nn_size))\n",
    "        \n",
    "        for t in range(train_size):  \n",
    "            indiv_z = (1 - alpha) * indiv_z + \\\n",
    "                alpha * np.tanh(W_in @ x[t] + W @ indiv_z)\n",
    "            hidden_states[t, :] = indiv_z\n",
    "        end = time()\n",
    "        print(f\"z values generated. Time taken: {end-start:.2f}s\")\n",
    "        \n",
    "        return hidden_states\n",
    "    \n",
    "    def mse(y, y_pred):\n",
    "        return jnp.mean((y_pred - y)**2)\n",
    "    \n",
    "    @jax.jit\n",
    "    def neg_log_LH(params, x, y):\n",
    "        \"\"\"\n",
    "        returns negative-log-likelihood -logLH(P(y|params))\n",
    "        \"\"\"\n",
    "        d = data_dim\n",
    "        beta, intercept, beta2, intercept2 = params\n",
    "        \n",
    "        mu = x @ beta + intercept  # train_size x data_dim\n",
    "        \n",
    "        log_sigma = (x @ beta2 + intercept2).mean() # train_size x 1\n",
    "        sigma = jnp.exp(log_sigma)\n",
    "        \n",
    "        mu_loss = mse(mu, y)\n",
    "        constant = d * jnp.log(2 * jnp.pi)\n",
    "        sigma_loss = d * log_sigma\n",
    "        return 0.5*(constant + sigma_loss + (mu_loss / sigma**2))\n",
    "\n",
    "    def training(x, y):\n",
    "        \"\"\" \n",
    "        Trains regression of y~x using SGD. \n",
    "        Returns parameters (beta, intercept, beta2, intercept2) where \n",
    "        beta, intercept -> weights to determine the mean\n",
    "        beta2, intecept2 -> weights to determine log_sigma\n",
    "        \n",
    "        beta size = nn_size x data_dim\n",
    "        intercept = data_dim (will be added for each training data)\n",
    "        beta2 size = nn_size x 1\n",
    "        intercept2 = 1 (will be added for each training data)\n",
    "        \n",
    "        should predict a mu with train_size x data_dim (\\mu per dimension per datapoint)\n",
    "        and a sigma with train_size x 1 (single \\sigma for all dimensions per datapoint)\n",
    "        \"\"\"\n",
    "        \n",
    "        @jax.jit\n",
    "        def step(opt_state, x, y):\n",
    "            params = get_params(opt_state)\n",
    "            value, g = value_and_grad(neg_log_LH)(params, x, y)\n",
    "            opt_state = opt_update(0, g, opt_state)\n",
    "            return get_params(opt_state), opt_state, value\n",
    "\n",
    "        start = time()\n",
    "        \n",
    "        # Plot loss\n",
    "        loss_train_traj = []\n",
    "        loss_train_all_traj = []\n",
    "        \n",
    "        # Init parameters\n",
    "        beta = np.random.normal(0, 1 / np.sqrt(nn_size), size = (nn_size, data_dim))\n",
    "        beta2 = np.random.normal(0, 1 / np.sqrt(nn_size), size = (nn_size, 1))\n",
    "        intercept = np.random.normal(0, 1 / np.sqrt(nn_size * 2), size = (data_dim, ))\n",
    "        intercept2 = np.random.normal(0, 1 / np.sqrt(nn_size * 2), size = (1, ))\n",
    "        \n",
    "        t_size = int(1. * train_size)\n",
    "        \n",
    "        overall_best_loss = 9999999\n",
    "        \n",
    "        for i, lr in enumerate(lr_schedule):\n",
    "            opt_init, opt_update, get_params = optimizers.adam(step_size = lr) \n",
    "            opt_state = opt_init([beta, intercept, beta2, intercept2])\n",
    "            \n",
    "            # For early stopping\n",
    "            best_state = opt_state\n",
    "            counter = 0 \n",
    "            best_val_loss = 9999999\n",
    "            \n",
    "            for epoch in range(num_epoch[i]):\n",
    "                e_start = time()\n",
    "                \n",
    "                T_indices = np.arange(train_size)\n",
    "                np.random.shuffle(T_indices)\n",
    "\n",
    "                loss_epoch_train = []\n",
    "                for k in range(t_size // batch_size + 1):\n",
    "                    t_start = T_indices[np.arange(k * batch_size, (k+1) * batch_size).astype(int) % len(T_indices)]\n",
    "                    x_batch = x[t_start]\n",
    "                    y_batch = y[t_start]\n",
    "\n",
    "                    params, opt_state, l = step(opt_state, x_batch, y_batch)\n",
    "                    loss_epoch_train.append(l)\n",
    "                \n",
    "                \n",
    "                loss_train_all_traj += loss_epoch_train\n",
    "                mse_train = np.mean(loss_epoch_train) # -ve log likelihood\n",
    "                loss_train_traj.append(mse_train)\n",
    "                \n",
    "                e_end = time()\n",
    "                \n",
    "                if mse_train < best_val_loss:\n",
    "                    best_val_loss = mse_train\n",
    "                    counter = 0\n",
    "                    best_state = opt_state\n",
    "                else:\n",
    "                    counter += 1\n",
    "                    \n",
    "                if (epoch + 1) % 10 == 0:\n",
    "                    print(f\"Epoch {epoch + 1}: Train time = {e_end - e_start:.2f} | Train Loss = {mse_train:.7f}\", end = \" \")\n",
    "                    print()\n",
    "                if counter == early_stopping:\n",
    "                    print(f\"EARLY STOPPING. Epoch {epoch + 1}: Train loss = {mse_train:.7f}\")\n",
    "                    break\n",
    "            \n",
    "            print(f\"Best Training Loss : {best_val_loss:.7f}\") \n",
    "            \n",
    "            if best_val_loss < overall_best_loss:\n",
    "                print(\"IMPROVED VALIDATION LOSS\")\n",
    "                overall_best_loss = best_val_loss\n",
    "                overall_best_state = best_state\n",
    "            \n",
    "            beta, intercept, beta2, intercept2 = get_params(overall_best_state)\n",
    "            print()\n",
    "        \n",
    "        end = time()\n",
    "        print(f\"Total time: {end - start:.2f}\")\n",
    "        \n",
    "        return get_params(overall_best_state) # beta, intercept, beta2, intercept2\n",
    "    \n",
    "    start = time()\n",
    "   \n",
    "    x, y = train.data[:-1], train.data[1:]\n",
    "    copy_x, copy_y = x, y \n",
    "    train_size, data_dim = x.data.shape\n",
    "       \n",
    "    np.random.seed(seed)\n",
    "    W_in, W = initialize_coef()\n",
    "    z = generate_hidden_states(W_in, W)\n",
    "\n",
    "    # Want to regression Y ~ X ==> Y ~ [z, z**2]\n",
    "    final_y = y[transient:]\n",
    "    final_z = z[transient:]\n",
    "    print(\"Concatenating z with z**2\", end = \" \"); concat_start = time()\n",
    "    final_z = np.concatenate([final_z, final_z**2], axis = 1) # shape: train_size x (nn_size*2)\n",
    "    concat_end = time()\n",
    "    print(f\"Contenation complete. Time taken: {concat_end-concat_start:.2f}s\", end = \"\\n\\n\")\n",
    "    \n",
    "    train_size, nn_size = final_z.shape\n",
    "    \n",
    "    params = training(final_z, final_y)\n",
    "    end = time()\n",
    "    print(f\"Complete. Time taken: {end - start:.2f}s\")\n",
    "    \n",
    "    return params, (final_z, W_in, W)"
   ]
  },
  {
   "cell_type": "code",
   "execution_count": 11,
   "id": "2863ad98-35c2-435c-bcea-86318c9152df",
   "metadata": {},
   "outputs": [],
   "source": [
    "def get_test_pred(data_test, nn_size, params, W_in, W):   \n",
    "    beta, intercept, beta2, intercept2 = params\n",
    "    num_data_test, trans, data_dim = data_test.shape # testing ex, # steps used (transient), dim of data\n",
    "    \n",
    "    def prediction(inp):\n",
    "        \"\"\"\n",
    "        Returns the mean of one of the testing input\n",
    "        \n",
    "        mean will be a length_to_test x data_dim vector\n",
    "        \"\"\"\n",
    "        \n",
    "        z = np.zeros((nn_size, ))\n",
    "        for i in range(trans):\n",
    "            z = (1 - alpha) * z + alpha * np.tanh(W_in @ inp[i] + W @ z)\n",
    "        \n",
    "        mus = []\n",
    "        stddevs = []\n",
    "        \n",
    "        x = beta.T @ np.concatenate([z, z**2]) + intercept # output / input_of_next | size = dim_data\n",
    "        log_sd = beta2.T @ np.concatenate([z, z**2]) + intercept2 # log_sd of output | size = 1 \n",
    "        mus.append(x)\n",
    "        stddevs.append(jnp.exp(log_sd[0]))\n",
    "        \n",
    "        for _ in range(L_forecast_test - 1):\n",
    "            z = (1 - alpha) * z + alpha * np.tanh(W_in @ x + W @ z)\n",
    "            x = beta.T @ np.concatenate([z, z**2]) + intercept # output / input_of_next\n",
    "            log_sd = beta2.T @ np.concatenate([z, z**2]) + intercept2\n",
    "            mus.append(x)\n",
    "            stddevs.append(jnp.exp(log_sd[0]))\n",
    "        \n",
    "        return mus, stddevs\n",
    "    \n",
    "    start = time()\n",
    "    \n",
    "    mean_list = []\n",
    "    sd_list = []\n",
    "    \n",
    "    for i in range(num_data_test):\n",
    "        mean, sd = prediction(data_test[i])\n",
    "        mean_list.append(mean)\n",
    "        sd_list.append(sd)\n",
    "        if (i+1) % 10 == 0:\n",
    "            print(f\"{(i+1) / num_data_test * 100:.2f}% done\")\n",
    "    \n",
    "    end = time()\n",
    "    print(f\"Testing complete. Time taken: {end - start:.2f}\")\n",
    "    return np.array(mean_list), np.array(sd_list)"
   ]
  },
  {
   "cell_type": "code",
   "execution_count": 12,
   "id": "3c77fe48-46bf-4706-bdfb-f6a77eb60c82",
   "metadata": {},
   "outputs": [],
   "source": [
    "def neg_log_LH(mean_pred, sd_pred):\n",
    "    d = data_dim\n",
    "    \n",
    "    constant_loss = d * np.log(2 * np.pi)\n",
    "    mu_loss = (mean_pred - y_test)**2\n",
    "    if len(sd_pred.shape) == 2:\n",
    "        sd_expanded = np.moveaxis(np.tile(sd_pred, (d, 1, 1)), 0, 2)# Repeat sd for each of the 40 dimensions \n",
    "    elif len(sd_pred.shape) == 3:\n",
    "        sd_expanded = sd_pred\n",
    "    else:\n",
    "        raise Exception(\"Invalid sd_pred dimension\")\n",
    "    \n",
    "    return 0.5 * (constant_loss + d * np.log(sd_expanded) + (mu_loss / sd_expanded**2)).mean(axis = (0, 2))"
   ]
  },
  {
   "cell_type": "code",
   "execution_count": 13,
   "id": "9a405efb-8561-4235-85bc-78fa0efc48bf",
   "metadata": {},
   "outputs": [],
   "source": [
    "def get_test_pred_sampled(data_test, params, W_in, W, seed):\n",
    "    np.random.seed(seed)\n",
    "    start = time()\n",
    "    \n",
    "    beta, intercept, beta2, intercept2 = params\n",
    "    num_data_test, trans, data_dim = data_test.shape # testing ex, # steps used (transient), dim of data\n",
    "    \n",
    "    def generate_hidden_state(data):\n",
    "        z = np.zeros((nn_size, ))\n",
    "        for i in range(trans):\n",
    "            z = (1 - alpha) * z + alpha * np.tanh(W_in @ data[i] + W @ z)\n",
    "        return z\n",
    "    \n",
    "    test_mus = []\n",
    "    test_sds = []\n",
    "    counter = 0\n",
    "    \n",
    "    for inp in data_test:\n",
    "        z = generate_hidden_state(inp)\n",
    "        first_mean = beta.T @ np.concatenate([z, z**2]) + intercept\n",
    "        first_log_sd = beta2.T @ np.concatenate([z, z**2]) + intercept2\n",
    "        first_sd = np.exp(first_log_sd[0])\n",
    "\n",
    "        x = first_mean\n",
    "        all_mu = []\n",
    "        all_sd = []\n",
    "        \n",
    "        for tr in range(N_TRAJ_MVE // 5): \n",
    "            x = np.random.normal(first_mean, first_sd)\n",
    "            mu_list = [x]\n",
    "            sd_list = [first_sd] \n",
    "\n",
    "            for _ in range(L_forecast_test - 1):\n",
    "                z = (1 - alpha) * z + alpha * np.tanh(W_in @ x + W @ z)\n",
    "                x = beta.T @ np.concatenate([z, z**2]) + intercept # output / input_of_next\n",
    "                log_sd = beta2.T @ np.concatenate([z, z**2]) + intercept2\n",
    "                mu_list.append(x)\n",
    "                sd_list.append(np.exp(log_sd[0]))\n",
    "\n",
    "            all_mu.append(np.array(mu_list))\n",
    "            all_sd.append(np.array(sd_list))\n",
    "        \n",
    "        test_mus.append(np.array(all_mu))\n",
    "        test_sds.append(np.array(all_sd))\n",
    "        \n",
    "        counter += 1\n",
    "        \n",
    "        if counter % 5 == 0:\n",
    "            print(f\"{counter / num_data_test * 100:.2f}% done\")\n",
    "    \n",
    "    end = time()\n",
    "    print(f\"Time taken: {end - start:.2f}\")\n",
    "    return np.array(test_mus), np.array(test_sds) "
   ]
  },
  {
   "cell_type": "markdown",
   "id": "ffce42df-dfac-4615-b07e-4446a271acf9",
   "metadata": {},
   "source": [
    "# 3. Best Parameters"
   ]
  },
  {
   "cell_type": "code",
   "execution_count": 14,
   "id": "6fcf92b1-c8cb-4996-939f-882d454fb811",
   "metadata": {},
   "outputs": [],
   "source": [
    "nn_size = 12000\n",
    "ridge_penalty = 1e-6\n",
    "spec_radius = 0.1\n",
    "connectivity = 4\n",
    "\n",
    "lr_list = [1e-4]\n",
    "epoch_list = [300]\n",
    "\n",
    "transient = 200  # points to ignore to allow system to stabilise\n",
    "omega = 1         # scale of the values of matrix W\n",
    "alpha = 1         # hidden state memory\n",
    "b_size = 200"
   ]
  },
  {
   "cell_type": "markdown",
   "id": "b7070f12-ba7a-4599-9006-1beede669821",
   "metadata": {},
   "source": [
    "# 4. MVE Ensemble"
   ]
  },
  {
   "cell_type": "code",
   "execution_count": 15,
   "id": "00685d43-8900-47d2-a557-69319b99f5eb",
   "metadata": {},
   "outputs": [],
   "source": [
    "res_folder = os.path.join(\"results\", \"combined_noise\")"
   ]
  },
  {
   "cell_type": "code",
   "execution_count": 16,
   "id": "18624d5c-9c11-4157-a6c9-d64db082478a",
   "metadata": {},
   "outputs": [],
   "source": [
    "def run_seed(seed):\n",
    "    \"\"\"\n",
    "    Runs the experiment with optimal parameters and saves the predictions into a file\n",
    "    \"\"\"\n",
    "    params, internal = get_parameters(nn_size, connectivity, spec_radius, lambd = ridge_penalty, seed = seed, \n",
    "                                  batch_size = b_size, num_epoch = epoch_list, lr_schedule = lr_list)\n",
    "    _, W_in, W = internal\n",
    "    mean_pred_all, sd_pred_all = get_test_pred_sampled(X_test, params, W_in, W, seed)\n",
    "    mean_pred = mean_pred_all.mean(axis = 1)\n",
    "    sd_pred = np.sqrt((np.moveaxis(np.tile(sd_pred_all, (40, 1, 1, 1)), 0, 3)**2 + mean_pred_all**2).mean(axis = 1) - mean_pred**2)\n",
    "    file_name = \"mu_preds_\" + str(seed) + \".pkl\"\n",
    "    file_name_2 = \"sd_preds_\" + str(seed) + \".pkl\"\n",
    "    save_obj(mean_pred, res_folder, file_name)\n",
    "    save_obj(sd_pred, res_folder, file_name_2)"
   ]
  },
  {
   "cell_type": "markdown",
   "id": "726269e5-c675-4f2c-9f1b-0c866428fb13",
   "metadata": {},
   "source": [
    "## 4.1 Seed 2"
   ]
  },
  {
   "cell_type": "code",
   "execution_count": 17,
   "id": "60e8fa42-91d6-4e73-a933-c5eab022a73c",
   "metadata": {},
   "outputs": [
    {
     "name": "stdout",
     "output_type": "stream",
     "text": [
      "W generated. Time taken: 31.39s\n",
      "Calculating eigenvalue\n",
      "Eigenvalue calculated. Time taken: 3.52s\n",
      "W and W_in generated. Time taken: 38.67s\n",
      "\n",
      "Generating z values...\n",
      "z values generated. Time taken: 82.69s\n",
      "Concatenating z with z**2 Contenation complete. Time taken: 12.88s\n",
      "\n",
      "Epoch 10: Train time = 11.22 | Train Loss = -22.9251595 \n",
      "Epoch 20: Train time = 11.73 | Train Loss = -23.3332272 \n",
      "Epoch 30: Train time = 11.25 | Train Loss = -23.6678562 \n",
      "Epoch 40: Train time = 11.01 | Train Loss = -23.9424095 \n",
      "Epoch 50: Train time = 11.31 | Train Loss = -24.1698895 \n",
      "Epoch 60: Train time = 12.08 | Train Loss = -24.3485584 \n",
      "Epoch 70: Train time = 11.47 | Train Loss = -24.5028934 \n",
      "Epoch 80: Train time = 11.78 | Train Loss = -24.6188679 \n",
      "Epoch 90: Train time = 11.32 | Train Loss = -24.7147465 \n",
      "Epoch 100: Train time = 11.46 | Train Loss = -24.7942696 \n",
      "Epoch 110: Train time = 11.37 | Train Loss = -24.8516121 \n",
      "Epoch 120: Train time = 11.41 | Train Loss = -24.8999767 \n",
      "Epoch 130: Train time = 11.88 | Train Loss = -24.9390507 \n",
      "Epoch 140: Train time = 11.92 | Train Loss = -24.9723568 \n",
      "Epoch 150: Train time = 11.26 | Train Loss = -24.9982147 \n",
      "Epoch 160: Train time = 11.47 | Train Loss = -25.0150204 \n",
      "Epoch 170: Train time = 11.18 | Train Loss = -25.0327549 \n",
      "Epoch 180: Train time = 11.16 | Train Loss = -25.0474911 \n",
      "Epoch 190: Train time = 11.79 | Train Loss = -25.0596466 \n",
      "Epoch 200: Train time = 11.81 | Train Loss = -25.0661583 \n",
      "Epoch 210: Train time = 10.47 | Train Loss = -25.0742149 \n",
      "Epoch 220: Train time = 11.61 | Train Loss = -25.0837536 \n",
      "Epoch 230: Train time = 11.52 | Train Loss = -25.0911121 \n",
      "Epoch 240: Train time = 11.68 | Train Loss = -25.0968971 \n",
      "Epoch 250: Train time = 11.30 | Train Loss = -25.0991745 \n",
      "Epoch 260: Train time = 11.82 | Train Loss = -25.1038895 \n",
      "Epoch 270: Train time = 11.80 | Train Loss = -25.1098576 \n",
      "Epoch 280: Train time = 11.94 | Train Loss = -25.1103573 \n",
      "Epoch 290: Train time = 11.49 | Train Loss = -25.1137810 \n",
      "Epoch 300: Train time = 11.77 | Train Loss = -25.1192589 \n",
      "Best Training Loss : -25.1192589\n",
      "IMPROVED VALIDATION LOSS\n",
      "\n",
      "Total time: 3476.73\n",
      "Complete. Time taken: 3611.52s\n",
      "5.00% done\n",
      "10.00% done\n",
      "15.00% done\n",
      "20.00% done\n",
      "25.00% done\n",
      "30.00% done\n",
      "35.00% done\n",
      "40.00% done\n",
      "45.00% done\n",
      "50.00% done\n",
      "55.00% done\n",
      "60.00% done\n",
      "65.00% done\n",
      "70.00% done\n",
      "75.00% done\n",
      "80.00% done\n",
      "85.00% done\n",
      "90.00% done\n",
      "95.00% done\n",
      "100.00% done\n",
      "Time taken: 3739.71\n"
     ]
    }
   ],
   "source": [
    "run_seed(2)"
   ]
  },
  {
   "cell_type": "markdown",
   "id": "9364c0f0-6261-478d-9231-a3b95d0031aa",
   "metadata": {},
   "source": [
    "## 4.2 Seed 4"
   ]
  },
  {
   "cell_type": "code",
   "execution_count": 18,
   "id": "315d4dad-133b-484f-9f32-2f131f661530",
   "metadata": {},
   "outputs": [
    {
     "name": "stdout",
     "output_type": "stream",
     "text": [
      "W generated. Time taken: 20.03s\n",
      "Calculating eigenvalue\n",
      "Eigenvalue calculated. Time taken: 10.89s\n",
      "W and W_in generated. Time taken: 34.04s\n",
      "\n",
      "Generating z values...\n",
      "z values generated. Time taken: 44.82s\n",
      "Concatenating z with z**2 Contenation complete. Time taken: 12.33s\n",
      "\n",
      "Epoch 10: Train time = 10.61 | Train Loss = -22.9272251 \n",
      "Epoch 20: Train time = 10.55 | Train Loss = -23.3383713 \n",
      "Epoch 30: Train time = 10.54 | Train Loss = -23.6743717 \n",
      "Epoch 40: Train time = 10.62 | Train Loss = -23.9476070 \n",
      "Epoch 50: Train time = 10.62 | Train Loss = -24.1759472 \n",
      "Epoch 60: Train time = 10.49 | Train Loss = -24.3554420 \n",
      "Epoch 70: Train time = 10.45 | Train Loss = -24.5061722 \n",
      "Epoch 80: Train time = 10.47 | Train Loss = -24.6273193 \n",
      "Epoch 90: Train time = 10.45 | Train Loss = -24.7201004 \n",
      "Epoch 100: Train time = 10.46 | Train Loss = -24.7961140 \n",
      "Epoch 110: Train time = 10.47 | Train Loss = -24.8592091 \n",
      "Epoch 120: Train time = 10.52 | Train Loss = -24.9023170 \n",
      "Epoch 130: Train time = 10.65 | Train Loss = -24.9416714 \n",
      "Epoch 140: Train time = 10.62 | Train Loss = -24.9747944 \n",
      "Epoch 150: Train time = 10.58 | Train Loss = -24.9996471 \n",
      "Epoch 160: Train time = 10.59 | Train Loss = -25.0169086 \n",
      "Epoch 170: Train time = 10.72 | Train Loss = -25.0365486 \n",
      "Epoch 180: Train time = 10.71 | Train Loss = -25.0506210 \n",
      "Epoch 190: Train time = 10.67 | Train Loss = -25.0605125 \n",
      "Epoch 200: Train time = 11.33 | Train Loss = -25.0700512 \n",
      "Epoch 210: Train time = 11.41 | Train Loss = -25.0799866 \n",
      "Epoch 220: Train time = 11.73 | Train Loss = -25.0853729 \n",
      "Epoch 230: Train time = 10.59 | Train Loss = -25.0932140 \n",
      "Epoch 240: Train time = 10.62 | Train Loss = -25.0928822 \n",
      "Epoch 250: Train time = 10.51 | Train Loss = -25.1008224 \n",
      "Epoch 260: Train time = 10.57 | Train Loss = -25.1041031 \n",
      "Epoch 270: Train time = 10.52 | Train Loss = -25.1082535 \n",
      "Epoch 280: Train time = 10.65 | Train Loss = -25.1118679 \n",
      "Epoch 290: Train time = 10.61 | Train Loss = -25.1182270 \n",
      "Epoch 300: Train time = 10.53 | Train Loss = -25.1198902 \n",
      "Best Training Loss : -25.1206436\n",
      "IMPROVED VALIDATION LOSS\n",
      "\n",
      "Total time: 3183.81\n",
      "Complete. Time taken: 3275.46s\n",
      "5.00% done\n",
      "10.00% done\n",
      "15.00% done\n",
      "20.00% done\n",
      "25.00% done\n",
      "30.00% done\n",
      "35.00% done\n",
      "40.00% done\n",
      "45.00% done\n",
      "50.00% done\n",
      "55.00% done\n",
      "60.00% done\n",
      "65.00% done\n",
      "70.00% done\n",
      "75.00% done\n",
      "80.00% done\n",
      "85.00% done\n",
      "90.00% done\n",
      "95.00% done\n",
      "100.00% done\n",
      "Time taken: 3273.54\n"
     ]
    }
   ],
   "source": [
    "run_seed(4)"
   ]
  },
  {
   "cell_type": "markdown",
   "id": "5d8814af-e202-45b8-8236-bb367ad5b69f",
   "metadata": {},
   "source": [
    "## 4.3 Seed 6"
   ]
  },
  {
   "cell_type": "code",
   "execution_count": 19,
   "id": "9b6def9a-b2ff-4e59-b01d-c7eec1878510",
   "metadata": {},
   "outputs": [
    {
     "name": "stdout",
     "output_type": "stream",
     "text": [
      "W generated. Time taken: 19.91s\n",
      "Calculating eigenvalue\n",
      "Eigenvalue calculated. Time taken: 0.87s\n",
      "W and W_in generated. Time taken: 23.79s\n",
      "\n",
      "Generating z values...\n",
      "z values generated. Time taken: 46.30s\n",
      "Concatenating z with z**2 Contenation complete. Time taken: 12.80s\n",
      "\n",
      "Epoch 10: Train time = 10.55 | Train Loss = -22.9121494 \n",
      "Epoch 20: Train time = 10.44 | Train Loss = -23.3158188 \n",
      "Epoch 30: Train time = 10.45 | Train Loss = -23.6520786 \n",
      "Epoch 40: Train time = 10.46 | Train Loss = -23.9250031 \n",
      "Epoch 50: Train time = 10.50 | Train Loss = -24.1502171 \n",
      "Epoch 60: Train time = 10.55 | Train Loss = -24.3364277 \n",
      "Epoch 70: Train time = 10.43 | Train Loss = -24.4847870 \n",
      "Epoch 80: Train time = 10.52 | Train Loss = -24.6057301 \n",
      "Epoch 90: Train time = 10.51 | Train Loss = -24.7036362 \n",
      "Epoch 100: Train time = 10.57 | Train Loss = -24.7802105 \n",
      "Epoch 110: Train time = 10.52 | Train Loss = -24.8450794 \n",
      "Epoch 120: Train time = 10.48 | Train Loss = -24.8915462 \n",
      "Epoch 130: Train time = 10.57 | Train Loss = -24.9367123 \n",
      "Epoch 140: Train time = 10.59 | Train Loss = -24.9637394 \n",
      "Epoch 150: Train time = 10.49 | Train Loss = -24.9943676 \n",
      "Epoch 160: Train time = 10.44 | Train Loss = -25.0121307 \n",
      "Epoch 170: Train time = 10.46 | Train Loss = -25.0292702 \n",
      "Epoch 180: Train time = 10.54 | Train Loss = -25.0448818 \n",
      "Epoch 190: Train time = 10.55 | Train Loss = -25.0538654 \n",
      "Epoch 200: Train time = 10.46 | Train Loss = -25.0634823 \n",
      "Epoch 210: Train time = 11.30 | Train Loss = -25.0726891 \n",
      "Epoch 220: Train time = 11.12 | Train Loss = -25.0801964 \n",
      "Epoch 230: Train time = 10.46 | Train Loss = -25.0870285 \n",
      "Epoch 240: Train time = 10.48 | Train Loss = -25.0933285 \n",
      "Epoch 250: Train time = 10.44 | Train Loss = -25.0966988 \n",
      "Epoch 260: Train time = 10.47 | Train Loss = -25.1018162 \n",
      "Epoch 270: Train time = 10.44 | Train Loss = -25.1033001 \n",
      "Epoch 280: Train time = 10.45 | Train Loss = -25.1096992 \n",
      "Epoch 290: Train time = 10.44 | Train Loss = -25.1165161 \n",
      "Epoch 300: Train time = 10.43 | Train Loss = -25.1137981 \n",
      "Best Training Loss : -25.1176052\n",
      "IMPROVED VALIDATION LOSS\n",
      "\n",
      "Total time: 3164.20\n",
      "Complete. Time taken: 3247.54s\n",
      "5.00% done\n",
      "10.00% done\n",
      "15.00% done\n",
      "20.00% done\n",
      "25.00% done\n",
      "30.00% done\n",
      "35.00% done\n",
      "40.00% done\n",
      "45.00% done\n",
      "50.00% done\n",
      "55.00% done\n",
      "60.00% done\n",
      "65.00% done\n",
      "70.00% done\n",
      "75.00% done\n",
      "80.00% done\n",
      "85.00% done\n",
      "90.00% done\n",
      "95.00% done\n",
      "100.00% done\n",
      "Time taken: 3164.22\n"
     ]
    }
   ],
   "source": [
    "run_seed(6)"
   ]
  },
  {
   "cell_type": "markdown",
   "id": "87ef17a5-c136-44fd-9d35-37991e8a7c9a",
   "metadata": {},
   "source": [
    "## 4.4 Seed 8"
   ]
  },
  {
   "cell_type": "code",
   "execution_count": 34,
   "id": "71faac11-3ca9-414d-8d15-69d1799c7cb6",
   "metadata": {},
   "outputs": [
    {
     "name": "stdout",
     "output_type": "stream",
     "text": [
      "W generated. Time taken: 21.25s\n",
      "Calculating eigenvalue\n",
      "Eigenvalue calculated. Time taken: 3.27s\n",
      "W and W_in generated. Time taken: 27.57s\n",
      "\n",
      "Generating z values...\n",
      "z values generated. Time taken: 44.17s\n",
      "Concatenating z with z**2 Contenation complete. Time taken: 10.61s\n",
      "\n",
      "Epoch 10: Train time = 9.08 | Train Loss = -22.9297047 \n",
      "Epoch 20: Train time = 9.15 | Train Loss = -23.3345394 \n",
      "Epoch 30: Train time = 9.20 | Train Loss = -23.6681709 \n",
      "Epoch 40: Train time = 9.16 | Train Loss = -23.9471054 \n",
      "Epoch 50: Train time = 9.16 | Train Loss = -24.1755581 \n",
      "Epoch 60: Train time = 9.35 | Train Loss = -24.3570347 \n",
      "Epoch 70: Train time = 9.12 | Train Loss = -24.5010033 \n",
      "Epoch 80: Train time = 9.08 | Train Loss = -24.6210518 \n",
      "Epoch 90: Train time = 9.17 | Train Loss = -24.7184849 \n",
      "Epoch 100: Train time = 9.07 | Train Loss = -24.7930870 \n",
      "Epoch 110: Train time = 9.04 | Train Loss = -24.8574944 \n",
      "Epoch 120: Train time = 9.10 | Train Loss = -24.9039974 \n",
      "Epoch 130: Train time = 9.08 | Train Loss = -24.9395752 \n",
      "Epoch 140: Train time = 9.10 | Train Loss = -24.9761009 \n",
      "Epoch 150: Train time = 9.03 | Train Loss = -24.9941692 \n",
      "Epoch 160: Train time = 9.11 | Train Loss = -25.0178833 \n",
      "Epoch 170: Train time = 9.14 | Train Loss = -25.0311241 \n",
      "Epoch 180: Train time = 9.05 | Train Loss = -25.0480747 \n",
      "Epoch 190: Train time = 9.10 | Train Loss = -25.0643101 \n",
      "Epoch 200: Train time = 9.10 | Train Loss = -25.0707169 \n",
      "Epoch 210: Train time = 9.02 | Train Loss = -25.0755806 \n",
      "Epoch 220: Train time = 9.05 | Train Loss = -25.0848846 \n",
      "Epoch 230: Train time = 9.04 | Train Loss = -25.0852814 \n",
      "Epoch 240: Train time = 9.04 | Train Loss = -25.0929070 \n",
      "Epoch 250: Train time = 8.99 | Train Loss = -25.1018448 \n",
      "Epoch 260: Train time = 8.99 | Train Loss = -25.1042461 \n",
      "Epoch 270: Train time = 9.08 | Train Loss = -25.1076641 \n",
      "Epoch 280: Train time = 9.05 | Train Loss = -25.1128063 \n",
      "Epoch 290: Train time = 9.07 | Train Loss = -25.1142483 \n",
      "Epoch 300: Train time = 9.06 | Train Loss = -25.1170845 \n",
      "Best Training Loss : -25.1194763\n",
      "IMPROVED VALIDATION LOSS\n",
      "\n",
      "Total time: 2724.67\n",
      "Complete. Time taken: 2807.50s\n",
      "5.00% done\n",
      "10.00% done\n",
      "15.00% done\n",
      "20.00% done\n",
      "25.00% done\n",
      "30.00% done\n",
      "35.00% done\n",
      "40.00% done\n",
      "45.00% done\n",
      "50.00% done\n",
      "55.00% done\n",
      "60.00% done\n",
      "65.00% done\n",
      "70.00% done\n",
      "75.00% done\n",
      "80.00% done\n",
      "85.00% done\n",
      "90.00% done\n",
      "95.00% done\n",
      "100.00% done\n",
      "Time taken: 3211.77\n"
     ]
    }
   ],
   "source": [
    "run_seed(8)"
   ]
  },
  {
   "cell_type": "markdown",
   "id": "39a83e2f-f630-4582-ba60-9a2143d390e8",
   "metadata": {},
   "source": [
    "## 4.5 Seed 42"
   ]
  },
  {
   "cell_type": "code",
   "execution_count": 35,
   "id": "024e47a3-6f7d-4cb2-862c-ce6672a4f640",
   "metadata": {},
   "outputs": [
    {
     "name": "stdout",
     "output_type": "stream",
     "text": [
      "W generated. Time taken: 18.93s\n",
      "Calculating eigenvalue\n",
      "Eigenvalue calculated. Time taken: 3.13s\n",
      "W and W_in generated. Time taken: 25.09s\n",
      "\n",
      "Generating z values...\n",
      "z values generated. Time taken: 45.08s\n",
      "Concatenating z with z**2 Contenation complete. Time taken: 11.09s\n",
      "\n",
      "Epoch 10: Train time = 9.01 | Train Loss = -22.9240894 \n",
      "Epoch 20: Train time = 9.06 | Train Loss = -23.3326111 \n",
      "Epoch 30: Train time = 9.02 | Train Loss = -23.6687527 \n",
      "Epoch 40: Train time = 9.09 | Train Loss = -23.9453468 \n",
      "Epoch 50: Train time = 9.06 | Train Loss = -24.1672344 \n",
      "Epoch 60: Train time = 9.05 | Train Loss = -24.3530941 \n",
      "Epoch 70: Train time = 9.05 | Train Loss = -24.4989910 \n",
      "Epoch 80: Train time = 9.06 | Train Loss = -24.6193314 \n",
      "Epoch 90: Train time = 9.04 | Train Loss = -24.7118816 \n",
      "Epoch 100: Train time = 9.03 | Train Loss = -24.7892590 \n",
      "Epoch 110: Train time = 9.04 | Train Loss = -24.8515968 \n",
      "Epoch 120: Train time = 9.07 | Train Loss = -24.9018784 \n",
      "Epoch 130: Train time = 9.05 | Train Loss = -24.9405842 \n",
      "Epoch 140: Train time = 9.08 | Train Loss = -24.9708633 \n",
      "Epoch 150: Train time = 9.11 | Train Loss = -24.9939232 \n",
      "Epoch 160: Train time = 9.11 | Train Loss = -25.0173569 \n",
      "Epoch 170: Train time = 9.14 | Train Loss = -25.0338898 \n",
      "Epoch 180: Train time = 9.07 | Train Loss = -25.0469151 \n",
      "Epoch 190: Train time = 9.01 | Train Loss = -25.0604038 \n",
      "Epoch 200: Train time = 9.06 | Train Loss = -25.0665722 \n",
      "Epoch 210: Train time = 9.09 | Train Loss = -25.0730114 \n",
      "Epoch 220: Train time = 9.04 | Train Loss = -25.0823269 \n",
      "Epoch 230: Train time = 9.07 | Train Loss = -25.0868168 \n",
      "Epoch 240: Train time = 9.06 | Train Loss = -25.0952644 \n",
      "Epoch 250: Train time = 9.10 | Train Loss = -25.0994129 \n",
      "Epoch 260: Train time = 9.04 | Train Loss = -25.1006927 \n",
      "Epoch 270: Train time = 9.05 | Train Loss = -25.1064510 \n",
      "Epoch 280: Train time = 9.09 | Train Loss = -25.1096573 \n",
      "Epoch 290: Train time = 9.13 | Train Loss = -25.1164894 \n",
      "Epoch 300: Train time = 9.04 | Train Loss = -25.1197014 \n",
      "Best Training Loss : -25.1201534\n",
      "IMPROVED VALIDATION LOSS\n",
      "\n",
      "Total time: 2719.21\n",
      "Complete. Time taken: 2800.93s\n",
      "5.00% done\n",
      "10.00% done\n",
      "15.00% done\n",
      "20.00% done\n",
      "25.00% done\n",
      "30.00% done\n",
      "35.00% done\n",
      "40.00% done\n",
      "45.00% done\n",
      "50.00% done\n",
      "55.00% done\n",
      "60.00% done\n",
      "65.00% done\n",
      "70.00% done\n",
      "75.00% done\n",
      "80.00% done\n",
      "85.00% done\n",
      "90.00% done\n",
      "95.00% done\n",
      "100.00% done\n",
      "Time taken: 3211.85\n"
     ]
    }
   ],
   "source": [
    "run_seed(42)"
   ]
  },
  {
   "cell_type": "markdown",
   "id": "17a9589d-90a5-4281-8d33-1d870dd5ff1c",
   "metadata": {},
   "source": [
    "## 4.6 Compilation"
   ]
  },
  {
   "cell_type": "code",
   "execution_count": 48,
   "id": "92385cbb-5b7d-4ba0-9d5f-3ac00dd94c63",
   "metadata": {},
   "outputs": [],
   "source": [
    "mu_preds = []\n",
    "sd_preds = []"
   ]
  },
  {
   "cell_type": "code",
   "execution_count": 49,
   "id": "6e8e8f2e-adb5-43b5-928b-b5d6be97e960",
   "metadata": {},
   "outputs": [],
   "source": [
    "for dirpath, dirnames, filenames in os.walk(res_folder):\n",
    "    for f in filenames:\n",
    "        if f[:2] == \"mu\":\n",
    "            mu_preds.append(load_obj(os.path.join(res_folder, f)))\n",
    "        elif f[:2] == \"sd\":\n",
    "            sd_preds.append(load_obj(os.path.join(res_folder, f)))"
   ]
  },
  {
   "cell_type": "code",
   "execution_count": 50,
   "id": "e8e80df7-69e3-4e29-8385-27c2503d83cc",
   "metadata": {},
   "outputs": [],
   "source": [
    "mu_preds = np.array(mu_preds)\n",
    "sd_preds = np.array(sd_preds)"
   ]
  },
  {
   "cell_type": "code",
   "execution_count": 51,
   "id": "a7cc2236-9da3-4caa-9b45-6e4acb7c2721",
   "metadata": {},
   "outputs": [
    {
     "name": "stdout",
     "output_type": "stream",
     "text": [
      "mean preds shape: (5, 100, 400, 40)\n",
      "sd preds shape: (5, 100, 400, 40)\n"
     ]
    }
   ],
   "source": [
    "print(f\"mean preds shape: {mu_preds.shape}\")\n",
    "print(f\"sd preds shape: {sd_preds.shape}\")"
   ]
  },
  {
   "cell_type": "markdown",
   "id": "aab95f90-2be9-4fc5-acb1-a0dd5b941b04",
   "metadata": {},
   "source": [
    "# 5. Analyze results"
   ]
  },
  {
   "cell_type": "markdown",
   "id": "4a83ba5c-8cea-41ee-94c8-dfb38ec32c53",
   "metadata": {},
   "source": [
    "## 5.1 MSE"
   ]
  },
  {
   "cell_type": "code",
   "execution_count": 52,
   "id": "7712f735-9ad0-439f-9f62-36e9059cc35e",
   "metadata": {},
   "outputs": [],
   "source": [
    "mve_s_mean = mu_preds.mean(axis = 0)\n",
    "mve_s_sigma = np.sqrt((sd_preds**2 + mu_preds**2).mean(axis = 0) - mve_s_mean**2)"
   ]
  },
  {
   "cell_type": "code",
   "execution_count": 53,
   "id": "7322e5b8-63f9-4525-af8d-efb4998e8a6d",
   "metadata": {},
   "outputs": [],
   "source": [
    "desc_name = \"rc_nn\" + str(nn_size) + \"_combined\"\n",
    "res_mve = PointExperimentResult(mve_s_mean - y_test,\n",
    "                                           desc_name)"
   ]
  },
  {
   "cell_type": "code",
   "execution_count": 54,
   "id": "ab441931-90c3-47e6-aca4-ff0327d5bb1b",
   "metadata": {},
   "outputs": [
    {
     "data": {
      "image/png": "[encoded data removed]",
      "text/plain": [
       "<Figure size 432x288 with 1 Axes>"
      ]
     },
     "metadata": {
      "needs_background": "light"
     },
     "output_type": "display_data"
    },
    {
     "name": "stdout",
     "output_type": "stream",
     "text": [
      "It takes around t = 0.35 for mean error to exceed 0.5\n"
     ]
    }
   ],
   "source": [
    "res_mve.plot_rmse(error_thresh = 0.5)"
   ]
  },
  {
   "cell_type": "code",
   "execution_count": 55,
   "id": "5aa70a6a-2cc6-40d0-970b-61c44919e83b",
   "metadata": {},
   "outputs": [
    {
     "name": "stdout",
     "output_type": "stream",
     "text": [
      "Median NRMSE at t = 0.2: 0.382\n",
      "Median NRMSE at t = 0.5: 0.627\n",
      "Median NRMSE at t = 1: 0.849\n",
      "Median NRMSE at t = 2: 0.963\n",
      "Median NRMSE at t = 3: 0.981\n"
     ]
    }
   ],
   "source": [
    "res_mve.get_loss([0.2, 0.5, 1, 2, 3])"
   ]
  },
  {
   "cell_type": "markdown",
   "id": "438a31ef-6d46-4459-b2c7-29db0e2937f6",
   "metadata": {},
   "source": [
    "## 5.2 Variance"
   ]
  },
  {
   "cell_type": "markdown",
   "id": "630e4cb3-12a6-4d6a-9916-fd7ef4ce2547",
   "metadata": {},
   "source": [
    "**Visualise for one dataset**"
   ]
  },
  {
   "cell_type": "code",
   "execution_count": 56,
   "id": "4aacc31c-d001-4952-a3e6-30aec7b29940",
   "metadata": {},
   "outputs": [],
   "source": [
    "idx = 0"
   ]
  },
  {
   "cell_type": "code",
   "execution_count": 57,
   "id": "6265e709-f764-468c-8b04-833d1d169ecb",
   "metadata": {},
   "outputs": [
    {
     "data": {
      "image/png": "[encoded data removed]",
      "text/plain": [
       "<Figure size 432x288 with 1 Axes>"
      ]
     },
     "metadata": {
      "needs_background": "light"
     },
     "output_type": "display_data"
    }
   ],
   "source": [
    "plt.plot(mve_s_sigma[0].mean(axis = 1)**2)\n",
    "plt.grid(\"on\")\n",
    "plt.xlabel(\"Time steps\")\n",
    "plt.ylabel(\"Variance\")\n",
    "plt.show()"
   ]
  },
  {
   "cell_type": "markdown",
   "id": "35481a81-f44d-49ee-8d0c-7af67d5d9546",
   "metadata": {},
   "source": [
    "## 5.3 Negative Log LH"
   ]
  },
  {
   "cell_type": "code",
   "execution_count": 58,
   "id": "9ab9780c-7184-46a2-92f0-8bc29c521c9a",
   "metadata": {},
   "outputs": [
    {
     "data": {
      "image/png": "[encoded data removed]",
      "text/plain": [
       "<Figure size 432x288 with 1 Axes>"
      ]
     },
     "metadata": {
      "needs_background": "light"
     },
     "output_type": "display_data"
    }
   ],
   "source": [
    "plt.plot(neg_log_LH(mve_s_mean, mve_s_sigma))\n",
    "plt.title(\"Negative Log LH against time\")\n",
    "plt.xlabel(\"Time steps\")\n",
    "plt.ylabel(\"Negative Log LH\")\n",
    "# plt.yscale(\"log\")\n",
    "plt.grid(\"on\")\n",
    "plt.show()"
   ]
  },
  {
   "cell_type": "code",
   "execution_count": 59,
   "id": "a45ace80-8fb6-4421-a01b-3b072d7814c5",
   "metadata": {},
   "outputs": [
    {
     "name": "stdout",
     "output_type": "stream",
     "text": [
      "Mean negative log LH: 32.69201\n"
     ]
    }
   ],
   "source": [
    "print(f\"Mean negative log LH: {neg_log_LH(mve_s_mean, mve_s_sigma).mean():.5f}\")"
   ]
  }
 ],
 "metadata": {
  "kernelspec": {
   "display_name": "Python 3 (ipykernel)",
   "language": "python",
   "name": "python3"
  },
  "language_info": {
   "codemirror_mode": {
    "name": "ipython",
    "version": 3
   },
   "file_extension": ".py",
   "mimetype": "text/x-python",
   "name": "python",
   "nbconvert_exporter": "python",
   "pygments_lexer": "ipython3",
   "version": "3.8.12"
  }
 },
 "nbformat": 4,
 "nbformat_minor": 5
}
