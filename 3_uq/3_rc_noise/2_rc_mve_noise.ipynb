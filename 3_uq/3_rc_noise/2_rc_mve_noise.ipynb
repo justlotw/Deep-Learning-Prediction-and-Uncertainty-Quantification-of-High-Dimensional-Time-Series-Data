{
 "cells": [
  {
   "cell_type": "markdown",
   "id": "14d57da9-ca77-4333-ba41-8236efa46467",
   "metadata": {},
   "source": [
    "# Method: RC \n",
    "# Dataset: Lorenz-96, F = 8\n",
    "# Purpose: Uncertainty Quantification - Mean Variance Estimation"
   ]
  },
  {
   "cell_type": "markdown",
   "id": "9711fa4f-7843-43d5-a047-14c762fd2e5f",
   "metadata": {},
   "source": [
    "# 1. Set-up"
   ]
  },
  {
   "cell_type": "code",
   "execution_count": 1,
   "id": "c9f852d7-2ea3-49a4-8bd5-a85ba731f802",
   "metadata": {},
   "outputs": [],
   "source": [
    "# GPU\n",
    "import os\n",
    "os.environ[\"CUDA_VISIBLE_DEVICES\"] = \"1\"\n",
    "\n",
    "# Package\n",
    "import sys\n",
    "sys.path.append(\"../..\")"
   ]
  },
  {
   "cell_type": "code",
   "execution_count": 2,
   "id": "1ee758f3-121d-4ca7-a44e-f00db4631d50",
   "metadata": {},
   "outputs": [],
   "source": [
    "from create_data import load_data\n",
    "from utils import * # Number of testing samples\n",
    "import numpy as np\n",
    "import matplotlib.pyplot as plt\n",
    "from time import time\n",
    "from scipy import sparse\n",
    "\n",
    "import jax\n",
    "import jax.numpy as jnp\n",
    "from jax import value_and_grad\n",
    "from jax.numpy import tanh\n",
    "from jax.example_libraries import optimizers"
   ]
  },
  {
   "cell_type": "code",
   "execution_count": 3,
   "id": "ee80a55c-5e5d-4120-8c56-8be07285e9fe",
   "metadata": {},
   "outputs": [],
   "source": [
    "train, test = load_data(\"Lorenz 96, F = 8\", \"../../data/lorenz8\", 0.5)"
   ]
  },
  {
   "cell_type": "code",
   "execution_count": 4,
   "id": "5c296f1b-1d0a-47f5-acca-842d5d9e98d6",
   "metadata": {},
   "outputs": [],
   "source": [
    "np.random.seed(1)\n",
    "train.data = train.data + np.random.normal(0, 1e-1, train.data.shape)"
   ]
  },
  {
   "cell_type": "code",
   "execution_count": 5,
   "id": "e30a3f5f-c622-4e95-ae1c-dd652be02b5e",
   "metadata": {},
   "outputs": [
    {
     "name": "stdout",
     "output_type": "stream",
     "text": [
      "Train size: (90000, 40)\n",
      "Test size: (90000, 40)\n"
     ]
    }
   ],
   "source": [
    "print(f\"Train size: {train.data.shape}\")\n",
    "print(f\"Test size: {test.data.shape}\")"
   ]
  },
  {
   "cell_type": "markdown",
   "id": "8288061f-20ca-4fe6-840e-6ee8cd8064b1",
   "metadata": {},
   "source": [
    "**Create test set**"
   ]
  },
  {
   "cell_type": "code",
   "execution_count": 6,
   "id": "9c868d5f-50c3-48a5-8762-e0de61468e5f",
   "metadata": {},
   "outputs": [],
   "source": [
    "L_forecast_test = 400   # steps to forecast forward (when testing)"
   ]
  },
  {
   "cell_type": "code",
   "execution_count": 7,
   "id": "5a2ec67a-c0aa-45b0-b059-cb9a1dceb438",
   "metadata": {},
   "outputs": [],
   "source": [
    "np.random.seed(1)\n",
    "\n",
    "data_test = test.data\n",
    "\n",
    "T_test, data_dim = data_test.shape\n",
    "possible_idx = T_test - (L_forecast_test + 1) # minus number of steps forward, and the warm-up period\n",
    "T_indices = np.random.randint(0, possible_idx, size = NUM_TEST)\n",
    "\n",
    "t_past_batch = np.repeat(T_indices[:, None], WARM_UP_TEST, axis = 1).astype(int) # 200 warmup \n",
    "t_pred_batch = (T_indices[:, None] + np.arange(1, 1 + L_forecast_test)[None, :].astype(int))\n",
    "\n",
    "X_test = data_test[t_past_batch]\n",
    "y_test = data_test[t_pred_batch]"
   ]
  },
  {
   "cell_type": "code",
   "execution_count": 8,
   "id": "7e57b737-d4d5-41f0-9077-071567f3758f",
   "metadata": {},
   "outputs": [
    {
     "name": "stdout",
     "output_type": "stream",
     "text": [
      "Test input size: (100, 2000, 40)\n",
      "Test output size: (100, 400, 40)\n"
     ]
    }
   ],
   "source": [
    "print(f\"Test input size: {X_test.shape}\")  # Number of test points x input length x dim\n",
    "print(f\"Test output size: {y_test.shape}\") # Number of test points x horizon x dim"
   ]
  },
  {
   "cell_type": "markdown",
   "id": "bb0bd417-72d0-4d90-8b16-30945dd0ee20",
   "metadata": {},
   "source": [
    "# 2. RC Implementation"
   ]
  },
  {
   "cell_type": "code",
   "execution_count": 9,
   "id": "bf9258f6-5dd2-4ddf-ab11-8f9f274ffb4a",
   "metadata": {},
   "outputs": [],
   "source": [
    "def get_parameters(nn_size, connectivity, spec_radius, lambd, \n",
    "                   seed, batch_size, num_epoch, lr_schedule = [1e-4], \n",
    "                   early_stopping = EARLY_STOPPING):\n",
    "    \"\"\"\n",
    "    Returns trained parameters (beta, intercept) and hidden layer values\n",
    "    \"\"\"\n",
    "    def initialize_coef():\n",
    "        \"\"\"\n",
    "        Initializes W_in and W. \n",
    "        W_in size = nn_size x data_dim\n",
    "        W size = nn_size x nn_size\n",
    "        \"\"\"\n",
    "        start = time()\n",
    "\n",
    "        # Generate input -> hidden unit weights\n",
    "        W_in = 2 * (np.random.rand(nn_size, data_dim) - 0.5) \n",
    "        W_in = W_in / (4 * np.sqrt(data_dim))\n",
    "\n",
    "        # Generate hidden -> hidden unit weights\n",
    "        # Considers connectivity to make the matrix sparse\n",
    "        start_mat = time()\n",
    "        rows = np.concatenate([np.full(connectivity, i) for i in range(nn_size)])\n",
    "        cols = np.concatenate([np.random.choice(range(nn_size), size = connectivity, replace = False) for _ in range(nn_size)])\n",
    "        vals = np.random.uniform(low = -omega, high = omega, size = (nn_size * connectivity))\n",
    "        W = sparse.csr_matrix((vals, (rows, cols)), shape = (nn_size, nn_size))\n",
    "        end_mat = time()\n",
    "        print(f\"W generated. Time taken: {end_mat - start_mat:.2f}s\")\n",
    "\n",
    "        # Calculate eigenvalues for scaling of matrix\n",
    "        print(\"Calculating eigenvalue\")\n",
    "        e_start = time()\n",
    "        eigenvals = sparse.linalg.eigs(W, which = \"LM\", return_eigenvectors = False, k = 1)\n",
    "        max_eigen = np.abs(eigenvals)\n",
    "        e_end = time()\n",
    "        print(f\"Eigenvalue calculated. Time taken: {e_end - e_start:.2f}s\")\n",
    "\n",
    "        # Scale matrix by spectral radius\n",
    "        W = W / max_eigen * spec_radius # scale the matrix W by its spectral radius\n",
    "        W = sparse.csr_matrix(W)\n",
    "        \n",
    "        end = time()\n",
    "        print(f\"W and W_in generated. Time taken: {end-start:.2f}s\")\n",
    "        print()\n",
    "        \n",
    "        return W_in, W\n",
    "    \n",
    "    def generate_hidden_states(W_in, W):\n",
    "        \"\"\" \n",
    "        Generate hidden states (z) values\n",
    "        hidden_states size = data_size x nn_size \n",
    "        \"\"\"\n",
    "        start = time()\n",
    "        \n",
    "        print(\"Generating z values...\")\n",
    "        indiv_z = np.zeros(shape = nn_size)\n",
    "        hidden_states = np.zeros((train_size, nn_size))\n",
    "        \n",
    "        for t in range(train_size):  \n",
    "            indiv_z = (1 - alpha) * indiv_z + \\\n",
    "                alpha * np.tanh(W_in @ x[t] + W @ indiv_z)\n",
    "            hidden_states[t, :] = indiv_z\n",
    "        end = time()\n",
    "        print(f\"z values generated. Time taken: {end-start:.2f}s\")\n",
    "        \n",
    "        return hidden_states\n",
    "    \n",
    "    def mse(y, y_pred):\n",
    "        return jnp.mean((y_pred - y)**2)\n",
    "    \n",
    "    @jax.jit\n",
    "    def neg_log_LH(params, x, y):\n",
    "        \"\"\"\n",
    "        returns negative-log-likelihood -logLH(P(y|params))\n",
    "        \"\"\"\n",
    "        d = data_dim\n",
    "        beta, intercept, beta2, intercept2 = params\n",
    "        \n",
    "        mu = x @ beta + intercept  # train_size x data_dim\n",
    "        \n",
    "        log_sigma = (x @ beta2 + intercept2).mean() # train_size x 1\n",
    "        sigma = jnp.exp(log_sigma)\n",
    "        \n",
    "        mu_loss = mse(mu, y)\n",
    "        constant = d * jnp.log(2 * jnp.pi)\n",
    "        sigma_loss = d * log_sigma\n",
    "        return 0.5*(constant + sigma_loss + (mu_loss / sigma**2))\n",
    "\n",
    "    def training(x, y):\n",
    "        \"\"\" \n",
    "        Trains regression of y~x using SGD. \n",
    "        Returns parameters (beta, intercept, beta2, intercept2) where \n",
    "        beta, intercept -> weights to determine the mean\n",
    "        beta2, intecept2 -> weights to determine log_sigma\n",
    "        \n",
    "        beta size = nn_size x data_dim\n",
    "        intercept = data_dim (will be added for each training data)\n",
    "        beta2 size = nn_size x 1\n",
    "        intercept2 = 1 (will be added for each training data)\n",
    "        \n",
    "        should predict a mu with train_size x data_dim (\\mu per dimension per datapoint)\n",
    "        and a sigma with train_size x 1 (single \\sigma for all dimensions per datapoint)\n",
    "        \"\"\"\n",
    "        \n",
    "        @jax.jit\n",
    "        def step(opt_state, x, y):\n",
    "            params = get_params(opt_state)\n",
    "            value, g = value_and_grad(neg_log_LH)(params, x, y)\n",
    "            opt_state = opt_update(0, g, opt_state)\n",
    "            return get_params(opt_state), opt_state, value\n",
    "\n",
    "        start = time()\n",
    "        \n",
    "        # Plot loss\n",
    "        loss_train_traj = []\n",
    "        loss_train_all_traj = []\n",
    "        \n",
    "        # Init parameters\n",
    "        beta = np.random.normal(0, 1 / np.sqrt(nn_size), size = (nn_size, data_dim))\n",
    "        beta2 = np.random.normal(0, 1 / np.sqrt(nn_size), size = (nn_size, 1))\n",
    "        intercept = np.random.normal(0, 1 / np.sqrt(nn_size * 2), size = (data_dim, ))\n",
    "        intercept2 = np.random.normal(0, 1 / np.sqrt(nn_size * 2), size = (1, ))\n",
    "        \n",
    "        t_size = int(1. * train_size)\n",
    "        \n",
    "        overall_best_loss = 9999999\n",
    "        \n",
    "        for i, lr in enumerate(lr_schedule):\n",
    "            opt_init, opt_update, get_params = optimizers.adam(step_size = lr) \n",
    "            opt_state = opt_init([beta, intercept, beta2, intercept2])\n",
    "            \n",
    "            # For early stopping\n",
    "            best_state = opt_state\n",
    "            counter = 0 \n",
    "            best_val_loss = 9999999\n",
    "            \n",
    "            for epoch in range(num_epoch[i]):\n",
    "                e_start = time()\n",
    "                \n",
    "                T_indices = np.arange(train_size)\n",
    "                np.random.shuffle(T_indices)\n",
    "\n",
    "                loss_epoch_train = []\n",
    "                for k in range(t_size // batch_size + 1):\n",
    "                    t_start = T_indices[np.arange(k * batch_size, (k+1) * batch_size).astype(int) % len(T_indices)]\n",
    "                    x_batch = x[t_start]\n",
    "                    y_batch = y[t_start]\n",
    "\n",
    "                    params, opt_state, l = step(opt_state, x_batch, y_batch)\n",
    "                    loss_epoch_train.append(l)\n",
    "                \n",
    "                \n",
    "                loss_train_all_traj += loss_epoch_train\n",
    "                mse_train = np.mean(loss_epoch_train) # -ve log likelihood\n",
    "                loss_train_traj.append(mse_train)\n",
    "                \n",
    "                e_end = time()\n",
    "                \n",
    "                if mse_train < best_val_loss:\n",
    "                    best_val_loss = mse_train\n",
    "                    counter = 0\n",
    "                    best_state = opt_state\n",
    "                else:\n",
    "                    counter += 1\n",
    "                    \n",
    "                if (epoch + 1) % 10 == 0:\n",
    "                    print(f\"Epoch {epoch + 1}: Train time = {e_end - e_start:.2f} | Train Loss = {mse_train:.7f}\", end = \" \")\n",
    "                    print()\n",
    "                if counter == early_stopping:\n",
    "                    print(f\"EARLY STOPPING. Epoch {epoch + 1}: Train loss = {mse_train:.7f}\")\n",
    "                    break\n",
    "            \n",
    "            print(f\"Best Training Loss : {best_val_loss:.7f}\") \n",
    "            \n",
    "            if best_val_loss < overall_best_loss:\n",
    "                print(\"IMPROVED VALIDATION LOSS\")\n",
    "                overall_best_loss = best_val_loss\n",
    "                overall_best_state = best_state\n",
    "            \n",
    "            beta, intercept, beta2, intercept2 = get_params(overall_best_state)\n",
    "            print()\n",
    "        \n",
    "        end = time()\n",
    "        print(f\"Total time: {end - start:.2f}\")\n",
    "        \n",
    "        return get_params(overall_best_state) # beta, intercept, beta2, intercept2\n",
    "    \n",
    "    start = time()\n",
    "   \n",
    "    x, y = train.data[:-1], train.data[1:]\n",
    "    copy_x, copy_y = x, y \n",
    "    train_size, data_dim = x.data.shape\n",
    "       \n",
    "    np.random.seed(seed)\n",
    "    W_in, W = initialize_coef()\n",
    "    z = generate_hidden_states(W_in, W)\n",
    "\n",
    "    # Want to regression Y ~ X ==> Y ~ [z, z**2]\n",
    "    final_y = y[transient:]\n",
    "    final_z = z[transient:]\n",
    "    print(\"Concatenating z with z**2\", end = \" \"); concat_start = time()\n",
    "    final_z = np.concatenate([final_z, final_z**2], axis = 1) # shape: train_size x (nn_size*2)\n",
    "    concat_end = time()\n",
    "    print(f\"Contenation complete. Time taken: {concat_end-concat_start:.2f}s\", end = \"\\n\\n\")\n",
    "    \n",
    "    train_size, nn_size = final_z.shape\n",
    "    \n",
    "    params = training(final_z, final_y)\n",
    "    end = time()\n",
    "    print(f\"Complete. Time taken: {end - start:.2f}s\")\n",
    "    \n",
    "    return params, (final_z, W_in, W)"
   ]
  },
  {
   "cell_type": "code",
   "execution_count": 10,
   "id": "2863ad98-35c2-435c-bcea-86318c9152df",
   "metadata": {},
   "outputs": [],
   "source": [
    "def get_test_pred(data_test, nn_size, params, W_in, W):   \n",
    "    beta, intercept, beta2, intercept2 = params\n",
    "    num_data_test, trans, data_dim = data_test.shape # testing ex, # steps used (transient), dim of data\n",
    "    \n",
    "    def prediction(inp):\n",
    "        \"\"\"\n",
    "        Returns the mean of one of the testing input\n",
    "        \n",
    "        mean will be a length_to_test x data_dim vector\n",
    "        \"\"\"\n",
    "        \n",
    "        z = np.zeros((nn_size, ))\n",
    "        for i in range(trans):\n",
    "            z = (1 - alpha) * z + alpha * np.tanh(W_in @ inp[i] + W @ z)\n",
    "        \n",
    "        mus = []\n",
    "        stddevs = []\n",
    "        \n",
    "        x = beta.T @ np.concatenate([z, z**2]) + intercept # output / input_of_next | size = dim_data\n",
    "        log_sd = beta2.T @ np.concatenate([z, z**2]) + intercept2 # log_sd of output | size = 1 \n",
    "        mus.append(x)\n",
    "        stddevs.append(jnp.exp(log_sd[0]))\n",
    "        \n",
    "        for _ in range(L_forecast_test - 1):\n",
    "            z = (1 - alpha) * z + alpha * np.tanh(W_in @ x + W @ z)\n",
    "            x = beta.T @ np.concatenate([z, z**2]) + intercept # output / input_of_next\n",
    "            log_sd = beta2.T @ np.concatenate([z, z**2]) + intercept2\n",
    "            mus.append(x)\n",
    "            stddevs.append(jnp.exp(log_sd[0]))\n",
    "        \n",
    "        return mus, stddevs\n",
    "    \n",
    "    start = time()\n",
    "    \n",
    "    mean_list = []\n",
    "    sd_list = []\n",
    "    \n",
    "    for i in range(num_data_test):\n",
    "        mean, sd = prediction(data_test[i])\n",
    "        mean_list.append(mean)\n",
    "        sd_list.append(sd)\n",
    "        if (i+1) % 10 == 0:\n",
    "            print(f\"{(i+1) / num_data_test * 100:.2f}% done\")\n",
    "    \n",
    "    end = time()\n",
    "    print(f\"Testing complete. Time taken: {end - start:.2f}\")\n",
    "    return np.array(mean_list), np.array(sd_list)"
   ]
  },
  {
   "cell_type": "code",
   "execution_count": 11,
   "id": "3c77fe48-46bf-4706-bdfb-f6a77eb60c82",
   "metadata": {},
   "outputs": [],
   "source": [
    "def neg_log_LH(mean_pred, sd_pred):\n",
    "    d = data_dim\n",
    "    \n",
    "    constant_loss = d * np.log(2 * np.pi)\n",
    "    mu_loss = (mean_pred - y_test)**2\n",
    "    if len(sd_pred.shape) == 2:\n",
    "        sd_expanded = np.moveaxis(np.tile(sd_pred, (d, 1, 1)), 0, 2)# Repeat sd for each of the 40 dimensions \n",
    "    elif len(sd_pred.shape) == 3:\n",
    "        sd_expanded = sd_pred\n",
    "    else:\n",
    "        raise Exception(\"Invalid sd_pred dimension\")\n",
    "    \n",
    "    return 0.5 * (constant_loss + d * np.log(sd_expanded) + (mu_loss / sd_expanded**2)).mean(axis = (0, 2))"
   ]
  },
  {
   "cell_type": "markdown",
   "id": "ffce42df-dfac-4615-b07e-4446a271acf9",
   "metadata": {},
   "source": [
    "# 3. Best Parameters"
   ]
  },
  {
   "cell_type": "code",
   "execution_count": 12,
   "id": "6fcf92b1-c8cb-4996-939f-882d454fb811",
   "metadata": {},
   "outputs": [],
   "source": [
    "nn_size = 12000\n",
    "ridge_penalty = 1e-6\n",
    "spec_radius = 0.1\n",
    "connectivity = 4\n",
    "\n",
    "lr_list = [1e-4]\n",
    "epoch_list = [300] \n",
    "\n",
    "transient = 20000  # points to ignore to allow system to stabilise\n",
    "omega = 1          # scale of the values of matrix W\n",
    "alpha = 1          # hidden state memory\n",
    "b_size = 200"
   ]
  },
  {
   "cell_type": "code",
   "execution_count": 13,
   "id": "e0360b78-db6c-427d-8a19-3987ebdf39e0",
   "metadata": {},
   "outputs": [],
   "source": [
    "res_folder = os.path.join(\"results\", \"mve_noise\")"
   ]
  },
  {
   "cell_type": "markdown",
   "id": "b7070f12-ba7a-4599-9006-1beede669821",
   "metadata": {},
   "source": [
    "# 4. Mean Variance Estimation (Naive)"
   ]
  },
  {
   "cell_type": "code",
   "execution_count": 23,
   "id": "9eb7bc30-c291-4b9d-ad14-2ce4d6ebdcc3",
   "metadata": {},
   "outputs": [],
   "source": [
    "seed = 42"
   ]
  },
  {
   "cell_type": "code",
   "execution_count": 40,
   "id": "e889a637-c08a-4c93-89a7-9e47d06cd87b",
   "metadata": {},
   "outputs": [
    {
     "name": "stdout",
     "output_type": "stream",
     "text": [
      "W generated. Time taken: 23.36s\n",
      "Calculating eigenvalue\n",
      "Eigenvalue calculated. Time taken: 2.95s\n",
      "W and W_in generated. Time taken: 29.44s\n",
      "\n",
      "Generating z values...\n",
      "z values generated. Time taken: 48.25s\n",
      "Concatenating z with z**2 Contenation complete. Time taken: 9.56s\n",
      "\n",
      "Epoch 10: Train time = 8.55 | Train Loss = -22.8262444 \n",
      "Epoch 20: Train time = 8.24 | Train Loss = -23.1681175 \n",
      "Epoch 30: Train time = 8.63 | Train Loss = -23.4617043 \n",
      "Epoch 40: Train time = 8.84 | Train Loss = -23.7073822 \n",
      "Epoch 50: Train time = 9.46 | Train Loss = -23.9188290 \n",
      "Epoch 60: Train time = 8.93 | Train Loss = -24.1006145 \n",
      "Epoch 70: Train time = 9.15 | Train Loss = -24.2589226 \n",
      "Epoch 80: Train time = 9.44 | Train Loss = -24.3886948 \n",
      "Epoch 90: Train time = 7.98 | Train Loss = -24.5018520 \n",
      "Epoch 100: Train time = 7.63 | Train Loss = -24.5986767 \n",
      "Epoch 110: Train time = 7.63 | Train Loss = -24.6788673 \n",
      "Epoch 120: Train time = 7.61 | Train Loss = -24.7454853 \n",
      "Epoch 130: Train time = 7.71 | Train Loss = -24.8044472 \n",
      "Epoch 140: Train time = 8.22 | Train Loss = -24.8486099 \n",
      "Epoch 150: Train time = 8.24 | Train Loss = -24.8895035 \n",
      "Epoch 160: Train time = 8.41 | Train Loss = -24.9247093 \n",
      "Epoch 170: Train time = 7.66 | Train Loss = -24.9504242 \n",
      "Epoch 180: Train time = 8.15 | Train Loss = -24.9760017 \n",
      "Epoch 190: Train time = 7.75 | Train Loss = -24.9960499 \n",
      "Epoch 200: Train time = 8.03 | Train Loss = -25.0134468 \n",
      "Epoch 210: Train time = 8.69 | Train Loss = -25.0288887 \n",
      "Epoch 220: Train time = 9.10 | Train Loss = -25.0379181 \n",
      "Epoch 230: Train time = 9.38 | Train Loss = -25.0509758 \n",
      "Epoch 240: Train time = 8.39 | Train Loss = -25.0601616 \n",
      "Epoch 250: Train time = 8.69 | Train Loss = -25.0671253 \n",
      "Epoch 260: Train time = 8.87 | Train Loss = -25.0768585 \n",
      "Epoch 270: Train time = 8.73 | Train Loss = -25.0815926 \n",
      "Epoch 280: Train time = 8.68 | Train Loss = -25.0867386 \n",
      "Epoch 290: Train time = 8.22 | Train Loss = -25.0923100 \n",
      "Epoch 300: Train time = 8.03 | Train Loss = -25.0949612 \n",
      "Best Training Loss : -25.0988846\n",
      "IMPROVED VALIDATION LOSS\n",
      "\n",
      "Total time: 2533.29\n",
      "Complete. Time taken: 2620.91s\n"
     ]
    }
   ],
   "source": [
    "params, internal = get_parameters(nn_size, connectivity, spec_radius, lambd = ridge_penalty, seed = seed, \n",
    "                                  batch_size = b_size, num_epoch = epoch_list, lr_schedule = lr_list)"
   ]
  },
  {
   "cell_type": "code",
   "execution_count": 41,
   "id": "c3972a17-3205-4420-b8cc-1a10bc2075a6",
   "metadata": {},
   "outputs": [],
   "source": [
    "_, W_in, W = internal"
   ]
  },
  {
   "cell_type": "code",
   "execution_count": 42,
   "id": "cc2fc221-784e-4dd9-a189-027721bf1f05",
   "metadata": {},
   "outputs": [],
   "source": [
    "save_obj(params, res_folder, \"params.pkl\")\n",
    "save_obj(W_in, res_folder, \"W_in.pkl\")\n",
    "save_obj(W, res_folder, \"W.pkl\")"
   ]
  },
  {
   "cell_type": "markdown",
   "id": "eb6b983d-4cf1-4190-93b4-ef7b379631b3",
   "metadata": {},
   "source": [
    "## RELOAD DATA"
   ]
  },
  {
   "cell_type": "code",
   "execution_count": 14,
   "id": "b7a9b410-b5ca-42b4-b919-4ae329ed010b",
   "metadata": {},
   "outputs": [],
   "source": [
    "# IF NEED TO RELOAD DATA\n",
    "\n",
    "params = load_obj(os.path.join(res_folder, \"params.pkl\"))\n",
    "W_in = load_obj(os.path.join(res_folder, \"W_in.pkl\"))\n",
    "W = load_obj(os.path.join(res_folder, \"W.pkl\"))"
   ]
  },
  {
   "cell_type": "code",
   "execution_count": 15,
   "id": "e34ec16a-664c-405b-92a1-a70df9bac7c9",
   "metadata": {},
   "outputs": [
    {
     "name": "stdout",
     "output_type": "stream",
     "text": [
      "10.00% done\n",
      "20.00% done\n",
      "30.00% done\n",
      "40.00% done\n",
      "50.00% done\n",
      "60.00% done\n",
      "70.00% done\n",
      "80.00% done\n",
      "90.00% done\n",
      "100.00% done\n",
      "Testing complete. Time taken: 383.51\n"
     ]
    }
   ],
   "source": [
    "mean_pred, sd_pred = get_test_pred(X_test, nn_size, params, W_in, W)"
   ]
  },
  {
   "cell_type": "code",
   "execution_count": 16,
   "id": "698a1f26-8437-4930-b356-01dcb196866d",
   "metadata": {},
   "outputs": [],
   "source": [
    "save_obj(mean_pred, res_folder, \"mean_pred_naive.pkl\")\n",
    "save_obj(sd_pred, res_folder, \"sd_pred_naive.pkl\")"
   ]
  },
  {
   "cell_type": "code",
   "execution_count": 14,
   "id": "aac577f2-82b5-4317-8c8f-603b1f70535c",
   "metadata": {},
   "outputs": [],
   "source": [
    "mean_pred = load_obj(os.path.join(res_folder, \"mean_pred_naive.pkl\"))\n",
    "sd_pred = load_obj(os.path.join(res_folder, \"sd_pred_naive.pkl\"))"
   ]
  },
  {
   "cell_type": "markdown",
   "id": "4a83ba5c-8cea-41ee-94c8-dfb38ec32c53",
   "metadata": {},
   "source": [
    "## 4.2 MSE"
   ]
  },
  {
   "cell_type": "code",
   "execution_count": 15,
   "id": "7322e5b8-63f9-4525-af8d-efb4998e8a6d",
   "metadata": {},
   "outputs": [
    {
     "data": {
      "image/png": "[encoded data removed]",
      "text/plain": [
       "<Figure size 432x288 with 1 Axes>"
      ]
     },
     "metadata": {
      "needs_background": "light"
     },
     "output_type": "display_data"
    },
    {
     "name": "stdout",
     "output_type": "stream",
     "text": [
      "It takes around 0.67 Lyapunov Time for mean error to exceed 0.5\n",
      "\n",
      "Median NRMSE at 0.5 Lyapunov Time: 0.362\n",
      "Median NRMSE at 1.0 Lyapunov Time: 0.747\n",
      "Median NRMSE at 2.0 Lyapunov Time: 1.151\n",
      "Median NRMSE at 5.0 Lyapunov Time: 1.340\n"
     ]
    }
   ],
   "source": [
    "res_single = PointExperimentResultLyapunov(mean_pred - y_test, \"lorenz\")\n",
    "res_single.plot_rmse(save_name = \"RC Noise MVE_Naive Horizon\")\n",
    "print()\n",
    "res_single.get_loss()"
   ]
  },
  {
   "cell_type": "markdown",
   "id": "a6006ffc-dc35-4a2a-8304-bc1d1338ba21",
   "metadata": {},
   "source": [
    "## 4.3 Variance"
   ]
  },
  {
   "cell_type": "code",
   "execution_count": 16,
   "id": "444b684c-710f-4213-abfe-2a8e7ffba39d",
   "metadata": {},
   "outputs": [],
   "source": [
    "idx = 0"
   ]
  },
  {
   "cell_type": "code",
   "execution_count": 17,
   "id": "8b2cab3f-8774-46f4-9b61-61b8df5dbe8c",
   "metadata": {},
   "outputs": [
    {
     "data": {
      "image/png": "[encoded data removed]",
      "text/plain": [
       "<Figure size 432x288 with 1 Axes>"
      ]
     },
     "metadata": {
      "needs_background": "light"
     },
     "output_type": "display_data"
    }
   ],
   "source": [
    "plt.plot(np.arange(L_forecast_test) / LORENZ_LT * 0.01, sd_pred[idx])\n",
    "plt.grid(\"on\")\n",
    "plt.xlabel(\"Lyapunov Time\")\n",
    "plt.ylabel(\"Variance\")\n",
    "plt.savefig(\"RC Noise MVE_Naive Variance.png\", facecolor = \"white\", bbox_inches = \"tight\")\n",
    "plt.show()"
   ]
  },
  {
   "cell_type": "markdown",
   "id": "35481a81-f44d-49ee-8d0c-7af67d5d9546",
   "metadata": {},
   "source": [
    "## 4.4 Negative Log LH"
   ]
  },
  {
   "cell_type": "code",
   "execution_count": 18,
   "id": "9ab9780c-7184-46a2-92f0-8bc29c521c9a",
   "metadata": {},
   "outputs": [
    {
     "data": {
      "image/png": "[encoded data removed]",
      "text/plain": [
       "<Figure size 432x288 with 1 Axes>"
      ]
     },
     "metadata": {
      "needs_background": "light"
     },
     "output_type": "display_data"
    }
   ],
   "source": [
    "plt.plot(np.arange(L_forecast_test) / LORENZ_LT * 0.01, neg_log_LH(mean_pred, sd_pred))\n",
    "plt.xlabel(\"Lyapunov Time\")\n",
    "plt.ylabel(\"Negative Log LH\")\n",
    "plt.grid(\"on\")\n",
    "plt.savefig(\"RC Noise MVE_Naive NLL.png\", facecolor = \"white\", bbox_inches = \"tight\")\n",
    "plt.show()"
   ]
  },
  {
   "cell_type": "code",
   "execution_count": 19,
   "id": "a45ace80-8fb6-4421-a01b-3b072d7814c5",
   "metadata": {},
   "outputs": [
    {
     "name": "stdout",
     "output_type": "stream",
     "text": [
      "Mean negative log LH: 563.27340\n"
     ]
    }
   ],
   "source": [
    "print(f\"Mean negative log LH: {neg_log_LH(mean_pred, sd_pred).mean():.5f}\")"
   ]
  },
  {
   "cell_type": "markdown",
   "id": "97d18e15-51bd-48ce-a6e7-11dab1427a26",
   "metadata": {},
   "source": [
    "# 5. Mean Variance Estimation (Sampling trajectories)"
   ]
  },
  {
   "cell_type": "code",
   "execution_count": 20,
   "id": "e0fe8841-9d8c-4640-bf2b-3bbe86161748",
   "metadata": {},
   "outputs": [],
   "source": [
    "def get_test_pred_sampled(data_test, params, W_in, W, seed):\n",
    "    np.random.seed(seed)\n",
    "    start = time()\n",
    "    \n",
    "    beta, intercept, beta2, intercept2 = params\n",
    "    num_data_test, trans, data_dim = data_test.shape # testing ex, # steps used (transient), dim of data\n",
    "    \n",
    "    def generate_hidden_state(data):\n",
    "        z = np.zeros((nn_size, ))\n",
    "        for i in range(trans):\n",
    "            z = (1 - alpha) * z + alpha * np.tanh(W_in @ data[i] + W @ z)\n",
    "        return z\n",
    "    \n",
    "    test_mus = []\n",
    "    test_sds = []\n",
    "    counter = 0\n",
    "    \n",
    "    for inp in data_test:\n",
    "        z = generate_hidden_state(inp)\n",
    "        first_mean = beta.T @ np.concatenate([z, z**2]) + intercept\n",
    "        first_log_sd = beta2.T @ np.concatenate([z, z**2]) + intercept2\n",
    "        first_sd = np.exp(first_log_sd[0])\n",
    "\n",
    "        x = first_mean\n",
    "        all_mu = []\n",
    "        all_sd = []\n",
    "        \n",
    "        for tr in range(N_TRAJ_MVE // 5): \n",
    "            x = np.random.normal(first_mean, first_sd)\n",
    "            mu_list = [x]\n",
    "            sd_list = [first_sd] \n",
    "\n",
    "            for _ in range(L_forecast_test - 1):\n",
    "                z = (1 - alpha) * z + alpha * np.tanh(W_in @ x + W @ z)\n",
    "                x = beta.T @ np.concatenate([z, z**2]) + intercept # output / input_of_next\n",
    "                log_sd = beta2.T @ np.concatenate([z, z**2]) + intercept2\n",
    "                mu_list.append(x)\n",
    "                sd_list.append(np.exp(log_sd[0]))\n",
    "\n",
    "            all_mu.append(np.array(mu_list))\n",
    "            all_sd.append(np.array(sd_list))\n",
    "        \n",
    "        test_mus.append(np.array(all_mu))\n",
    "        test_sds.append(np.array(all_sd))\n",
    "        \n",
    "        counter += 1\n",
    "        \n",
    "        if counter % 5 == 0:\n",
    "            print(f\"{counter / num_data_test * 100:.2f}% done\")\n",
    "    \n",
    "    end = time()\n",
    "    print(f\"Time taken: {end - start:.2f}\")\n",
    "    return np.array(test_mus), np.array(test_sds) "
   ]
  },
  {
   "cell_type": "code",
   "execution_count": 24,
   "id": "6d5ed1ea-1569-4115-82e7-3fc4b9cc09b1",
   "metadata": {},
   "outputs": [
    {
     "name": "stdout",
     "output_type": "stream",
     "text": [
      "5.00% done\n",
      "10.00% done\n",
      "15.00% done\n",
      "20.00% done\n",
      "25.00% done\n",
      "30.00% done\n",
      "35.00% done\n",
      "40.00% done\n",
      "45.00% done\n",
      "50.00% done\n",
      "55.00% done\n",
      "60.00% done\n",
      "65.00% done\n",
      "70.00% done\n",
      "75.00% done\n",
      "80.00% done\n",
      "85.00% done\n",
      "90.00% done\n",
      "95.00% done\n",
      "100.00% done\n",
      "Time taken: 4346.45\n"
     ]
    }
   ],
   "source": [
    "maa, saa = get_test_pred_sampled(X_test, params, W_in, W, seed)"
   ]
  },
  {
   "cell_type": "code",
   "execution_count": 25,
   "id": "dace618a-fc49-4749-bf1f-1657741517e6",
   "metadata": {},
   "outputs": [],
   "source": [
    "mve_s_mean = maa.mean(axis = 1)\n",
    "mve_s_sigma = np.sqrt((np.moveaxis(np.tile(saa, (40, 1, 1, 1)), 0, 3)**2 + maa**2).mean(axis = 1) - mve_s_mean**2)"
   ]
  },
  {
   "cell_type": "code",
   "execution_count": 26,
   "id": "fd9258d6-7542-4044-9043-edfb873f5b28",
   "metadata": {},
   "outputs": [],
   "source": [
    "save_obj(mve_s_mean, res_folder, \"mean_pred_sampled.pkl\")\n",
    "save_obj(mve_s_sigma, res_folder, \"sd_pred_sampled.pkl\")"
   ]
  },
  {
   "cell_type": "code",
   "execution_count": 22,
   "id": "0b57ee78-dbdd-4ff5-90d3-a77334daeab5",
   "metadata": {},
   "outputs": [],
   "source": [
    "mve_s_mean = load_obj(os.path.join(res_folder, \"mean_pred_sampled.pkl\"))\n",
    "mve_s_sigma = load_obj(os.path.join(res_folder, \"sd_pred_sampled.pkl\"))"
   ]
  },
  {
   "cell_type": "markdown",
   "id": "fdd7d197-a9c3-40cf-9793-c604250c0912",
   "metadata": {
    "toc-hr-collapsed": true
   },
   "source": [
    "## 5.1 Variance"
   ]
  },
  {
   "cell_type": "markdown",
   "id": "d2ffbc89-3109-44de-80e5-32ca4a820015",
   "metadata": {},
   "source": [
    "**Visualise for one dataset**"
   ]
  },
  {
   "cell_type": "code",
   "execution_count": 23,
   "id": "21400a47-604d-4895-a662-60fd5bc935e1",
   "metadata": {},
   "outputs": [],
   "source": [
    "idx = 0"
   ]
  },
  {
   "cell_type": "code",
   "execution_count": 24,
   "id": "7d2575e3-9656-4f89-8687-875a6c6d60ab",
   "metadata": {},
   "outputs": [
    {
     "data": {
      "image/png": "[encoded data removed]",
      "text/plain": [
       "<Figure size 432x288 with 1 Axes>"
      ]
     },
     "metadata": {
      "needs_background": "light"
     },
     "output_type": "display_data"
    }
   ],
   "source": [
    "plt.plot(np.arange(L_forecast_test) / LORENZ_LT * 0.01, mve_s_sigma[idx].mean(axis = 1)**2)\n",
    "plt.grid(\"on\")\n",
    "plt.xlabel(\"Lyapunov Time\")\n",
    "plt.ylabel(\"Variance\")\n",
    "plt.savefig(\"RC Noise MVE_Sample Variance.png\", facecolor = \"white\", bbox_inches = \"tight\")\n",
    "plt.show()"
   ]
  },
  {
   "cell_type": "markdown",
   "id": "09b92a55-24e3-4845-a376-50b939a7060b",
   "metadata": {},
   "source": [
    "## 5.2 MSE"
   ]
  },
  {
   "cell_type": "code",
   "execution_count": 25,
   "id": "1df34ea7-d2f0-401a-83b7-ccd51119111e",
   "metadata": {},
   "outputs": [
    {
     "data": {
      "image/png": "[encoded data removed]",
      "text/plain": [
       "<Figure size 432x288 with 1 Axes>"
      ]
     },
     "metadata": {
      "needs_background": "light"
     },
     "output_type": "display_data"
    },
    {
     "name": "stdout",
     "output_type": "stream",
     "text": [
      "It takes around 0.49 Lyapunov Time for mean error to exceed 0.5\n",
      "\n",
      "Median NRMSE at 0.5 Lyapunov Time: 0.503\n",
      "Median NRMSE at 1.0 Lyapunov Time: 0.772\n",
      "Median NRMSE at 2.0 Lyapunov Time: 0.955\n",
      "Median NRMSE at 5.0 Lyapunov Time: 0.992\n"
     ]
    }
   ],
   "source": [
    "res_single = PointExperimentResultLyapunov(mve_s_mean - y_test, \"lorenz\")\n",
    "res_single.plot_rmse(save_name = \"RC Noise MVE_Sample Horizon\")\n",
    "print()\n",
    "res_single.get_loss()"
   ]
  },
  {
   "cell_type": "markdown",
   "id": "8b86b89c-0b39-4d1b-9cc6-0e5786fe022f",
   "metadata": {},
   "source": [
    "## 5.3 Negative Log LH"
   ]
  },
  {
   "cell_type": "code",
   "execution_count": 26,
   "id": "d68437d2-6fb5-439d-a4c5-630c89bfa42f",
   "metadata": {},
   "outputs": [
    {
     "data": {
      "image/png": "[encoded data removed]",
      "text/plain": [
       "<Figure size 432x288 with 1 Axes>"
      ]
     },
     "metadata": {
      "needs_background": "light"
     },
     "output_type": "display_data"
    }
   ],
   "source": [
    "plt.plot((np.arange(L_forecast_test) / LORENZ_LT * 0.01)[1:], neg_log_LH(mve_s_mean, mve_s_sigma)[1:])\n",
    "plt.xlabel(\"Lyapunov Time\")\n",
    "plt.ylabel(\"Negative Log LH\")\n",
    "plt.grid(\"on\")\n",
    "plt.savefig(\"RC Noise MVE_Sample NLL.png\", facecolor = \"white\", bbox_inches = \"tight\")\n",
    "plt.show()"
   ]
  },
  {
   "cell_type": "code",
   "execution_count": 27,
   "id": "155011fc-d12d-4cc8-95a2-7e17a347f106",
   "metadata": {},
   "outputs": [
    {
     "name": "stdout",
     "output_type": "stream",
     "text": [
      "Mean negative log LH: 31.11593\n"
     ]
    }
   ],
   "source": [
    "print(f\"Mean negative log LH: {neg_log_LH(mve_s_mean, mve_s_sigma).mean():.5f}\")"
   ]
  }
 ],
 "metadata": {
  "kernelspec": {
   "display_name": "Python 3 (ipykernel)",
   "language": "python",
   "name": "python3"
  },
  "language_info": {
   "codemirror_mode": {
    "name": "ipython",
    "version": 3
   },
   "file_extension": ".py",
   "mimetype": "text/x-python",
   "name": "python",
   "nbconvert_exporter": "python",
   "pygments_lexer": "ipython3",
   "version": "3.8.12"
  }
 },
 "nbformat": 4,
 "nbformat_minor": 5
}
