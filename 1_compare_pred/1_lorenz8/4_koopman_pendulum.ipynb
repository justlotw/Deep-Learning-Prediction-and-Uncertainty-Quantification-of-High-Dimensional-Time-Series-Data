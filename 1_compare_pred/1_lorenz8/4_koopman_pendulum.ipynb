{
 "cells": [
  {
   "cell_type": "markdown",
   "id": "fdabc8cf-e497-42dc-bb98-707cf1fa8c2c",
   "metadata": {},
   "source": [
    "# Method: Koopman Autoencoders\n",
    "# Dataset: Lorenz-96, F = 8\n",
    "# Purpose: Prediction"
   ]
  },
  {
   "cell_type": "markdown",
   "id": "5d7d49e2-3352-4150-bc94-b37c31782e36",
   "metadata": {},
   "source": [
    "# 1. Set-up"
   ]
  },
  {
   "cell_type": "code",
   "execution_count": 2,
   "id": "24d4475a-ed06-4ee6-b528-832daa234ac2",
   "metadata": {},
   "outputs": [],
   "source": [
    "# GPU\n",
    "import os\n",
    "os.environ[\"CUDA_VISIBLE_DEVICES\"] = \"0\"\n",
    "\n",
    "# Package\n",
    "import sys\n",
    "sys.path.append(\"../..\")"
   ]
  },
  {
   "cell_type": "code",
   "execution_count": 3,
   "id": "88b81b00-4561-4afa-a70f-416e8e9a553a",
   "metadata": {},
   "outputs": [],
   "source": [
    "from create_data import load_data, TSData\n",
    "from utils import * # Number of testing samples\n",
    "import numpy as np\n",
    "import matplotlib.pyplot as plt\n",
    "from time import time, localtime, strftime\n",
    "\n",
    "from functools import partial\n",
    "\n",
    "import jax\n",
    "from jax import jit, value_and_grad\n",
    "import jax.numpy as jnp\n",
    "from jax import random\n",
    "from jax.example_libraries import optimizers\n",
    "import jax.example_libraries.stax as stax\n",
    "from jax.example_libraries.stax import Dense, Relu, Tanh\n",
    "from jax.nn.initializers import glorot_normal\n",
    "\n",
    "from scipy.integrate import odeint "
   ]
  },
  {
   "cell_type": "code",
   "execution_count": 4,
   "id": "2796341e-dce0-4102-83fb-7bd834ae879b",
   "metadata": {},
   "outputs": [],
   "source": [
    "SEED = 42"
   ]
  },
  {
   "cell_type": "markdown",
   "id": "7d6465a2-bc1c-450f-a6d1-89c8d0588e17",
   "metadata": {},
   "source": [
    "## Pendulum Model"
   ]
  },
  {
   "cell_type": "code",
   "execution_count": 5,
   "id": "2728aba6-678d-41cf-9a38-8719290ee3ff",
   "metadata": {},
   "outputs": [],
   "source": [
    "def pendulum(time_step, num_points, theta_0):\n",
    "    def model(x, t):\n",
    "        theta, u = x\n",
    "        dtheta = u\n",
    "        du = -9.8 * np.sin(theta)\n",
    "        dxdt = [dtheta, du]\n",
    "        return dxdt\n",
    "    x0 = [theta_0, 0]\n",
    "    t = np.linspace(0, num_points*time_step, num_points)\n",
    "    xns = odeint(model, x0, t)\n",
    "    \n",
    "    return xns, t"
   ]
  },
  {
   "cell_type": "code",
   "execution_count": 6,
   "id": "e3da8914-cdf9-4c71-955f-1617ae190b4b",
   "metadata": {},
   "outputs": [],
   "source": [
    "num_pts = 100000 \n",
    "xns, t = pendulum(0.01, num_pts, 2.8)"
   ]
  },
  {
   "cell_type": "code",
   "execution_count": 7,
   "id": "6ab9efc9-552f-492c-b177-0f6e82612225",
   "metadata": {},
   "outputs": [],
   "source": [
    "output_dim = 64 # Map to higher dimension\n",
    "P = np.random.normal(size = (output_dim , 2))\n",
    "Q, R = np.linalg.qr(P)"
   ]
  },
  {
   "cell_type": "code",
   "execution_count": 8,
   "id": "7e764493-3011-4c91-a7c4-84e8883f1449",
   "metadata": {},
   "outputs": [],
   "source": [
    "data_mapped = xns[::5] @ Q.T\n",
    "data_space = np.arange(0, 64)\n",
    "data_time = t[::5]\n",
    "num_pts = data_mapped.shape[0]"
   ]
  },
  {
   "cell_type": "code",
   "execution_count": 9,
   "id": "6c9ee944-943f-484e-8525-78ce19773664",
   "metadata": {},
   "outputs": [],
   "source": [
    "train = TSData(\"Pendulum Train\", data = data_mapped[:num_pts//2], space = data_space, time = data_time)\n",
    "test =  TSData(\"Pendulum Test\", data = data_mapped[num_pts//2:], space = data_space, time = data_time)"
   ]
  },
  {
   "cell_type": "code",
   "execution_count": 10,
   "id": "df58eab1-5e32-4410-85bc-78af8982685e",
   "metadata": {},
   "outputs": [
    {
     "name": "stdout",
     "output_type": "stream",
     "text": [
      "Train size: (10000, 64)\n",
      "Test size: (10000, 64)\n"
     ]
    }
   ],
   "source": [
    "print(f\"Train size: {train.data.shape}\")\n",
    "print(f\"Test size: {test.data.shape}\")"
   ]
  },
  {
   "cell_type": "markdown",
   "id": "1842f921-f209-4d16-a178-4008444eef3d",
   "metadata": {},
   "source": [
    "**Create test set**"
   ]
  },
  {
   "cell_type": "code",
   "execution_count": 11,
   "id": "b3a2cf78-a386-4eac-b85b-18b69884ac4c",
   "metadata": {},
   "outputs": [],
   "source": [
    "L_forecast_test = 400   # steps to forecast forward (when testing)"
   ]
  },
  {
   "cell_type": "code",
   "execution_count": 12,
   "id": "0c60c9fe-b4e2-46fa-8c08-46b8ec92fc8e",
   "metadata": {},
   "outputs": [],
   "source": [
    "np.random.seed(1)\n",
    "\n",
    "data_test = test.data\n",
    "\n",
    "T_test, data_dim = data_test.shape\n",
    "possible_idx = T_test - (L_forecast_test + 1) # minus number of steps forward, and the warm-up period\n",
    "T_indices = np.random.randint(0, possible_idx, size = NUM_TEST)\n",
    "\n",
    "t_past_batch = np.repeat(T_indices[:, None], WARM_UP_TEST, axis = 1).astype(int) # 200 warmup \n",
    "t_pred_batch = (T_indices[:, None] + np.arange(1, 1 + L_forecast_test)[None, :].astype(int))\n",
    "\n",
    "X_test = data_test[t_past_batch]\n",
    "y_test = data_test[t_pred_batch]"
   ]
  },
  {
   "cell_type": "code",
   "execution_count": 13,
   "id": "5a6aaf56-e15c-4197-89ad-6113d3d5cec8",
   "metadata": {},
   "outputs": [
    {
     "name": "stdout",
     "output_type": "stream",
     "text": [
      "Test input size: (100, 2000, 64)\n",
      "Test output size: (100, 400, 64)\n"
     ]
    }
   ],
   "source": [
    "print(f\"Test input size: {X_test.shape}\")  # Number of test points x input length x dim\n",
    "print(f\"Test output size: {y_test.shape}\") # Number of test points x horizon x dim"
   ]
  },
  {
   "cell_type": "markdown",
   "id": "f7ecee83-99c7-4151-b5ed-b986906ea545",
   "metadata": {},
   "source": [
    "# 2. Koopman Autoencoder Implementation"
   ]
  },
  {
   "cell_type": "code",
   "execution_count": 13,
   "id": "721103ec-80c9-4936-8cf1-2be5b778940e",
   "metadata": {},
   "outputs": [],
   "source": [
    "def Dense_no_bias(out_dim, W_init = glorot_normal()):\n",
    "    \"\"\"Layer constructor function for a dense (fully-connected) layer.\"\"\"\n",
    "    def init_fun(rng, input_shape):\n",
    "        output_shape = input_shape[:-1] + (out_dim,)\n",
    "        k1, k2 = random.split(rng)\n",
    "        W = W_init(k1, (input_shape[-1], out_dim))\n",
    "        return output_shape, W\n",
    "    def apply_fun(params, inputs, **kwargs):\n",
    "        W = params\n",
    "        return jnp.dot(inputs, W)\n",
    "    return init_fun, apply_fun"
   ]
  },
  {
   "cell_type": "code",
   "execution_count": 14,
   "id": "88b22ef9-6d50-4872-a8f2-b0b07d8eadaa",
   "metadata": {},
   "outputs": [],
   "source": [
    "def get_params(hidden_state_list, max_lag, lambda_list, seed, batch_size, num_epoch, lr_schedule, \n",
    "               early_stopping = EARLY_STOPPING):\n",
    "    assert len(num_epoch) == len(lr_schedule)\n",
    "    \n",
    "    def create_network():\n",
    "        encoder_init, encoder = stax.serial(\n",
    "            Dense(p1), Tanh,  \n",
    "            Dense(p2), Tanh,\n",
    "            Dense(p3), Tanh,\n",
    "            Dense(kappa))\n",
    "        decoder_init, decoder = stax.serial(\n",
    "            Dense(p3), Tanh,\n",
    "            Dense(p2), Tanh,\n",
    "            Dense(p1), Tanh,\n",
    "            Dense(data_dim))\n",
    "        forward_init, forward = stax.serial(\n",
    "            Dense_no_bias(kappa))\n",
    "        backward_init, backward = stax.serial(\n",
    "            Dense_no_bias(kappa))\n",
    "\n",
    "        # initialization\n",
    "        enc_init_rng, dec_init_rng, forward_init_rng, backward_init_rng = random.split(key, num = 4)\n",
    "\n",
    "        enc_in_shape = (-1, data_dim)\n",
    "        dec_in_shape = (-1, kappa)\n",
    "        forward_in_shape = (-1, kappa)\n",
    "        backward_in_shape = (-1, kappa)\n",
    "        _, enc_params = encoder_init(enc_init_rng, enc_in_shape)\n",
    "        _, dec_params = decoder_init(dec_init_rng, dec_in_shape)\n",
    "        _, fwd_params = forward_init(forward_init_rng, forward_in_shape)\n",
    "        _, bwd_params = backward_init(backward_init_rng, backward_in_shape)\n",
    "\n",
    "        network = (encoder, decoder, forward, backward)\n",
    "        params = (enc_params, dec_params, fwd_params, bwd_params)\n",
    "        return network, params\n",
    "    \n",
    "    def training(init_params):\n",
    "        @jit\n",
    "        def loss(params, batch):\n",
    "            \"\"\"\n",
    "            each batch has dimension Batch_size x (max_lag+1) x dim\n",
    "            \"\"\"\n",
    "            # unpack parameters\n",
    "            enc_params, dec_params, fwd_params, bwd_params = params\n",
    "            lambda_id, lambda_fwd, lambda_bwd, lambda_con = lambda_list\n",
    "\n",
    "            loss_id, loss_fwd, loss_bwd, loss_con = 0, 0, 0, 0\n",
    "\n",
    "            # AUTOENCODER\n",
    "            f_start = batch[:,0,:]\n",
    "            f_target = batch[:,0,:]\n",
    "            f_encoded = encoder(enc_params, f_start)\n",
    "            f_predict = decoder(dec_params, f_encoded)\n",
    "            loss_id = 0.5 * jnp.mean((f_predict - f_target)**2)\n",
    "\n",
    "            # FORWARD\n",
    "            f_start = batch[:,0,:]\n",
    "            f_encoded = encoder(enc_params, f_start)\n",
    "            for t_steps in range(1, max_lag+ 1):\n",
    "                # simulate forward\n",
    "                f_encoded = forward(fwd_params, f_encoded)\n",
    "                f_predict = decoder(dec_params, f_encoded)\n",
    "                f_target = batch[:,t_steps,:]\n",
    "                loss_fwd += 0.5 * jnp.mean((f_predict - f_target)**2)\n",
    "\n",
    "            loss_fwd = loss_fwd / max_lag\n",
    "\n",
    "            # BACKWARD\n",
    "            f_start = batch[:,-1,:]\n",
    "            f_encoded = encoder(enc_params, f_start)\n",
    "            for t_steps in range(1, max_lag + 1):\n",
    "                f_encoded = backward(bwd_params, f_encoded)\n",
    "                f_predict = decoder(dec_params, f_encoded)\n",
    "                f_target = batch[:,-t_steps-1,:]\n",
    "                loss_bwd += 0.5 * jnp.mean((f_predict - f_target)**2)\n",
    "\n",
    "            loss_bwd = loss_bwd / max_lag\n",
    "\n",
    "            # CONSISTENT\n",
    "            for k in range(1, kappa + 1):\n",
    "                C_upper = fwd_params[0][:k, :]\n",
    "                D_left = bwd_params[0][:, :k]\n",
    "                C_left = fwd_params[0][:, :k]\n",
    "                D_upper = bwd_params[0][:k, :]\n",
    "\n",
    "                I_k = jnp.identity(k)\n",
    "\n",
    "                loss_con += (jnp.sum((D_upper @ C_left - I_k)**2) + jnp.sum((C_upper @ D_left - I_k)**2)) / (2 * k)\n",
    "\n",
    "            return lambda_id * loss_id + lambda_fwd * loss_fwd + lambda_bwd * loss_bwd + lambda_con * loss_con\n",
    "    \n",
    "        @jit\n",
    "        def step(i, opt_state, batch):\n",
    "            params = get_params(opt_state)\n",
    "            value, g = value_and_grad(loss)(params, batch)\n",
    "            opt_state = opt_update(i, g, opt_state)\n",
    "            return get_params(opt_state), opt_state, value\n",
    "        \n",
    "        def make_forecast(params, batch, L_forecast):\n",
    "            enc_params, dec_params, fwd_params, bwd_params = params\n",
    "\n",
    "            preds = []\n",
    "            f_start = batch[:, 0, :]\n",
    "            f_encoded = encoder(enc_params, f_start)\n",
    "            for t in range(L_forecast):\n",
    "                f_encoded = forward(fwd_params, f_encoded)\n",
    "                f_predict = decoder(dec_params, f_encoded)\n",
    "                preds.append(f_predict)\n",
    "            return np.swapaxes(preds, 0, 1)      \n",
    "        \n",
    "        def mse(params, x_batch, y_truth):\n",
    "            \"\"\"\n",
    "            For each time-series in a batch, forecasts over a finite horizon \n",
    "            and compute the MSE. Primarily used for validation calculation\n",
    "\n",
    "            args:\n",
    "            ====\n",
    "             params: neural parameters\n",
    "             x_batch: a batch of inputs with dimension (batch_size, T_past, dim_data)\n",
    "             y_truth: a batch of values to forecasts with dimension (batch_size, T_future, dim_data)\n",
    "\n",
    "            outputs:\n",
    "            =======\n",
    "             MSE: MSE between forecasts and targets\n",
    "            \"\"\"\n",
    "\n",
    "            # horizon of the forecast\n",
    "            L_forecast = y_truth.shape[1]    \n",
    "            y_pred = make_forecast(params, x_batch, L_forecast_test)\n",
    "            \n",
    "            #compute MSE\n",
    "            error = y_pred - y_truth\n",
    "            mu_loss = np.mean(error**2)\n",
    "            return mu_loss \n",
    "        \n",
    "        start = time()\n",
    "        best_params = init_params\n",
    "        overall_best_mse = 99999999\n",
    "        \n",
    "        # train/val split\n",
    "        t_size = int(0.9 * train_size)\n",
    "        v_size = train_size - t_size\n",
    "        T_indices_val = np.arange(t_size, train_size - (L_forecast_test + max_lag))\n",
    "        t_start_val = T_indices_val[::10]\n",
    "        t_past_batch_val = (t_start_val[:,None] + np.arange(max_lag)[None,:]).astype(int) \n",
    "        t_pred_batch_val = (t_start_val[:,None] + np.arange(max_lag, max_lag + L_forecast_test)[None,:]).astype(int) \n",
    "        x_val = x[t_past_batch_val]\n",
    "        y_val = y[t_pred_batch_val]\n",
    "        \n",
    "        print(\"Backpropogation start\", end = \"\\n\\n\")\n",
    "        for i, lr in enumerate(lr_schedule):\n",
    "            opt_init, opt_update, get_params = optimizers.adam(step_size = lr) \n",
    "            opt_state = opt_init(best_params)\n",
    "            counter = 0\n",
    "            best_mse = 999999999\n",
    "            \n",
    "            for epoch in range(num_epoch[i]):\n",
    "                e_start = time()\n",
    "                \n",
    "                # randomize the order of the data\n",
    "                T_indices = np.arange(t_size - max_lag - 1)\n",
    "                np.random.shuffle(T_indices)\n",
    "                \n",
    "                # training\n",
    "                loss_epoch_train = []\n",
    "                \n",
    "                for k in range(t_size // batch_size + 1):\n",
    "                    # create a batch of data\n",
    "                    t_start = T_indices[np.arange(k*batch_size, (k+1)*batch_size).astype(int) % len(T_indices)] # start of each time series in the batch\n",
    "\n",
    "                    # create 2d array of dimension (batch_size, max_lag + 1) containing all the time indices\n",
    "                    t_batch = (t_start[:,None] + np.arange(max_lag + 1)[None,:]).astype(int) # transposes data\n",
    "\n",
    "                    #create batch of dimension (batch_size,  max_lag + 1, data_dim)\n",
    "                    x_batch = x[t_batch]  \n",
    "\n",
    "                    params, opt_state, loss_current = step(k, opt_state, x_batch)\n",
    "                    loss_epoch_train.append(loss_current.item())\n",
    "                \n",
    "                mse_train = np.mean(loss_epoch_train)\n",
    "\n",
    "                # validation\n",
    "                mse_val = mse(params, x_val, y_val)\n",
    "                \n",
    "                if best_mse > mse_val: # Improvement\n",
    "                    counter = 0\n",
    "                    best_mse = mse_val\n",
    "                    best_params = params\n",
    "                else:\n",
    "                    counter += 1\n",
    "                \n",
    "                e_end = time()\n",
    "                if (epoch + 1) % 10 == 0 or (counter == 0 and epoch >= 30):\n",
    "                    print(f\"Epoch {epoch + 1}: Time taken = {e_end - e_start:.2f} | Train loss = {mse_train:.7f} | Val loss = {mse_val: .7f}\")\n",
    "                if counter >= early_stopping:\n",
    "                    print(f\"EARLY STOPPING. Epoch {epoch + 1}: Train loss = {mse_train:.7f} | Val loss = {mse_val: .7f}\")\n",
    "                    break\n",
    "            \n",
    "            print(f\"Best Validation MSE: {best_mse:.7f}\")\n",
    "            \n",
    "            if best_mse < overall_best_mse: # Best round so far\n",
    "                print(\"IMPROVED VALIDATION MSE\")\n",
    "                overall_best_mse = best_mse\n",
    "                overall_best_params = best_params\n",
    "            print()\n",
    "            \n",
    "        end = time()\n",
    "        print(f\"Total time: {end - start:.2f}\")\n",
    "\n",
    "        return overall_best_params\n",
    "            \n",
    "    start = time()\n",
    "    x, y = train.data[:-1], train.data[1:]\n",
    "    train_size, data_dim = x.data.shape\n",
    "    p1, p2, p3, kappa = hidden_state_list # 4 layers (including bottleneck)\n",
    "        \n",
    "    np.random.seed(seed)\n",
    "    key = jax.random.PRNGKey(seed)\n",
    "    \n",
    "    (encoder, decoder, forward, backward), params = create_network()\n",
    "    final_params = training(params)\n",
    "    \n",
    "    return final_params, (encoder, decoder, forward, backward)"
   ]
  },
  {
   "cell_type": "code",
   "execution_count": 15,
   "id": "7b99c391-5033-47f2-ae48-59ed1558415f",
   "metadata": {},
   "outputs": [],
   "source": [
    "def get_test_pred(data_test, params, network):\n",
    "    start = time()\n",
    "    \n",
    "    (encoder, decoder, forward, backward) = network\n",
    "    enc_params, dec_params, fwd_params, bwd_params = params\n",
    "    \n",
    "    num_data_test, L_past, data_dim = data_test.shape # testing ex, # steps used before, dim of data\n",
    "\n",
    "    preds = []\n",
    "    f_start = data_test[:, 0, :]\n",
    "    f_encoded = encoder(enc_params, f_start)\n",
    "    for t in range(L_forecast_test):\n",
    "        f_encoded = forward(fwd_params, f_encoded)\n",
    "        f_predict = decoder(dec_params, f_encoded)\n",
    "        preds.append(f_predict)\n",
    "\n",
    "    return np.swapaxes(preds, 0, 1)"
   ]
  },
  {
   "cell_type": "markdown",
   "id": "2a6ecb46-4958-4215-ab35-0257e4bc39ef",
   "metadata": {},
   "source": [
    "# 3. Parameter tuning\n",
    "\n",
    "There are 3 parameters to tune\n",
    "- hidden_size - size of the hidden layer\n",
    "- max_lag - Number of steps calculated for forward and backward dynamics\n",
    "- loss_weights - [encoder, forward, backward, consistent] loss"
   ]
  },
  {
   "cell_type": "markdown",
   "id": "54b4a909-3cf2-4c84-8b86-ad44cd22e205",
   "metadata": {},
   "source": [
    "## 3.1 hidden_size"
   ]
  },
  {
   "cell_type": "markdown",
   "id": "fc1f0ba4-551c-4333-9897-bd702d07b10f",
   "metadata": {},
   "source": [
    "**Parameters**\n",
    "- hidden_size varied\n",
    "- max_lag = 8\n",
    "- loss_weights = [1, 1, 0.1, 0.01]"
   ]
  },
  {
   "cell_type": "code",
   "execution_count": 16,
   "id": "766619cb-6b05-44e6-bce0-db7b19c02ee2",
   "metadata": {},
   "outputs": [],
   "source": [
    "max_lag = 8\n",
    "loss_weights = [1, 1, .1, .01]\n",
    "\n",
    "batch_size = 128\n",
    "epoch_list = [50, 50, 50]\n",
    "lr_list = [1e-3, 1e-4, 1e-5]"
   ]
  },
  {
   "cell_type": "code",
   "execution_count": 17,
   "id": "a34d2ada-1ac8-4913-8c4e-3a83847d65f6",
   "metadata": {},
   "outputs": [],
   "source": [
    "res_folder = os.path.join(\"results\", \"koopman\")"
   ]
  },
  {
   "cell_type": "markdown",
   "id": "82308a19-e6d4-497b-bd19-a5e1daf727fc",
   "metadata": {},
   "source": [
    "### 3.1.1 hidden_size = [32, 16, 16, 8]"
   ]
  },
  {
   "cell_type": "code",
   "execution_count": 30,
   "id": "84571810-799b-4159-8023-3ded2ededf00",
   "metadata": {},
   "outputs": [],
   "source": [
    "hidden_size = [32, 16, 16, 8]"
   ]
  },
  {
   "cell_type": "code",
   "execution_count": 31,
   "id": "f0203ba0-f824-4bbe-acbf-8c430bc0f843",
   "metadata": {},
   "outputs": [
    {
     "name": "stdout",
     "output_type": "stream",
     "text": [
      "Backpropogation start\n",
      "\n",
      "Epoch 10: Time taken = 0.26 | Train loss = 0.0343267 | Val loss =  0.1669867\n",
      "Epoch 20: Time taken = 0.25 | Train loss = 0.0122821 | Val loss =  0.1368343\n",
      "Epoch 30: Time taken = 0.25 | Train loss = 0.0062667 | Val loss =  0.1336581\n",
      "Epoch 40: Time taken = 0.25 | Train loss = 0.0040145 | Val loss =  0.1388366\n",
      "Epoch 50: Time taken = 0.27 | Train loss = 0.0026783 | Val loss =  0.1417522\n",
      "Best Validation MSE: 0.1281605\n",
      "IMPROVED VALIDATION MSE\n",
      "\n",
      "Epoch 10: Time taken = 0.26 | Train loss = 0.0018914 | Val loss =  0.1199515\n",
      "Epoch 20: Time taken = 0.26 | Train loss = 0.0000813 | Val loss =  0.1168146\n",
      "Epoch 30: Time taken = 0.25 | Train loss = 0.0000111 | Val loss =  0.1205877\n",
      "Epoch 40: Time taken = 0.26 | Train loss = 0.0000070 | Val loss =  0.1199240\n",
      "EARLY STOPPING. Epoch 43: Train loss = 0.0000085 | Val loss =  0.1192416\n",
      "Best Validation MSE: 0.1139587\n",
      "IMPROVED VALIDATION MSE\n",
      "\n",
      "Epoch 10: Time taken = 0.26 | Train loss = 0.0000201 | Val loss =  0.1174106\n",
      "Epoch 20: Time taken = 0.27 | Train loss = 0.0000123 | Val loss =  0.1196715\n",
      "Epoch 30: Time taken = 0.27 | Train loss = 0.0000081 | Val loss =  0.1194146\n",
      "EARLY STOPPING. Epoch 31: Train loss = 0.0000079 | Val loss =  0.1181782\n",
      "Best Validation MSE: 0.1141930\n",
      "\n",
      "Total time: 37.99\n"
     ]
    }
   ],
   "source": [
    "params, network = get_params(hidden_size, max_lag, loss_weights, SEED, batch_size, epoch_list, lr_list)"
   ]
  },
  {
   "cell_type": "code",
   "execution_count": 62,
   "id": "272d3ff7-77dd-4ece-bf19-7b8f030217fd",
   "metadata": {},
   "outputs": [],
   "source": [
    "mean_pred = get_test_pred(X_test, params, network)"
   ]
  },
  {
   "cell_type": "code",
   "execution_count": 66,
   "id": "1aced831-7779-4708-ba8c-88006341dce2",
   "metadata": {},
   "outputs": [],
   "source": [
    "class PointExperimentResult():\n",
    "    \"\"\"\n",
    "    Valid for point estimate (only performing prediction of next point)\n",
    "    \"\"\"\n",
    "    def __init__(self, test_error, details, params = None):\n",
    "        self.params = params\n",
    "        self.error = test_error    \n",
    "        self.details = details\n",
    "        self.rmse = np.sqrt(np.mean(self.error**2, axis=2))\n",
    "        self.quantile_list = None\n",
    "        \n",
    "    def get_rmse(self):\n",
    "        return self.rmse\n",
    "    \n",
    "    def plot_rmse(self, error_thresh = 1, dt = 0.01):\n",
    "        if self.quantile_list is None:\n",
    "            self.quantile_list = np.quantile(self.rmse, q = [0.25,0.50,0.75], axis=0)\n",
    "            \n",
    "        L_forecast = self.error.shape[1]\n",
    "\n",
    "        plt.fill_between(x = np.arange(L_forecast) * dt,\n",
    "                         y1 = self.quantile_list[0,:],\n",
    "                         y2 = self.quantile_list[2,:],\n",
    "                         color=\"red\",\n",
    "                         alpha=0.5)\n",
    "        plt.plot(np.arange(L_forecast) * dt, self.quantile_list[1,:], \"b-\", lw = 3)\n",
    "        plt.grid(True)\n",
    "        plt.axhline(error_thresh, c = \"r\", ls = \"--\")\n",
    "        plt.ylabel(\"NRMSE\")\n",
    "        plt.yscale(\"log\")\n",
    "        plt.xlabel(\"Forecast Horizon (seconds)\")                \n",
    "        plt.show()\n",
    "        \n",
    "        first_max = np.argmax(self.quantile_list[1, :] > error_thresh)\n",
    "        print(f\"It takes around t = {first_max * dt:.2f} for mean error to exceed {error_thresh}\")\n",
    "\n",
    "    def get_loss(self, time, dt = 0.01):\n",
    "        if self.quantile_list is None:\n",
    "            raise Exception(\"Quantiles not generated. Run plot_rmse first\")\n",
    "        median = self.quantile_list[1, :]\n",
    "        if type(time) == float or type(time) == int:\n",
    "            print(f\"Median NRMSE at t = {time}: {median[int(time / dt)]:.3f}\")\n",
    "        else:\n",
    "            for t in time:\n",
    "                print(f\"Median NRMSE at t = {t}: {median[int(t / dt)]:.3f}\")"
   ]
  },
  {
   "cell_type": "code",
   "execution_count": 67,
   "id": "38733066-5c98-4f62-8cc5-12afc46dc6dd",
   "metadata": {},
   "outputs": [
    {
     "data": {
      "image/png": "[encoded data removed]",
      "text/plain": [
       "<Figure size 432x288 with 1 Axes>"
      ]
     },
     "metadata": {
      "needs_background": "light"
     },
     "output_type": "display_data"
    },
    {
     "name": "stdout",
     "output_type": "stream",
     "text": [
      "It takes around t = 0.00 for mean error to exceed 0.25\n",
      "\n",
      "Median NRMSE at t = 0.5: 0.007\n",
      "Median NRMSE at t = 1: 0.007\n",
      "Median NRMSE at t = 2: 0.018\n",
      "Median NRMSE at t = 3: 0.023\n"
     ]
    }
   ],
   "source": [
    "desc_name = \"koopman_autoencoder\"\n",
    "res_single = PointExperimentResult(mean_pred - y_test, desc_name)\n",
    "res_single.plot_rmse(error_thresh = .25, dt = .05)\n",
    "print()\n",
    "res_single.get_loss([.5, 1, 2, 3], dt = .05)"
   ]
  },
  {
   "cell_type": "code",
   "execution_count": 23,
   "id": "28fc5107-58e4-4f71-99e3-61b29c1bd4d6",
   "metadata": {},
   "outputs": [],
   "source": [
    "idx = 0"
   ]
  },
  {
   "cell_type": "code",
   "execution_count": 69,
   "id": "5e7967b5-0ef1-46e7-b42b-02b20336cca6",
   "metadata": {},
   "outputs": [
    {
     "data": {
      "image/png": "[encoded data removed]",
      "text/plain": [
       "<Figure size 432x288 with 1 Axes>"
      ]
     },
     "metadata": {
      "needs_background": "light"
     },
     "output_type": "display_data"
    }
   ],
   "source": [
    "plt.plot((mean_pred @ Q)[idx][:, 0], (mean_pred @ Q)[idx][:, 1], label = \"Prediction\")\n",
    "plt.plot((y_test @ Q)[idx][:, 0], (y_test @ Q)[idx][:, 1], label = \"Actual\")\n",
    "plt.title(\"$\\Theta$ against $\\dot{\\Theta}$\")\n",
    "plt.xlabel(\"$\\Theta$\")\n",
    "plt.ylabel(\"$\\dot{\\Theta}$\")\n",
    "plt.legend(loc = 1)\n",
    "plt.savefig(\"Figure3-9_Koopman_Pendulum.png\", facecolor = \"white\", bbox_inches = \"tight\")\n",
    "plt.show()"
   ]
  },
  {
   "cell_type": "code",
   "execution_count": null,
   "id": "8d50ce5c-4503-4fe1-8dcc-1efcf5884960",
   "metadata": {},
   "outputs": [],
   "source": []
  },
  {
   "cell_type": "markdown",
   "id": "10fc0175-6a34-40ed-8505-2e40ce0fefaa",
   "metadata": {},
   "source": [
    "# 3. Parameter tuning\n",
    "\n",
    "There are 3 parameters to tune\n",
    "- hidden_size - size of the hidden layer\n",
    "- max_lag - Number of steps calculated for forward and backward dynamics\n",
    "- loss_weights - [encoder, forward, backward, consistent] loss"
   ]
  },
  {
   "cell_type": "markdown",
   "id": "36c018eb-deca-4252-8871-1f0804a6b1ff",
   "metadata": {},
   "source": [
    "## 3.1 hidden_size"
   ]
  },
  {
   "cell_type": "markdown",
   "id": "a33a2fdd-75c3-477c-b0b3-807bb1c656d1",
   "metadata": {},
   "source": [
    "**Parameters**\n",
    "- hidden_size varied\n",
    "- max_lag = 8\n",
    "- loss_weights = [1, 1, 0.1, 0.01]"
   ]
  },
  {
   "cell_type": "code",
   "execution_count": 16,
   "id": "315bc451-1f8d-4a75-bcf3-e0579721d4e2",
   "metadata": {},
   "outputs": [],
   "source": [
    "max_lag = 8\n",
    "loss_weights = [1, 1, .1, .01]\n",
    "\n",
    "batch_size = 128\n",
    "epoch_list = [50, 50, 50]\n",
    "lr_list = [1e-3, 1e-4, 1e-5]"
   ]
  },
  {
   "cell_type": "code",
   "execution_count": 17,
   "id": "7dda7cad-e1dd-4f96-9c8e-fb55602fdbe3",
   "metadata": {},
   "outputs": [],
   "source": [
    "res_folder = os.path.join(\"results\", \"koopman\")"
   ]
  },
  {
   "cell_type": "markdown",
   "id": "7c438b6f-b658-41ab-ba08-b6e5e831dcb8",
   "metadata": {},
   "source": [
    "### 3.1.1 hidden_size = [32, 16, 16, 8]"
   ]
  },
  {
   "cell_type": "code",
   "execution_count": 18,
   "id": "f24a3d53-b332-4cf3-8676-3d7e69043680",
   "metadata": {},
   "outputs": [],
   "source": [
    "hidden_size = [32, 16, 16, 8]"
   ]
  },
  {
   "cell_type": "code",
   "execution_count": 19,
   "id": "22dcecfb-21a5-45f0-8a55-54a2b35c9a20",
   "metadata": {},
   "outputs": [
    {
     "name": "stdout",
     "output_type": "stream",
     "text": [
      "Backpropogation start\n",
      "\n",
      "Epoch 10: Time taken = 0.44 | Train loss = 0.0328342 | Val loss =  0.4440373\n",
      "Epoch 20: Time taken = 0.45 | Train loss = 0.0116762 | Val loss =  0.2268128\n",
      "Epoch 30: Time taken = 0.46 | Train loss = 0.0048229 | Val loss =  0.2962941\n",
      "Epoch 40: Time taken = 0.47 | Train loss = 0.0023919 | Val loss =  0.3227347\n",
      "Epoch 50: Time taken = 0.46 | Train loss = 0.0011718 | Val loss =  0.2942206\n",
      "Best Validation MSE: 0.2263330\n",
      "IMPROVED VALIDATION MSE\n",
      "\n",
      "Epoch 10: Time taken = 0.62 | Train loss = 0.0016314 | Val loss =  0.2760764\n",
      "Epoch 20: Time taken = 0.51 | Train loss = 0.0002567 | Val loss =  0.2209497\n",
      "Epoch 30: Time taken = 0.47 | Train loss = 0.0000262 | Val loss =  0.0623064\n",
      "Epoch 40: Time taken = 0.47 | Train loss = 0.0000108 | Val loss =  0.1279143\n",
      "Epoch 50: Time taken = 0.47 | Train loss = 0.0000090 | Val loss =  0.1908666\n",
      "Best Validation MSE: 0.0418775\n",
      "IMPROVED VALIDATION MSE\n",
      "\n",
      "Epoch 10: Time taken = 0.48 | Train loss = 0.0000166 | Val loss =  0.0751928\n",
      "Epoch 20: Time taken = 0.45 | Train loss = 0.0000108 | Val loss =  0.1101202\n",
      "Epoch 30: Time taken = 0.47 | Train loss = 0.0000077 | Val loss =  0.1253339\n",
      "EARLY STOPPING. Epoch 31: Train loss = 0.0000073 | Val loss =  0.1363427\n",
      "Best Validation MSE: 0.0415274\n",
      "IMPROVED VALIDATION MSE\n",
      "\n",
      "Total time: 69.69\n"
     ]
    }
   ],
   "source": [
    "params, network = get_params(hidden_size, max_lag, loss_weights, SEED, batch_size, epoch_list, lr_list)"
   ]
  },
  {
   "cell_type": "code",
   "execution_count": 20,
   "id": "e998955c-ba12-4944-b80d-a3b838e321eb",
   "metadata": {},
   "outputs": [],
   "source": [
    "mean_pred = get_test_pred(X_test, params, network)"
   ]
  },
  {
   "cell_type": "code",
   "execution_count": 44,
   "id": "154a2cdb-5c7b-4320-bc16-83c156af92bc",
   "metadata": {},
   "outputs": [],
   "source": [
    "class PointExperimentResult():\n",
    "    \"\"\"\n",
    "    Valid for point estimate (only performing prediction of next point)\n",
    "    \"\"\"\n",
    "    def __init__(self, test_error, details, params = None):\n",
    "        self.params = params\n",
    "        self.error = test_error    \n",
    "        self.details = details\n",
    "        self.rmse = np.sqrt(np.mean(self.error**2, axis=2))\n",
    "        self.quantile_list = None\n",
    "        \n",
    "    def get_rmse(self):\n",
    "        return self.rmse\n",
    "    \n",
    "    def plot_rmse(self, error_thresh = 1, dt = 0.01):\n",
    "        if self.quantile_list is None:\n",
    "            self.quantile_list = np.quantile(self.rmse, q = [0.25,0.50,0.75], axis=0)\n",
    "            \n",
    "        L_forecast = self.error.shape[1]\n",
    "\n",
    "        plt.fill_between(x = np.arange(L_forecast) * dt,\n",
    "                         y1 = self.quantile_list[0,:],\n",
    "                         y2 = self.quantile_list[2,:],\n",
    "                         color=\"red\",\n",
    "                         alpha=0.5)\n",
    "        plt.plot(np.arange(L_forecast) * dt, self.quantile_list[1,:], \"b-\", lw = 3)\n",
    "        plt.grid(True)\n",
    "        plt.axhline(error_thresh, c = \"r\", ls = \"--\")\n",
    "        plt.ylabel(\"NRMSE\")\n",
    "        plt.xlabel(\"Forecast Horizon (seconds)\")                \n",
    "        # plt.savefig(\"Koopman_Pendulum_PH.png\", facecolor = \"white\", bbox_inches = \"tight\")\n",
    "        plt.show()\n",
    "        \n",
    "        first_max = np.argmax(self.quantile_list[1, :] > error_thresh)\n",
    "        print(f\"It takes around t = {first_max * dt:.2f} for mean error to exceed {error_thresh}\")\n",
    "\n",
    "    def get_loss(self, time, dt = 0.01):\n",
    "        if self.quantile_list is None:\n",
    "            raise Exception(\"Quantiles not generated. Run plot_rmse first\")\n",
    "        median = self.quantile_list[1, :]\n",
    "        if type(time) == float or type(time) == int:\n",
    "            print(f\"Median NRMSE at t = {time}: {median[int(time / dt)]:.3f}\")\n",
    "        else:\n",
    "            for t in time:\n",
    "                print(f\"Median NRMSE at t = {t}: {median[int(t / dt)]:.3f}\")"
   ]
  },
  {
   "cell_type": "code",
   "execution_count": 45,
   "id": "65a9a466-33ac-49e9-bc8d-db7039e3f25e",
   "metadata": {},
   "outputs": [
    {
     "data": {
      "image/png": "[encoded data removed]",
      "text/plain": [
       "<Figure size 432x288 with 1 Axes>"
      ]
     },
     "metadata": {
      "needs_background": "light"
     },
     "output_type": "display_data"
    },
    {
     "name": "stdout",
     "output_type": "stream",
     "text": [
      "It takes around t = 0.00 for mean error to exceed 0.5\n",
      "\n",
      "Median NRMSE at t = 1: 0.009\n",
      "Median NRMSE at t = 2: 0.019\n",
      "Median NRMSE at t = 5: 0.076\n",
      "Median NRMSE at t = 15: 0.270\n"
     ]
    }
   ],
   "source": [
    "desc_name = \"koopman_autoencoder\"\n",
    "res_single = PointExperimentResult(mean_pred - y_test, desc_name)\n",
    "res_single.plot_rmse(error_thresh = .5, dt = .05)\n",
    "print()\n",
    "res_single.get_loss([1, 2, 5, 15], dt = .05)"
   ]
  },
  {
   "cell_type": "code",
   "execution_count": 34,
   "id": "ef373567-d6e1-4272-913b-ee83ed4afafb",
   "metadata": {},
   "outputs": [],
   "source": [
    "idx = 0"
   ]
  },
  {
   "cell_type": "code",
   "execution_count": 43,
   "id": "0ea0598b-312d-4286-91cf-cc4fe6289ef9",
   "metadata": {},
   "outputs": [
    {
     "data": {
      "image/png": "[encoded data removed]",
      "text/plain": [
       "<Figure size 432x288 with 1 Axes>"
      ]
     },
     "metadata": {
      "needs_background": "light"
     },
     "output_type": "display_data"
    }
   ],
   "source": [
    "plt.plot((mean_pred @ Q)[idx][:, 0], (mean_pred @ Q)[idx][:, 1], label = \"Prediction\")\n",
    "plt.plot((y_test @ Q)[idx][:, 0], (y_test @ Q)[idx][:, 1], label = \"Actual\")\n",
    "plt.title(\"$\\Theta$ against $\\dot{\\Theta}$\")\n",
    "plt.xlabel(\"$\\Theta$\")\n",
    "plt.ylabel(\"$\\dot{\\Theta}$\")\n",
    "plt.legend(loc = 1)\n",
    "plt.savefig(\"Figure3-9_Koopman_Pendulum.png\", facecolor = \"white\", bbox_inches = \"tight\")\n",
    "plt.show()"
   ]
  },
  {
   "cell_type": "code",
   "execution_count": null,
   "id": "3b4c31d1-4945-4fdb-b067-729c3160ccb7",
   "metadata": {},
   "outputs": [],
   "source": []
  }
 ],
 "metadata": {
  "kernelspec": {
   "display_name": "Python 3 (ipykernel)",
   "language": "python",
   "name": "python3"
  },
  "language_info": {
   "codemirror_mode": {
    "name": "ipython",
    "version": 3
   },
   "file_extension": ".py",
   "mimetype": "text/x-python",
   "name": "python",
   "nbconvert_exporter": "python",
   "pygments_lexer": "ipython3",
   "version": "3.8.12"
  }
 },
 "nbformat": 4,
 "nbformat_minor": 5
}
